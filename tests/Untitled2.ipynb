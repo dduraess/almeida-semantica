{
 "cells": [
  {
   "cell_type": "code",
   "execution_count": null,
   "id": "530e17ce-b0aa-45df-8ca5-69d7bbac004b",
   "metadata": {},
   "outputs": [],
   "source": []
  }
 ],
 "metadata": {
  "kernelspec": {
   "display_name": "cltk",
   "language": "python",
   "name": "cltk"
  },
  "language_info": {
   "codemirror_mode": {
    "name": "ipython",
    "version": 3
   },
   "file_extension": ".py",
   "mimetype": "text/x-python",
   "name": "python",
   "nbconvert_exporter": "python",
   "pygments_lexer": "ipython3",
   "version": "3.9.19"
  }
 },
 "nbformat": 4,
 "nbformat_minor": 5
}
