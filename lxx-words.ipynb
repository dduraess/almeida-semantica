{
 "cells": [
  {
   "cell_type": "code",
   "execution_count": 2,
   "id": "f00ec60e-787f-463c-92ac-53dcbe27f802",
   "metadata": {
    "tags": []
   },
   "outputs": [],
   "source": [
    "import os\n",
    "import re\n",
    "from pathlib import Path\n",
    "home = str(Path.home())"
   ]
  },
  {
   "cell_type": "code",
   "execution_count": 17,
   "id": "f016710b-4afb-463a-b9dc-5a4cff428d48",
   "metadata": {
    "tags": []
   },
   "outputs": [],
   "source": [
    "pasta_txt_lxx = home + '/Software/com.github.nathans/biblical-studies/catss/out'"
   ]
  },
  {
   "cell_type": "code",
   "execution_count": 18,
   "id": "d9aac032-e3a7-4b23-9cf4-6084a1ce33a2",
   "metadata": {
    "tags": []
   },
   "outputs": [],
   "source": [
    "arqs = [arq for arq in os.listdir(pasta_txt_lxx) if re.match(r'^([\\s\\d]+).*txt$', arq)]"
   ]
  },
  {
   "cell_type": "code",
   "execution_count": 21,
   "id": "c095f121-2104-4f01-8f6c-00c122c5a9eb",
   "metadata": {
    "tags": []
   },
   "outputs": [],
   "source": [
    "for arq in arqs:\n",
    "    with open(os.path.join(pasta_txt_lxx, arq)) as f:\n",
    "        all_txt_lines = [l.strip() for l in f.readlines()]"
   ]
  },
  {
   "cell_type": "code",
   "execution_count": 27,
   "id": "104b9ad3-5a96-4569-9987-0c64982e0aaf",
   "metadata": {
    "tags": []
   },
   "outputs": [
    {
     "data": {
      "text/plain": [
       "'Ruth 1:1'"
      ]
     },
     "execution_count": 27,
     "metadata": {},
     "output_type": "execute_result"
    }
   ],
   "source": [
    "all_txt_lines[0]"
   ]
  },
  {
   "cell_type": "code",
   "execution_count": 23,
   "id": "32585e2a-ff06-4338-b596-e3ffa7ca4aad",
   "metadata": {
    "tags": []
   },
   "outputs": [
    {
     "data": {
      "text/plain": [
       "2242"
      ]
     },
     "execution_count": 23,
     "metadata": {},
     "output_type": "execute_result"
    }
   ],
   "source": [
    "len(all_txt_lines)"
   ]
  },
  {
   "cell_type": "code",
   "execution_count": null,
   "id": "c98ed7e9-5a6c-45f7-8298-7906ecb43fd2",
   "metadata": {},
   "outputs": [],
   "source": []
  }
 ],
 "metadata": {
  "kernelspec": {
   "display_name": "Python 3 (ipykernel)",
   "language": "python",
   "name": "python3"
  },
  "language_info": {
   "codemirror_mode": {
    "name": "ipython",
    "version": 3
   },
   "file_extension": ".py",
   "mimetype": "text/x-python",
   "name": "python",
   "nbconvert_exporter": "python",
   "pygments_lexer": "ipython3",
   "version": "3.10.9"
  }
 },
 "nbformat": 4,
 "nbformat_minor": 5
}
