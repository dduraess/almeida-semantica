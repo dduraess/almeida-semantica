{
 "cells": [
  {
   "cell_type": "code",
   "execution_count": 87,
   "id": "0dbd6d33-9d05-40f0-b7f5-553bd6435adb",
   "metadata": {
    "tags": []
   },
   "outputs": [],
   "source": [
    "import sqlite3"
   ]
  },
  {
   "cell_type": "code",
   "execution_count": 2,
   "id": "5155f316-c91f-4a53-b8f7-7320c65f3735",
   "metadata": {
    "tags": []
   },
   "outputs": [],
   "source": [
    "pt_ara = 'ARA.sqlite'"
   ]
  },
  {
   "cell_type": "code",
   "execution_count": 15,
   "id": "6113d9f5-5f9a-40e4-9068-fdce12be304d",
   "metadata": {
    "tags": []
   },
   "outputs": [],
   "source": [
    "def ultimo_vs(nm_livro, cap):\n",
    "    with open('nr_vs_por_livro_cap.sql') as f:\n",
    "        sql = f.read()\n",
    "    with sqlite3.connect(pt_ara) as cnx:\n",
    "        cursor = cnx.cursor()\n",
    "        rs = cursor.execute(sql.format(nm_livro, cap)).fetchall()\n",
    "    return rs[0][0]"
   ]
  },
  {
   "cell_type": "code",
   "execution_count": 16,
   "id": "7332712f-8c6c-435c-9849-1f6777048bca",
   "metadata": {
    "tags": []
   },
   "outputs": [],
   "source": [
    "def txt_intervalo(nm_livro, cap_ini, cap_fim, vs_ini, vs_fim):\n",
    "    with open('intervalo_vs.sql') as f:\n",
    "        sql = f.read()\n",
    "    with sqlite3.connect(pt_ara) as cnx:\n",
    "        cursor = cnx.cursor()\n",
    "        rs = cursor.execute(sql.format(nm_livro, cap_ini, cap_fim, vs_ini, vs_fim)).fetchall()\n",
    "    return rs"
   ]
  },
  {
   "cell_type": "code",
   "execution_count": 5,
   "id": "054ed6ff-53a8-40bb-9fce-45e16e073d9d",
   "metadata": {
    "tags": []
   },
   "outputs": [],
   "source": [
    "livro = 'Eclesiastes'"
   ]
  },
  {
   "cell_type": "code",
   "execution_count": 6,
   "id": "8a3cd2ff-9c3b-4a9f-a366-b5634b2e248b",
   "metadata": {
    "tags": []
   },
   "outputs": [],
   "source": [
    "cap_ini = 1"
   ]
  },
  {
   "cell_type": "code",
   "execution_count": 7,
   "id": "82e038a0",
   "metadata": {},
   "outputs": [],
   "source": [
    "cap_fim = 1"
   ]
  },
  {
   "cell_type": "code",
   "execution_count": 8,
   "id": "6571b789-2ac7-470e-ba24-102c9f6a2e90",
   "metadata": {
    "tags": []
   },
   "outputs": [],
   "source": [
    "lista_rs = txt_intervalo(livro, cap_ini, cap_fim, 1, ultimo_vs(livro, cap_fim))"
   ]
  },
  {
   "cell_type": "code",
   "execution_count": 9,
   "id": "dc1ad7e0",
   "metadata": {},
   "outputs": [],
   "source": [
    "lista_rs = txt_intervalo(livro, cap_ini, cap_fim, 9, 13)"
   ]
  },
  {
   "cell_type": "code",
   "execution_count": 10,
   "id": "5608a12f-86a9-404d-af26-38e881924008",
   "metadata": {
    "tags": []
   },
   "outputs": [
    {
     "data": {
      "text/plain": [
       "[(1, 'Palavra do Pregador, filho de Davi, rei de Jerusalém:'),\n",
       " (2,\n",
       "  'Vaidade de vaidades, diz o Pregador; vaidade de vaidades, tudo é vaidade.'),\n",
       " (3,\n",
       "  'Que proveito tem o homem de todo o seu trabalho, com que se afadiga debaixo do sol?'),\n",
       " (4, 'Geração vai e geração vem; mas a terra permanece para sempre.'),\n",
       " (5,\n",
       "  'Levanta-se o sol, e põe-se o sol, e volta ao seu lugar, onde nasce de novo.'),\n",
       " (6,\n",
       "  'O vento vai para o sul e faz o seu giro para o norte; volve-se, e revolve-se, na sua carreira, e retorna aos seus circuitos.'),\n",
       " (7,\n",
       "  'Todos os rios correm para o mar, e o mar não se enche; ao lugar para onde correm os rios, para lá tornam eles a correr.'),\n",
       " (8,\n",
       "  'Todas as coisas são canseiras tais, que ninguém as pode exprimir; os olhos não se fartam de ver, nem se enchem os ouvidos de ouvir.'),\n",
       " (9,\n",
       "  'O que foi é o que há de ser; e o que se fez, isso se tornará a fazer; nada há, pois, novo debaixo do sol.'),\n",
       " (10,\n",
       "  'Há alguma coisa de que se possa dizer: Vê, isto é novo? Não! Já foi nos séculos que foram antes de nós.'),\n",
       " (11,\n",
       "  'Já não há lembrança das coisas que precederam; e das coisas posteriores também não haverá memória entre os que hão de vir depois delas.'),\n",
       " (12, 'Eu, o Pregador, venho sendo rei de Israel, em Jerusalém.'),\n",
       " (13,\n",
       "  'Apliquei o coração a esquadrinhar e a informar-me com sabedoria de tudo quanto sucede debaixo do céu; este enfadonho trabalho impôs Deus aos filhos dos homens, para nele os afligir.'),\n",
       " (14,\n",
       "  'Atentei para todas as obras que se fazem debaixo do sol, e eis que tudo era vaidade e correr atrás do vento.'),\n",
       " (15,\n",
       "  'Aquilo que é torto não se pode endireitar; e o que falta não se pode calcular.'),\n",
       " (16,\n",
       "  'Disse comigo: eis que me engrandeci e sobrepujei em sabedoria a todos os que antes de mim existiram em Jerusalém; com efeito, o meu coração tem tido larga experiência da sabedoria e do conhecimento.'),\n",
       " (17,\n",
       "  'Apliquei o coração a conhecer a sabedoria e a saber o que é loucura e o que é estultícia; e vim a saber que também isto é correr atrás do vento.'),\n",
       " (18,\n",
       "  'Porque na muita sabedoria há muito enfado; e quem aumenta ciência aumenta tristeza.')]"
      ]
     },
     "execution_count": 10,
     "metadata": {},
     "output_type": "execute_result"
    }
   ],
   "source": [
    "lista_rs"
   ]
  },
  {
   "cell_type": "code",
   "execution_count": 11,
   "id": "bb8e94ec-8fea-462e-be12-18a5f2814d6b",
   "metadata": {
    "tags": []
   },
   "outputs": [],
   "source": [
    "txt = ''"
   ]
  },
  {
   "cell_type": "code",
   "execution_count": 12,
   "id": "a1c99c35-ac5f-4a15-8a00-bc25ed70ab3e",
   "metadata": {
    "tags": []
   },
   "outputs": [],
   "source": [
    "for i in lista_rs:\n",
    "    txt += str(i[0]) + ' ' + i[1].strip() + ' '"
   ]
  },
  {
   "cell_type": "code",
   "execution_count": 13,
   "id": "7dcbe635-df5a-4c1a-9fb2-f37e54191981",
   "metadata": {
    "tags": []
   },
   "outputs": [
    {
     "data": {
      "text/plain": [
       "'1 Palavra do Pregador, filho de Davi, rei de Jerusalém: 2 Vaidade de vaidades, diz o Pregador; vaidade de vaidades, tudo é vaidade. 3 Que proveito tem o homem de todo o seu trabalho, com que se afadiga debaixo do sol? 4 Geração vai e geração vem; mas a terra permanece para sempre. 5 Levanta-se o sol, e põe-se o sol, e volta ao seu lugar, onde nasce de novo. 6 O vento vai para o sul e faz o seu giro para o norte; volve-se, e revolve-se, na sua carreira, e retorna aos seus circuitos. 7 Todos os rios correm para o mar, e o mar não se enche; ao lugar para onde correm os rios, para lá tornam eles a correr. 8 Todas as coisas são canseiras tais, que ninguém as pode exprimir; os olhos não se fartam de ver, nem se enchem os ouvidos de ouvir. 9 O que foi é o que há de ser; e o que se fez, isso se tornará a fazer; nada há, pois, novo debaixo do sol. 10 Há alguma coisa de que se possa dizer: Vê, isto é novo? Não! Já foi nos séculos que foram antes de nós. 11 Já não há lembrança das coisas que precederam; e das coisas posteriores também não haverá memória entre os que hão de vir depois delas. 12 Eu, o Pregador, venho sendo rei de Israel, em Jerusalém. 13 Apliquei o coração a esquadrinhar e a informar-me com sabedoria de tudo quanto sucede debaixo do céu; este enfadonho trabalho impôs Deus aos filhos dos homens, para nele os afligir. 14 Atentei para todas as obras que se fazem debaixo do sol, e eis que tudo era vaidade e correr atrás do vento. 15 Aquilo que é torto não se pode endireitar; e o que falta não se pode calcular. 16 Disse comigo: eis que me engrandeci e sobrepujei em sabedoria a todos os que antes de mim existiram em Jerusalém; com efeito, o meu coração tem tido larga experiência da sabedoria e do conhecimento. 17 Apliquei o coração a conhecer a sabedoria e a saber o que é loucura e o que é estultícia; e vim a saber que também isto é correr atrás do vento. 18 Porque na muita sabedoria há muito enfado; e quem aumenta ciência aumenta tristeza. '"
      ]
     },
     "execution_count": 13,
     "metadata": {},
     "output_type": "execute_result"
    }
   ],
   "source": [
    "txt"
   ]
  },
  {
   "cell_type": "code",
   "execution_count": 1,
   "id": "ed881d54-4cf2-4331-a700-eab74d69ab83",
   "metadata": {},
   "outputs": [],
   "source": [
    "hb_at = 'OSHB.db'"
   ]
  },
  {
   "cell_type": "code",
   "execution_count": 9,
   "id": "63b481fa",
   "metadata": {},
   "outputs": [],
   "source": [
    "palavra_hb = 'דברי'"
   ]
  },
  {
   "cell_type": "code",
   "execution_count": 10,
   "id": "15efcf40",
   "metadata": {},
   "outputs": [],
   "source": [
    "def encontrar_palavra_hb_at(palavra_hb):\n",
    "    with open('hb_word.sql') as f:\n",
    "        sql = f.read()\n",
    "\n",
    "    with sqlite3.connect(hb_at) as cnx:\n",
    "        cursor = cnx.cursor()\n",
    "        rs = cursor.execute(sql.format(palavra_hb)).fetchall()\n",
    "    return rs\n",
    "    "
   ]
  },
  {
   "cell_type": "code",
   "execution_count": 12,
   "id": "2ea40e1b",
   "metadata": {},
   "outputs": [
    {
     "data": {
      "text/plain": [
       "[(1, 'Ecclesiastes', 1, 1, 1, 'H1697', 'Ncmpc'),\n",
       " (71, 'Ecclesiastes', 1, 8, 2, 'Hd/H1697', 'Td/Ncmpa'),\n",
       " (1129, 'Ecclesiastes', 5, 2, 21, 'H1697', 'Ncmpc/Sp2ms'),\n",
       " (1139, 'Ecclesiastes', 5, 3, 9, 'H1697', 'Ncmpa'),\n",
       " (1189, 'Ecclesiastes', 5, 7, 5, 'Hc/H1697', 'C/Ncmpa'),\n",
       " (1520, 'Ecclesiastes', 6, 11, 3, 'H1697', 'Ncmpa'),\n",
       " (1768, 'Ecclesiastes', 7, 21, 3, 'Hd/H1697', 'Td/Ncmpa'),\n",
       " (2452, 'Ecclesiastes', 9, 16, 9, 'Hc/H1697', 'C/Ncmpc/Sp3ms'),\n",
       " (2455, 'Ecclesiastes', 9, 17, 1, 'H1697', 'Ncmpc'),\n",
       " (2575, 'Ecclesiastes', 10, 12, 1, 'H1697', 'Ncmpc'),\n",
       " (2583, 'Ecclesiastes', 10, 13, 2, 'H1697', 'Ncmpc'),\n",
       " (2592, 'Ecclesiastes', 10, 14, 3, 'H1697', 'Ncmpa'),\n",
       " (2943, 'Ecclesiastes', 12, 10, 4, 'H1697', 'Ncmpc'),\n",
       " (2947, 'Ecclesiastes', 12, 10, 8, 'H1697', 'Ncmpc'),\n",
       " (2949, 'Ecclesiastes', 12, 11, 1, 'H1697', 'Ncmpc'),\n",
       " (3587, 'Judges', 2, 4, 6, 'Hd/H1697', 'Td/Ncmpa'),\n",
       " (4923, 'Judges', 5, 12, 6, 'H1696', 'Vpv2fs'),\n",
       " (6927, 'Judges', 9, 3, 11, 'Hd/H1697', 'Td/Ncmpa'),\n",
       " (7342, 'Judges', 9, 30, 6, 'H1697', 'Ncmpc'),\n",
       " (8178, 'Judges', 11, 11, 16, 'H1697', 'Ncmpc/Sp3ms'),\n",
       " (8464, 'Judges', 11, 28, 7, 'H1697', 'Ncmpc'),\n",
       " (9098, 'Judges', 13, 12, 5, 'H1697', 'Ncmpc/Sp2ms'),\n",
       " (9178, 'Judges', 13, 17, 10, 'H1697', 'Ncmpc/Pp2ms'),\n",
       " (10214, 'Judges', 16, 16, 5, 'Hb/H1697', 'R/Ncmpc/Sp3fs'),\n",
       " (13679, 'Job', 2, 10, 6, 'H1696', 'Vpi2fs'),\n",
       " (15314, 'Job', 11, 2, 2, 'H1697', 'Ncmpa'),\n",
       " (16296, 'Job', 16, 3, 2, 'Hl/H1697', 'R/Ncmpc'),\n",
       " (19144, 'Job', 31, 40, 9, 'H1697', 'Ncmpc'),\n",
       " (19188, 'Job', 32, 4, 5, 'Hb/H1697', 'R/Ncmpa'),\n",
       " (19252, 'Job', 32, 11, 3, 'Hl/H1697', 'R/Ncmpc/Sp2mp'),\n",
       " (19435, 'Job', 33, 13, 6, 'H1697', 'Ncmpc/Sp3ms'),\n",
       " (19868, 'Job', 34, 35, 5, 'Hc/H1697', 'C/Ncmpc/Sp3ms'),\n",
       " (21403, 'Job', 42, 7, 6, 'Hd/H1697', 'Td/Ncmpa'),\n",
       " (24474, 'II Chronicles', 9, 2, 6, 'H1697', 'Ncmpc/Sp3fs'),\n",
       " (24520, 'II Chronicles', 9, 5, 10, 'H1697', 'Ncmpc/Sp2ms'),\n",
       " (24525, 'II Chronicles', 9, 6, 3, 'Hl/H1697', 'R/Ncmpc/Sp3mp'),\n",
       " (24881, 'II Chronicles', 9, 29, 2, 'H1697', 'Ncmpc'),\n",
       " (24889, 'II Chronicles', 9, 29, 10, 'H1697', 'Ncmpc'),\n",
       " (25016, 'II Chronicles', 10, 7, 12, 'H1697', 'Ncmpa'),\n",
       " (25296, 'II Chronicles', 11, 4, 20, 'H1697', 'Ncmpc'),\n",
       " (25710, 'II Chronicles', 12, 12, 12, 'H1697', 'Ncmpa'),\n",
       " (25753, 'II Chronicles', 12, 15, 1, 'Hc/H1697', 'C/Ncmpc'),\n",
       " (25760, 'II Chronicles', 12, 15, 8, 'Hb/H1697', 'R/Ncmpc'),\n",
       " (26122, 'II Chronicles', 13, 22, 2, 'H1697', 'Ncmpc'),\n",
       " (26125, 'II Chronicles', 13, 22, 5, 'Hc/H1697', 'C/Ncmpc/Sp3ms'),\n",
       " (26448, 'II Chronicles', 15, 8, 3, 'Hd/H1697', 'Td/Ncmpa'),\n",
       " (26815, 'II Chronicles', 16, 11, 2, 'H1697', 'Ncmpc'),\n",
       " (27309, 'II Chronicles', 18, 12, 10, 'H1697', 'Ncmpc'),\n",
       " (27705, 'II Chronicles', 19, 3, 2, 'H1697', 'Ncmpa'),\n",
       " (28376, 'II Chronicles', 20, 34, 2, 'H1697', 'Ncmpc'),\n",
       " (28382, 'II Chronicles', 20, 34, 8, 'Hb/H1697', 'R/Ncmpc'),\n",
       " (30299, 'II Chronicles', 25, 26, 2, 'H1697', 'Ncmpc'),\n",
       " (30681, 'II Chronicles', 26, 22, 2, 'H1697', 'Ncmpc'),\n",
       " (30804, 'II Chronicles', 27, 7, 2, 'H1697', 'Ncmpc'),\n",
       " (31260, 'II Chronicles', 28, 26, 2, 'H1697', 'Ncmpc/Sp3ms'),\n",
       " (31491, 'II Chronicles', 29, 15, 8, 'Hb/H1697', 'R/Ncmpc'),\n",
       " (31732, 'II Chronicles', 29, 30, 8, 'Hb/H1697', 'R/Ncmpc'),\n",
       " (32601, 'II Chronicles', 32, 1, 2, 'Hd/H1697', 'Td/Ncmpa'),\n",
       " (32724, 'II Chronicles', 32, 8, 13, 'H1697', 'Ncmpc'),\n",
       " (33114, 'II Chronicles', 32, 32, 2, 'H1697', 'Ncmpc'),\n",
       " (33422, 'II Chronicles', 33, 18, 2, 'H1697', 'Ncmpc'),\n",
       " (33427, 'II Chronicles', 33, 18, 7, 'Hc/H1697', 'C/Ncmpc'),\n",
       " (33429, 'II Chronicles', 33, 18, 9, 'Hd/H1696', 'Td/Vprmpa'),\n",
       " (33437, 'II Chronicles', 33, 18, 17, 'H1697', 'Ncmpc'),\n",
       " (33459, 'II Chronicles', 33, 19, 20, 'H1697', 'Ncmpc'),\n",
       " (33842, 'II Chronicles', 34, 19, 5, 'H1697', 'Ncmpc'),\n",
       " (33877, 'II Chronicles', 34, 21, 11, 'H1697', 'Ncmpc'),\n",
       " (33993, 'II Chronicles', 34, 26, 16, 'Hd/H1697', 'Td/Ncmpa'),\n",
       " (34004, 'II Chronicles', 34, 27, 9, 'H1697', 'Ncmpc/Sp3ms'),\n",
       " (34075, 'II Chronicles', 34, 30, 21, 'H1697', 'Ncmpc'),\n",
       " (34104, 'II Chronicles', 34, 31, 24, 'H1697', 'Ncmpc'),\n",
       " (34504, 'II Chronicles', 35, 22, 13, 'H1697', 'Ncmpc'),\n",
       " (34567, 'II Chronicles', 35, 26, 2, 'H1697', 'Ncmpc'),\n",
       " (34573, 'II Chronicles', 35, 27, 1, 'Hc/H1697', 'C/Ncmpc/Sp3ms'),\n",
       " (34671, 'II Chronicles', 36, 8, 2, 'H1697', 'Ncmpc'),\n",
       " (34802, 'II Chronicles', 36, 16, 6, 'H1697', 'Ncmpc/Sp3ms'),\n",
       " (36515, 'Deuteronomy', 1, 1, 2, 'Hd/H1697', 'Td/Ncmpa'),\n",
       " (36768, 'Deuteronomy', 1, 18, 7, 'Hd/H1697', 'Td/Ncmpa'),\n",
       " (36995, 'Deuteronomy', 1, 34, 5, 'H1697', 'Ncmpc/Sp2mp'),\n",
       " (37144, 'Deuteronomy', 1, 44, 11, 'Hd/H1682', 'Td/Ncfpa'),\n",
       " (37533, 'Deuteronomy', 2, 26, 9, 'H1697', 'Ncmpc'),\n",
       " (38312, 'Deuteronomy', 4, 9, 10, 'Hd/H1697', 'Td/Ncmpa'),\n",
       " (38376, 'Deuteronomy', 4, 12, 7, 'H1697', 'Ncmpa'),\n",
       " (38393, 'Deuteronomy', 4, 13, 10, 'Hd/H1697', 'Td/Ncmpa'),\n",
       " (38512, 'Deuteronomy', 4, 21, 5, 'H1697', 'Ncmpc/Sp2mp'),\n",
       " (38664, 'Deuteronomy', 4, 30, 5, 'Hd/H1697', 'Td/Ncmpa'),\n",
       " (38779, 'Deuteronomy', 4, 36, 13, 'Hc/H1697', 'C/Ncmpc/Sp3ms'),\n",
       " (39238, 'Deuteronomy', 5, 22, 2, 'Hd/H1697', 'Td/Ncmpa'),\n",
       " (39356, 'Deuteronomy', 5, 28, 5, 'H1697', 'Ncmpc/Sp2mp'),\n",
       " (39365, 'Deuteronomy', 5, 28, 14, 'H1697', 'Ncmpc'),\n",
       " (39525, 'Deuteronomy', 6, 6, 2, 'Hd/H1697', 'Td/Ncmpa'),\n",
       " (40664, 'Deuteronomy', 9, 10, 13, 'Hd/H1697', 'Td/Ncmpa'),\n",
       " (40994, 'Deuteronomy', 10, 2, 5, 'Hd/H1697', 'Td/Ncmpa'),\n",
       " (41025, 'Deuteronomy', 10, 4, 8, 'Hd/H1697', 'Td/Ncmpa'),\n",
       " (42244, 'Deuteronomy', 12, 28, 5, 'Hd/H1697', 'Td/Ncmpa'),\n",
       " (42370, 'Deuteronomy', 13, 3, 4, 'H1697', 'Ncmpc'),\n",
       " (43656, 'Deuteronomy', 16, 19, 16, 'H1697', 'Ncmpc'),\n",
       " (43827, 'Deuteronomy', 17, 8, 15, 'H1697', 'Ncmpc'),\n",
       " (44034, 'Deuteronomy', 17, 19, 17, 'H1697', 'Ncmpc'),\n",
       " (45547, 'Deuteronomy', 22, 14, 4, 'H1697', 'Ncmpa'),\n",
       " (45594, 'Deuteronomy', 22, 17, 5, 'H1697', 'Ncmpa'),\n",
       " (47102, 'Deuteronomy', 27, 3, 5, 'H1697', 'Ncmpc'),\n",
       " (47180, 'Deuteronomy', 27, 8, 6, 'H1697', 'Ncmpc'),\n",
       " (47379, 'Deuteronomy', 27, 26, 6, 'H1697', 'Ncmpc'),\n",
       " (47574, 'Deuteronomy', 28, 14, 4, 'Hd/H1697', 'Td/Ncmpa'),\n",
       " (48182, 'Deuteronomy', 28, 58, 7, 'H1697', 'Ncmpc'),\n",
       " (48365, 'Deuteronomy', 29, 1, 2, 'H1697', 'Ncmpc'),\n",
       " (48481, 'Deuteronomy', 29, 9, 3, 'H1697', 'Ncmpc'),\n",
       " (48634, 'Deuteronomy', 29, 19, 4, 'H1697', 'Ncmpc'),\n",
       " (48821, 'Deuteronomy', 29, 29, 12, 'H1697', 'Ncmpc'),\n",
       " (48829, 'Deuteronomy', 30, 1, 6, 'Hd/H1697', 'Td/Ncmpa'),\n",
       " (49154, 'Deuteronomy', 31, 1, 5, 'Hd/H1697', 'Td/Ncmpa'),\n",
       " (49352, 'Deuteronomy', 31, 12, 22, 'H1697', 'Ncmpc'),\n",
       " (49593, 'Deuteronomy', 31, 24, 6, 'H1697', 'Ncmpc'),\n",
       " (49656, 'Deuteronomy', 31, 28, 11, 'Hd/H1697', 'Td/Ncmpa'),\n",
       " (49698, 'Deuteronomy', 31, 30, 8, 'H1697', 'Ncmpc'),\n",
       " (50171, 'Deuteronomy', 32, 44, 6, 'H1697', 'Ncmpc'),\n",
       " (50185, 'Deuteronomy', 32, 45, 6, 'Hd/H1697', 'Td/Ncmpa'),\n",
       " (50195, 'Deuteronomy', 32, 46, 6, 'Hd/H1697', 'Td/Ncmpa'),\n",
       " (50209, 'Deuteronomy', 32, 46, 20, 'H1697', 'Ncmpc'),\n",
       " (57609, 'Isaiah', 29, 4, 3, 'H1696', 'Vpi2fs'),\n",
       " (57717, 'Isaiah', 29, 11, 5, 'Hk/H1697', 'R/Ncmpc'),\n",
       " (57829, 'Isaiah', 29, 18, 5, 'H1697', 'Ncmpc'),\n",
       " (58432, 'Isaiah', 31, 2, 7, 'H1697', 'Ncmpc/Sp3ms'),\n",
       " (59593, 'Isaiah', 36, 12, 11, 'Hd/H1697', 'Td/Ncmpa'),\n",
       " (59621, 'Isaiah', 36, 13, 11, 'H1697', 'Ncmpc'),\n",
       " (59767, 'Isaiah', 36, 22, 21, 'H1697', 'Ncmpc'),\n",
       " (59825, 'Isaiah', 37, 4, 6, 'H1697', 'Ncmpc'),\n",
       " (59837, 'Isaiah', 37, 4, 18, 'Hb/H1697', 'Rd/Ncmpa'),\n",
       " (59866, 'Isaiah', 37, 6, 14, 'Hd/H1697', 'Td/Ncmpa'),\n",
       " (60025, 'Isaiah', 37, 17, 12, 'H1697', 'Ncmpc'),\n",
       " (61655, 'Isaiah', 42, 16, 17, 'Hd/H1697', 'Td/Ncmpa'),\n",
       " (65946, 'Isaiah', 59, 13, 13, 'H1697', 'Ncmpc'),\n",
       " (67424, 'Isaiah', 65, 24, 8, 'H1696', 'Vprmpa'),\n",
       " (70854, 'Leviticus', 8, 36, 6, 'Hd/H1697', 'Td/Ncmpa'),\n",
       " (77899, 'Leviticus', 24, 11, 16, 'H1704', 'Np'),\n",
       " (80841, 'Malachi', 2, 17, 3, 'Hb/H1697', 'R/Ncmpc/Sp2mp'),\n",
       " (81051, 'Malachi', 3, 13, 3, 'H1697', 'Ncmpc/Sp2mp'),\n",
       " (82417, 'Daniel', 3, 2, 9, 'H1411', 'ANcmpd/Td'),\n",
       " (82436, 'Daniel', 3, 3, 7, 'H1411', 'ANcmpd/Td'),\n",
       " (82906, 'Daniel', 3, 27, 5, 'Hc/H1907', 'AC/Ncmpc'),\n",
       " (84333, 'Daniel', 6, 7, 7, 'H1907', 'ANcmpd/Td'),\n",
       " (85823, 'Daniel', 9, 12, 3, 'H1697', 'Ncmpc/Sp3ms'),\n",
       " (86215, 'Daniel', 10, 6, 15, 'H1697', 'Ncmpc/Sp3ms'),\n",
       " (86261, 'Daniel', 10, 9, 4, 'H1697', 'Ncmpc/Sp3ms'),\n",
       " (86265, 'Daniel', 10, 9, 8, 'H1697', 'Ncmpc/Sp3ms'),\n",
       " (86288, 'Daniel', 10, 11, 7, 'Hb/H1697', 'Rd/Ncmpa'),\n",
       " (86325, 'Daniel', 10, 12, 19, 'H1697', 'Ncmpc/Sp2ms'),\n",
       " (86328, 'Daniel', 10, 12, 22, 'Hb/H1697', 'R/Ncmpc/Sp2ms'),\n",
       " (86364, 'Daniel', 10, 15, 3, 'Hk/H1697', 'Rd/Ncmpa'),\n",
       " (87138, 'Daniel', 12, 4, 4, 'Hd/H1697', 'Td/Ncmpa'),\n",
       " (87219, 'Daniel', 12, 9, 7, 'Hd/H1697', 'Td/Ncmpa'),\n",
       " (88306, 'I Kings', 1, 7, 2, 'H1697', 'Ncmpc/Sp3ms'),\n",
       " (88435, 'I Kings', 1, 14, 12, 'H1697', 'Ncmpc/Sp2fs'),\n",
       " (90044, 'I Kings', 3, 12, 3, 'Hk/H1697', 'R/Ncmpc/Sp2ms'),\n",
       " (90841, 'I Kings', 5, 7, 5, 'H1697', 'Ncmpc'),\n",
       " (91529, 'I Kings', 6, 38, 12, 'H1697', 'Ncmpc/Sp3ms'),\n",
       " (92744, 'I Kings', 8, 26, 6, 'H1697', 'Ncmpc/Sp2ms'),\n",
       " (93993, 'I Kings', 10, 3, 6, 'H1697', 'Ncmpc/Sp3fs'),\n",
       " (94043, 'I Kings', 10, 6, 11, 'H1697', 'Ncmpc/Sp2ms'),\n",
       " (94048, 'I Kings', 10, 7, 3, 'Hl/H1697', 'Rd/Ncmpa'),\n",
       " (95071, 'I Kings', 11, 41, 2, 'H1697', 'Ncmpc'),\n",
       " (95082, 'I Kings', 11, 41, 13, 'H1697', 'Ncmpc'),\n",
       " (95208, 'I Kings', 12, 7, 15, 'H1697', 'Ncmpa'),\n",
       " (95913, 'I Kings', 13, 11, 22, 'Hd/H1697', 'Td/Ncmpa'),\n",
       " (96617, 'I Kings', 14, 19, 2, 'H1697', 'Ncmpc'),\n",
       " (96627, 'I Kings', 14, 19, 12, 'H1697', 'Ncmpc'),\n",
       " (96779, 'I Kings', 14, 29, 2, 'H1697', 'Ncmpc'),\n",
       " (96789, 'I Kings', 14, 29, 12, 'H1697', 'Ncmpc'),\n",
       " (96900, 'I Kings', 15, 7, 2, 'H1697', 'Ncmpc'),\n",
       " (96910, 'I Kings', 15, 7, 12, 'H1697', 'Ncmpc'),\n",
       " (97159, 'I Kings', 15, 23, 3, 'H1697', 'Ncmpc'),\n",
       " (97174, 'I Kings', 15, 23, 18, 'H1697', 'Ncmpc'),\n",
       " (97291, 'I Kings', 15, 31, 2, 'H1697', 'Ncmpc'),\n",
       " (97301, 'I Kings', 15, 31, 12, 'H1697', 'Ncmpc'),\n",
       " (97397, 'I Kings', 16, 5, 2, 'H1697', 'Ncmpc'),\n",
       " (97407, 'I Kings', 16, 5, 12, 'H1697', 'Ncmpc'),\n",
       " (97547, 'I Kings', 16, 14, 2, 'H1697', 'Ncmpc'),\n",
       " (97557, 'I Kings', 16, 14, 12, 'H1697', 'Ncmpc'),\n",
       " (97647, 'I Kings', 16, 20, 2, 'H1697', 'Ncmpc'),\n",
       " (97657, 'I Kings', 16, 20, 12, 'H1697', 'Ncmpc'),\n",
       " (97762, 'I Kings', 16, 27, 2, 'H1697', 'Ncmpc'),\n",
       " (97774, 'I Kings', 16, 27, 14, 'H1697', 'Ncmpc'),\n",
       " (98124, 'I Kings', 17, 17, 3, 'Hd/H1697', 'Td/Ncmpa'),\n",
       " (98830, 'I Kings', 18, 36, 21, 'Hc/Hb/H1697', 'C/R/Ncmpc/Sp2ms'),\n",
       " (98835, 'I Kings', 18, 36, 26, 'Hd/H1697', 'Td/Ncmpa'),\n",
       " (100114, 'I Kings', 21, 1, 3, 'Hd/H1697', 'Td/Ncmpa'),\n",
       " (100555, 'I Kings', 21, 27, 5, 'Hd/H1697', 'Td/Ncmpa'),\n",
       " (100794, 'I Kings', 22, 13, 11, 'H1697', 'Ncmpc'),\n",
       " (100803, 'I Kings', 22, 13, 20, 'H1697', 'Ncmpc/Sp2ms'),\n",
       " (101198, 'I Kings', 22, 39, 2, 'H1697', 'Ncmpc'),\n",
       " (101216, 'I Kings', 22, 39, 20, 'H1697', 'Ncmpc'),\n",
       " (101273, 'I Kings', 22, 45, 2, 'H1697', 'Ncmpc'),\n",
       " (101285, 'I Kings', 22, 45, 14, 'H1697', 'Ncmpc'),\n",
       " (103524, 'Ezra', 7, 1, 2, 'Hd/H1697', 'Td/Ncmpa'),\n",
       " (103653, 'Ezra', 7, 11, 12, 'H1697', 'Ncmpc'),\n",
       " (104130, 'Ezra', 8, 17, 11, 'H1697', 'Ncmpa'),\n",
       " (104488, 'Ezra', 9, 4, 5, 'Hb/H1697', 'R/Ncmpc'),\n",
       " (104905, 'Ezra', 10, 12, 8, 'Hk/H1697', 'R/Ncmpc/Sp2ms'),\n",
       " (106165, 'II Samuel', 3, 8, 5, 'H1697', 'Ncmpc'),\n",
       " (107952, 'II Samuel', 7, 17, 2, 'Hd/H1697', 'Td/Ncmpa'),\n",
       " (108139, 'II Samuel', 7, 28, 7, 'Hc/H1697', 'C/Ncmpc/Sp2ms'),\n",
       " (109254, 'II Samuel', 11, 18, 7, 'H1697', 'Ncmpc'),\n",
       " (109263, 'II Samuel', 11, 19, 8, 'H1697', 'Ncmpc'),\n",
       " (110287, 'II Samuel', 13, 21, 6, 'Hd/H1697', 'Td/Ncmpa'),\n",
       " (110638, 'II Samuel', 14, 3, 11, 'Hd/H1697', 'Td/Ncmpa'),\n",
       " (110783, 'II Samuel', 14, 12, 11, 'H1696', 'Vpv2fs'),\n",
       " (110936, 'II Samuel', 14, 19, 35, 'Hd/H1697', 'Td/Ncmpa'),\n",
       " (113862, 'II Samuel', 19, 29, 7, 'H1697', 'Ncmpc/Sp2ms'),\n",
       " (114453, 'II Samuel', 20, 17, 12, 'H1697', 'Ncmpc'),\n",
       " (115018, 'II Samuel', 22, 1, 5, 'H1697', 'Ncmpc'),\n",
       " (115403, 'II Samuel', 23, 1, 2, 'H1697', 'Ncmpc'),\n",
       " (117399, 'Joshua', 1, 18, 10, 'H1697', 'Ncmpc/Sp2ms'),\n",
       " (117752, 'Joshua', 2, 21, 2, 'Hk/H1697', 'R/Ncmpc/Sp2mp'),\n",
       " (117954, 'Joshua', 3, 9, 10, 'H1697', 'Ncmpc'),\n",
       " (120349, 'Joshua', 8, 34, 6, 'H1697', 'Ncmpc'),\n",
       " (124896, 'Joshua', 20, 4, 16, 'H1697', 'Ncmpc/Sp3ms'),\n",
       " (126191, 'Joshua', 22, 30, 12, 'Hd/H1697', 'Td/Ncmpa'),\n",
       " (126520, 'Joshua', 23, 14, 19, 'Hd/H1697', 'Td/Ncmpa'),\n",
       " (127032, 'Joshua', 24, 26, 4, 'Hd/H1697', 'Td/Ncmpa'),\n",
       " (127082, 'Joshua', 24, 29, 3, 'Hd/H1697', 'Td/Ncmpa'),\n",
       " (127662, 'Song of Solomon', 4, 3, 4, 'Hc/H4057', 'C/Ncmsc/Sp2fs'),\n",
       " (128425, 'Amos', 1, 1, 1, 'H1697', 'Ncmpc'),\n",
       " (129916, 'Amos', 7, 10, 23, 'H1697', 'Ncmpc/Sp3ms'),\n",
       " (130180, 'Amos', 8, 11, 20, 'H1697', 'Ncmpc'),\n",
       " (131894, 'I Chronicles', 4, 22, 11, 'Hc/Hd/H1697', 'C/Td/Ncmpa'),\n",
       " (137040, 'I Chronicles', 17, 15, 2, 'Hd/H1697', 'Td/Ncmpa'),\n",
       " (138990, 'I Chronicles', 23, 27, 2, 'Hb/H1697', 'R/Ncmpc'),\n",
       " (139416, 'I Chronicles', 25, 5, 7, 'Hb/H1697', 'R/Ncmpc'),\n",
       " (140279, 'I Chronicles', 27, 24, 17, 'H1697', 'Ncmpc'),\n",
       " (140772, 'I Chronicles', 28, 21, 21, 'H1697', 'Ncmpc/Sp2ms'),\n",
       " (141221, 'I Chronicles', 29, 29, 1, 'Hc/H1697', 'C/Ncmpc'),\n",
       " (141229, 'I Chronicles', 29, 29, 9, 'H1697', 'Ncmpc'),\n",
       " (141233, 'I Chronicles', 29, 29, 13, 'H1697', 'Ncmpc'),\n",
       " (141237, 'I Chronicles', 29, 29, 17, 'H1697', 'Ncmpc'),\n",
       " (144315, 'Hosea', 10, 4, 2, 'H1697', 'Ncmpa'),\n",
       " (144895, 'Hosea', 13, 14, 7, 'H1698', 'Ncmpc/Sp2ms'),\n",
       " (144945, 'Hosea', 14, 2, 3, 'H1697', 'Ncmpa'),\n",
       " (145040, 'Nehemiah', 1, 1, 1, 'H1697', 'Ncmpc'),\n",
       " (145092, 'Nehemiah', 1, 4, 4, 'Hd/H1697', 'Td/Ncmpa'),\n",
       " (145562, 'Nehemiah', 2, 18, 11, 'H1697', 'Ncmpc'),\n",
       " (146497, 'Nehemiah', 5, 6, 9, 'Hd/H1697', 'Td/Ncmpa'),\n",
       " (146857, 'Nehemiah', 6, 6, 20, 'Hk/H1697', 'Rd/Ncmpa'),\n",
       " (146871, 'Nehemiah', 6, 7, 13, 'Hk/H1697', 'Rd/Ncmpa'),\n",
       " (146882, 'Nehemiah', 6, 8, 6, 'Hk/H1697', 'Rd/Ncmpa'),\n",
       " (147883, 'Nehemiah', 8, 9, 29, 'H1697', 'Ncmpc'),\n",
       " (147931, 'Nehemiah', 8, 12, 13, 'Hb/H1697', 'Rd/Ncmpa'),\n",
       " (147949, 'Nehemiah', 8, 13, 15, 'H1697', 'Ncmpc'),\n",
       " (148205, 'Nehemiah', 9, 8, 22, 'H1697', 'Ncmpc/Sp2ms'),\n",
       " (149581, 'Nehemiah', 12, 23, 8, 'H1697', 'Ncmpc'),\n",
       " (150851, 'Ezekiel', 2, 6, 7, 'Hc/Hm/H1697', 'C/R/Ncmpc/Sp3mp'),\n",
       " (150862, 'Ezekiel', 2, 6, 18, 'Hm/H1697', 'R/Ncmpc/Sp3mp'),\n",
       " (151006, 'Ezekiel', 3, 6, 12, 'H1697', 'Ncmpc/Sp3mp'),\n",
       " (153628, 'Ezekiel', 11, 25, 6, 'H1697', 'Ncmpc'),\n",
       " (162681, 'Ezekiel', 33, 30, 6, 'Hd/H1696', 'Td/VNrmpa'),\n",
       " (162712, 'Ezekiel', 33, 31, 10, 'H1697', 'Ncmpc/Sp2ms'),\n",
       " (162735, 'Ezekiel', 33, 32, 11, 'H1697', 'Ncmpc/Sp2ms'),\n",
       " (163367, 'Ezekiel', 35, 13, 6, 'H1697', 'Ncmpc/Sp2mp'),\n",
       " (164551, 'Ezekiel', 38, 10, 9, 'H1697', 'Ncmpa'),\n",
       " (169604, 'Psalms', 5, 6, 2, 'H1696', 'Vqrmpc'),\n",
       " (169762, 'Psalms', 7, 1, 7, 'H1697', 'Ncmpc'),\n",
       " (170870, 'Psalms', 18, 1, 9, 'H1697', 'Ncmpc'),\n",
       " (171282, 'Psalms', 19, 3, 4, 'H1697', 'Ncmpa'),\n",
       " (171573, 'Psalms', 22, 1, 13, 'H1697', 'Ncmpc'),\n",
       " (172387, 'Psalms', 28, 3, 8, 'H1696', 'Vqrmpc'),\n",
       " (173458, 'Psalms', 35, 20, 8, 'H1697', 'Ncmpc'),\n",
       " (173546, 'Psalms', 36, 3, 1, 'H1697', 'Ncmpc'),\n",
       " (175898, 'Psalms', 52, 4, 3, 'H1697', 'Ncmpc'),\n",
       " (176250, 'Psalms', 55, 21, 7, 'H1697', 'Ncmpc/Sp3ms'),\n",
       " (176532, 'Psalms', 58, 3, 6, 'H1696', 'Vqrmpc'),\n",
       " (177250, 'Psalms', 65, 3, 1, 'H1697', 'Ncmpc'),\n",
       " (183343, 'Psalms', 105, 27, 3, 'H1697', 'Ncmpc'),\n",
       " (183551, 'Psalms', 106, 12, 2, 'Hb/H1697', 'R/Ncmpc/Sp3ms'),\n",
       " (184193, 'Psalms', 109, 3, 1, 'Hc/H1697', 'C/Ncmpc'),\n",
       " (184322, 'Psalms', 109, 20, 6, 'Hc/Hd/H1696', 'C/Td/Vqrmpa'),\n",
       " (184576, 'Psalms', 112, 5, 6, 'H1697', 'Ncmpc/Sp3ms'),\n",
       " (185546, 'Psalms', 119, 57, 5, 'H1697', 'Ncmpc/Sp2ms'),\n",
       " (186001, 'Psalms', 119, 130, 2, 'H1697', 'Ncmpc/Sp2ms'),\n",
       " (186058, 'Psalms', 119, 139, 5, 'H1697', 'Ncmpc/Sp2ms'),\n",
       " (186100, 'Psalms', 119, 147, 4, 'Hl/H1697', 'R/Ncmpc/Sp2ms'),\n",
       " (186185, 'Psalms', 119, 161, 4, 'Hc/Hm/H1697', 'C/R/Ncmpc/Sp2ms'),\n",
       " (187444, 'Psalms', 137, 3, 5, 'H1697', 'Ncmpc'),\n",
       " (188332, 'Psalms', 145, 5, 4, 'Hc/H1697', 'C/Ncmpc'),\n",
       " (188665, 'Psalms', 147, 19, 3, 'H1697', 'Ncmpc/Sp3ms'),\n",
       " (188893, 'Jeremiah', 1, 1, 1, 'H1697', 'Ncmpc'),\n",
       " (189859, 'Jeremiah', 3, 12, 4, 'Hd/H1697', 'Td/Ncmpa'),\n",
       " (190912, 'Jeremiah', 5, 28, 5, 'H1697', 'Ncmpc'),\n",
       " (191420, 'Jeremiah', 7, 4, 5, 'H1697', 'Ncmpc'),\n",
       " (191481, 'Jeremiah', 7, 8, 6, 'H1697', 'Ncmpc'),\n",
       " (191711, 'Jeremiah', 7, 22, 15, 'H1697', 'Ncmpc'),\n",
       " (191790, 'Jeremiah', 7, 27, 5, 'Hd/H1697', 'Td/Ncmpa'),\n",
       " (192973, 'Jeremiah', 11, 2, 3, 'H1697', 'Ncmpc'),\n",
       " (192996, 'Jeremiah', 11, 3, 14, 'H1697', 'Ncmpc'),\n",
       " (193051, 'Jeremiah', 11, 6, 7, 'Hd/H1697', 'Td/Ncmpa'),\n",
       " (193060, 'Jeremiah', 11, 6, 16, 'H1697', 'Ncmpc'),\n",
       " (193097, 'Jeremiah', 11, 8, 16, 'H1697', 'Ncmpc'),\n",
       " (193996, 'Jeremiah', 14, 1, 8, 'H1697', 'Ncmpc'),\n",
       " (194577, 'Jeremiah', 15, 16, 2, 'H1697', 'Ncmpc/Sp2ms'),\n",
       " (194580, 'Jeremiah', 15, 16, 5, 'H1697', 'Ncmpc/Sp2ms'),\n",
       " (194822, 'Jeremiah', 16, 10, 8, 'Hd/H1697', 'Td/Ncmpa'),\n",
       " (195681, 'Jeremiah', 18, 18, 23, 'H1697', 'Ncmpc/Sp3ms'),\n",
       " (195792, 'Jeremiah', 19, 2, 14, 'Hd/H1697', 'Td/Ncmpa'),\n",
       " (196066, 'Jeremiah', 20, 1, 15, 'Hd/H1697', 'Td/Ncmpa'),\n",
       " (196674, 'Jeremiah', 22, 5, 5, 'Hd/H1697', 'Td/Ncmpa'),\n",
       " (197218, 'Jeremiah', 23, 9, 17, 'H1697', 'Ncmpc'),\n",
       " (197327, 'Jeremiah', 23, 16, 8, 'H1697', 'Ncmpc'),\n",
       " (197615, 'Jeremiah', 23, 36, 13, 'H1697', 'Ncmpc'),\n",
       " (198352, 'Jeremiah', 25, 30, 6, 'Hd/H1697', 'Td/Ncmpa'),\n",
       " (198511, 'Jeremiah', 26, 2, 19, 'Hd/H1697', 'Td/Ncmpa'),\n",
       " (198552, 'Jeremiah', 26, 5, 3, 'H1697', 'Ncmpc'),\n",
       " (198586, 'Jeremiah', 26, 7, 10, 'Hd/H1697', 'Td/Ncmpa'),\n",
       " (198637, 'Jeremiah', 26, 10, 5, 'Hd/H1697', 'Td/Ncmpa'),\n",
       " (198690, 'Jeremiah', 26, 12, 21, 'Hd/H1697', 'Td/Ncmpa'),\n",
       " (198744, 'Jeremiah', 26, 15, 29, 'Hd/H1697', 'Td/Ncmpa'),\n",
       " (198851, 'Jeremiah', 26, 20, 20, 'H1697', 'Ncmpc'),\n",
       " (198861, 'Jeremiah', 26, 21, 9, 'H1697', 'Ncmpc/Sp3ms'),\n",
       " (199133, 'Jeremiah', 27, 12, 7, 'Hd/H1697', 'Td/Ncmpa'),\n",
       " (199167, 'Jeremiah', 27, 14, 4, 'H1697', 'Ncmpc'),\n",
       " (199213, 'Jeremiah', 27, 16, 15, 'H1697', 'Ncmpc'),\n",
       " (199447, 'Jeremiah', 28, 6, 11, 'H1697', 'Ncmpc/Sp2ms'),\n",
       " (199641, 'Jeremiah', 29, 1, 2, 'H1697', 'Ncmpc'),\n",
       " (200198, 'Jeremiah', 30, 2, 11, 'Hd/H1697', 'Td/Ncmpa'),\n",
       " (200226, 'Jeremiah', 30, 4, 2, 'Hd/H1697', 'Td/Ncmpa'),\n",
       " (202436, 'Jeremiah', 34, 6, 10, 'Hd/H1697', 'Td/Ncmpa'),\n",
       " (202668, 'Jeremiah', 34, 18, 11, 'H1697', 'Ncmpc'),\n",
       " (202958, 'Jeremiah', 35, 14, 3, 'H1697', 'Ncmpc'),\n",
       " (203137, 'Jeremiah', 36, 2, 9, 'Hd/H1697', 'Td/Ncmpa'),\n",
       " (203188, 'Jeremiah', 36, 4, 13, 'H1697', 'Ncmpc'),\n",
       " (203216, 'Jeremiah', 36, 6, 9, 'H1697', 'Ncmpc'),\n",
       " (203261, 'Jeremiah', 36, 8, 12, 'H1697', 'Ncmpc'),\n",
       " (203292, 'Jeremiah', 36, 10, 5, 'H1697', 'Ncmpc'),\n",
       " (203319, 'Jeremiah', 36, 11, 9, 'H1697', 'Ncmpc'),\n",
       " (203355, 'Jeremiah', 36, 13, 6, 'Hd/H1697', 'Td/Ncmpa'),\n",
       " (203408, 'Jeremiah', 36, 16, 5, 'Hd/H1697', 'Td/Ncmpa'),\n",
       " (203421, 'Jeremiah', 36, 16, 18, 'Hd/H1697', 'Td/Ncmpa'),\n",
       " (203434, 'Jeremiah', 36, 17, 12, 'Hd/H1697', 'Td/Ncmpa'),\n",
       " (203445, 'Jeremiah', 36, 18, 9, 'Hd/H1697', 'Td/Ncmpa'),\n",
       " (203480, 'Jeremiah', 36, 20, 16, 'Hd/H1697', 'Td/Ncmpa'),\n",
       " (203548, 'Jeremiah', 36, 24, 13, 'Hd/H1697', 'Td/Ncmpa'),\n",
       " (203597, 'Jeremiah', 36, 27, 12, 'Hd/H1697', 'Td/Ncmpa'),\n",
       " (203613, 'Jeremiah', 36, 28, 10, 'Hd/H1697', 'Td/Ncmpa'),\n",
       " (203717, 'Jeremiah', 36, 32, 17, 'H1697', 'Ncmpc'),\n",
       " (203728, 'Jeremiah', 36, 32, 28, 'H1697', 'Ncmpa'),\n",
       " (203754, 'Jeremiah', 37, 2, 8, 'H1697', 'Ncmpc'),\n",
       " (204078, 'Jeremiah', 38, 1, 15, 'Hd/H1697', 'Td/Ncmpa'),\n",
       " (204145, 'Jeremiah', 38, 4, 28, 'Hk/H1697', 'Rd/Ncmpa'),\n",
       " (204537, 'Jeremiah', 38, 24, 8, 'Hb/H1697', 'Rd/Ncmpa'),\n",
       " (204590, 'Jeremiah', 38, 27, 11, 'Hd/H1697', 'Td/Ncmpa'),\n",
       " (205711, 'Jeremiah', 42, 4, 11, 'Hk/H1697', 'R/Ncmpc/Sp2mp'),\n",
       " (206067, 'Jeremiah', 43, 1, 10, 'H1697', 'Ncmpc'),\n",
       " (206077, 'Jeremiah', 43, 1, 20, 'Hd/H1697', 'Td/Ncmpa'),\n",
       " (206931, 'Jeremiah', 45, 1, 12, 'Hd/H1697', 'Td/Ncmpa'),\n",
       " (207839, 'Jeremiah', 48, 27, 13, 'H1697', 'Ncmpc/Sp2ms'),\n",
       " (210234, 'Jeremiah', 51, 60, 15, 'Hd/H1697', 'Td/Ncmpa'),\n",
       " (210249, 'Jeremiah', 51, 61, 11, 'Hd/H1697', 'Td/Ncmpa'),\n",
       " (210298, 'Jeremiah', 51, 64, 16, 'H1697', 'Ncmpc'),\n",
       " (212379, 'Zechariah', 1, 13, 7, 'H1697', 'Ncmpa'),\n",
       " (212381, 'Zechariah', 1, 13, 9, 'H1697', 'Ncmpa'),\n",
       " (213461, 'Zechariah', 7, 7, 3, 'Hd/H1697', 'Td/Ncmpa'),\n",
       " (213524, 'Zechariah', 7, 12, 8, 'Hd/H1697', 'Td/Ncmpa'),\n",
       " (213679, 'Zechariah', 8, 9, 11, 'Hd/H1697', 'Td/Ncmpa'),\n",
       " (213795, 'Zechariah', 8, 16, 2, 'Hd/H1697', 'Td/Ncmpa'),\n",
       " (215488, 'Haggai', 1, 12, 17, 'H1697', 'Ncmpc'),\n",
       " (216283, 'Esther', 2, 1, 2, 'Hd/H1697', 'Td/Ncmpa'),\n",
       " (216716, 'Esther', 2, 23, 10, 'H1697', 'Ncmpc'),\n",
       " (216721, 'Esther', 3, 1, 2, 'Hd/H1697', 'Td/Ncmpa'),\n",
       " (216785, 'Esther', 3, 4, 14, 'H1697', 'Ncmpc'),\n",
       " (217174, 'Esther', 4, 9, 6, 'H1697', 'Ncmpc'),\n",
       " (217227, 'Esther', 4, 12, 4, 'H1697', 'Ncmpc'),\n",
       " (217585, 'Esther', 6, 1, 11, 'H1697', 'Ncmpc'),\n",
       " (217824, 'Esther', 6, 14, 2, 'H1696', 'Vprmpa'),\n",
       " (218680, 'Esther', 9, 20, 4, 'Hd/H1697', 'Td/Ncmpa'),\n",
       " (218801, 'Esther', 9, 26, 14, 'H1697', 'Ncmpc'),\n",
       " (218887, 'Esther', 9, 30, 13, 'H1697', 'Ncmpc'),\n",
       " (218909, 'Esther', 9, 31, 20, 'H1697', 'Ncmpc'),\n",
       " (218915, 'Esther', 9, 32, 4, 'H1697', 'Ncmpc'),\n",
       " (218944, 'Esther', 10, 2, 16, 'H1697', 'Ncmpc'),\n",
       " (223733, 'Genesis', 11, 1, 6, 'Hc/H1697', 'C/Ncmpa'),\n",
       " (224974, 'Genesis', 15, 1, 2, 'Hd/H1697', 'Td/Ncmpa'),\n",
       " (226934, 'Genesis', 20, 8, 10, 'Hd/H1697', 'Td/Ncmpa'),\n",
       " (227529, 'Genesis', 22, 1, 3, 'Hd/H1697', 'Td/Ncmpa'),\n",
       " (227836, 'Genesis', 22, 20, 3, 'Hd/H1697', 'Td/Ncmpa'),\n",
       " (228555, 'Genesis', 24, 28, 6, 'Hk/H1697', 'Rd/Ncmpa'),\n",
       " (228579, 'Genesis', 24, 30, 12, 'H1697', 'Ncmpc'),\n",
       " (228909, 'Genesis', 24, 52, 7, 'H1697', 'Ncmpc/Sp3mp'),\n",
       " (229069, 'Genesis', 24, 66, 6, 'Hd/H1697', 'Td/Ncmpa'),\n",
       " (230395, 'Genesis', 27, 34, 4, 'H1697', 'Ncmpc'),\n",
       " (230523, 'Genesis', 27, 42, 4, 'H1697', 'Ncmpc'),\n",
       " (231114, 'Genesis', 29, 13, 22, 'Hd/H1697', 'Td/Ncmpa'),\n",
       " (231958, 'Genesis', 31, 1, 3, 'H1697', 'Ncmpc'),\n",
       " (233664, 'Genesis', 34, 18, 2, 'H1697', 'Ncmpc/Sp3mp'),\n",
       " (234849, 'Genesis', 37, 8, 18, 'H1697', 'Ncmpc/Sp3ms'),\n",
       " (235735, 'Genesis', 39, 7, 3, 'Hd/H1697', 'Td/Ncmpa'),\n",
       " (235874, 'Genesis', 39, 17, 3, 'Hk/H1697', 'Rd/Ncmpa'),\n",
       " (235899, 'Genesis', 39, 19, 5, 'H1697', 'Ncmpc'),\n",
       " (235905, 'Genesis', 39, 19, 11, 'Hk/H1697', 'Rd/Ncmpa'),\n",
       " (235982, 'Genesis', 40, 1, 3, 'Hd/H1697', 'Td/Ncmpa'),\n",
       " (237262, 'Genesis', 42, 16, 10, 'H1697', 'Ncmpc/Sp2mp'),\n",
       " (237310, 'Genesis', 42, 20, 7, 'H1697', 'Ncmpc/Sp2mp'),\n",
       " (237683, 'Genesis', 43, 7, 18, 'Hd/H1697', 'Td/Ncmpa'),\n",
       " (238163, 'Genesis', 44, 6, 5, 'Hd/H1697', 'Td/Ncmpa'),\n",
       " (238170, 'Genesis', 44, 7, 6, 'Hk/H1697', 'Rd/Ncmpa'),\n",
       " (238207, 'Genesis', 44, 10, 4, 'Hk/H1697', 'R/Ncmpc/Sp2mp'),\n",
       " (238405, 'Genesis', 44, 24, 10, 'H1697', 'Ncmpc'),\n",
       " (238906, 'Genesis', 45, 27, 5, 'H1697', 'Ncmpc'),\n",
       " (239862, 'Genesis', 48, 1, 3, 'Hd/H1697', 'Td/Ncmpa'),\n",
       " (240990, 'Proverbs', 1, 6, 4, 'H1697', 'Ncmpc'),\n",
       " (242950, 'Proverbs', 10, 19, 2, 'H1697', 'Ncmpa'),\n",
       " (243309, 'Proverbs', 12, 6, 1, 'H1697', 'Ncmpc'),\n",
       " (244671, 'Proverbs', 18, 4, 3, 'H1697', 'Ncmpc'),\n",
       " (244700, 'Proverbs', 18, 8, 1, 'H1697', 'Ncmpc'),\n",
       " (245615, 'Proverbs', 22, 12, 6, 'H1697', 'Ncmpc'),\n",
       " (245652, 'Proverbs', 22, 17, 4, 'H1697', 'Ncmpc'),\n",
       " (245824, 'Proverbs', 23, 8, 5, 'H1697', 'Ncmpc/Sp2ms'),\n",
       " (246240, 'Proverbs', 24, 26, 4, 'H1697', 'Ncmpa'),\n",
       " (246597, 'Proverbs', 26, 6, 6, 'H1697', 'Ncmpa'),\n",
       " (246709, 'Proverbs', 26, 22, 1, 'H1697', 'Ncmpc'),\n",
       " (247348, 'Proverbs', 29, 19, 1, 'Hb/H1697', 'R/Ncmpa'),\n",
       " (247359, 'Proverbs', 29, 20, 4, 'Hb/H1697', 'R/Ncmpc/Sp3ms'),\n",
       " (247415, 'Proverbs', 30, 1, 1, 'H1697', 'Ncmpc'),\n",
       " (247474, 'Proverbs', 30, 6, 4, 'H1697', 'Ncmpc/Sp3ms'),\n",
       " (247718, 'Proverbs', 31, 1, 1, 'H1697', 'Ncmpc'),\n",
       " (253498, 'Numbers', 11, 24, 7, 'H1697', 'Ncmpc'),\n",
       " (254817, 'Numbers', 14, 39, 4, 'Hd/H1697', 'Td/Ncmpa'),\n",
       " (255852, 'Numbers', 16, 31, 6, 'Hd/H1697', 'Td/Ncmpa'),\n",
       " (258185, 'Numbers', 22, 7, 13, 'H1697', 'Ncmpc'),\n",
       " (264235, 'Numbers', 36, 5, 14, 'H1696', 'Vqrmpa'),\n",
       " (265093, 'I Samuel', 2, 23, 5, 'Hk/H1697', 'Rd/Ncmpa'),\n",
       " (265099, 'I Samuel', 2, 23, 11, 'H1697', 'Ncmpc/Sp2mp'),\n",
       " (265589, 'I Samuel', 3, 18, 6, 'Hd/H1697', 'Td/Ncmpa'),\n",
       " (265607, 'I Samuel', 3, 19, 9, 'H1697', 'Ncmpc/Sp3ms'),\n",
       " (267039, 'I Samuel', 8, 10, 5, 'H1697', 'Ncmpc'),\n",
       " (267160, 'I Samuel', 8, 21, 5, 'H1697', 'Ncmpc'),\n",
       " (267719, 'I Samuel', 10, 2, 24, 'H1697', 'Ncmpc'),\n",
       " (268181, 'I Samuel', 11, 4, 6, 'Hd/H1697', 'Td/Ncmpa'),\n",
       " (268206, 'I Samuel', 11, 5, 17, 'H1697', 'Ncmpc'),\n",
       " (268217, 'I Samuel', 11, 6, 9, 'Hd/H1697', 'Td/Ncmpa'),\n",
       " (270029, 'I Samuel', 15, 1, 17, 'H1697', 'Ncmpc'),\n",
       " (270388, 'I Samuel', 15, 24, 12, 'H1697', 'Ncmpc/Sp2ms'),\n",
       " (271063, 'I Samuel', 17, 11, 6, 'H1697', 'Ncmpc'),\n",
       " (271233, 'I Samuel', 17, 23, 16, 'Hk/H1697', 'Rd/Ncmpa'),\n",
       " (271373, 'I Samuel', 17, 31, 2, 'Hd/H1697', 'Td/Ncmpa'),\n",
       " (272147, 'I Samuel', 18, 23, 7, 'Hd/H1697', 'Td/Ncmpa'),\n",
       " (272164, 'I Samuel', 18, 24, 6, 'Hk/H1697', 'Rd/Ncmpa'),\n",
       " (272195, 'I Samuel', 18, 26, 5, 'Hd/H1697', 'Td/Ncmpa'),\n",
       " (272382, 'I Samuel', 19, 7, 9, 'Hd/H1697', 'Td/Ncmpa'),\n",
       " (273590, 'I Samuel', 21, 12, 4, 'Hd/H1697', 'Td/Ncmpa'),\n",
       " (274626, 'I Samuel', 24, 7, 5, 'Hb/H1697', 'Rd/Ncmpa'),\n",
       " (274665, 'I Samuel', 24, 9, 7, 'H1697', 'Ncmpc'),\n",
       " (274781, 'I Samuel', 24, 16, 6, 'Hd/H1697', 'Td/Ncmpa'),\n",
       " (275016, 'I Samuel', 25, 9, 8, 'Hd/H1697', 'Td/Ncmpa'),\n",
       " (275066, 'I Samuel', 25, 12, 10, 'Hd/H1697', 'Td/Ncmpa'),\n",
       " (275273, 'I Samuel', 25, 24, 15, 'H1697', 'Ncmpc'),\n",
       " (275518, 'I Samuel', 25, 37, 10, 'Hd/H1697', 'Td/Ncmpa'),\n",
       " (275980, 'I Samuel', 26, 19, 7, 'H1697', 'Ncmpc'),\n",
       " (276663, 'I Samuel', 28, 20, 9, 'Hm/H1697', 'R/Ncmpc'),\n",
       " (276697, 'I Samuel', 28, 21, 20, 'H1697', 'Ncmpc/Sp2ms'),\n",
       " (278781, 'Exodus', 4, 10, 9, 'H1697', 'Ncmpa'),\n",
       " (278860, 'Exodus', 4, 15, 5, 'Hd/H1697', 'Td/Ncmpa'),\n",
       " (279048, 'Exodus', 4, 28, 6, 'H1697', 'Ncmpc'),\n",
       " (279070, 'Exodus', 4, 30, 5, 'Hd/H1697', 'Td/Ncmpa'),\n",
       " (279230, 'Exodus', 5, 9, 9, 'Hb/H1697', 'R/Ncmpc'),\n",
       " (279766, 'Exodus', 6, 27, 2, 'Hd/H1696', 'Td/Vprmpa'),\n",
       " (284805, 'Exodus', 18, 19, 16, 'Hd/H1697', 'Td/Ncmpa'),\n",
       " (285013, 'Exodus', 19, 6, 9, 'Hd/H1697', 'Td/Ncmpa'),\n",
       " (285028, 'Exodus', 19, 7, 10, 'Hd/H1697', 'Td/Ncmpa'),\n",
       " (285046, 'Exodus', 19, 8, 14, 'H1697', 'Ncmpc'),\n",
       " (285072, 'Exodus', 19, 9, 23, 'H1697', 'Ncmpc'),\n",
       " (285313, 'Exodus', 20, 1, 5, 'Hd/H1697', 'Td/Ncmpa'),\n",
       " (286512, 'Exodus', 23, 8, 9, 'H1697', 'Ncmpc'),\n",
       " (286867, 'Exodus', 24, 3, 7, 'H1697', 'Ncmpc'),\n",
       " (286879, 'Exodus', 24, 3, 19, 'Hd/H1697', 'Td/Ncmpa'),\n",
       " (286888, 'Exodus', 24, 4, 5, 'H1697', 'Ncmpc'),\n",
       " (286956, 'Exodus', 24, 8, 18, 'Hd/H1697', 'Td/Ncmpa'),\n",
       " (287034, 'Exodus', 24, 14, 17, 'H1697', 'Ncmpa'),\n",
       " (291124, 'Exodus', 34, 1, 15, 'Hd/H1697', 'Td/Ncmpa'),\n",
       " (291503, 'Exodus', 34, 27, 8, 'Hd/H1697', 'Td/Ncmpa'),\n",
       " (291508, 'Exodus', 34, 27, 13, 'Hd/H1697', 'Td/Ncmpa'),\n",
       " (291533, 'Exodus', 34, 28, 19, 'H1697', 'Ncmpc'),\n",
       " (291536, 'Exodus', 34, 28, 22, 'Hd/H1697', 'Td/Ncmpa'),\n",
       " (291658, 'Exodus', 35, 1, 11, 'Hd/H1697', 'Td/Ncmpa'),\n",
       " (294520, 'II Kings', 1, 7, 12, 'Hd/H1697', 'Td/Ncmpa'),\n",
       " (294737, 'II Kings', 1, 18, 2, 'H1697', 'Ncmpc'),\n",
       " (294746, 'II Kings', 1, 18, 11, 'H1697', 'Ncmpc'),\n",
       " (296951, 'II Kings', 6, 12, 16, 'Hd/H1697', 'Td/Ncmpa'),\n",
       " (297230, 'II Kings', 6, 30, 5, 'H1697', 'Ncmpc'),\n",
       " (298126, 'II Kings', 8, 23, 2, 'H1697', 'Ncmpc'),\n",
       " (298136, 'II Kings', 8, 23, 12, 'H1697', 'Ncmpc'),\n",
       " (299447, 'II Kings', 10, 34, 2, 'H1697', 'Ncmpc'),\n",
       " (299459, 'II Kings', 10, 34, 14, 'H1697', 'Ncmpc'),\n",
       " (300171, 'II Kings', 12, 19, 2, 'H1697', 'Ncmpc'),\n",
       " (300181, 'II Kings', 12, 19, 12, 'H1697', 'Ncmpc'),\n",
       " (300338, 'II Kings', 13, 8, 2, 'H1697', 'Ncmpc'),\n",
       " (300349, 'II Kings', 13, 8, 13, 'H1697', 'Ncmpc'),\n",
       " (300398, 'II Kings', 13, 12, 2, 'H1697', 'Ncmpc'),\n",
       " (300415, 'II Kings', 13, 12, 19, 'H1697', 'Ncmpc'),\n",
       " (300882, 'II Kings', 14, 15, 2, 'H1697', 'Ncmpc'),\n",
       " (300898, 'II Kings', 14, 15, 18, 'H1697', 'Ncmpc'),\n",
       " (300932, 'II Kings', 14, 18, 2, 'H1697', 'Ncmpc'),\n",
       " (300939, 'II Kings', 14, 18, 9, 'H1697', 'Ncmpc'),\n",
       " (301080, 'II Kings', 14, 28, 2, 'H1697', 'Ncmpc'),\n",
       " (301101, 'II Kings', 14, 28, 23, 'H1697', 'Ncmpc'),\n",
       " (301184, 'II Kings', 15, 6, 2, 'H1697', 'Ncmpc'),\n",
       " (301194, 'II Kings', 15, 6, 12, 'H1697', 'Ncmpc'),\n",
       " (301257, 'II Kings', 15, 11, 2, 'H1697', 'Ncmpc'),\n",
       " (301263, 'II Kings', 15, 11, 8, 'H1697', 'Ncmpc'),\n",
       " (301316, 'II Kings', 15, 15, 2, 'H1697', 'Ncmpc'),\n",
       " (301325, 'II Kings', 15, 15, 11, 'H1697', 'Ncmpc'),\n",
       " (301426, 'II Kings', 15, 21, 2, 'H1697', 'Ncmpc'),\n",
       " (301436, 'II Kings', 15, 21, 12, 'H1697', 'Ncmpc'),\n",
       " (301501, 'II Kings', 15, 26, 2, 'H1697', 'Ncmpc'),\n",
       " (301510, 'II Kings', 15, 26, 11, 'H1697', 'Ncmpc'),\n",
       " (301595, 'II Kings', 15, 31, 2, 'H1697', 'Ncmpc'),\n",
       " (301604, 'II Kings', 15, 31, 11, 'H1697', 'Ncmpc'),\n",
       " (301664, 'II Kings', 15, 36, 2, 'H1697', 'Ncmpc'),\n",
       " (301673, 'II Kings', 15, 36, 11, 'H1697', 'Ncmpc'),\n",
       " (302045, 'II Kings', 16, 19, 2, 'H1697', 'Ncmpc'),\n",
       " (302054, 'II Kings', 16, 19, 11, 'H1697', 'Ncmpc'),\n",
       " (302200, 'II Kings', 17, 9, 4, 'H1697', 'Ncmpa'),\n",
       " (302239, 'II Kings', 17, 11, 11, 'H1697', 'Ncmpa'),\n",
       " (303245, 'II Kings', 18, 27, 12, 'Hd/H1697', 'Td/Ncmpa'),\n",
       " (303433, 'II Kings', 18, 37, 20, 'H1697', 'Ncmpc'),\n",
       " (303491, 'II Kings', 19, 4, 7, 'H1697', 'Ncmpc'),\n",
       " (303503, 'II Kings', 19, 4, 19, 'Hb/H1697', 'Rd/Ncmpa'),\n",
       " (303532, 'II Kings', 19, 6, 14, 'Hd/H1697', 'Td/Ncmpa'),\n",
       " (303690, 'II Kings', 19, 16, 11, 'H1697', 'Ncmpc'),\n",
       " (304342, 'II Kings', 20, 20, 2, 'H1697', 'Ncmpc'),\n",
       " (304361, 'II Kings', 20, 20, 21, 'H1697', 'Ncmpc'),\n",
       " (304646, 'II Kings', 21, 17, 2, 'H1697', 'Ncmpc'),\n",
       " (304659, 'II Kings', 21, 17, 15, 'H1697', 'Ncmpc'),\n",
       " (304749, 'II Kings', 21, 25, 2, 'H1697', 'Ncmpc'),\n",
       " (304758, 'II Kings', 21, 25, 11, 'H1697', 'Ncmpc'),\n",
       " (304938, 'II Kings', 22, 11, 5, 'H1697', 'Ncmpc'),\n",
       " (304976, 'II Kings', 22, 13, 12, 'H1697', 'Ncmpc'),\n",
       " (304994, 'II Kings', 22, 13, 30, 'H1697', 'Ncmpc'),\n",
       " (305051, 'II Kings', 22, 16, 14, 'H1697', 'Ncmpc'),\n",
       " (305090, 'II Kings', 22, 18, 17, 'Hd/H1697', 'Td/Ncmpa'),\n",
       " (305174, 'II Kings', 23, 2, 23, 'H1697', 'Ncmpc'),\n",
       " (305204, 'II Kings', 23, 3, 25, 'H1697', 'Ncmpc'),\n",
       " (305520, 'II Kings', 23, 16, 28, 'Hd/H1697', 'Td/Ncmpa'),\n",
       " (305541, 'II Kings', 23, 17, 20, 'Hd/H1697', 'Td/Ncmpa'),\n",
       " (305669, 'II Kings', 23, 24, 23, 'H1697', 'Ncmpc'),\n",
       " (305747, 'II Kings', 23, 28, 2, 'H1697', 'Ncmpc'),\n",
       " (305757, 'II Kings', 23, 28, 12, 'H1697', 'Ncmpc'),\n",
       " (305989, 'II Kings', 24, 5, 2, 'H1697', 'Ncmpc'),\n",
       " (305999, 'II Kings', 24, 5, 12, 'H1697', 'Ncmpc')]"
      ]
     },
     "execution_count": 12,
     "metadata": {},
     "output_type": "execute_result"
    }
   ],
   "source": [
    "encontrar_palavra_hb_at(palavra_hb)"
   ]
  },
  {
   "cell_type": "code",
   "execution_count": 82,
   "id": "1cc2614b",
   "metadata": {},
   "outputs": [],
   "source": [
    "lxx = 'db/lxx.db'"
   ]
  },
  {
   "cell_type": "code",
   "execution_count": 122,
   "id": "1a6a68e3",
   "metadata": {},
   "outputs": [],
   "source": [
    "palavra_gg = 'λόγος'"
   ]
  },
  {
   "cell_type": "code",
   "execution_count": 85,
   "id": "0fa9af22",
   "metadata": {},
   "outputs": [],
   "source": [
    "def encontrar_palavra_gg_at(palavra_gg):\n",
    "    with open('db/ot_gk_word.sql') as f:\n",
    "        sql = f.read()\n",
    "\n",
    "    cursor = conexao(lxx).cursor()\n",
    "    rs = cursor.execute(sql.format(palavra_gg)).fetchall()\n",
    "    return rs"
   ]
  },
  {
   "cell_type": "code",
   "execution_count": 123,
   "id": "d0e2e858",
   "metadata": {},
   "outputs": [],
   "source": [
    "rs = encontrar_palavra_gg_at(palavra_gg)"
   ]
  },
  {
   "cell_type": "code",
   "execution_count": 124,
   "id": "7593819f",
   "metadata": {},
   "outputs": [
    {
     "data": {
      "text/plain": [
       "0"
      ]
     },
     "execution_count": 124,
     "metadata": {},
     "output_type": "execute_result"
    }
   ],
   "source": [
    "len(rs)"
   ]
  },
  {
   "cell_type": "code",
   "execution_count": null,
   "id": "16d7c3e4",
   "metadata": {},
   "outputs": [],
   "source": [
    "from VersoGg()"
   ]
  },
  {
   "cell_type": "code",
   "execution_count": 4,
   "id": "59d40585",
   "metadata": {},
   "outputs": [],
   "source": [
    "def retornar_texto_vs_hb(livro, cap, verso):\n",
    "    sql ='SELECT Verse, Form FROM Words WHERE BookName like \"{}\" and Chapter = {} and Verse = {}'.format(livro, cap, verso)\n",
    "    with sqlite3.connect(hb_at) as cnx:\n",
    "        cursor = cnx.cursor()\n",
    "        rs = cursor.execute(sql).fetchall()\n",
    "        nr_versiculo = rs[0][0]\n",
    "        palavras_vs_hb = ''.join([p[1].replace('/', '') + ' ' for p in rs])\n",
    "    return (nr_versiculo, palavras_vs_hb)"
   ]
  },
  {
   "cell_type": "code",
   "execution_count": 5,
   "id": "771135bf",
   "metadata": {},
   "outputs": [
    {
     "name": "stdout",
     "output_type": "stream",
     "text": [
      "(1, 'ויכלו השמים והארץ וכל צבאם ')\n"
     ]
    }
   ],
   "source": [
    "texto_vs_hb = retornar_texto_vs_hb('Genesis', 2, 1)\n",
    "print(texto_vs_hb)"
   ]
  },
  {
   "cell_type": "code",
   "execution_count": 12,
   "id": "9ef2e604",
   "metadata": {},
   "outputs": [],
   "source": [
    "def retornar_txt_cap_hb(livro, cap):\n",
    "    sql = 'select max(Verse) from Words where BookName like \"{}\" and Chapter = {}'.format(livro, cap)\n",
    "    with sqlite3.connect(hb_at) as cnx:\n",
    "        cursor = cnx.cursor()\n",
    "        rs = cursor.execute(sql).fetchone()\n",
    "        txt_cap_hb = []\n",
    "        for vs in range(1, rs[0]+1):\n",
    "            txt_cap_hb.append(retornar_texto_vs_hb(livro, cap, vs))\n",
    "    return (cap, txt_cap_hb)"
   ]
  },
  {
   "cell_type": "code",
   "execution_count": 25,
   "id": "bdd4184c",
   "metadata": {},
   "outputs": [
    {
     "data": {
      "text/plain": [
       "['בראשית ברא אלהים את השמים ואת הארץ ',\n",
       " 'והארץ היתה תהו ובהו וחשך על פני תהום ורוח אלהים מרחפת על פני המים ',\n",
       " 'ויאמר אלהים יהי אור ויהי אור ',\n",
       " 'וירא אלהים את האור כי טוב ויבדל אלהים בין האור ובין החשך ',\n",
       " 'ויקרא אלהים לאור יום ולחשך קרא לילה ויהי ערב ויהי בקר יום אחד ',\n",
       " 'ויאמר אלהים יהי רקיע בתוך המים ויהי מבדיל בין מים למים ',\n",
       " 'ויעש אלהים את הרקיע ויבדל בין המים אשר מתחת לרקיע ובין המים אשר מעל לרקיע ויהי כן ',\n",
       " 'ויקרא אלהים לרקיע שמים ויהי ערב ויהי בקר יום שני ',\n",
       " 'ויאמר אלהים יקוו המים מתחת השמים אל מקום אחד ותראה היבשה ויהי כן ',\n",
       " 'ויקרא אלהים ליבשה ארץ ולמקוה המים קרא ימים וירא אלהים כי טוב ',\n",
       " 'ויאמר אלהים תדשא הארץ דשא עשב מזריע זרע עץ פרי עשה פרי למינו אשר זרעו בו על הארץ ויהי כן ',\n",
       " 'ותוצא הארץ דשא עשב מזריע זרע למינהו ועץ עשה פרי אשר זרעו בו למינהו וירא אלהים כי טוב ',\n",
       " 'ויהי ערב ויהי בקר יום שלישי ',\n",
       " 'ויאמר אלהים יהי מארת ברקיע השמים להבדיל בין היום ובין הלילה והיו לאתת ולמועדים ולימים ושנים ',\n",
       " 'והיו למאורת ברקיע השמים להאיר על הארץ ויהי כן ',\n",
       " 'ויעש אלהים את שני המארת הגדלים את המאור הגדל לממשלת היום ואת המאור הקטן לממשלת הלילה ואת הכוכבים ',\n",
       " 'ויתן אתם אלהים ברקיע השמים להאיר על הארץ ',\n",
       " 'ולמשל ביום ובלילה ולהבדיל בין האור ובין החשך וירא אלהים כי טוב ',\n",
       " 'ויהי ערב ויהי בקר יום רביעי ',\n",
       " 'ויאמר אלהים ישרצו המים שרץ נפש חיה ועוף יעופף על הארץ על פני רקיע השמים ',\n",
       " 'ויברא אלהים את התנינם הגדלים ואת כל נפש החיה הרמשת אשר שרצו המים למינהם ואת כל עוף כנף למינהו וירא אלהים כי טוב ',\n",
       " 'ויברך אתם אלהים לאמר פרו ורבו ומלאו את המים בימים והעוף ירב בארץ ',\n",
       " 'ויהי ערב ויהי בקר יום חמישי ',\n",
       " 'ויאמר אלהים תוצא הארץ נפש חיה למינה בהמה ורמש וחיתו ארץ למינה ויהי כן ',\n",
       " 'ויעש אלהים את חית הארץ למינה ואת הבהמה למינה ואת כל רמש האדמה למינהו וירא אלהים כי טוב ',\n",
       " 'ויאמר אלהים נעשה אדם בצלמנו כדמותנו וירדו בדגת הים ובעוף השמים ובבהמה ובכל הארץ ובכל הרמש הרמש על הארץ ',\n",
       " 'ויברא אלהים את האדם בצלמו בצלם אלהים ברא אתו זכר ונקבה ברא אתם ',\n",
       " 'ויברך אתם אלהים ויאמר להם אלהים פרו ורבו ומלאו את הארץ וכבשה ורדו בדגת הים ובעוף השמים ובכל חיה הרמשת על הארץ ',\n",
       " 'ויאמר אלהים הנה נתתי לכם את כל עשב זרע זרע אשר על פני כל הארץ ואת כל העץ אשר בו פרי עץ זרע זרע לכם יהיה לאכלה ',\n",
       " 'ולכל חית הארץ ולכל עוף השמים ולכל רומש על הארץ אשר בו נפש חיה את כל ירק עשב לאכלה ויהי כן ',\n",
       " 'וירא אלהים את כל אשר עשה והנה טוב מאד ויהי ערב ויהי בקר יום הששי ']"
      ]
     },
     "execution_count": 25,
     "metadata": {},
     "output_type": "execute_result"
    }
   ],
   "source": [
    "[vs[1] for vs in retornar_txt_cap_hb('Genesis', 1)[1]]"
   ]
  },
  {
   "cell_type": "code",
   "execution_count": 17,
   "id": "e2b1c396",
   "metadata": {},
   "outputs": [],
   "source": [
    "def retornar_txt_livro_hb(livro):\n",
    "    sql = 'select max(Chapter) from Words where BookName like \"{}\"'.format(livro)\n",
    "    with sqlite3.connect(hb_at) as cnx:\n",
    "        cursor = cnx.cursor()\n",
    "        rs = cursor.execute(sql).fetchone()\n",
    "        txt_livro_hb = []\n",
    "        for cap in range(1, rs[0]+1):\n",
    "            txt_livro_hb.append(retornar_txt_cap_hb(livro, cap))\n",
    "    return txt_livro_hb\n",
    "        \n"
   ]
  },
  {
   "cell_type": "code",
   "execution_count": 27,
   "id": "f5fc6788",
   "metadata": {},
   "outputs": [],
   "source": [
    "texto_hb = retornar_texto_vs_hb('Genesis', 1, 5)"
   ]
  },
  {
   "cell_type": "code",
   "execution_count": 28,
   "id": "925f5d79",
   "metadata": {},
   "outputs": [
    {
     "name": "stdout",
     "output_type": "stream",
     "text": [
      "(5, 'ויקרא אלהים לאור יום ולחשך קרא לילה ויהי ערב ויהי בקר יום אחד ')\n"
     ]
    }
   ],
   "source": [
    "print(texto_hb)"
   ]
  },
  {
   "cell_type": "code",
   "execution_count": 12,
   "id": "7f1f27fb",
   "metadata": {},
   "outputs": [],
   "source": [
    "import os\n",
    "import re\n",
    "from pathlib import Path\n",
    "home = str(Path.home())"
   ]
  },
  {
   "cell_type": "code",
   "execution_count": 13,
   "id": "a7eed03d",
   "metadata": {},
   "outputs": [],
   "source": [
    "pasta_txt_gnt = home + '/Software/almeida-semantica/sblgnt'"
   ]
  },
  {
   "cell_type": "code",
   "execution_count": 30,
   "id": "4b5ce37b",
   "metadata": {},
   "outputs": [
    {
     "ename": "NameError",
     "evalue": "name 'arqs' is not defined",
     "output_type": "error",
     "traceback": [
      "\u001b[0;31m---------------------------------------------------------------------------\u001b[0m",
      "\u001b[0;31mNameError\u001b[0m                                 Traceback (most recent call last)",
      "\u001b[1;32m/home/s273524038/Software/almeida-semantica/teste_bd.ipynb Célula 30\u001b[0m line \u001b[0;36m1\n\u001b[0;32m----> <a href='vscode-notebook-cell:/home/s273524038/Software/almeida-semantica/teste_bd.ipynb#X41sZmlsZQ%3D%3D?line=0'>1</a>\u001b[0m arqs\n",
      "\u001b[0;31mNameError\u001b[0m: name 'arqs' is not defined"
     ]
    }
   ],
   "source": [
    "arqs"
   ]
  },
  {
   "cell_type": "code",
   "execution_count": 14,
   "id": "dae03035",
   "metadata": {},
   "outputs": [],
   "source": [
    "arqs = [arq for arq in os.listdir(pasta_txt_gnt) if re.match(r'^([\\s\\d]+).*txt$', arq)]"
   ]
  },
  {
   "cell_type": "code",
   "execution_count": 35,
   "id": "400f126e",
   "metadata": {},
   "outputs": [
    {
     "data": {
      "text/plain": [
       "['58-Heb-morphgnt.txt',\n",
       " '44-Ac-morphgnt.txt',\n",
       " '57-Phm-morphgnt.txt',\n",
       " '56-Tit-morphgnt.txt',\n",
       " '49-Eph-morphgnt.txt',\n",
       " '40-Mt-morphgnt.txt',\n",
       " '47-2Co-morphgnt.txt',\n",
       " '61-2Pe-morphgnt.txt',\n",
       " '53-2Th-morphgnt.txt',\n",
       " '63-2Jn-morphgnt.txt',\n",
       " '65-Jud-morphgnt.txt',\n",
       " '60-1Pe-morphgnt.txt',\n",
       " '46-1Co-morphgnt.txt',\n",
       " '48-Ga-morphgnt.txt',\n",
       " '66-Re-morphgnt.txt',\n",
       " '43-Jn-morphgnt.txt',\n",
       " '41-Mk-morphgnt.txt',\n",
       " '45-Ro-morphgnt.txt',\n",
       " '50-Php-morphgnt.txt',\n",
       " '54-1Ti-morphgnt.txt',\n",
       " '64-3Jn-morphgnt.txt',\n",
       " '52-1Th-morphgnt.txt',\n",
       " '62-1Jn-morphgnt.txt',\n",
       " '59-Jas-morphgnt.txt',\n",
       " '51-Col-morphgnt.txt',\n",
       " '55-2Ti-morphgnt.txt',\n",
       " '42-Lk-morphgnt.txt']"
      ]
     },
     "execution_count": 35,
     "metadata": {},
     "output_type": "execute_result"
    }
   ],
   "source": [
    "arqs"
   ]
  },
  {
   "cell_type": "code",
   "execution_count": 11,
   "id": "42a2e9e5",
   "metadata": {},
   "outputs": [],
   "source": [
    "from enum import Enum"
   ]
  },
  {
   "cell_type": "code",
   "execution_count": 9,
   "id": "1febccaf",
   "metadata": {},
   "outputs": [],
   "source": [
    "def retornar_livro_nt(livro):\n",
    "    pasta_txt_gnt = home + '/Software/almeida-semantica/sblgnt'\n",
    "    arqs = [arq for arq in os.listdir(pasta_txt_gnt) if re.match(r'^([\\s\\d]+).*txt$', arq)]\n",
    "    arqs.sort()\n",
    "    livros_nt = ['Mateus', 'Marcos', 'Lucas', 'João', 'Atos', 'Romanos', '1Coríntios', '2Coríntios', 'Gálatas', 'Efésios', 'Filipenses', 'Colossenses', '1Tessalonicenses', '2Tessalonicenses', '1Timóteo', '2Timóteo', 'Tito', 'Filemom', 'Hebreus', 'Tiago', '1Pedro', '2Pedro', '1João', '2João', '3João', 'Judas', 'Apocalipse']\n",
    "    \n",
    "    for idx, value in enumerate(livros_nt):\n",
    "        if livro==value:\n",
    "            arq = arqs[idx]\n",
    "\n",
    "    return os.path.join(pasta_txt_gnt, arq)\n"
   ]
  },
  {
   "cell_type": "code",
   "execution_count": 58,
   "id": "e381992e",
   "metadata": {},
   "outputs": [
    {
     "ename": "NameError",
     "evalue": "name 'livros_nt' is not defined",
     "output_type": "error",
     "traceback": [
      "\u001b[0;31m---------------------------------------------------------------------------\u001b[0m",
      "\u001b[0;31mNameError\u001b[0m                                 Traceback (most recent call last)",
      "\u001b[1;32m/home/s273524038/Software/almeida-semantica/teste_bd.ipynb Célula 36\u001b[0m line \u001b[0;36m1\n\u001b[0;32m----> <a href='vscode-notebook-cell:/home/s273524038/Software/almeida-semantica/teste_bd.ipynb#X42sZmlsZQ%3D%3D?line=0'>1</a>\u001b[0m \u001b[39mlen\u001b[39m(livros_nt)\n",
      "\u001b[0;31mNameError\u001b[0m: name 'livros_nt' is not defined"
     ]
    }
   ],
   "source": [
    "len(livros_nt)"
   ]
  },
  {
   "cell_type": "code",
   "execution_count": 15,
   "id": "a53c6bfd",
   "metadata": {},
   "outputs": [
    {
     "data": {
      "text/plain": [
       "'/Users/davison/Software/almeida-semantica/sblgnt/46-1Co-morphgnt.txt'"
      ]
     },
     "execution_count": 15,
     "metadata": {},
     "output_type": "execute_result"
    }
   ],
   "source": [
    "retornar_livro_nt('1Coríntios')"
   ]
  },
  {
   "cell_type": "code",
   "execution_count": 16,
   "id": "9b51472c",
   "metadata": {},
   "outputs": [],
   "source": [
    "with open(retornar_livro_nt('1Coríntios'), 'r') as f:\n",
    "    # palavras = ''\n",
    "    cap=1\n",
    "    verso=18\n",
    "    str_verso=str(cap).zfill(2)+str(verso).zfill(2)\n",
    "    palavras = [linha.split()[3] for linha in f.readlines() if linha.split()[0][2:6]==str_verso] \n",
    "    # for linha in f.readlines():\n",
    "    #     if int(linha.split()[0][2:4])==1 and int(linha.split()[0][4:6]==18):\n",
    "    #         palavras += ''.join(linha.split()[3]) + ' '\n",
    "    #         print(linha.split()[3])\n",
    "\n",
    "    # linhas = [l.split()[3] for l in f.readlines() if int(f.readline().split()[0][2:4])==1 and int(f.readline().split()[0][4:6])==18]\n",
    "    # texto += ''.join(f.readline().split()[3])"
   ]
  },
  {
   "cell_type": "code",
   "execution_count": 3,
   "id": "43f9aaed",
   "metadata": {},
   "outputs": [],
   "source": [
    "import pandas as pd"
   ]
  },
  {
   "cell_type": "code",
   "execution_count": 157,
   "id": "7a3fb7ab",
   "metadata": {},
   "outputs": [
    {
     "name": "stderr",
     "output_type": "stream",
     "text": [
      "/var/folders/66/v9zmf0pn5p18jnhnr4_7x2r80000gn/T/ipykernel_57603/1351014798.py:1: DtypeWarning: Columns (1,2) have mixed types. Specify dtype option on import or set low_memory=False.\n",
      "  df_lxx = pd.read_csv('lxxm_utf8_v4.csv', dtype={'strongs': 'Int32'})\n"
     ]
    }
   ],
   "source": [
    "df_lxx = pd.read_csv('lxxm_utf8_v4.csv', dtype={'strongs': 'Int32'})"
   ]
  },
  {
   "cell_type": "code",
   "execution_count": 158,
   "id": "64728e70",
   "metadata": {},
   "outputs": [
    {
     "data": {
      "text/html": [
       "<div>\n",
       "<style scoped>\n",
       "    .dataframe tbody tr th:only-of-type {\n",
       "        vertical-align: middle;\n",
       "    }\n",
       "\n",
       "    .dataframe tbody tr th {\n",
       "        vertical-align: top;\n",
       "    }\n",
       "\n",
       "    .dataframe thead th {\n",
       "        text-align: right;\n",
       "    }\n",
       "</style>\n",
       "<table border=\"1\" class=\"dataframe\">\n",
       "  <thead>\n",
       "    <tr style=\"text-align: right;\">\n",
       "      <th></th>\n",
       "      <th>book</th>\n",
       "      <th>chapter</th>\n",
       "      <th>verse</th>\n",
       "      <th>part_of_speech</th>\n",
       "      <th>morphology</th>\n",
       "      <th>normalized_word</th>\n",
       "      <th>strongs</th>\n",
       "    </tr>\n",
       "  </thead>\n",
       "  <tbody>\n",
       "    <tr>\n",
       "      <th>0</th>\n",
       "      <td>1</td>\n",
       "      <td>1</td>\n",
       "      <td>1</td>\n",
       "      <td>P-</td>\n",
       "      <td>--------</td>\n",
       "      <td>εν</td>\n",
       "      <td>1722</td>\n",
       "    </tr>\n",
       "    <tr>\n",
       "      <th>1</th>\n",
       "      <td>1</td>\n",
       "      <td>1</td>\n",
       "      <td>1</td>\n",
       "      <td>N-</td>\n",
       "      <td>----DSF-</td>\n",
       "      <td>αρχη</td>\n",
       "      <td>746</td>\n",
       "    </tr>\n",
       "    <tr>\n",
       "      <th>2</th>\n",
       "      <td>1</td>\n",
       "      <td>1</td>\n",
       "      <td>1</td>\n",
       "      <td>V-</td>\n",
       "      <td>3AAI-S--</td>\n",
       "      <td>εποιησεν</td>\n",
       "      <td>4160</td>\n",
       "    </tr>\n",
       "    <tr>\n",
       "      <th>3</th>\n",
       "      <td>1</td>\n",
       "      <td>1</td>\n",
       "      <td>1</td>\n",
       "      <td>RA</td>\n",
       "      <td>----NSM-</td>\n",
       "      <td>ο</td>\n",
       "      <td>3588</td>\n",
       "    </tr>\n",
       "    <tr>\n",
       "      <th>4</th>\n",
       "      <td>1</td>\n",
       "      <td>1</td>\n",
       "      <td>1</td>\n",
       "      <td>N-</td>\n",
       "      <td>----NSM-</td>\n",
       "      <td>θεος</td>\n",
       "      <td>2316</td>\n",
       "    </tr>\n",
       "  </tbody>\n",
       "</table>\n",
       "</div>"
      ],
      "text/plain": [
       "   book chapter verse part_of_speech morphology normalized_word  strongs\n",
       "0     1       1     1             P-   --------              εν     1722\n",
       "1     1       1     1             N-   ----DSF-            αρχη      746\n",
       "2     1       1     1             V-   3AAI-S--        εποιησεν     4160\n",
       "3     1       1     1             RA   ----NSM-               ο     3588\n",
       "4     1       1     1             N-   ----NSM-            θεος     2316"
      ]
     },
     "execution_count": 158,
     "metadata": {},
     "output_type": "execute_result"
    }
   ],
   "source": [
    "df_lxx.head()"
   ]
  },
  {
   "cell_type": "code",
   "execution_count": 13,
   "id": "6be46ebf",
   "metadata": {},
   "outputs": [
    {
     "name": "stdout",
     "output_type": "stream",
     "text": [
      "Collecting pandasql\n",
      "\u001b[33m  WARNING: Retrying (Retry(total=4, connect=None, read=None, redirect=None, status=None)) after connection broken by 'SSLError(SSLCertVerificationError(1, '[SSL: CERTIFICATE_VERIFY_FAILED] certificate verify failed: unable to get local issuer certificate (_ssl.c:1006)'))': /packages/6b/c4/ee4096ffa2eeeca0c749b26f0371bd26aa5c8b611c43de99a4f86d3de0a7/pandasql-0.7.3.tar.gz\u001b[0m\u001b[33m\n",
      "\u001b[0m  Downloading pandasql-0.7.3.tar.gz (26 kB)\n",
      "  Preparing metadata (setup.py) ... \u001b[?25ldone\n",
      "\u001b[?25hRequirement already satisfied: numpy in /Users/davison/.local/share/virtualenvs/almeida-semantica-EQJtyJGz/lib/python3.11/site-packages (from pandasql) (1.26.4)\n",
      "Requirement already satisfied: pandas in /Users/davison/.local/share/virtualenvs/almeida-semantica-EQJtyJGz/lib/python3.11/site-packages (from pandasql) (2.2.2)\n",
      "Collecting sqlalchemy (from pandasql)\n",
      "  Downloading SQLAlchemy-2.0.31-cp311-cp311-macosx_11_0_arm64.whl.metadata (9.6 kB)\n",
      "Requirement already satisfied: python-dateutil>=2.8.2 in /Users/davison/.local/share/virtualenvs/almeida-semantica-EQJtyJGz/lib/python3.11/site-packages (from pandas->pandasql) (2.9.0.post0)\n",
      "Requirement already satisfied: pytz>=2020.1 in /Users/davison/.local/share/virtualenvs/almeida-semantica-EQJtyJGz/lib/python3.11/site-packages (from pandas->pandasql) (2024.1)\n",
      "Requirement already satisfied: tzdata>=2022.7 in /Users/davison/.local/share/virtualenvs/almeida-semantica-EQJtyJGz/lib/python3.11/site-packages (from pandas->pandasql) (2024.1)\n",
      "Requirement already satisfied: typing-extensions>=4.6.0 in /Users/davison/.local/share/virtualenvs/almeida-semantica-EQJtyJGz/lib/python3.11/site-packages (from sqlalchemy->pandasql) (4.12.2)\n",
      "Requirement already satisfied: six>=1.5 in /Users/davison/.local/share/virtualenvs/almeida-semantica-EQJtyJGz/lib/python3.11/site-packages (from python-dateutil>=2.8.2->pandas->pandasql) (1.16.0)\n",
      "Downloading SQLAlchemy-2.0.31-cp311-cp311-macosx_11_0_arm64.whl (2.1 MB)\n",
      "\u001b[2K   \u001b[90m━━━━━━━━━━━━━━━━━━━━━━━━━━━━━━━━━━━━━━━━\u001b[0m \u001b[32m2.1/2.1 MB\u001b[0m \u001b[31m23.8 MB/s\u001b[0m eta \u001b[36m0:00:00\u001b[0ma \u001b[36m0:00:01\u001b[0m\n",
      "\u001b[?25hBuilding wheels for collected packages: pandasql\n",
      "  Building wheel for pandasql (setup.py) ... \u001b[?25ldone\n",
      "\u001b[?25h  Created wheel for pandasql: filename=pandasql-0.7.3-py3-none-any.whl size=26773 sha256=db92df97282b6c01ff69982074cee0c9216c581c8a95080901017fd87096c3cc\n",
      "  Stored in directory: /Users/davison/Library/Caches/pip/wheels/68/5d/a5/edc271b998f909801d7956959f699b976cc9896075dc47c153\n",
      "Successfully built pandasql\n",
      "Installing collected packages: sqlalchemy, pandasql\n",
      "Successfully installed pandasql-0.7.3 sqlalchemy-2.0.31\n",
      "\n",
      "\u001b[1m[\u001b[0m\u001b[34;49mnotice\u001b[0m\u001b[1;39;49m]\u001b[0m\u001b[39;49m A new release of pip is available: \u001b[0m\u001b[31;49m24.0\u001b[0m\u001b[39;49m -> \u001b[0m\u001b[32;49m24.1.1\u001b[0m\n",
      "\u001b[1m[\u001b[0m\u001b[34;49mnotice\u001b[0m\u001b[1;39;49m]\u001b[0m\u001b[39;49m To update, run: \u001b[0m\u001b[32;49mpip install --upgrade pip\u001b[0m\n",
      "Note: you may need to restart the kernel to use updated packages.\n"
     ]
    }
   ],
   "source": [
    "%pip install pandasql"
   ]
  },
  {
   "cell_type": "code",
   "execution_count": 136,
   "id": "1f5de2e4",
   "metadata": {},
   "outputs": [
    {
     "name": "stdout",
     "output_type": "stream",
     "text": [
      "Collecting greek-stemmer-pos\n",
      "  Downloading greek_stemmer_pos-1.1.2-py3-none-any.whl.metadata (5.7 kB)\n",
      "Requirement already satisfied: pytest in /Users/davison/.local/share/virtualenvs/almeida-semantica-EQJtyJGz/lib/python3.11/site-packages (from greek-stemmer-pos) (8.2.2)\n",
      "Collecting pytest-cov (from greek-stemmer-pos)\n",
      "  Downloading pytest_cov-5.0.0-py3-none-any.whl.metadata (27 kB)\n",
      "Requirement already satisfied: iniconfig in /Users/davison/.local/share/virtualenvs/almeida-semantica-EQJtyJGz/lib/python3.11/site-packages (from pytest->greek-stemmer-pos) (2.0.0)\n",
      "Requirement already satisfied: packaging in /Users/davison/.local/share/virtualenvs/almeida-semantica-EQJtyJGz/lib/python3.11/site-packages (from pytest->greek-stemmer-pos) (24.1)\n",
      "Requirement already satisfied: pluggy<2.0,>=1.5 in /Users/davison/.local/share/virtualenvs/almeida-semantica-EQJtyJGz/lib/python3.11/site-packages (from pytest->greek-stemmer-pos) (1.5.0)\n",
      "Collecting coverage>=5.2.1 (from coverage[toml]>=5.2.1->pytest-cov->greek-stemmer-pos)\n",
      "  Downloading coverage-7.5.4-cp311-cp311-macosx_11_0_arm64.whl.metadata (8.2 kB)\n",
      "Downloading greek_stemmer_pos-1.1.2-py3-none-any.whl (19 kB)\n",
      "Downloading pytest_cov-5.0.0-py3-none-any.whl (21 kB)\n",
      "Downloading coverage-7.5.4-cp311-cp311-macosx_11_0_arm64.whl (205 kB)\n",
      "\u001b[2K   \u001b[90m━━━━━━━━━━━━━━━━━━━━━━━━━━━━━━━━━━━━━━━━\u001b[0m \u001b[32m205.7/205.7 kB\u001b[0m \u001b[31m7.6 MB/s\u001b[0m eta \u001b[36m0:00:00\u001b[0m\n",
      "\u001b[?25hInstalling collected packages: coverage, pytest-cov, greek-stemmer-pos\n",
      "Successfully installed coverage-7.5.4 greek-stemmer-pos-1.1.2 pytest-cov-5.0.0\n",
      "\n",
      "\u001b[1m[\u001b[0m\u001b[34;49mnotice\u001b[0m\u001b[1;39;49m]\u001b[0m\u001b[39;49m A new release of pip is available: \u001b[0m\u001b[31;49m24.0\u001b[0m\u001b[39;49m -> \u001b[0m\u001b[32;49m24.1.1\u001b[0m\n",
      "\u001b[1m[\u001b[0m\u001b[34;49mnotice\u001b[0m\u001b[1;39;49m]\u001b[0m\u001b[39;49m To update, run: \u001b[0m\u001b[32;49mpip install --upgrade pip\u001b[0m\n",
      "Note: you may need to restart the kernel to use updated packages.\n"
     ]
    }
   ],
   "source": [
    "%pip install greek-stemmer-pos"
   ]
  },
  {
   "cell_type": "code",
   "execution_count": 137,
   "id": "e22309d0",
   "metadata": {},
   "outputs": [],
   "source": [
    "from greek_stemmer import stemmer"
   ]
  },
  {
   "cell_type": "code",
   "execution_count": 140,
   "id": "12fbf1c3",
   "metadata": {},
   "outputs": [],
   "source": [
    "stem_gk_word = stemmer.stem_word('συσχηματίζεσθε', 'MD')"
   ]
  },
  {
   "cell_type": "code",
   "execution_count": 146,
   "id": "5e30bf39",
   "metadata": {},
   "outputs": [
    {
     "name": "stdout",
     "output_type": "stream",
     "text": [
      "ΣΥΣΧΗΜΑΤΙΖΕΣΘ\n"
     ]
    }
   ],
   "source": [
    "print(stem_gk_word)"
   ]
  },
  {
   "cell_type": "code",
   "execution_count": 6,
   "id": "2fa89bd4",
   "metadata": {},
   "outputs": [],
   "source": [
    "import koinenlp as knlp"
   ]
  },
  {
   "cell_type": "code",
   "execution_count": 1,
   "id": "93e619cb",
   "metadata": {},
   "outputs": [],
   "source": [
    "from pandasql import sqldf"
   ]
  },
  {
   "cell_type": "code",
   "execution_count": 165,
   "id": "78d8f51f",
   "metadata": {},
   "outputs": [
    {
     "name": "stdout",
     "output_type": "stream",
     "text": [
      "συσχηματιζεσθε\n"
     ]
    },
    {
     "data": {
      "text/plain": [
       "0"
      ]
     },
     "execution_count": 165,
     "metadata": {},
     "output_type": "execute_result"
    }
   ],
   "source": [
    "pgn = knlp.normalize('συσχηματίζεσθε')\n",
    "print(pgn)\n",
    "query_ocorrencias_pgn_lxx = \"\"\"\n",
    "SELECT \n",
    "    book, \n",
    "    chapter, \n",
    "    verse\n",
    "    , strongs\n",
    "FROM \n",
    "    df_lxx\n",
    "WHERE \n",
    "    normalized_word like '{}%'\n",
    "\"\"\".format(pgn)\n",
    "df_ocorrencias_pgn = sqldf(query_ocorrencias_pgn_lxx)\n",
    "len(df_ocorrencias_pgn)"
   ]
  },
  {
   "cell_type": "code",
   "execution_count": 143,
   "id": "3c17c0fd",
   "metadata": {},
   "outputs": [],
   "source": [
    "# ocorrencias_gg_lxx = [o for i, o in enumerate(df_lxx[\"strongs\"]) if df_lxx[\"strongs\"][i]==2101]\n",
    "# [child.text + \" \" if i!=len(verso) else child.text + child.tail for i, child in enumerate(verso)]"
   ]
  },
  {
   "cell_type": "code",
   "execution_count": 214,
   "id": "fb356bd8",
   "metadata": {},
   "outputs": [
    {
     "data": {
      "text/plain": [
       "'G3339 from μετά and μορφόω; to transform (literally or figuratively, \"metamorphose\"):--change, transfigure, transform.'"
      ]
     },
     "execution_count": 214,
     "metadata": {},
     "output_type": "execute_result"
    }
   ],
   "source": [
    "encontrar_def_strong_por_cod('G', 3339)"
   ]
  },
  {
   "cell_type": "code",
   "execution_count": 215,
   "id": "a2e01499",
   "metadata": {},
   "outputs": [
    {
     "data": {
      "text/html": [
       "<div>\n",
       "<style scoped>\n",
       "    .dataframe tbody tr th:only-of-type {\n",
       "        vertical-align: middle;\n",
       "    }\n",
       "\n",
       "    .dataframe tbody tr th {\n",
       "        vertical-align: top;\n",
       "    }\n",
       "\n",
       "    .dataframe thead th {\n",
       "        text-align: right;\n",
       "    }\n",
       "</style>\n",
       "<table border=\"1\" class=\"dataframe\">\n",
       "  <thead>\n",
       "    <tr style=\"text-align: right;\">\n",
       "      <th></th>\n",
       "      <th>book</th>\n",
       "      <th>chapter</th>\n",
       "      <th>verse</th>\n",
       "      <th>normalized_word</th>\n",
       "      <th>strongs</th>\n",
       "    </tr>\n",
       "  </thead>\n",
       "  <tbody>\n",
       "    <tr>\n",
       "      <th>0</th>\n",
       "      <td>1</td>\n",
       "      <td>3</td>\n",
       "      <td>6</td>\n",
       "      <td>μετ</td>\n",
       "      <td>3326</td>\n",
       "    </tr>\n",
       "    <tr>\n",
       "      <th>1</th>\n",
       "      <td>1</td>\n",
       "      <td>3</td>\n",
       "      <td>12</td>\n",
       "      <td>μετ</td>\n",
       "      <td>3326</td>\n",
       "    </tr>\n",
       "    <tr>\n",
       "      <th>2</th>\n",
       "      <td>1</td>\n",
       "      <td>4</td>\n",
       "      <td>3</td>\n",
       "      <td>μεθ</td>\n",
       "      <td>3326</td>\n",
       "    </tr>\n",
       "    <tr>\n",
       "      <th>3</th>\n",
       "      <td>1</td>\n",
       "      <td>5</td>\n",
       "      <td>4</td>\n",
       "      <td>μετα</td>\n",
       "      <td>3326</td>\n",
       "    </tr>\n",
       "    <tr>\n",
       "      <th>4</th>\n",
       "      <td>1</td>\n",
       "      <td>5</td>\n",
       "      <td>7</td>\n",
       "      <td>μετα</td>\n",
       "      <td>3326</td>\n",
       "    </tr>\n",
       "  </tbody>\n",
       "</table>\n",
       "</div>"
      ],
      "text/plain": [
       "   book chapter verse normalized_word  strongs\n",
       "0     1       3     6             μετ     3326\n",
       "1     1       3    12             μετ     3326\n",
       "2     1       4     3             μεθ     3326\n",
       "3     1       5     4            μετα     3326\n",
       "4     1       5     7            μετα     3326"
      ]
     },
     "execution_count": 215,
     "metadata": {},
     "output_type": "execute_result"
    }
   ],
   "source": [
    "sg = 3326\n",
    "# -\n",
    "query_ocorrencias_strongg_lxx = \"\"\"\n",
    "SELECT \n",
    "    book, \n",
    "    chapter, \n",
    "    verse\n",
    "    , normalized_word\n",
    "    , strongs\n",
    "FROM \n",
    "    df_lxx\n",
    "WHERE \n",
    "    strongs like '{}'\n",
    "\"\"\".format(sg)\n",
    "df_ocorrencias_strong = sqldf(query_ocorrencias_strongg_lxx)\n",
    "\n",
    "df_ocorrencias_strong.head()"
   ]
  },
  {
   "cell_type": "code",
   "execution_count": 216,
   "id": "bb891806",
   "metadata": {},
   "outputs": [
    {
     "data": {
      "text/plain": [
       "1777"
      ]
     },
     "execution_count": 216,
     "metadata": {},
     "output_type": "execute_result"
    }
   ],
   "source": [
    "len(df_ocorrencias_strong)"
   ]
  },
  {
   "cell_type": "code",
   "execution_count": 209,
   "id": "38f487ed",
   "metadata": {},
   "outputs": [
    {
     "data": {
      "text/html": [
       "<div>\n",
       "<style scoped>\n",
       "    .dataframe tbody tr th:only-of-type {\n",
       "        vertical-align: middle;\n",
       "    }\n",
       "\n",
       "    .dataframe tbody tr th {\n",
       "        vertical-align: top;\n",
       "    }\n",
       "\n",
       "    .dataframe thead th {\n",
       "        text-align: right;\n",
       "    }\n",
       "</style>\n",
       "<table border=\"1\" class=\"dataframe\">\n",
       "  <thead>\n",
       "    <tr style=\"text-align: right;\">\n",
       "      <th></th>\n",
       "      <th>book</th>\n",
       "      <th>chapter</th>\n",
       "      <th>verse</th>\n",
       "      <th>normalized_word</th>\n",
       "      <th>strongs</th>\n",
       "    </tr>\n",
       "  </thead>\n",
       "  <tbody>\n",
       "    <tr>\n",
       "      <th>4</th>\n",
       "      <td>2</td>\n",
       "      <td>12</td>\n",
       "      <td>24</td>\n",
       "      <td>αιωνος</td>\n",
       "      <td>165</td>\n",
       "    </tr>\n",
       "  </tbody>\n",
       "</table>\n",
       "</div>"
      ],
      "text/plain": [
       "   book chapter verse normalized_word  strongs\n",
       "4     2      12    24          αιωνος      165"
      ]
     },
     "execution_count": 209,
     "metadata": {},
     "output_type": "execute_result"
    }
   ],
   "source": [
    "df_ocorrencias_strong.loc[[4]]"
   ]
  },
  {
   "cell_type": "code",
   "execution_count": null,
   "id": "a7b4c11b",
   "metadata": {},
   "outputs": [],
   "source": [
    "import csv"
   ]
  },
  {
   "cell_type": "code",
   "execution_count": null,
   "id": "ed754673",
   "metadata": {},
   "outputs": [],
   "source": [
    "def encontrar_ocorrencia_gg_at():\n",
    "    "
   ]
  },
  {
   "cell_type": "code",
   "execution_count": 41,
   "id": "376aa15b",
   "metadata": {},
   "outputs": [
    {
     "data": {
      "text/plain": [
       "'Ὁ λόγος γὰρ ὁ τοῦ σταυροῦ τοῖς μὲν ἀπολλυμένοις μωρία ἐστίν, τοῖς δὲ σῳζομένοις ἡμῖν δύναμις θεοῦ ἐστιν.'"
      ]
     },
     "execution_count": 41,
     "metadata": {},
     "output_type": "execute_result"
    }
   ],
   "source": [
    "\" \".join(palavras)"
   ]
  },
  {
   "cell_type": "code",
   "execution_count": 6,
   "id": "0391771c",
   "metadata": {},
   "outputs": [],
   "source": [
    "def retornar_txt_vs_gg(livro, cap, verso):\n",
    "    with open(retornar_livro_nt(livro), 'r') as f:\n",
    "        str_verso=str(cap).zfill(2)+str(verso).zfill(2)\n",
    "        palavras = [linha.split()[3] for linha in f.readlines() if linha.split()[0][2:6]==str_verso] \n",
    "        txt_verso = str(verso) + \" \" + \" \".join(palavras)\n",
    "    return txt_verso"
   ]
  },
  {
   "cell_type": "code",
   "execution_count": 17,
   "id": "76dfd3e6",
   "metadata": {},
   "outputs": [
    {
     "name": "stdout",
     "output_type": "stream",
     "text": [
      "1 Παρακαλῶ οὖν ὑμᾶς, ἀδελφοί, διὰ τῶν οἰκτιρμῶν τοῦ θεοῦ παραστῆσαι τὰ σώματα ὑμῶν θυσίαν ζῶσαν ἁγίαν ⸂εὐάρεστον τῷ θεῷ⸃, τὴν λογικὴν λατρείαν ὑμῶν·\n"
     ]
    }
   ],
   "source": [
    "print(retornar_txt_vs_gg('Romanos', 12, 1))"
   ]
  },
  {
   "cell_type": "code",
   "execution_count": 8,
   "id": "3857ebac",
   "metadata": {},
   "outputs": [],
   "source": [
    "from translate import Translator"
   ]
  },
  {
   "cell_type": "code",
   "execution_count": 20,
   "id": "47ee4e93",
   "metadata": {},
   "outputs": [],
   "source": [
    "def retornar_livros_at():\n",
    "    sql = 'select distinct BookName from Words'\n",
    "\n",
    "    try:\n",
    "        with sqlite3.connect(hb_at) as cnx:\n",
    "            cursor = cnx.cursor()\n",
    "            rs = cursor.execute(sql).fetchall()\n",
    "    except sqlite3.Error as er:\n",
    "        print(er)\n",
    "\n",
    "    return [l[0] for l in rs]"
   ]
  },
  {
   "cell_type": "code",
   "execution_count": 21,
   "id": "b3f41ca0",
   "metadata": {},
   "outputs": [
    {
     "data": {
      "text/plain": [
       "['Ecclesiastes',\n",
       " 'Judges',\n",
       " 'Obadiah',\n",
       " 'Job',\n",
       " 'II Chronicles',\n",
       " 'Lamentations',\n",
       " 'Deuteronomy',\n",
       " 'Isaiah',\n",
       " 'Leviticus',\n",
       " 'Nahum',\n",
       " 'Malachi',\n",
       " 'Daniel',\n",
       " 'Joel',\n",
       " 'I Kings',\n",
       " 'Ezra',\n",
       " 'II Samuel',\n",
       " 'Zephaniah',\n",
       " 'Joshua',\n",
       " 'Song of Solomon',\n",
       " 'Amos',\n",
       " 'I Chronicles',\n",
       " 'Micah',\n",
       " 'Hosea',\n",
       " 'Nehemiah',\n",
       " 'Ezekiel',\n",
       " 'Psalms',\n",
       " 'Jeremiah',\n",
       " 'Ruth',\n",
       " 'Zechariah',\n",
       " 'Haggai',\n",
       " 'Esther',\n",
       " 'Jonah',\n",
       " 'Habakkuk',\n",
       " 'Genesis',\n",
       " 'Proverbs',\n",
       " 'Numbers',\n",
       " 'I Samuel',\n",
       " 'Exodus',\n",
       " 'II Kings']"
      ]
     },
     "execution_count": 21,
     "metadata": {},
     "output_type": "execute_result"
    }
   ],
   "source": [
    "retornar_livros_at()"
   ]
  },
  {
   "cell_type": "code",
   "execution_count": 22,
   "id": "c3391c39",
   "metadata": {},
   "outputs": [],
   "source": [
    "def traduzir_caps_interv(fonte, livro, cap_ini, cap_fim):\n",
    "    livros_at = retornar_livros_at()\n",
    "    transl=Translator(from_lang=fonte, to_lang='pt')\n",
    "    if livro in livros_at:\n",
    "        texto_traduzido = ''\n",
    "        for cap in range(cap_ini, cap_fim+1):\n",
    "            nr_vs = 1\n",
    "            for verso in [vs[1] for vs in retornar_txt_cap_hb(livro, cap)[1]]:\n",
    "                texto_traduzido += str(nr_vs) + ' '\n",
    "                texto_traduzido += ''.join(transl.translate(verso) + ' ')\n",
    "                nr_vs=nr_vs+1\n",
    "            texto_traduzido += ''.join('\\n\\n' + livro + ' ' + str(cap+1) + '\\n')\n",
    "\n",
    "    return texto_traduzido\n",
    "    "
   ]
  },
  {
   "cell_type": "code",
   "execution_count": 23,
   "id": "02ca9bc8",
   "metadata": {},
   "outputs": [],
   "source": [
    "def traduzir_vs(fonte, livro, cap, verso):\n",
    "    transl=Translator(from_lang=fonte, to_lang='pt')\n",
    "    if fonte=='he':\n",
    "        livros = retornar_livros_at()\n",
    "        if livro in livros:\n",
    "            return transl.translate(retornar_texto_vs_hb(livro, cap, verso))\n",
    "    else:\n",
    "        return transl.translate(retornar_txt_vs_gg(livro, cap, verso))"
   ]
  },
  {
   "cell_type": "code",
   "execution_count": 27,
   "id": "ac40ad9b",
   "metadata": {},
   "outputs": [
    {
     "ename": "AttributeError",
     "evalue": "'tuple' object has no attribute 'expandtabs'",
     "output_type": "error",
     "traceback": [
      "\u001b[0;31m---------------------------------------------------------------------------\u001b[0m",
      "\u001b[0;31mAttributeError\u001b[0m                            Traceback (most recent call last)",
      "Cell \u001b[0;32mIn[27], line 1\u001b[0m\n\u001b[0;32m----> 1\u001b[0m \u001b[43mtraduzir_vs\u001b[49m\u001b[43m(\u001b[49m\u001b[38;5;124;43m'\u001b[39;49m\u001b[38;5;124;43mhe\u001b[39;49m\u001b[38;5;124;43m'\u001b[39;49m\u001b[43m,\u001b[49m\u001b[43m \u001b[49m\u001b[38;5;124;43m'\u001b[39;49m\u001b[38;5;124;43mGenesis\u001b[39;49m\u001b[38;5;124;43m'\u001b[39;49m\u001b[43m,\u001b[49m\u001b[43m \u001b[49m\u001b[38;5;241;43m2\u001b[39;49m\u001b[43m,\u001b[49m\u001b[43m \u001b[49m\u001b[38;5;241;43m1\u001b[39;49m\u001b[43m)\u001b[49m\n",
      "Cell \u001b[0;32mIn[23], line 6\u001b[0m, in \u001b[0;36mtraduzir_vs\u001b[0;34m(fonte, livro, cap, verso)\u001b[0m\n\u001b[1;32m      4\u001b[0m     livros \u001b[38;5;241m=\u001b[39m retornar_livros_at()\n\u001b[1;32m      5\u001b[0m     \u001b[38;5;28;01mif\u001b[39;00m livro \u001b[38;5;129;01min\u001b[39;00m livros:\n\u001b[0;32m----> 6\u001b[0m         \u001b[38;5;28;01mreturn\u001b[39;00m \u001b[43mtransl\u001b[49m\u001b[38;5;241;43m.\u001b[39;49m\u001b[43mtranslate\u001b[49m\u001b[43m(\u001b[49m\u001b[43mretornar_texto_vs_hb\u001b[49m\u001b[43m(\u001b[49m\u001b[43mlivro\u001b[49m\u001b[43m,\u001b[49m\u001b[43m \u001b[49m\u001b[43mcap\u001b[49m\u001b[43m,\u001b[49m\u001b[43m \u001b[49m\u001b[43mverso\u001b[49m\u001b[43m)\u001b[49m\u001b[43m)\u001b[49m\n\u001b[1;32m      7\u001b[0m \u001b[38;5;28;01melse\u001b[39;00m:\n\u001b[1;32m      8\u001b[0m     \u001b[38;5;28;01mreturn\u001b[39;00m transl\u001b[38;5;241m.\u001b[39mtranslate(retornar_txt_vs_gg(livro, cap, verso))\n",
      "File \u001b[0;32m/opt/homebrew/lib/python3.11/site-packages/translate/translate.py:44\u001b[0m, in \u001b[0;36mTranslator.translate\u001b[0;34m(self, text)\u001b[0m\n\u001b[1;32m     41\u001b[0m \u001b[38;5;28;01mif\u001b[39;00m \u001b[38;5;28mself\u001b[39m\u001b[38;5;241m.\u001b[39mfrom_lang \u001b[38;5;241m==\u001b[39m \u001b[38;5;28mself\u001b[39m\u001b[38;5;241m.\u001b[39mto_lang:\n\u001b[1;32m     42\u001b[0m     \u001b[38;5;28;01mreturn\u001b[39;00m text\n\u001b[0;32m---> 44\u001b[0m text_list \u001b[38;5;241m=\u001b[39m \u001b[43mwrap\u001b[49m\u001b[43m(\u001b[49m\u001b[43mtext\u001b[49m\u001b[43m,\u001b[49m\u001b[43m \u001b[49m\u001b[43mTRANSLATION_API_MAX_LENGHT\u001b[49m\u001b[43m,\u001b[49m\u001b[43m \u001b[49m\u001b[43mreplace_whitespace\u001b[49m\u001b[38;5;241;43m=\u001b[39;49m\u001b[38;5;28;43;01mFalse\u001b[39;49;00m\u001b[43m)\u001b[49m\n\u001b[1;32m     45\u001b[0m \u001b[38;5;28;01mreturn\u001b[39;00m \u001b[38;5;124m'\u001b[39m\u001b[38;5;124m \u001b[39m\u001b[38;5;124m'\u001b[39m\u001b[38;5;241m.\u001b[39mjoin(\u001b[38;5;28mself\u001b[39m\u001b[38;5;241m.\u001b[39mprovider\u001b[38;5;241m.\u001b[39mget_translation(text_wraped) \u001b[38;5;28;01mfor\u001b[39;00m text_wraped \u001b[38;5;129;01min\u001b[39;00m text_list)\n",
      "File \u001b[0;32m/opt/homebrew/Cellar/python@3.11/3.11.6_1/Frameworks/Python.framework/Versions/3.11/lib/python3.11/textwrap.py:384\u001b[0m, in \u001b[0;36mwrap\u001b[0;34m(text, width, **kwargs)\u001b[0m\n\u001b[1;32m    374\u001b[0m \u001b[38;5;250m\u001b[39m\u001b[38;5;124;03m\"\"\"Wrap a single paragraph of text, returning a list of wrapped lines.\u001b[39;00m\n\u001b[1;32m    375\u001b[0m \n\u001b[1;32m    376\u001b[0m \u001b[38;5;124;03mReformat the single paragraph in 'text' so it fits in lines of no\u001b[39;00m\n\u001b[0;32m   (...)\u001b[0m\n\u001b[1;32m    381\u001b[0m \u001b[38;5;124;03mwrapping behaviour.\u001b[39;00m\n\u001b[1;32m    382\u001b[0m \u001b[38;5;124;03m\"\"\"\u001b[39;00m\n\u001b[1;32m    383\u001b[0m w \u001b[38;5;241m=\u001b[39m TextWrapper(width\u001b[38;5;241m=\u001b[39mwidth, \u001b[38;5;241m*\u001b[39m\u001b[38;5;241m*\u001b[39mkwargs)\n\u001b[0;32m--> 384\u001b[0m \u001b[38;5;28;01mreturn\u001b[39;00m \u001b[43mw\u001b[49m\u001b[38;5;241;43m.\u001b[39;49m\u001b[43mwrap\u001b[49m\u001b[43m(\u001b[49m\u001b[43mtext\u001b[49m\u001b[43m)\u001b[49m\n",
      "File \u001b[0;32m/opt/homebrew/Cellar/python@3.11/3.11.6_1/Frameworks/Python.framework/Versions/3.11/lib/python3.11/textwrap.py:356\u001b[0m, in \u001b[0;36mTextWrapper.wrap\u001b[0;34m(self, text)\u001b[0m\n\u001b[1;32m    347\u001b[0m \u001b[38;5;28;01mdef\u001b[39;00m \u001b[38;5;21mwrap\u001b[39m(\u001b[38;5;28mself\u001b[39m, text):\n\u001b[1;32m    348\u001b[0m \u001b[38;5;250m    \u001b[39m\u001b[38;5;124;03m\"\"\"wrap(text : string) -> [string]\u001b[39;00m\n\u001b[1;32m    349\u001b[0m \n\u001b[1;32m    350\u001b[0m \u001b[38;5;124;03m    Reformat the single paragraph in 'text' so it fits in lines of\u001b[39;00m\n\u001b[0;32m   (...)\u001b[0m\n\u001b[1;32m    354\u001b[0m \u001b[38;5;124;03m    converted to space.\u001b[39;00m\n\u001b[1;32m    355\u001b[0m \u001b[38;5;124;03m    \"\"\"\u001b[39;00m\n\u001b[0;32m--> 356\u001b[0m     chunks \u001b[38;5;241m=\u001b[39m \u001b[38;5;28;43mself\u001b[39;49m\u001b[38;5;241;43m.\u001b[39;49m\u001b[43m_split_chunks\u001b[49m\u001b[43m(\u001b[49m\u001b[43mtext\u001b[49m\u001b[43m)\u001b[49m\n\u001b[1;32m    357\u001b[0m     \u001b[38;5;28;01mif\u001b[39;00m \u001b[38;5;28mself\u001b[39m\u001b[38;5;241m.\u001b[39mfix_sentence_endings:\n\u001b[1;32m    358\u001b[0m         \u001b[38;5;28mself\u001b[39m\u001b[38;5;241m.\u001b[39m_fix_sentence_endings(chunks)\n",
      "File \u001b[0;32m/opt/homebrew/Cellar/python@3.11/3.11.6_1/Frameworks/Python.framework/Versions/3.11/lib/python3.11/textwrap.py:342\u001b[0m, in \u001b[0;36mTextWrapper._split_chunks\u001b[0;34m(self, text)\u001b[0m\n\u001b[1;32m    341\u001b[0m \u001b[38;5;28;01mdef\u001b[39;00m \u001b[38;5;21m_split_chunks\u001b[39m(\u001b[38;5;28mself\u001b[39m, text):\n\u001b[0;32m--> 342\u001b[0m     text \u001b[38;5;241m=\u001b[39m \u001b[38;5;28;43mself\u001b[39;49m\u001b[38;5;241;43m.\u001b[39;49m\u001b[43m_munge_whitespace\u001b[49m\u001b[43m(\u001b[49m\u001b[43mtext\u001b[49m\u001b[43m)\u001b[49m\n\u001b[1;32m    343\u001b[0m     \u001b[38;5;28;01mreturn\u001b[39;00m \u001b[38;5;28mself\u001b[39m\u001b[38;5;241m.\u001b[39m_split(text)\n",
      "File \u001b[0;32m/opt/homebrew/Cellar/python@3.11/3.11.6_1/Frameworks/Python.framework/Versions/3.11/lib/python3.11/textwrap.py:151\u001b[0m, in \u001b[0;36mTextWrapper._munge_whitespace\u001b[0;34m(self, text)\u001b[0m\n\u001b[1;32m    144\u001b[0m \u001b[38;5;250m\u001b[39m\u001b[38;5;124;03m\"\"\"_munge_whitespace(text : string) -> string\u001b[39;00m\n\u001b[1;32m    145\u001b[0m \n\u001b[1;32m    146\u001b[0m \u001b[38;5;124;03mMunge whitespace in text: expand tabs and convert all other\u001b[39;00m\n\u001b[1;32m    147\u001b[0m \u001b[38;5;124;03mwhitespace characters to spaces.  Eg. \" foo\\\\tbar\\\\n\\\\nbaz\"\u001b[39;00m\n\u001b[1;32m    148\u001b[0m \u001b[38;5;124;03mbecomes \" foo    bar  baz\".\u001b[39;00m\n\u001b[1;32m    149\u001b[0m \u001b[38;5;124;03m\"\"\"\u001b[39;00m\n\u001b[1;32m    150\u001b[0m \u001b[38;5;28;01mif\u001b[39;00m \u001b[38;5;28mself\u001b[39m\u001b[38;5;241m.\u001b[39mexpand_tabs:\n\u001b[0;32m--> 151\u001b[0m     text \u001b[38;5;241m=\u001b[39m \u001b[43mtext\u001b[49m\u001b[38;5;241;43m.\u001b[39;49m\u001b[43mexpandtabs\u001b[49m(\u001b[38;5;28mself\u001b[39m\u001b[38;5;241m.\u001b[39mtabsize)\n\u001b[1;32m    152\u001b[0m \u001b[38;5;28;01mif\u001b[39;00m \u001b[38;5;28mself\u001b[39m\u001b[38;5;241m.\u001b[39mreplace_whitespace:\n\u001b[1;32m    153\u001b[0m     text \u001b[38;5;241m=\u001b[39m text\u001b[38;5;241m.\u001b[39mtranslate(\u001b[38;5;28mself\u001b[39m\u001b[38;5;241m.\u001b[39municode_whitespace_trans)\n",
      "\u001b[0;31mAttributeError\u001b[0m: 'tuple' object has no attribute 'expandtabs'"
     ]
    }
   ],
   "source": [
    "traduzir_vs('he', 'Genesis', 2, 1)"
   ]
  },
  {
   "cell_type": "code",
   "execution_count": 17,
   "id": "3b29fbec",
   "metadata": {},
   "outputs": [],
   "source": [
    "texto_hb = 'ויכלו השמים'"
   ]
  },
  {
   "cell_type": "code",
   "execution_count": 9,
   "id": "91258c05",
   "metadata": {},
   "outputs": [],
   "source": [
    "transl=Translator(from_lang='he', to_lang='pt')"
   ]
  },
  {
   "cell_type": "code",
   "execution_count": 14,
   "id": "1b6346e8",
   "metadata": {},
   "outputs": [
    {
     "ename": "NameError",
     "evalue": "name 'retornar_texto_vs_hb' is not defined",
     "output_type": "error",
     "traceback": [
      "\u001b[0;31m---------------------------------------------------------------------------\u001b[0m",
      "\u001b[0;31mNameError\u001b[0m                                 Traceback (most recent call last)",
      "Cell \u001b[0;32mIn[14], line 1\u001b[0m\n\u001b[0;32m----> 1\u001b[0m texto_hb \u001b[38;5;241m=\u001b[39m \u001b[43mretornar_texto_vs_hb\u001b[49m(\u001b[38;5;124m'\u001b[39m\u001b[38;5;124mGenesis\u001b[39m\u001b[38;5;124m'\u001b[39m, \u001b[38;5;241m2\u001b[39m, \u001b[38;5;241m1\u001b[39m)\n",
      "\u001b[0;31mNameError\u001b[0m: name 'retornar_texto_vs_hb' is not defined"
     ]
    }
   ],
   "source": [
    "texto_hb = retornar_texto_vs_hb('Genesis', 2, 1)"
   ]
  },
  {
   "cell_type": "code",
   "execution_count": 18,
   "id": "17acd08c",
   "metadata": {},
   "outputs": [],
   "source": [
    "texto_traduzido = transl.translate(texto_hb)"
   ]
  },
  {
   "cell_type": "code",
   "execution_count": 8,
   "id": "bbe7c83c",
   "metadata": {},
   "outputs": [],
   "source": [
    "# texto_traduzido = traduzir_caps_interv('he', 'Genesis', 27, 37)"
   ]
  },
  {
   "cell_type": "code",
   "execution_count": 19,
   "id": "7d20da82",
   "metadata": {},
   "outputs": [
    {
     "name": "stdout",
     "output_type": "stream",
     "text": [
      "E os céus estavam vazios\n"
     ]
    }
   ],
   "source": [
    "print(texto_traduzido)"
   ]
  },
  {
   "cell_type": "code",
   "execution_count": 20,
   "id": "752700ce",
   "metadata": {},
   "outputs": [],
   "source": [
    "with open('texto_traduzido', 'a') as saida:\n",
    "    saida.write(traduzir_caps_interv('he', 'Genesis', 22, 28))"
   ]
  },
  {
   "cell_type": "code",
   "execution_count": null,
   "id": "f1fece04",
   "metadata": {},
   "outputs": [],
   "source": [
    "with open('texto_traduzido', 'a') as saida:\n",
    "    saida.write(texto_traduzido)"
   ]
  },
  {
   "cell_type": "code",
   "execution_count": 25,
   "id": "9706b1b2",
   "metadata": {},
   "outputs": [],
   "source": [
    "nt = 'db/sbl.db'"
   ]
  },
  {
   "cell_type": "code",
   "execution_count": 83,
   "id": "8cd7c6b3",
   "metadata": {},
   "outputs": [],
   "source": [
    "def conexao(arq):\n",
    "    try:\n",
    "        with sqlite3.connect(arq) as con:\n",
    "            return con\n",
    "    except sqlite3.Error as er:\n",
    "        return er"
   ]
  },
  {
   "cell_type": "code",
   "execution_count": 2,
   "id": "49b51e64",
   "metadata": {},
   "outputs": [],
   "source": [
    "import xml.etree.ElementTree as ET"
   ]
  },
  {
   "cell_type": "code",
   "execution_count": 23,
   "id": "f5498d6d",
   "metadata": {},
   "outputs": [],
   "source": [
    "def txt_vs_nt(nr_livro, cap, vs):\n",
    "    sql = 'SELECT content FROM bible WHERE nr_sq_livro = {} AND chapter = {} AND verse = {}'.format(nr_livro, cap, vs)\n",
    "\n",
    "    cursor = conexao(nt).cursor()\n",
    "    rs = cursor.execute(sql).fetchone()[0]\n",
    "\n",
    "    # como faz lista enumerada com if else \n",
    "    # return str(vs) + \" \" + \"\".join([child.text + \" \" if i!=len(verso) else child.text + child.tail for i, child in enumerate(verso)])\n",
    "\n",
    "    return str(vs) + \" \" + \"\".join([child.text + child.tail for child in ET.fromstring(rs)])\n"
   ]
  },
  {
   "cell_type": "code",
   "execution_count": 28,
   "id": "cc216ed6",
   "metadata": {},
   "outputs": [
    {
     "data": {
      "text/plain": [
       "'2 καὶ μὴ ⸀συσχηματίζεσθε τῷ αἰῶνι τούτῳ, ἀλλὰ ⸀μεταμορφοῦσθε τῇ ἀνακαινώσει τοῦ ⸀νοός, εἰς τὸ δοκιμάζειν ὑμᾶς τί τὸ θέλημα τοῦ θεοῦ, τὸ ἀγαθὸν καὶ εὐάρεστον καὶ τέλειον.\\n'"
      ]
     },
     "execution_count": 28,
     "metadata": {},
     "output_type": "execute_result"
    }
   ],
   "source": [
    "txt_vs_nt(45, 12, 2)"
   ]
  },
  {
   "cell_type": "code",
   "execution_count": 197,
   "id": "7864eee6",
   "metadata": {},
   "outputs": [],
   "source": [
    "def encontrar_def_strong_por_cod(sgl_fonte, cd_strong):\n",
    "    strongs = '/Users/davison/Software/almeida-semantica/db/strongs.sqlite'\n",
    "    sql_strong = \"SELECT number, description FROM strongs WHERE number like '{}{}'\".format(sgl_fonte, cd_strong)\n",
    "    cursor = conexao(strongs).cursor()\n",
    "    rs = cursor.execute(sql_strong).fetchone()\n",
    "    return \" \".join(rs)"
   ]
  },
  {
   "cell_type": "code",
   "execution_count": 118,
   "id": "2f3e9e22",
   "metadata": {},
   "outputs": [],
   "source": [
    "def encontrar_def_strong_por_lemma(lemma):\n",
    "    strongs = '/Users/davison/Software/almeida-semantica/db/strongs.sqlite'\n",
    "    query_strong_lemma = \"SELECT number, xlit, pronounce, description FROM strongs WHERE lemma like '%{}%'\".format(lemma)\n",
    "    cursor = conexao(strongs).cursor()\n",
    "    rs = cursor.execute(query_strong_lemma).fetchone()\n",
    "    return rs"
   ]
  },
  {
   "cell_type": "code",
   "execution_count": 213,
   "id": "893da56b",
   "metadata": {},
   "outputs": [
    {
     "data": {
      "text/plain": [
       "'G3345 from μετά and a derivative of σχῆμα; to transfigure or disguise; figuratively, to apply (by accommodation):--transfer, transform (self).'"
      ]
     },
     "execution_count": 213,
     "metadata": {},
     "output_type": "execute_result"
    }
   ],
   "source": [
    "encontrar_def_strong_por_cod('G', 3345)"
   ]
  },
  {
   "cell_type": "code",
   "execution_count": 111,
   "id": "7c3a978f",
   "metadata": {},
   "outputs": [
    {
     "data": {
      "text/plain": [
       "'θυσια'"
      ]
     },
     "execution_count": 111,
     "metadata": {},
     "output_type": "execute_result"
    }
   ],
   "source": [
    "knlp.normalize('λόγος')"
   ]
  },
  {
   "cell_type": "code",
   "execution_count": 119,
   "id": "9f54b100",
   "metadata": {},
   "outputs": [],
   "source": [
    "palavra_strong = encontrar_def_strong_por_lemma('θυσία')"
   ]
  },
  {
   "cell_type": "code",
   "execution_count": 120,
   "id": "0568fa77",
   "metadata": {},
   "outputs": [
    {
     "name": "stdout",
     "output_type": "stream",
     "text": [
      "None\n"
     ]
    }
   ],
   "source": [
    "print(palavra_strong)"
   ]
  },
  {
   "cell_type": "code",
   "execution_count": 57,
   "id": "66c67085",
   "metadata": {},
   "outputs": [],
   "source": [
    "from src.VersoGg import *\n",
    "vs = VersoGg('ROMANOS', 12, 1)"
   ]
  },
  {
   "cell_type": "code",
   "execution_count": 58,
   "id": "63305722",
   "metadata": {},
   "outputs": [
    {
     "data": {
      "text/plain": [
       "'<verse num=\"1\">\\n<w pos=\"V-\" morph=\"1PAI-S--\" lemma=\"παρακαλέω\" strongs=\"03870\">Παρακαλῶ</w> <w pos=\"C-\" morph=\"--------\" lemma=\"οὖν\" strongs=\"03767\">οὖν</w> <w pos=\"RP\" morph=\"----AP--\" lemma=\"σύ\" strongs=\"04771\">ὑμᾶς</w>, <w pos=\"N-\" morph=\"----VPM-\" lemma=\"ἀδελφός\" strongs=\"00080\">ἀδελφοί</w>, <w pos=\"P-\" morph=\"--------\" lemma=\"διά\" strongs=\"01223\">διὰ</w> <w pos=\"RA\" morph=\"----GPM-\" lemma=\"ὁ\" strongs=\"03588\">τῶν</w> <w pos=\"N-\" morph=\"----GPM-\" lemma=\"οἰκτιρμός\" strongs=\"03628\">οἰκτιρμῶν</w> <w pos=\"RA\" morph=\"----GSM-\" lemma=\"ὁ\" strongs=\"03588\">τοῦ</w> <w pos=\"N-\" morph=\"----GSM-\" lemma=\"θεός\" strongs=\"02316\">θεοῦ</w> <w pos=\"V-\" morph=\"-AAN----\" lemma=\"παρίστημι\" strongs=\"03936\">παραστῆσαι</w> <w pos=\"RA\" morph=\"----APN-\" lemma=\"ὁ\" strongs=\"03588\">τὰ</w> <w pos=\"N-\" morph=\"----APN-\" lemma=\"σῶμα\" strongs=\"04983\">σώματα</w> <w pos=\"RP\" morph=\"----GP--\" lemma=\"σύ\" strongs=\"04771\">ὑμῶν</w> <w pos=\"N-\" morph=\"----ASF-\" lemma=\"θυσία\" strongs=\"02378\">θυσίαν</w> <w pos=\"V-\" morph=\"-PAPASF-\" lemma=\"ζάω\" strongs=\"02198\">ζῶσαν</w> <w pos=\"A-\" morph=\"----ASF-\" lemma=\"ἅγιος\" strongs=\"00040\">ἁγίαν</w> ⸂<w pos=\"A-\" morph=\"----ASF-\" lemma=\"εὐάρεστος\" strongs=\"02101\">εὐάρεστον</w> <w pos=\"RA\" morph=\"----DSM-\" lemma=\"ὁ\" strongs=\"03588\">τῷ</w> <w pos=\"N-\" morph=\"----DSM-\" lemma=\"θεός\" strongs=\"02316\">θεῷ</w>⸃, <w pos=\"RA\" morph=\"----ASF-\" lemma=\"ὁ\" strongs=\"03588\">τὴν</w> <w pos=\"A-\" morph=\"----ASF-\" lemma=\"λογικός\" strongs=\"03050\">λογικὴν</w> <w pos=\"N-\" morph=\"----ASF-\" lemma=\"λατρεία\" strongs=\"02999\">λατρείαν</w> <w pos=\"RP\" morph=\"----GP--\" lemma=\"σύ\" strongs=\"04771\">ὑμῶν</w>·\\n</verse>'"
      ]
     },
     "execution_count": 58,
     "metadata": {},
     "output_type": "execute_result"
    }
   ],
   "source": [
    "vs.vs"
   ]
  },
  {
   "cell_type": "code",
   "execution_count": 2,
   "id": "f2debb27",
   "metadata": {},
   "outputs": [],
   "source": [
    "\n",
    "# assert vs.get_txt_vs() == '1 Παῦλος δοῦλος ⸂Χριστοῦ Ἰησοῦ⸃, κλητὸς ἀπόστολος, ἀφωρισμένος εἰς εὐαγγέλιον θεοῦ'"
   ]
  },
  {
   "cell_type": "code",
   "execution_count": 59,
   "id": "5b7c718d",
   "metadata": {},
   "outputs": [
    {
     "ename": "AttributeError",
     "evalue": "'xml.etree.ElementTree.Element' object has no attribute 'lemma'",
     "output_type": "error",
     "traceback": [
      "\u001b[0;31m---------------------------------------------------------------------------\u001b[0m",
      "\u001b[0;31mAttributeError\u001b[0m                            Traceback (most recent call last)",
      "Cell \u001b[0;32mIn[59], line 1\u001b[0m\n\u001b[0;32m----> 1\u001b[0m vs_gg_xml \u001b[38;5;241m=\u001b[39m [v\u001b[38;5;241m.\u001b[39mlemma \u001b[38;5;28;01mfor\u001b[39;00m v \u001b[38;5;129;01min\u001b[39;00m ET\u001b[38;5;241m.\u001b[39mfromstring(vs\u001b[38;5;241m.\u001b[39mvs)]\n",
      "Cell \u001b[0;32mIn[59], line 1\u001b[0m, in \u001b[0;36m<listcomp>\u001b[0;34m(.0)\u001b[0m\n\u001b[0;32m----> 1\u001b[0m vs_gg_xml \u001b[38;5;241m=\u001b[39m [\u001b[43mv\u001b[49m\u001b[38;5;241;43m.\u001b[39;49m\u001b[43mlemma\u001b[49m \u001b[38;5;28;01mfor\u001b[39;00m v \u001b[38;5;129;01min\u001b[39;00m ET\u001b[38;5;241m.\u001b[39mfromstring(vs\u001b[38;5;241m.\u001b[39mvs)]\n",
      "\u001b[0;31mAttributeError\u001b[0m: 'xml.etree.ElementTree.Element' object has no attribute 'lemma'"
     ]
    }
   ],
   "source": [
    "vs_gg_xml = [v.lemma for v in ET.fromstring(vs.vs)]"
   ]
  },
  {
   "cell_type": "code",
   "execution_count": 50,
   "id": "ff5ea50f",
   "metadata": {},
   "outputs": [
    {
     "data": {
      "text/plain": [
       "['Παρακαλῶ',\n",
       " 'οὖν',\n",
       " 'ὑμᾶς',\n",
       " 'ἀδελφοί',\n",
       " 'διὰ',\n",
       " 'τῶν',\n",
       " 'οἰκτιρμῶν',\n",
       " 'τοῦ',\n",
       " 'θεοῦ',\n",
       " 'παραστῆσαι',\n",
       " 'τὰ',\n",
       " 'σώματα',\n",
       " 'ὑμῶν',\n",
       " 'θυσίαν',\n",
       " 'ζῶσαν',\n",
       " 'ἁγίαν',\n",
       " 'εὐάρεστον',\n",
       " 'τῷ',\n",
       " 'θεῷ',\n",
       " 'τὴν',\n",
       " 'λογικὴν',\n",
       " 'λατρείαν',\n",
       " 'ὑμῶν']"
      ]
     },
     "execution_count": 50,
     "metadata": {},
     "output_type": "execute_result"
    }
   ],
   "source": [
    "vs_gg_xml"
   ]
  },
  {
   "cell_type": "code",
   "execution_count": 10,
   "id": "ff2924c1",
   "metadata": {},
   "outputs": [],
   "source": [
    "ml = [(54, 1, 1), (55, 1, 1), (56, 1, 1)]"
   ]
  },
  {
   "cell_type": "code",
   "execution_count": 11,
   "id": "0a5efa5e",
   "metadata": {},
   "outputs": [
    {
     "name": "stdout",
     "output_type": "stream",
     "text": [
      "54 1 1\n",
      "55 1 1\n",
      "56 1 1\n"
     ]
    }
   ],
   "source": [
    "for id_livro, nr_cap, nr_vs in ml:\n",
    "    print(id_livro, nr_cap, nr_vs)"
   ]
  },
  {
   "cell_type": "code",
   "execution_count": 1,
   "id": "d2aae8b7",
   "metadata": {},
   "outputs": [],
   "source": [
    "from src.VersoGg import *"
   ]
  },
  {
   "cell_type": "code",
   "execution_count": 18,
   "id": "ebf4b874",
   "metadata": {},
   "outputs": [
    {
     "ename": "KeyError",
     "evalue": "54",
     "output_type": "error",
     "traceback": [
      "\u001b[0;31m---------------------------------------------------------------------------\u001b[0m",
      "\u001b[0;31mKeyError\u001b[0m                                  Traceback (most recent call last)",
      "Cell \u001b[0;32mIn[18], line 4\u001b[0m\n\u001b[1;32m      2\u001b[0m lvs \u001b[38;5;241m=\u001b[39m \u001b[38;5;28mlist\u001b[39m()\n\u001b[1;32m      3\u001b[0m \u001b[38;5;28;01mfor\u001b[39;00m id_livro, nr_cap, nr_vs \u001b[38;5;129;01min\u001b[39;00m ml:\n\u001b[0;32m----> 4\u001b[0m     lvs\u001b[38;5;241m.\u001b[39mappend(\u001b[43mVers_gg\u001b[49m\u001b[43m(\u001b[49m\u001b[43mid_livro\u001b[49m\u001b[43m,\u001b[49m\u001b[43m \u001b[49m\u001b[43mnr_cap\u001b[49m\u001b[43m,\u001b[49m\u001b[43m \u001b[49m\u001b[43mnr_vs\u001b[49m\u001b[43m)\u001b[49m)\n",
      "File \u001b[0;32m~/Software/almeida-semantica/src/vers_gg.py:7\u001b[0m, in \u001b[0;36mVers_gg.__init__\u001b[0;34m(self, nm_livro, nr_cap, nr_vs)\u001b[0m\n\u001b[1;32m      6\u001b[0m \u001b[38;5;28;01mdef\u001b[39;00m \u001b[38;5;21m__init__\u001b[39m(\u001b[38;5;28mself\u001b[39m, id_livro, nr_cap, nr_vs):\n\u001b[0;32m----> 7\u001b[0m     \u001b[38;5;28;01mif\u001b[39;00m \u001b[38;5;28mstr\u001b[39m(id_livro)\u001b[38;5;241m.\u001b[39misdigit():\n\u001b[1;32m      8\u001b[0m         \u001b[38;5;28mself\u001b[39m\u001b[38;5;241m.\u001b[39mlivro\u001b[38;5;241m=\u001b[39mid_livro\n\u001b[1;32m      9\u001b[0m     \u001b[38;5;28;01melse\u001b[39;00m:\n",
      "File \u001b[0;32m/opt/homebrew/Cellar/python@3.11/3.11.9/Frameworks/Python.framework/Versions/3.11/lib/python3.11/enum.py:792\u001b[0m, in \u001b[0;36mEnumType.__getitem__\u001b[0;34m(cls, name)\u001b[0m\n\u001b[1;32m    788\u001b[0m \u001b[38;5;28;01mdef\u001b[39;00m \u001b[38;5;21m__getitem__\u001b[39m(\u001b[38;5;28mcls\u001b[39m, name):\n\u001b[1;32m    789\u001b[0m \u001b[38;5;250m    \u001b[39m\u001b[38;5;124;03m\"\"\"\u001b[39;00m\n\u001b[1;32m    790\u001b[0m \u001b[38;5;124;03m    Return the member matching `name`.\u001b[39;00m\n\u001b[1;32m    791\u001b[0m \u001b[38;5;124;03m    \"\"\"\u001b[39;00m\n\u001b[0;32m--> 792\u001b[0m     \u001b[38;5;28;01mreturn\u001b[39;00m \u001b[38;5;28;43mcls\u001b[39;49m\u001b[38;5;241;43m.\u001b[39;49m\u001b[43m_member_map_\u001b[49m\u001b[43m[\u001b[49m\u001b[43mname\u001b[49m\u001b[43m]\u001b[49m\n",
      "\u001b[0;31mKeyError\u001b[0m: 54"
     ]
    }
   ],
   "source": [
    "lvs = list()\n",
    "for id_livro, nr_cap, nr_vs in ml:\n",
    "    lvs.append(Vers_gg(id_livro, nr_cap, nr_vs))"
   ]
  },
  {
   "cell_type": "code",
   "execution_count": 3,
   "id": "1784e71d",
   "metadata": {},
   "outputs": [
    {
     "data": {
      "text/plain": [
       "'<verse num=\"1\">\\n<w pos=\"N-\" morph=\"----NSM-\" lemma=\"Παῦλος\" strongs=\"03972\">Παῦλος</w> <w pos=\"N-\" morph=\"----NSM-\" lemma=\"ἀπόστολος\" strongs=\"00652\">ἀπόστολος</w> ⸂<w pos=\"N-\" morph=\"----GSM-\" lemma=\"Χριστός\" strongs=\"05547\">Χριστοῦ</w> <w pos=\"N-\" morph=\"----GSM-\" lemma=\"Ἰησοῦς\" strongs=\"02424\">Ἰησοῦ</w>⸃ <w pos=\"P-\" morph=\"--------\" lemma=\"κατά\" strongs=\"02596\">κατ’</w> <w pos=\"N-\" morph=\"----ASF-\" lemma=\"ἐπιταγή\" strongs=\"02003\">ἐπιταγὴν</w> <w pos=\"N-\" morph=\"----GSM-\" lemma=\"θεός\" strongs=\"02316\">θεοῦ</w> <w pos=\"N-\" morph=\"----GSM-\" lemma=\"σωτήρ\" strongs=\"04990\">σωτῆρος</w> <w pos=\"RP\" morph=\"----GP--\" lemma=\"ἐγώ\" strongs=\"01473\">ἡμῶν</w> <w pos=\"C-\" morph=\"--------\" lemma=\"καί\" strongs=\"02532\">καὶ</w> ⸂<w pos=\"N-\" morph=\"----GSM-\" lemma=\"Χριστός\" strongs=\"05547\">Χριστοῦ</w> <w pos=\"N-\" morph=\"----GSM-\" lemma=\"Ἰησοῦς\" strongs=\"02424\">Ἰησοῦ</w>⸃ <w pos=\"RA\" morph=\"----GSF-\" lemma=\"ὁ\" strongs=\"03588\">τῆς</w> <w pos=\"N-\" morph=\"----GSF-\" lemma=\"ἐλπίς\" strongs=\"01680\">ἐλπίδος</w> <w pos=\"RP\" morph=\"----GP--\" lemma=\"ἐγώ\" strongs=\"01473\">ἡμῶν</w>\\n</verse>'"
      ]
     },
     "execution_count": 3,
     "metadata": {},
     "output_type": "execute_result"
    }
   ],
   "source": [
    "Vers_gg(54, 1, 1).vs"
   ]
  },
  {
   "cell_type": "code",
   "execution_count": 51,
   "id": "d76908cb",
   "metadata": {},
   "outputs": [],
   "source": [
    "from src.PalavraGg import *"
   ]
  },
  {
   "cell_type": "code",
   "execution_count": 52,
   "id": "c7ae807b",
   "metadata": {},
   "outputs": [
    {
     "ename": "NameError",
     "evalue": "name 'conexao' is not defined",
     "output_type": "error",
     "traceback": [
      "\u001b[0;31m---------------------------------------------------------------------------\u001b[0m",
      "\u001b[0;31mNameError\u001b[0m                                 Traceback (most recent call last)",
      "Cell \u001b[0;32mIn[52], line 1\u001b[0m\n\u001b[0;32m----> 1\u001b[0m \u001b[43mPalavraGg\u001b[49m\u001b[43m(\u001b[49m\u001b[38;5;124;43m'\u001b[39;49m\u001b[38;5;124;43mἀδελφός\u001b[39;49m\u001b[38;5;124;43m'\u001b[39;49m\u001b[43m)\u001b[49m\u001b[38;5;241m.\u001b[39mocorrencias_lxx\n",
      "File \u001b[0;32m~/Software/almeida-semantica/src/PalavraGg.py:7\u001b[0m, in \u001b[0;36mPalavraGg.__init__\u001b[0;34m(self, palavra)\u001b[0m\n\u001b[1;32m      5\u001b[0m \u001b[38;5;28;01mdef\u001b[39;00m \u001b[38;5;21m__init__\u001b[39m(\u001b[38;5;28mself\u001b[39m, palavra):\n\u001b[1;32m      6\u001b[0m     \u001b[38;5;28mself\u001b[39m\u001b[38;5;241m.\u001b[39mocorrencia \u001b[38;5;241m=\u001b[39m palavra\n\u001b[0;32m----> 7\u001b[0m     \u001b[38;5;28mself\u001b[39m\u001b[38;5;241m.\u001b[39mocorrencias \u001b[38;5;241m=\u001b[39m \u001b[38;5;28;43mself\u001b[39;49m\u001b[38;5;241;43m.\u001b[39;49m\u001b[43mset_ocorrencias\u001b[49m\u001b[43m(\u001b[49m\u001b[43m)\u001b[49m\n\u001b[1;32m      8\u001b[0m     \u001b[38;5;28mself\u001b[39m\u001b[38;5;241m.\u001b[39mocorrencias_lxx \u001b[38;5;241m=\u001b[39m \u001b[38;5;28mself\u001b[39m\u001b[38;5;241m.\u001b[39mset_ocorrencias_lxx()\n\u001b[1;32m      9\u001b[0m     \u001b[38;5;66;03m# self.strongs = self.set_strongs()\u001b[39;00m\n",
      "File \u001b[0;32m~/Software/almeida-semantica/src/PalavraGg.py:23\u001b[0m, in \u001b[0;36mPalavraGg.set_ocorrencias\u001b[0;34m(self)\u001b[0m\n\u001b[1;32m     20\u001b[0m sql \u001b[38;5;241m=\u001b[39m \u001b[38;5;124m\"\u001b[39m\u001b[38;5;124mSELECT nr_sq_livro, chapter, verse FROM bible WHERE content like \u001b[39m\u001b[38;5;124m'\u001b[39m\u001b[38;5;124m%\u001b[39m\u001b[38;5;132;01m{}\u001b[39;00m\u001b[38;5;124m%\u001b[39m\u001b[38;5;124m'\u001b[39m\u001b[38;5;124m\"\u001b[39m\u001b[38;5;241m.\u001b[39mformat(\u001b[38;5;28mself\u001b[39m\u001b[38;5;241m.\u001b[39mocorrencia)\n\u001b[1;32m     21\u001b[0m sbl \u001b[38;5;241m=\u001b[39m \u001b[38;5;124m'\u001b[39m\u001b[38;5;124m/Users/davison/Software/almeida-semantica/db/sbl.db\u001b[39m\u001b[38;5;124m'\u001b[39m\n\u001b[0;32m---> 23\u001b[0m cursor \u001b[38;5;241m=\u001b[39m \u001b[43mconexao\u001b[49m(sbl)\u001b[38;5;241m.\u001b[39mcursor()\n\u001b[1;32m     24\u001b[0m rs \u001b[38;5;241m=\u001b[39m cursor\u001b[38;5;241m.\u001b[39mexecute(sql)\u001b[38;5;241m.\u001b[39mfetchall()\n\u001b[1;32m     26\u001b[0m \u001b[38;5;66;03m# atributo de verso contendo lista de XML cujos filhos são atributos\u001b[39;00m\n",
      "\u001b[0;31mNameError\u001b[0m: name 'conexao' is not defined"
     ]
    }
   ],
   "source": [
    "PalavraGg('ἀδελφός').ocorrencias_lxx"
   ]
  },
  {
   "cell_type": "code",
   "execution_count": 1,
   "id": "b5b6b195",
   "metadata": {},
   "outputs": [],
   "source": [
    "from src.PalavraHb import * "
   ]
  },
  {
   "cell_type": "code",
   "execution_count": 2,
   "id": "eb87a123",
   "metadata": {},
   "outputs": [],
   "source": [
    "ocorrencias_hb = palavra_hb('הגדל').ocorrencias"
   ]
  },
  {
   "cell_type": "code",
   "execution_count": 3,
   "id": "2b72000e",
   "metadata": {},
   "outputs": [
    {
     "data": {
      "text/plain": [
       "[(179, 'Ecclesiastes', 1, 16, 8, 'H1431', 'Vhp1cs'),\n",
       " (262, 'Ecclesiastes', 2, 4, 1, 'H1431', 'Vhp1cs'),\n",
       " (53021, 'Isaiah', 9, 3, 5, 'H1431', 'Vhp2ms'),\n",
       " (187528, 'Psalms', 138, 2, 13, 'H1431', 'Vhp2ms'),\n",
       " (268798, 'I Samuel', 12, 24, 14, 'H1431', 'Vhp3ms')]"
      ]
     },
     "execution_count": 3,
     "metadata": {},
     "output_type": "execute_result"
    }
   ],
   "source": [
    "ocorrencias_hb"
   ]
  },
  {
   "cell_type": "code",
   "execution_count": 4,
   "id": "4715ed39",
   "metadata": {},
   "outputs": [],
   "source": [
    "strongs_hb = palavra_hb('הגדל').strongs"
   ]
  },
  {
   "cell_type": "code",
   "execution_count": 5,
   "id": "1e04d0b3",
   "metadata": {},
   "outputs": [
    {
     "data": {
      "text/plain": [
       "('H1431',\n",
       " 'a primitive root; properly, to twist (compare גְּדִל), i.e.; to be (causatively make) large (in various senses, as in body, mind, estate or honor, also in pride); advance, boast, bring up, exceed, excellent, be(-come, do, give, make, wax), great(-er, come to... estate, [phrase] things), grow(up), increase, lift up, magnify(-ifical), be much set by, nourish (up), pass, promote, proudly (spoken), tower.')"
      ]
     },
     "execution_count": 5,
     "metadata": {},
     "output_type": "execute_result"
    }
   ],
   "source": [
    "strongs_hb[0][0:2]"
   ]
  },
  {
   "cell_type": "code",
   "execution_count": 6,
   "id": "1ed8ba08",
   "metadata": {},
   "outputs": [],
   "source": [
    "from cltk.core.data_types import Process, Pipeline\n",
    "from cltk.tokenizers import MultilingualTokenizationProcess\n",
    "from cltk.languages.utils import get_lang\n",
    "from cltk.languages.example_texts import get_example_text\n",
    "from cltk.nlp import NLP"
   ]
  },
  {
   "cell_type": "code",
   "execution_count": null,
   "id": "70cd3ef7",
   "metadata": {},
   "outputs": [],
   "source": [
    "pipe = Pipeline(description=\"A custom Greek pipeline\", processes=[MultilingualTokenizationProcess, GreekLemmatizationProcess], language=get_lang(\"grc\"))\n",
    "nlp = NLP(language='grc', custom_pipeline=pipe, suppress_banner=True)\n",
    "nlp(get_example_text(\"grc\")).lemmata[30:40]\n",
    "# ['ἔλεγον.', 'καίτοι', 'ἀληθές', 'γε', 'ὡς', 'ἔπος', 'εἰπεῖν', 'οὐδὲν', 'εἰρήκασιν.', 'μάλιστα']"
   ]
  },
  {
   "cell_type": "code",
   "execution_count": 53,
   "id": "34192b18",
   "metadata": {},
   "outputs": [],
   "source": [
    "from importlib import reload"
   ]
  },
  {
   "cell_type": "code",
   "execution_count": 35,
   "id": "c64b76d6",
   "metadata": {},
   "outputs": [],
   "source": [
    "import src.VersoHb as vb\n",
    "reload(vb)\n",
    "from src.VersoHb import *\n",
    "texto_hb = VersoHb('GENESIS', 1, 1).texto"
   ]
  },
  {
   "cell_type": "code",
   "execution_count": 36,
   "id": "59626edd",
   "metadata": {},
   "outputs": [
    {
     "data": {
      "text/plain": [
       "''"
      ]
     },
     "execution_count": 36,
     "metadata": {},
     "output_type": "execute_result"
    }
   ],
   "source": [
    "texto_hb"
   ]
  },
  {
   "cell_type": "code",
   "execution_count": 1,
   "id": "f6814198",
   "metadata": {},
   "outputs": [],
   "source": [
    "from src.ServicoTraducao import *"
   ]
  },
  {
   "cell_type": "code",
   "execution_count": 2,
   "id": "ba33e413",
   "metadata": {},
   "outputs": [],
   "source": [
    "txt = ServicoTraducao(VersoGg('ROMANOS', 11, 36)).texto_traduzido"
   ]
  },
  {
   "cell_type": "code",
   "execution_count": 3,
   "id": "d0f83e1d",
   "metadata": {},
   "outputs": [
    {
     "data": {
      "text/plain": [
       "'Ora, chamou o Senhor a Moisés e, da tenda da revelação, lhe disse:'"
      ]
     },
     "execution_count": 3,
     "metadata": {},
     "output_type": "execute_result"
    }
   ],
   "source": [
    "txt = ServicoTraducao(VersoHb('LEVITICO', 1, 1)).texto_traduzido\n",
    "txt"
   ]
  },
  {
   "cell_type": "code",
   "execution_count": 1,
   "id": "cb66e1f3",
   "metadata": {},
   "outputs": [],
   "source": [
    "import cltk\n"
   ]
  },
  {
   "cell_type": "code",
   "execution_count": 2,
   "id": "196c9a0e",
   "metadata": {},
   "outputs": [
    {
     "ename": "ModuleNotFoundError",
     "evalue": "No module named 'cltk.corpus'",
     "output_type": "error",
     "traceback": [
      "\u001b[0;31m---------------------------------------------------------------------------\u001b[0m",
      "\u001b[0;31mModuleNotFoundError\u001b[0m                       Traceback (most recent call last)",
      "Cell \u001b[0;32mIn[2], line 1\u001b[0m\n\u001b[0;32m----> 1\u001b[0m \u001b[38;5;28;01mfrom\u001b[39;00m \u001b[38;5;21;01mcltk\u001b[39;00m\u001b[38;5;21;01m.\u001b[39;00m\u001b[38;5;21;01mcorpus\u001b[39;00m\u001b[38;5;21;01m.\u001b[39;00m\u001b[38;5;21;01mutils\u001b[39;00m\u001b[38;5;21;01m.\u001b[39;00m\u001b[38;5;21;01mimporter\u001b[39;00m \u001b[38;5;28;01mimport\u001b[39;00m CorpusImporter\n",
      "\u001b[0;31mModuleNotFoundError\u001b[0m: No module named 'cltk.corpus'"
     ]
    }
   ],
   "source": [
    "from cltk.corpora. import CorpusImporter"
   ]
  },
  {
   "cell_type": "code",
   "execution_count": null,
   "id": "f5b1473a",
   "metadata": {},
   "outputs": [],
   "source": [
    "\n",
    "from cltk.corpora import Corpus\n",
    "from cltk.tokenize import word_tokenize\n",
    "from cltk.align import Aligner\n",
    "\n",
    "# Carregar corpora paralelos\n",
    "hebrew_corpus = Corpus(\"hebrew.txt\")\n",
    "greek_corpus = Corpus(\"greek.txt\")\n",
    "portuguese_corpus = Corpus(\"portuguese.txt\")\n",
    "\n",
    "# Pré-processar corpora\n",
    "hebrew_sents = [word_tokenize(sent) for sent in hebrew_corpus.sents()]\n",
    "greek_sents = [word_tokenize(sent) for sent in greek_corpus.sents()]\n",
    "portuguese_sents = [word_tokenize(sent) for sent in portuguese_corpus.sents()]\n",
    "\n",
    "# Alinhar corpora\n",
    "aligner = Aligner(\"ibm\")\n",
    "alignments = aligner.align(hebrew_sents, greek_sents, portuguese_sents)\n",
    "\n",
    "# Treinar o modelo SMT\n",
    "trainer = SMTTrainer()\n",
    "model = trainer.train(alignments)\n",
    "\n",
    "# Avaliar o modelo\n",
    "evaluator = MTEvaluator()\n",
    "score = evaluator.evaluate(model, alignments)\n",
    "print(\"Pontuação BLEU:\", score)\n",
    "\n",
    "# Traduzir texto\n",
    "text = \"שלום עולם!\"  # Texto em hebraico\n",
    "translation = model.translate(text)\n",
    "print(\"Tradução para português:\", translation)"
   ]
  },
  {
   "cell_type": "code",
   "execution_count": 3,
   "id": "fd59fbde",
   "metadata": {},
   "outputs": [],
   "source": [
    "import pandas as pd"
   ]
  },
  {
   "cell_type": "code",
   "execution_count": 4,
   "id": "09b07840",
   "metadata": {},
   "outputs": [],
   "source": [
    "import sqlite3"
   ]
  },
  {
   "cell_type": "code",
   "execution_count": 10,
   "id": "c3e39b2b",
   "metadata": {},
   "outputs": [],
   "source": [
    "cn = sqlite3.connect('db/OSHB.db')\n",
    "df = pd.read_sql_query('SELECT * FROM Words ORDER BY nr_sq_livro', cn)"
   ]
  },
  {
   "cell_type": "code",
   "execution_count": 11,
   "id": "129811fd",
   "metadata": {},
   "outputs": [
    {
     "data": {
      "text/html": [
       "<div>\n",
       "<style scoped>\n",
       "    .dataframe tbody tr th:only-of-type {\n",
       "        vertical-align: middle;\n",
       "    }\n",
       "\n",
       "    .dataframe tbody tr th {\n",
       "        vertical-align: top;\n",
       "    }\n",
       "\n",
       "    .dataframe thead th {\n",
       "        text-align: right;\n",
       "    }\n",
       "</style>\n",
       "<table border=\"1\" class=\"dataframe\">\n",
       "  <thead>\n",
       "    <tr style=\"text-align: right;\">\n",
       "      <th></th>\n",
       "      <th>WordID</th>\n",
       "      <th>BookName</th>\n",
       "      <th>Chapter</th>\n",
       "      <th>Verse</th>\n",
       "      <th>WordIndex</th>\n",
       "      <th>Form</th>\n",
       "      <th>Lemma</th>\n",
       "      <th>Morphology</th>\n",
       "      <th>nr_sq_livro</th>\n",
       "    </tr>\n",
       "  </thead>\n",
       "  <tbody>\n",
       "    <tr>\n",
       "      <th>0</th>\n",
       "      <td>220327</td>\n",
       "      <td>Genesis</td>\n",
       "      <td>1</td>\n",
       "      <td>1</td>\n",
       "      <td>1</td>\n",
       "      <td>ב/ראשית</td>\n",
       "      <td>Hb/H7225</td>\n",
       "      <td>R/Ncfsa</td>\n",
       "      <td>1</td>\n",
       "    </tr>\n",
       "    <tr>\n",
       "      <th>1</th>\n",
       "      <td>220328</td>\n",
       "      <td>Genesis</td>\n",
       "      <td>1</td>\n",
       "      <td>1</td>\n",
       "      <td>2</td>\n",
       "      <td>ברא</td>\n",
       "      <td>H1254</td>\n",
       "      <td>Vqp3ms</td>\n",
       "      <td>1</td>\n",
       "    </tr>\n",
       "    <tr>\n",
       "      <th>2</th>\n",
       "      <td>220329</td>\n",
       "      <td>Genesis</td>\n",
       "      <td>1</td>\n",
       "      <td>1</td>\n",
       "      <td>3</td>\n",
       "      <td>אלהים</td>\n",
       "      <td>H430</td>\n",
       "      <td>Ncmpa</td>\n",
       "      <td>1</td>\n",
       "    </tr>\n",
       "    <tr>\n",
       "      <th>3</th>\n",
       "      <td>220330</td>\n",
       "      <td>Genesis</td>\n",
       "      <td>1</td>\n",
       "      <td>1</td>\n",
       "      <td>4</td>\n",
       "      <td>את</td>\n",
       "      <td>H853</td>\n",
       "      <td>To</td>\n",
       "      <td>1</td>\n",
       "    </tr>\n",
       "    <tr>\n",
       "      <th>4</th>\n",
       "      <td>220331</td>\n",
       "      <td>Genesis</td>\n",
       "      <td>1</td>\n",
       "      <td>1</td>\n",
       "      <td>5</td>\n",
       "      <td>ה/שמים</td>\n",
       "      <td>Hd/H8064</td>\n",
       "      <td>Td/Ncmpa</td>\n",
       "      <td>1</td>\n",
       "    </tr>\n",
       "  </tbody>\n",
       "</table>\n",
       "</div>"
      ],
      "text/plain": [
       "   WordID BookName  Chapter  Verse  WordIndex     Form     Lemma Morphology  \\\n",
       "0  220327  Genesis        1      1          1  ב/ראשית  Hb/H7225    R/Ncfsa   \n",
       "1  220328  Genesis        1      1          2      ברא     H1254     Vqp3ms   \n",
       "2  220329  Genesis        1      1          3    אלהים      H430      Ncmpa   \n",
       "3  220330  Genesis        1      1          4       את      H853         To   \n",
       "4  220331  Genesis        1      1          5   ה/שמים  Hd/H8064   Td/Ncmpa   \n",
       "\n",
       "   nr_sq_livro  \n",
       "0            1  \n",
       "1            1  \n",
       "2            1  \n",
       "3            1  \n",
       "4            1  "
      ]
     },
     "execution_count": 11,
     "metadata": {},
     "output_type": "execute_result"
    }
   ],
   "source": [
    "df.head()"
   ]
  },
  {
   "cell_type": "code",
   "execution_count": 12,
   "id": "33c202e1",
   "metadata": {},
   "outputs": [
    {
     "data": {
      "text/plain": [
       "'ב/ראשית'"
      ]
     },
     "execution_count": 12,
     "metadata": {},
     "output_type": "execute_result"
    }
   ],
   "source": [
    "df[\"Form\"][0]"
   ]
  },
  {
   "cell_type": "code",
   "execution_count": 2,
   "id": "e9b70545",
   "metadata": {},
   "outputs": [],
   "source": [
    "from src.VersoPt import *"
   ]
  },
  {
   "cell_type": "code",
   "execution_count": 3,
   "id": "1d04947a",
   "metadata": {},
   "outputs": [],
   "source": [
    "vp = VersoPt(\"GENESIS\", 1, 1)"
   ]
  },
  {
   "cell_type": "code",
   "execution_count": 4,
   "id": "f9b2874d",
   "metadata": {},
   "outputs": [
    {
     "data": {
      "text/plain": [
       "'No princípio, criou Deus os céus e a terra.'"
      ]
     },
     "execution_count": 4,
     "metadata": {},
     "output_type": "execute_result"
    }
   ],
   "source": [
    "vp.vs"
   ]
  },
  {
   "cell_type": "code",
   "execution_count": null,
   "id": "64b18ba1",
   "metadata": {},
   "outputs": [],
   "source": []
  }
 ],
 "metadata": {
  "kernelspec": {
   "display_name": "Python 3 (ipykernel)",
   "language": "python",
   "name": "python3"
  },
  "language_info": {
   "codemirror_mode": {
    "name": "ipython",
    "version": 3
   },
   "file_extension": ".py",
   "mimetype": "text/x-python",
   "name": "python",
   "nbconvert_exporter": "python",
   "pygments_lexer": "ipython3",
   "version": "3.11.9"
  }
 },
 "nbformat": 4,
 "nbformat_minor": 5
}
