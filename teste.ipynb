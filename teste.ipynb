{
 "cells": [
  {
   "cell_type": "code",
   "execution_count": 2,
   "id": "0dbd6d33-9d05-40f0-b7f5-553bd6435adb",
   "metadata": {
    "tags": []
   },
   "outputs": [],
   "source": [
    "import sqlite3"
   ]
  },
  {
   "cell_type": "code",
   "execution_count": 3,
   "id": "5155f316-c91f-4a53-b8f7-7320c65f3735",
   "metadata": {
    "tags": []
   },
   "outputs": [],
   "source": [
    "pt_ara = 'ARA.sqlite'"
   ]
  },
  {
   "cell_type": "code",
   "execution_count": 4,
   "id": "6113d9f5-5f9a-40e4-9068-fdce12be304d",
   "metadata": {
    "tags": []
   },
   "outputs": [],
   "source": [
    "def ultimo_vs(nm_livro, cap):\n",
    "    with open('nr_vs_por_livro_cap.sql') as f:\n",
    "        sql = f.read()\n",
    "    with sqlite3.connect(pt_ara) as cnx:\n",
    "        cursor = cnx.cursor()\n",
    "        rs = cursor.execute(sql.format(nm_livro, cap)).fetchall()\n",
    "    return rs[0][0]"
   ]
  },
  {
   "cell_type": "code",
   "execution_count": 5,
   "id": "7332712f-8c6c-435c-9849-1f6777048bca",
   "metadata": {
    "tags": []
   },
   "outputs": [],
   "source": [
    "def txt_intervalo(nm_livro, cap_ini, cap_fim, vs_ini, vs_fim):\n",
    "    with open('intervalo_vs.sql') as f:\n",
    "        sql = f.read()\n",
    "    with sqlite3.connect(pt_ara) as cnx:\n",
    "        cursor = cnx.cursor()\n",
    "        rs = cursor.execute(sql.format(nm_livro, cap_ini, cap_fim, vs_ini, vs_fim)).fetchall()\n",
    "    return rs"
   ]
  },
  {
   "cell_type": "code",
   "execution_count": 6,
   "id": "054ed6ff-53a8-40bb-9fce-45e16e073d9d",
   "metadata": {
    "tags": []
   },
   "outputs": [],
   "source": [
    "livro = 'Eclesiastes'"
   ]
  },
  {
   "cell_type": "code",
   "execution_count": 7,
   "id": "8a3cd2ff-9c3b-4a9f-a366-b5634b2e248b",
   "metadata": {
    "tags": []
   },
   "outputs": [],
   "source": [
    "cap_ini = 1"
   ]
  },
  {
   "cell_type": "code",
   "execution_count": 8,
   "id": "82e038a0",
   "metadata": {},
   "outputs": [],
   "source": [
    "cap_fim = 1"
   ]
  },
  {
   "cell_type": "code",
   "execution_count": null,
   "id": "6571b789-2ac7-470e-ba24-102c9f6a2e90",
   "metadata": {
    "tags": []
   },
   "outputs": [],
   "source": [
    "lista_rs = txt_intervalo(livro, cap_ini, cap_fim, 1, ultimo_vs(livro, cap_fim))"
   ]
  },
  {
   "cell_type": "code",
   "execution_count": null,
   "id": "dc1ad7e0",
   "metadata": {},
   "outputs": [],
   "source": [
    "lista_rs = txt_intervalo(livro, cap_ini, cap_fim, 9, 13)"
   ]
  },
  {
   "cell_type": "code",
   "execution_count": null,
   "id": "5608a12f-86a9-404d-af26-38e881924008",
   "metadata": {
    "tags": []
   },
   "outputs": [],
   "source": [
    "lista_rs"
   ]
  },
  {
   "cell_type": "code",
   "execution_count": 12,
   "id": "bb8e94ec-8fea-462e-be12-18a5f2814d6b",
   "metadata": {
    "tags": []
   },
   "outputs": [],
   "source": [
    "txt = ''"
   ]
  },
  {
   "cell_type": "code",
   "execution_count": null,
   "id": "a1c99c35-ac5f-4a15-8a00-bc25ed70ab3e",
   "metadata": {
    "tags": []
   },
   "outputs": [],
   "source": [
    "for i in lista_rs:\n",
    "    txt += str(i[0]) + ' ' + i[1].strip() + ' '"
   ]
  },
  {
   "cell_type": "code",
   "execution_count": null,
   "id": "7dcbe635-df5a-4c1a-9fb2-f37e54191981",
   "metadata": {
    "tags": []
   },
   "outputs": [],
   "source": [
    "txt"
   ]
  },
  {
   "cell_type": "code",
   "execution_count": 15,
   "id": "ed881d54-4cf2-4331-a700-eab74d69ab83",
   "metadata": {},
   "outputs": [],
   "source": [
    "hb_at = 'OSHB.db'"
   ]
  },
  {
   "cell_type": "code",
   "execution_count": 16,
   "id": "63b481fa",
   "metadata": {},
   "outputs": [],
   "source": [
    "palavra_hb = 'דברי'"
   ]
  },
  {
   "cell_type": "code",
   "execution_count": 17,
   "id": "15efcf40",
   "metadata": {},
   "outputs": [],
   "source": [
    "def encontrar_palavra_hb_at(palavra_hb):\n",
    "    with open('hb_word.sql') as f:\n",
    "        sql = f.read()\n",
    "\n",
    "    with sqlite3.connect(hb_at) as cnx:\n",
    "        cursor = cnx.cursor()\n",
    "        rs = cursor.execute(sql.format(palavra_hb)).fetchall()\n",
    "    return rs\n",
    "    "
   ]
  },
  {
   "cell_type": "code",
   "execution_count": null,
   "id": "2ea40e1b",
   "metadata": {},
   "outputs": [],
   "source": [
    "encontrar_palavra_hb_at(palavra_hb)"
   ]
  },
  {
   "cell_type": "code",
   "execution_count": 19,
   "id": "1cc2614b",
   "metadata": {},
   "outputs": [],
   "source": [
    "lxx = 'db/lxx.db'"
   ]
  },
  {
   "cell_type": "code",
   "execution_count": 20,
   "id": "1a6a68e3",
   "metadata": {},
   "outputs": [],
   "source": [
    "palavra_gg = 'λόγος'"
   ]
  },
  {
   "cell_type": "code",
   "execution_count": 21,
   "id": "0fa9af22",
   "metadata": {},
   "outputs": [],
   "source": [
    "def encontrar_palavra_gg_at(palavra_gg):\n",
    "    with open('db/ot_gk_word.sql') as f:\n",
    "        sql = f.read()\n",
    "\n",
    "    cursor = conexao(lxx).cursor()\n",
    "    rs = cursor.execute(sql.format(palavra_gg)).fetchall()\n",
    "    return rs"
   ]
  },
  {
   "cell_type": "code",
   "execution_count": null,
   "id": "d0e2e858",
   "metadata": {},
   "outputs": [],
   "source": [
    "rs = encontrar_palavra_gg_at(palavra_gg)"
   ]
  },
  {
   "cell_type": "code",
   "execution_count": null,
   "id": "7593819f",
   "metadata": {},
   "outputs": [],
   "source": [
    "len(rs)"
   ]
  },
  {
   "cell_type": "code",
   "execution_count": null,
   "id": "16d7c3e4",
   "metadata": {},
   "outputs": [],
   "source": [
    "from VersoGg()"
   ]
  },
  {
   "cell_type": "code",
   "execution_count": 4,
   "id": "59d40585",
   "metadata": {},
   "outputs": [],
   "source": [
    "def retornar_texto_vs_hb(livro, cap, verso):\n",
    "    sql ='SELECT Verse, Form FROM Words WHERE BookName like \"{}\" and Chapter = {} and Verse = {}'.format(livro, cap, verso)\n",
    "    with sqlite3.connect(hb_at) as cnx:\n",
    "        cursor = cnx.cursor()\n",
    "        rs = cursor.execute(sql).fetchall()\n",
    "        nr_versiculo = rs[0][0]\n",
    "        palavras_vs_hb = ''.join([p[1].replace('/', '') + ' ' for p in rs])\n",
    "    return (nr_versiculo, palavras_vs_hb)"
   ]
  },
  {
   "cell_type": "code",
   "execution_count": null,
   "id": "771135bf",
   "metadata": {},
   "outputs": [],
   "source": [
    "texto_vs_hb = retornar_texto_vs_hb('Genesis', 2, 1)\n",
    "print(texto_vs_hb)"
   ]
  },
  {
   "cell_type": "code",
   "execution_count": 12,
   "id": "9ef2e604",
   "metadata": {},
   "outputs": [],
   "source": [
    "def retornar_txt_cap_hb(livro, cap):\n",
    "    sql = 'select max(Verse) from Words where BookName like \"{}\" and Chapter = {}'.format(livro, cap)\n",
    "    with sqlite3.connect(hb_at) as cnx:\n",
    "        cursor = cnx.cursor()\n",
    "        rs = cursor.execute(sql).fetchone()\n",
    "        txt_cap_hb = []\n",
    "        for vs in range(1, rs[0]+1):\n",
    "            txt_cap_hb.append(retornar_texto_vs_hb(livro, cap, vs))\n",
    "    return (cap, txt_cap_hb)"
   ]
  },
  {
   "cell_type": "code",
   "execution_count": null,
   "id": "bdd4184c",
   "metadata": {},
   "outputs": [],
   "source": [
    "[vs[1] for vs in retornar_txt_cap_hb('Genesis', 1)[1]]"
   ]
  },
  {
   "cell_type": "code",
   "execution_count": 17,
   "id": "e2b1c396",
   "metadata": {},
   "outputs": [],
   "source": [
    "def retornar_txt_livro_hb(livro):\n",
    "    sql = 'select max(Chapter) from Words where BookName like \"{}\"'.format(livro)\n",
    "    with sqlite3.connect(hb_at) as cnx:\n",
    "        cursor = cnx.cursor()\n",
    "        rs = cursor.execute(sql).fetchone()\n",
    "        txt_livro_hb = []\n",
    "        for cap in range(1, rs[0]+1):\n",
    "            txt_livro_hb.append(retornar_txt_cap_hb(livro, cap))\n",
    "    return txt_livro_hb\n",
    "        \n"
   ]
  },
  {
   "cell_type": "code",
   "execution_count": 27,
   "id": "f5fc6788",
   "metadata": {},
   "outputs": [],
   "source": [
    "texto_hb = retornar_texto_vs_hb('Genesis', 1, 5)"
   ]
  },
  {
   "cell_type": "code",
   "execution_count": null,
   "id": "925f5d79",
   "metadata": {},
   "outputs": [],
   "source": [
    "print(texto_hb)"
   ]
  },
  {
   "cell_type": "code",
   "execution_count": 12,
   "id": "7f1f27fb",
   "metadata": {},
   "outputs": [],
   "source": [
    "import os\n",
    "import re\n",
    "from pathlib import Path\n",
    "home = str(Path.home())"
   ]
  },
  {
   "cell_type": "code",
   "execution_count": 13,
   "id": "a7eed03d",
   "metadata": {},
   "outputs": [],
   "source": [
    "pasta_txt_gnt = home + '/Software/almeida-semantica/sblgnt'"
   ]
  },
  {
   "cell_type": "code",
   "execution_count": null,
   "id": "4b5ce37b",
   "metadata": {},
   "outputs": [],
   "source": [
    "arqs"
   ]
  },
  {
   "cell_type": "code",
   "execution_count": 14,
   "id": "dae03035",
   "metadata": {},
   "outputs": [],
   "source": [
    "arqs = [arq for arq in os.listdir(pasta_txt_gnt) if re.match(r'^([\\s\\d]+).*txt$', arq)]"
   ]
  },
  {
   "cell_type": "code",
   "execution_count": null,
   "id": "400f126e",
   "metadata": {},
   "outputs": [],
   "source": [
    "arqs"
   ]
  },
  {
   "cell_type": "code",
   "execution_count": 11,
   "id": "42a2e9e5",
   "metadata": {},
   "outputs": [],
   "source": [
    "from enum import Enum"
   ]
  },
  {
   "cell_type": "code",
   "execution_count": 9,
   "id": "1febccaf",
   "metadata": {},
   "outputs": [],
   "source": [
    "def retornar_livro_nt(livro):\n",
    "    pasta_txt_gnt = home + '/Software/almeida-semantica/sblgnt'\n",
    "    arqs = [arq for arq in os.listdir(pasta_txt_gnt) if re.match(r'^([\\s\\d]+).*txt$', arq)]\n",
    "    arqs.sort()\n",
    "    livros_nt = ['Mateus', 'Marcos', 'Lucas', 'João', 'Atos', 'Romanos', '1Coríntios', '2Coríntios', 'Gálatas', 'Efésios', 'Filipenses', 'Colossenses', '1Tessalonicenses', '2Tessalonicenses', '1Timóteo', '2Timóteo', 'Tito', 'Filemom', 'Hebreus', 'Tiago', '1Pedro', '2Pedro', '1João', '2João', '3João', 'Judas', 'Apocalipse']\n",
    "    \n",
    "    for idx, value in enumerate(livros_nt):\n",
    "        if livro==value:\n",
    "            arq = arqs[idx]\n",
    "\n",
    "    return os.path.join(pasta_txt_gnt, arq)\n"
   ]
  },
  {
   "cell_type": "code",
   "execution_count": null,
   "id": "e381992e",
   "metadata": {},
   "outputs": [],
   "source": [
    "len(livros_nt)"
   ]
  },
  {
   "cell_type": "code",
   "execution_count": null,
   "id": "a53c6bfd",
   "metadata": {},
   "outputs": [],
   "source": [
    "retornar_livro_nt('1Coríntios')"
   ]
  },
  {
   "cell_type": "code",
   "execution_count": 16,
   "id": "9b51472c",
   "metadata": {},
   "outputs": [],
   "source": [
    "with open(retornar_livro_nt('1Coríntios'), 'r') as f:\n",
    "    # palavras = ''\n",
    "    cap=1\n",
    "    verso=18\n",
    "    str_verso=str(cap).zfill(2)+str(verso).zfill(2)\n",
    "    palavras = [linha.split()[3] for linha in f.readlines() if linha.split()[0][2:6]==str_verso] \n",
    "    # for linha in f.readlines():\n",
    "    #     if int(linha.split()[0][2:4])==1 and int(linha.split()[0][4:6]==18):\n",
    "    #         palavras += ''.join(linha.split()[3]) + ' '\n",
    "    #         print(linha.split()[3])\n",
    "\n",
    "    # linhas = [l.split()[3] for l in f.readlines() if int(f.readline().split()[0][2:4])==1 and int(f.readline().split()[0][4:6])==18]\n",
    "    # texto += ''.join(f.readline().split()[3])"
   ]
  },
  {
   "cell_type": "code",
   "execution_count": 3,
   "id": "43f9aaed",
   "metadata": {},
   "outputs": [],
   "source": [
    "import pandas as pd"
   ]
  },
  {
   "cell_type": "code",
   "execution_count": null,
   "id": "7a3fb7ab",
   "metadata": {},
   "outputs": [],
   "source": [
    "df_lxx = pd.read_csv('lxxm_utf8_v4.csv', dtype={'strongs': 'Int32'})"
   ]
  },
  {
   "cell_type": "code",
   "execution_count": null,
   "id": "64728e70",
   "metadata": {},
   "outputs": [],
   "source": [
    "df_lxx.head()"
   ]
  },
  {
   "cell_type": "code",
   "execution_count": null,
   "id": "6be46ebf",
   "metadata": {},
   "outputs": [],
   "source": [
    "%pip install pandasql"
   ]
  },
  {
   "cell_type": "code",
   "execution_count": null,
   "id": "1f5de2e4",
   "metadata": {},
   "outputs": [],
   "source": [
    "%pip install greek-stemmer-pos"
   ]
  },
  {
   "cell_type": "code",
   "execution_count": 137,
   "id": "e22309d0",
   "metadata": {},
   "outputs": [],
   "source": [
    "from greek_stemmer import stemmer"
   ]
  },
  {
   "cell_type": "code",
   "execution_count": 140,
   "id": "12fbf1c3",
   "metadata": {},
   "outputs": [],
   "source": [
    "stem_gk_word = stemmer.stem_word('συσχηματίζεσθε', 'MD')"
   ]
  },
  {
   "cell_type": "code",
   "execution_count": null,
   "id": "5e30bf39",
   "metadata": {},
   "outputs": [],
   "source": [
    "print(stem_gk_word)"
   ]
  },
  {
   "cell_type": "code",
   "execution_count": 6,
   "id": "2fa89bd4",
   "metadata": {},
   "outputs": [],
   "source": [
    "import koinenlp as knlp"
   ]
  },
  {
   "cell_type": "code",
   "execution_count": 1,
   "id": "93e619cb",
   "metadata": {},
   "outputs": [],
   "source": [
    "from pandasql import sqldf"
   ]
  },
  {
   "cell_type": "code",
   "execution_count": null,
   "id": "78d8f51f",
   "metadata": {},
   "outputs": [],
   "source": [
    "pgn = knlp.normalize('συσχηματίζεσθε')\n",
    "print(pgn)\n",
    "query_ocorrencias_pgn_lxx = \"\"\"\n",
    "SELECT \n",
    "    book, \n",
    "    chapter, \n",
    "    verse\n",
    "    , strongs\n",
    "FROM \n",
    "    df_lxx\n",
    "WHERE \n",
    "    normalized_word like '{}%'\n",
    "\"\"\".format(pgn)\n",
    "df_ocorrencias_pgn = sqldf(query_ocorrencias_pgn_lxx)\n",
    "len(df_ocorrencias_pgn)"
   ]
  },
  {
   "cell_type": "code",
   "execution_count": 143,
   "id": "3c17c0fd",
   "metadata": {},
   "outputs": [],
   "source": [
    "# ocorrencias_gg_lxx = [o for i, o in enumerate(df_lxx[\"strongs\"]) if df_lxx[\"strongs\"][i]==2101]\n",
    "# [child.text + \" \" if i!=len(verso) else child.text + child.tail for i, child in enumerate(verso)]"
   ]
  },
  {
   "cell_type": "code",
   "execution_count": null,
   "id": "fb356bd8",
   "metadata": {},
   "outputs": [],
   "source": [
    "encontrar_def_strong_por_cod('G', 3339)"
   ]
  },
  {
   "cell_type": "code",
   "execution_count": null,
   "id": "a2e01499",
   "metadata": {},
   "outputs": [],
   "source": [
    "sg = 3326\n",
    "# -\n",
    "query_ocorrencias_strongg_lxx = \"\"\"\n",
    "SELECT \n",
    "    book, \n",
    "    chapter, \n",
    "    verse\n",
    "    , normalized_word\n",
    "    , strongs\n",
    "FROM \n",
    "    df_lxx\n",
    "WHERE \n",
    "    strongs like '{}'\n",
    "\"\"\".format(sg)\n",
    "df_ocorrencias_strong = sqldf(query_ocorrencias_strongg_lxx)\n",
    "\n",
    "df_ocorrencias_strong.head()"
   ]
  },
  {
   "cell_type": "code",
   "execution_count": null,
   "id": "bb891806",
   "metadata": {},
   "outputs": [],
   "source": [
    "len(df_ocorrencias_strong)"
   ]
  },
  {
   "cell_type": "code",
   "execution_count": null,
   "id": "38f487ed",
   "metadata": {},
   "outputs": [],
   "source": [
    "df_ocorrencias_strong.loc[[4]]"
   ]
  },
  {
   "cell_type": "code",
   "execution_count": null,
   "id": "a7b4c11b",
   "metadata": {},
   "outputs": [],
   "source": [
    "import csv"
   ]
  },
  {
   "cell_type": "code",
   "execution_count": null,
   "id": "ed754673",
   "metadata": {},
   "outputs": [],
   "source": [
    "def encontrar_ocorrencia_gg_at():\n",
    "    "
   ]
  },
  {
   "cell_type": "code",
   "execution_count": null,
   "id": "376aa15b",
   "metadata": {},
   "outputs": [],
   "source": [
    "\" \".join(palavras)"
   ]
  },
  {
   "cell_type": "code",
   "execution_count": 6,
   "id": "0391771c",
   "metadata": {},
   "outputs": [],
   "source": [
    "def retornar_txt_vs_gg(livro, cap, verso):\n",
    "    with open(retornar_livro_nt(livro), 'r') as f:\n",
    "        str_verso=str(cap).zfill(2)+str(verso).zfill(2)\n",
    "        palavras = [linha.split()[3] for linha in f.readlines() if linha.split()[0][2:6]==str_verso] \n",
    "        txt_verso = str(verso) + \" \" + \" \".join(palavras)\n",
    "    return txt_verso"
   ]
  },
  {
   "cell_type": "code",
   "execution_count": null,
   "id": "76dfd3e6",
   "metadata": {},
   "outputs": [],
   "source": [
    "print(retornar_txt_vs_gg('Romanos', 12, 1))"
   ]
  },
  {
   "cell_type": "code",
   "execution_count": 8,
   "id": "3857ebac",
   "metadata": {},
   "outputs": [],
   "source": [
    "from translate import Translator"
   ]
  },
  {
   "cell_type": "code",
   "execution_count": 20,
   "id": "47ee4e93",
   "metadata": {},
   "outputs": [],
   "source": [
    "def retornar_livros_at():\n",
    "    sql = 'select distinct BookName from Words'\n",
    "\n",
    "    try:\n",
    "        with sqlite3.connect(hb_at) as cnx:\n",
    "            cursor = cnx.cursor()\n",
    "            rs = cursor.execute(sql).fetchall()\n",
    "    except sqlite3.Error as er:\n",
    "        print(er)\n",
    "\n",
    "    return [l[0] for l in rs]"
   ]
  },
  {
   "cell_type": "code",
   "execution_count": null,
   "id": "b3f41ca0",
   "metadata": {},
   "outputs": [],
   "source": [
    "retornar_livros_at()"
   ]
  },
  {
   "cell_type": "code",
   "execution_count": 22,
   "id": "c3391c39",
   "metadata": {},
   "outputs": [],
   "source": [
    "def traduzir_caps_interv(fonte, livro, cap_ini, cap_fim):\n",
    "    livros_at = retornar_livros_at()\n",
    "    transl=Translator(from_lang=fonte, to_lang='pt')\n",
    "    if livro in livros_at:\n",
    "        texto_traduzido = ''\n",
    "        for cap in range(cap_ini, cap_fim+1):\n",
    "            nr_vs = 1\n",
    "            for verso in [vs[1] for vs in retornar_txt_cap_hb(livro, cap)[1]]:\n",
    "                texto_traduzido += str(nr_vs) + ' '\n",
    "                texto_traduzido += ''.join(transl.translate(verso) + ' ')\n",
    "                nr_vs=nr_vs+1\n",
    "            texto_traduzido += ''.join('\\n\\n' + livro + ' ' + str(cap+1) + '\\n')\n",
    "\n",
    "    return texto_traduzido\n",
    "    "
   ]
  },
  {
   "cell_type": "code",
   "execution_count": 23,
   "id": "02ca9bc8",
   "metadata": {},
   "outputs": [],
   "source": [
    "def traduzir_vs(fonte, livro, cap, verso):\n",
    "    transl=Translator(from_lang=fonte, to_lang='pt')\n",
    "    if fonte=='he':\n",
    "        livros = retornar_livros_at()\n",
    "        if livro in livros:\n",
    "            return transl.translate(retornar_texto_vs_hb(livro, cap, verso))\n",
    "    else:\n",
    "        return transl.translate(retornar_txt_vs_gg(livro, cap, verso))"
   ]
  },
  {
   "cell_type": "code",
   "execution_count": null,
   "id": "ac40ad9b",
   "metadata": {},
   "outputs": [],
   "source": [
    "traduzir_vs('el', 'II_TIMOTEO', 2, 5)"
   ]
  },
  {
   "cell_type": "code",
   "execution_count": 17,
   "id": "3b29fbec",
   "metadata": {},
   "outputs": [],
   "source": [
    "texto_hb = 'ויכלו השמים'"
   ]
  },
  {
   "cell_type": "code",
   "execution_count": 9,
   "id": "91258c05",
   "metadata": {},
   "outputs": [],
   "source": [
    "transl=Translator(from_lang='he', to_lang='pt')"
   ]
  },
  {
   "cell_type": "code",
   "execution_count": null,
   "id": "1b6346e8",
   "metadata": {},
   "outputs": [],
   "source": [
    "texto_hb = retornar_texto_vs_hb('Genesis', 2, 1)"
   ]
  },
  {
   "cell_type": "code",
   "execution_count": 18,
   "id": "17acd08c",
   "metadata": {},
   "outputs": [],
   "source": [
    "texto_traduzido = transl.translate(texto_hb)"
   ]
  },
  {
   "cell_type": "code",
   "execution_count": 8,
   "id": "bbe7c83c",
   "metadata": {},
   "outputs": [],
   "source": [
    "# texto_traduzido = traduzir_caps_interv('he', 'Genesis', 27, 37)"
   ]
  },
  {
   "cell_type": "code",
   "execution_count": null,
   "id": "7d20da82",
   "metadata": {},
   "outputs": [],
   "source": [
    "print(texto_traduzido)"
   ]
  },
  {
   "cell_type": "code",
   "execution_count": 20,
   "id": "752700ce",
   "metadata": {},
   "outputs": [],
   "source": [
    "with open('texto_traduzido', 'a') as saida:\n",
    "    saida.write(traduzir_caps_interv('he', 'Genesis', 22, 28))"
   ]
  },
  {
   "cell_type": "code",
   "execution_count": null,
   "id": "f1fece04",
   "metadata": {},
   "outputs": [],
   "source": [
    "with open('texto_traduzido', 'a') as saida:\n",
    "    saida.write(texto_traduzido)"
   ]
  },
  {
   "cell_type": "code",
   "execution_count": 25,
   "id": "9706b1b2",
   "metadata": {},
   "outputs": [],
   "source": [
    "nt = 'db/sbl.db'"
   ]
  },
  {
   "cell_type": "code",
   "execution_count": 83,
   "id": "8cd7c6b3",
   "metadata": {},
   "outputs": [],
   "source": [
    "def conexao(arq):\n",
    "    try:\n",
    "        with sqlite3.connect(arq) as con:\n",
    "            return con\n",
    "    except sqlite3.Error as er:\n",
    "        return er"
   ]
  },
  {
   "cell_type": "code",
   "execution_count": 2,
   "id": "49b51e64",
   "metadata": {},
   "outputs": [],
   "source": [
    "import xml.etree.ElementTree as ET"
   ]
  },
  {
   "cell_type": "code",
   "execution_count": 23,
   "id": "f5498d6d",
   "metadata": {},
   "outputs": [],
   "source": [
    "def txt_vs_nt(nr_livro, cap, vs):\n",
    "    sql = 'SELECT content FROM bible WHERE nr_sq_livro = {} AND chapter = {} AND verse = {}'.format(nr_livro, cap, vs)\n",
    "\n",
    "    cursor = conexao(nt).cursor()\n",
    "    rs = cursor.execute(sql).fetchone()[0]\n",
    "\n",
    "    # como faz lista enumerada com if else \n",
    "    # return str(vs) + \" \" + \"\".join([child.text + \" \" if i!=len(verso) else child.text + child.tail for i, child in enumerate(verso)])\n",
    "\n",
    "    return str(vs) + \" \" + \"\".join([child.text + child.tail for child in ET.fromstring(rs)])\n"
   ]
  },
  {
   "cell_type": "code",
   "execution_count": null,
   "id": "cc216ed6",
   "metadata": {},
   "outputs": [],
   "source": [
    "txt_vs_nt(45, 12, 2)"
   ]
  },
  {
   "cell_type": "code",
   "execution_count": 197,
   "id": "7864eee6",
   "metadata": {},
   "outputs": [],
   "source": [
    "def encontrar_def_strong_por_cod(sgl_fonte, cd_strong):\n",
    "    strongs = '/Users/davison/Software/almeida-semantica/db/strongs.sqlite'\n",
    "    sql_strong = \"SELECT number, description FROM strongs WHERE number like '{}{}'\".format(sgl_fonte, cd_strong)\n",
    "    cursor = conexao(strongs).cursor()\n",
    "    rs = cursor.execute(sql_strong).fetchone()\n",
    "    return \" \".join(rs)"
   ]
  },
  {
   "cell_type": "code",
   "execution_count": 118,
   "id": "2f3e9e22",
   "metadata": {},
   "outputs": [],
   "source": [
    "def encontrar_def_strong_por_lemma(lemma):\n",
    "    strongs = '/Users/davison/Software/almeida-semantica/db/strongs.sqlite'\n",
    "    query_strong_lemma = \"SELECT number, xlit, pronounce, description FROM strongs WHERE lemma like '%{}%'\".format(lemma)\n",
    "    cursor = conexao(strongs).cursor()\n",
    "    rs = cursor.execute(query_strong_lemma).fetchone()\n",
    "    return rs"
   ]
  },
  {
   "cell_type": "code",
   "execution_count": null,
   "id": "893da56b",
   "metadata": {},
   "outputs": [],
   "source": [
    "encontrar_def_strong_por_cod('G', 3345)"
   ]
  },
  {
   "cell_type": "code",
   "execution_count": null,
   "id": "7c3a978f",
   "metadata": {},
   "outputs": [],
   "source": [
    "knlp.normalize('λόγος')"
   ]
  },
  {
   "cell_type": "code",
   "execution_count": 119,
   "id": "9f54b100",
   "metadata": {},
   "outputs": [],
   "source": [
    "palavra_strong = encontrar_def_strong_por_lemma('θυσία')"
   ]
  },
  {
   "cell_type": "code",
   "execution_count": null,
   "id": "0568fa77",
   "metadata": {},
   "outputs": [],
   "source": [
    "print(palavra_strong)"
   ]
  },
  {
   "cell_type": "code",
   "execution_count": 57,
   "id": "66c67085",
   "metadata": {},
   "outputs": [],
   "source": [
    "from src.VersoGg import *\n",
    "vs = VersoGg('ROMANOS', 12, 1)"
   ]
  },
  {
   "cell_type": "code",
   "execution_count": null,
   "id": "63305722",
   "metadata": {},
   "outputs": [],
   "source": [
    "vs.vs"
   ]
  },
  {
   "cell_type": "code",
   "execution_count": 2,
   "id": "f2debb27",
   "metadata": {},
   "outputs": [],
   "source": [
    "\n",
    "# assert vs.get_txt_vs() == '1 Παῦλος δοῦλος ⸂Χριστοῦ Ἰησοῦ⸃, κλητὸς ἀπόστολος, ἀφωρισμένος εἰς εὐαγγέλιον θεοῦ'"
   ]
  },
  {
   "cell_type": "code",
   "execution_count": null,
   "id": "5b7c718d",
   "metadata": {},
   "outputs": [],
   "source": [
    "vs_gg_xml = [v.lemma for v in ET.fromstring(vs.vs)]"
   ]
  },
  {
   "cell_type": "code",
   "execution_count": null,
   "id": "ff5ea50f",
   "metadata": {},
   "outputs": [],
   "source": [
    "vs_gg_xml"
   ]
  },
  {
   "cell_type": "code",
   "execution_count": 10,
   "id": "ff2924c1",
   "metadata": {},
   "outputs": [],
   "source": [
    "ml = [(54, 1, 1), (55, 1, 1), (56, 1, 1)]"
   ]
  },
  {
   "cell_type": "code",
   "execution_count": null,
   "id": "0a5efa5e",
   "metadata": {},
   "outputs": [],
   "source": [
    "for id_livro, nr_cap, nr_vs in ml:\n",
    "    print(id_livro, nr_cap, nr_vs)"
   ]
  },
  {
   "cell_type": "code",
   "execution_count": 1,
   "id": "d2aae8b7",
   "metadata": {},
   "outputs": [],
   "source": [
    "from src.VersoGg import *"
   ]
  },
  {
   "cell_type": "code",
   "execution_count": null,
   "id": "ebf4b874",
   "metadata": {},
   "outputs": [],
   "source": [
    "lvs = list()\n",
    "for id_livro, nr_cap, nr_vs in ml:\n",
    "    lvs.append(Vers_gg(id_livro, nr_cap, nr_vs))"
   ]
  },
  {
   "cell_type": "code",
   "execution_count": null,
   "id": "1784e71d",
   "metadata": {},
   "outputs": [],
   "source": [
    "Vers_gg(54, 1, 1).vs"
   ]
  },
  {
   "cell_type": "code",
   "execution_count": 51,
   "id": "d76908cb",
   "metadata": {},
   "outputs": [],
   "source": [
    "from src.PalavraGg import *"
   ]
  },
  {
   "cell_type": "code",
   "execution_count": null,
   "id": "c7ae807b",
   "metadata": {},
   "outputs": [],
   "source": [
    "PalavraGg('ἀδελφός').ocorrencias_lxx"
   ]
  },
  {
   "cell_type": "code",
   "execution_count": 1,
   "id": "b5b6b195",
   "metadata": {},
   "outputs": [],
   "source": [
    "from src.PalavraHb import * "
   ]
  },
  {
   "cell_type": "code",
   "execution_count": 2,
   "id": "eb87a123",
   "metadata": {},
   "outputs": [],
   "source": [
    "ocorrencias_hb = palavra_hb('הגדל').ocorrencias"
   ]
  },
  {
   "cell_type": "code",
   "execution_count": null,
   "id": "2b72000e",
   "metadata": {},
   "outputs": [],
   "source": [
    "ocorrencias_hb"
   ]
  },
  {
   "cell_type": "code",
   "execution_count": 4,
   "id": "4715ed39",
   "metadata": {},
   "outputs": [],
   "source": [
    "strongs_hb = palavra_hb('הגדל').strongs"
   ]
  },
  {
   "cell_type": "code",
   "execution_count": null,
   "id": "1e04d0b3",
   "metadata": {},
   "outputs": [],
   "source": [
    "strongs_hb[0][0:2]"
   ]
  },
  {
   "cell_type": "code",
   "execution_count": 6,
   "id": "1ed8ba08",
   "metadata": {},
   "outputs": [],
   "source": [
    "from cltk.core.data_types import Process, Pipeline\n",
    "from cltk.tokenizers import MultilingualTokenizationProcess\n",
    "from cltk.languages.utils import get_lang\n",
    "from cltk.languages.example_texts import get_example_text\n",
    "from cltk.nlp import NLP"
   ]
  },
  {
   "cell_type": "code",
   "execution_count": null,
   "id": "70cd3ef7",
   "metadata": {},
   "outputs": [],
   "source": [
    "pipe = Pipeline(description=\"A custom Greek pipeline\", processes=[MultilingualTokenizationProcess, GreekLemmatizationProcess], language=get_lang(\"grc\"))\n",
    "nlp = NLP(language='grc', custom_pipeline=pipe, suppress_banner=True)\n",
    "nlp(get_example_text(\"grc\")).lemmata[30:40]\n",
    "# ['ἔλεγον.', 'καίτοι', 'ἀληθές', 'γε', 'ὡς', 'ἔπος', 'εἰπεῖν', 'οὐδὲν', 'εἰρήκασιν.', 'μάλιστα']"
   ]
  },
  {
   "cell_type": "code",
   "execution_count": 53,
   "id": "34192b18",
   "metadata": {},
   "outputs": [],
   "source": [
    "from importlib import reload"
   ]
  },
  {
   "cell_type": "code",
   "execution_count": 35,
   "id": "c64b76d6",
   "metadata": {},
   "outputs": [],
   "source": [
    "import src.VersoHb as vb\n",
    "reload(vb)\n",
    "from src.VersoHb import *\n",
    "texto_hb = VersoHb('GENESIS', 1, 1).texto"
   ]
  },
  {
   "cell_type": "code",
   "execution_count": null,
   "id": "59626edd",
   "metadata": {},
   "outputs": [],
   "source": [
    "texto_hb"
   ]
  },
  {
   "cell_type": "code",
   "execution_count": 1,
   "id": "f6814198",
   "metadata": {},
   "outputs": [],
   "source": [
    "from src.ServicoTraducao import *"
   ]
  },
  {
   "cell_type": "code",
   "execution_count": 2,
   "id": "ba33e413",
   "metadata": {},
   "outputs": [],
   "source": [
    "txt = ServicoTraducao(VersoGg('ROMANOS', 11, 36)).texto_traduzido"
   ]
  },
  {
   "cell_type": "code",
   "execution_count": null,
   "id": "d0f83e1d",
   "metadata": {},
   "outputs": [],
   "source": [
    "txt = ServicoTraducao(VersoHb('LEVITICO', 1, 1)).texto_traduzido\n",
    "txt"
   ]
  },
  {
   "cell_type": "code",
   "execution_count": 1,
   "id": "cb66e1f3",
   "metadata": {},
   "outputs": [],
   "source": [
    "import cltk\n"
   ]
  },
  {
   "cell_type": "code",
   "execution_count": null,
   "id": "196c9a0e",
   "metadata": {},
   "outputs": [],
   "source": [
    "from cltk.corpora. import CorpusImporter"
   ]
  },
  {
   "cell_type": "code",
   "execution_count": null,
   "id": "f5b1473a",
   "metadata": {},
   "outputs": [],
   "source": [
    "\n",
    "from cltk.corpora import Corpus\n",
    "from cltk.tokenize import word_tokenize\n",
    "from cltk.align import Aligner\n",
    "\n",
    "# Carregar corpora paralelos\n",
    "hebrew_corpus = Corpus(\"hebrew.txt\")\n",
    "greek_corpus = Corpus(\"greek.txt\")\n",
    "portuguese_corpus = Corpus(\"portuguese.txt\")\n",
    "\n",
    "# Pré-processar corpora\n",
    "hebrew_sents = [word_tokenize(sent) for sent in hebrew_corpus.sents()]\n",
    "greek_sents = [word_tokenize(sent) for sent in greek_corpus.sents()]\n",
    "portuguese_sents = [word_tokenize(sent) for sent in portuguese_corpus.sents()]\n",
    "\n",
    "# Alinhar corpora\n",
    "aligner = Aligner(\"ibm\")\n",
    "alignments = aligner.align(hebrew_sents, greek_sents, portuguese_sents)\n",
    "\n",
    "# Treinar o modelo SMT\n",
    "trainer = SMTTrainer()\n",
    "model = trainer.train(alignments)\n",
    "\n",
    "# Avaliar o modelo\n",
    "evaluator = MTEvaluator()\n",
    "score = evaluator.evaluate(model, alignments)\n",
    "print(\"Pontuação BLEU:\", score)\n",
    "\n",
    "# Traduzir texto\n",
    "text = \"שלום עולם!\"  # Texto em hebraico\n",
    "translation = model.translate(text)\n",
    "print(\"Tradução para português:\", translation)"
   ]
  },
  {
   "cell_type": "code",
   "execution_count": 3,
   "id": "fd59fbde",
   "metadata": {},
   "outputs": [],
   "source": [
    "import pandas as pd"
   ]
  },
  {
   "cell_type": "code",
   "execution_count": 4,
   "id": "09b07840",
   "metadata": {},
   "outputs": [],
   "source": [
    "import sqlite3"
   ]
  },
  {
   "cell_type": "code",
   "execution_count": 10,
   "id": "c3e39b2b",
   "metadata": {},
   "outputs": [],
   "source": [
    "cn = sqlite3.connect('db/OSHB.db')\n",
    "df = pd.read_sql_query('SELECT * FROM Words ORDER BY nr_sq_livro', cn)"
   ]
  },
  {
   "cell_type": "code",
   "execution_count": null,
   "id": "129811fd",
   "metadata": {},
   "outputs": [],
   "source": [
    "df.head()"
   ]
  },
  {
   "cell_type": "code",
   "execution_count": null,
   "id": "33c202e1",
   "metadata": {},
   "outputs": [],
   "source": [
    "df[\"Form\"][0]"
   ]
  },
  {
   "cell_type": "code",
   "execution_count": 2,
   "id": "e9b70545",
   "metadata": {},
   "outputs": [],
   "source": [
    "from src.VersoPt import *"
   ]
  },
  {
   "cell_type": "code",
   "execution_count": 3,
   "id": "1d04947a",
   "metadata": {},
   "outputs": [],
   "source": [
    "vp = VersoPt(\"GENESIS\", 1, 1)"
   ]
  },
  {
   "cell_type": "code",
   "execution_count": null,
   "id": "f9b2874d",
   "metadata": {},
   "outputs": [],
   "source": [
    "vp.vs"
   ]
  },
  {
   "cell_type": "code",
   "execution_count": null,
   "id": "64b18ba1",
   "metadata": {},
   "outputs": [],
   "source": []
  }
 ],
 "metadata": {
  "kernelspec": {
   "display_name": "almeida-semantica-EQJtyJGz",
   "language": "python",
   "name": "python3"
  },
  "language_info": {
   "codemirror_mode": {
    "name": "ipython",
    "version": 3
   },
   "file_extension": ".py",
   "mimetype": "text/x-python",
   "name": "python",
   "nbconvert_exporter": "python",
   "pygments_lexer": "ipython3",
   "version": "3.11.11"
  }
 },
 "nbformat": 4,
 "nbformat_minor": 5
}
