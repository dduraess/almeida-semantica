{
 "cells": [
  {
   "cell_type": "code",
   "execution_count": 1,
   "id": "0dbd6d33-9d05-40f0-b7f5-553bd6435adb",
   "metadata": {
    "tags": []
   },
   "outputs": [],
   "source": [
    "import sqlite3"
   ]
  },
  {
   "cell_type": "code",
   "execution_count": 2,
   "id": "5155f316-c91f-4a53-b8f7-7320c65f3735",
   "metadata": {
    "tags": []
   },
   "outputs": [],
   "source": [
    "pt_ara = 'ARA.sqlite'"
   ]
  },
  {
   "cell_type": "code",
   "execution_count": 3,
   "id": "6113d9f5-5f9a-40e4-9068-fdce12be304d",
   "metadata": {
    "tags": []
   },
   "outputs": [],
   "source": [
    "def ultimo_vs(nm_livro, cap):\n",
    "    with open('nr_vs_por_livro_cap.sql') as f:\n",
    "        sql = f.read()\n",
    "    with sqlite3.connect(pt_ara) as cnx:\n",
    "        cursor = cnx.cursor()\n",
    "        rs = cursor.execute(sql.format(nm_livro, cap)).fetchall()\n",
    "    return rs[0][0]"
   ]
  },
  {
   "cell_type": "code",
   "execution_count": 4,
   "id": "7332712f-8c6c-435c-9849-1f6777048bca",
   "metadata": {
    "tags": []
   },
   "outputs": [],
   "source": [
    "def txt_intervalo(nm_livro, cap_ini, cap_fim, vs_ini, vs_fim):\n",
    "    with open('intervalo_vs.sql') as f:\n",
    "        sql = f.read()\n",
    "    with sqlite3.connect(pt_ara) as cnx:\n",
    "        cursor = cnx.cursor()\n",
    "        rs = cursor.execute(sql.format(nm_livro, cap_ini, cap_fim, vs_ini, vs_fim)).fetchall()\n",
    "    return rs"
   ]
  },
  {
   "cell_type": "code",
   "execution_count": 5,
   "id": "054ed6ff-53a8-40bb-9fce-45e16e073d9d",
   "metadata": {
    "tags": []
   },
   "outputs": [],
   "source": [
    "livro = 'Eclesiastes'"
   ]
  },
  {
   "cell_type": "code",
   "execution_count": 6,
   "id": "8a3cd2ff-9c3b-4a9f-a366-b5634b2e248b",
   "metadata": {
    "tags": []
   },
   "outputs": [],
   "source": [
    "cap_ini = 1"
   ]
  },
  {
   "cell_type": "code",
   "execution_count": 7,
   "id": "82e038a0",
   "metadata": {},
   "outputs": [],
   "source": [
    "cap_fim = 1"
   ]
  },
  {
   "cell_type": "code",
   "execution_count": 8,
   "id": "6571b789-2ac7-470e-ba24-102c9f6a2e90",
   "metadata": {
    "tags": []
   },
   "outputs": [],
   "source": [
    "lista_rs = txt_intervalo(livro, cap_ini, cap_fim, 1, ultimo_vs(livro, cap_fim))"
   ]
  },
  {
   "cell_type": "code",
   "execution_count": 9,
   "id": "dc1ad7e0",
   "metadata": {},
   "outputs": [],
   "source": [
    "lista_rs = txt_intervalo(livro, cap_ini, cap_fim, 9, 13)"
   ]
  },
  {
   "cell_type": "code",
   "execution_count": 10,
   "id": "5608a12f-86a9-404d-af26-38e881924008",
   "metadata": {
    "tags": []
   },
   "outputs": [
    {
     "data": {
      "text/plain": [
       "[(1, 'Palavra do Pregador, filho de Davi, rei de Jerusalém:'),\n",
       " (2,\n",
       "  'Vaidade de vaidades, diz o Pregador; vaidade de vaidades, tudo é vaidade.'),\n",
       " (3,\n",
       "  'Que proveito tem o homem de todo o seu trabalho, com que se afadiga debaixo do sol?'),\n",
       " (4, 'Geração vai e geração vem; mas a terra permanece para sempre.'),\n",
       " (5,\n",
       "  'Levanta-se o sol, e põe-se o sol, e volta ao seu lugar, onde nasce de novo.'),\n",
       " (6,\n",
       "  'O vento vai para o sul e faz o seu giro para o norte; volve-se, e revolve-se, na sua carreira, e retorna aos seus circuitos.'),\n",
       " (7,\n",
       "  'Todos os rios correm para o mar, e o mar não se enche; ao lugar para onde correm os rios, para lá tornam eles a correr.'),\n",
       " (8,\n",
       "  'Todas as coisas são canseiras tais, que ninguém as pode exprimir; os olhos não se fartam de ver, nem se enchem os ouvidos de ouvir.'),\n",
       " (9,\n",
       "  'O que foi é o que há de ser; e o que se fez, isso se tornará a fazer; nada há, pois, novo debaixo do sol.'),\n",
       " (10,\n",
       "  'Há alguma coisa de que se possa dizer: Vê, isto é novo? Não! Já foi nos séculos que foram antes de nós.'),\n",
       " (11,\n",
       "  'Já não há lembrança das coisas que precederam; e das coisas posteriores também não haverá memória entre os que hão de vir depois delas.'),\n",
       " (12, 'Eu, o Pregador, venho sendo rei de Israel, em Jerusalém.'),\n",
       " (13,\n",
       "  'Apliquei o coração a esquadrinhar e a informar-me com sabedoria de tudo quanto sucede debaixo do céu; este enfadonho trabalho impôs Deus aos filhos dos homens, para nele os afligir.'),\n",
       " (14,\n",
       "  'Atentei para todas as obras que se fazem debaixo do sol, e eis que tudo era vaidade e correr atrás do vento.'),\n",
       " (15,\n",
       "  'Aquilo que é torto não se pode endireitar; e o que falta não se pode calcular.'),\n",
       " (16,\n",
       "  'Disse comigo: eis que me engrandeci e sobrepujei em sabedoria a todos os que antes de mim existiram em Jerusalém; com efeito, o meu coração tem tido larga experiência da sabedoria e do conhecimento.'),\n",
       " (17,\n",
       "  'Apliquei o coração a conhecer a sabedoria e a saber o que é loucura e o que é estultícia; e vim a saber que também isto é correr atrás do vento.'),\n",
       " (18,\n",
       "  'Porque na muita sabedoria há muito enfado; e quem aumenta ciência aumenta tristeza.')]"
      ]
     },
     "execution_count": 10,
     "metadata": {},
     "output_type": "execute_result"
    }
   ],
   "source": [
    "lista_rs"
   ]
  },
  {
   "cell_type": "code",
   "execution_count": 11,
   "id": "bb8e94ec-8fea-462e-be12-18a5f2814d6b",
   "metadata": {
    "tags": []
   },
   "outputs": [],
   "source": [
    "txt = ''"
   ]
  },
  {
   "cell_type": "code",
   "execution_count": 12,
   "id": "a1c99c35-ac5f-4a15-8a00-bc25ed70ab3e",
   "metadata": {
    "tags": []
   },
   "outputs": [],
   "source": [
    "for i in lista_rs:\n",
    "    txt += str(i[0]) + ' ' + i[1].strip() + ' '"
   ]
  },
  {
   "cell_type": "code",
   "execution_count": 13,
   "id": "7dcbe635-df5a-4c1a-9fb2-f37e54191981",
   "metadata": {
    "tags": []
   },
   "outputs": [
    {
     "data": {
      "text/plain": [
       "'1 Palavra do Pregador, filho de Davi, rei de Jerusalém: 2 Vaidade de vaidades, diz o Pregador; vaidade de vaidades, tudo é vaidade. 3 Que proveito tem o homem de todo o seu trabalho, com que se afadiga debaixo do sol? 4 Geração vai e geração vem; mas a terra permanece para sempre. 5 Levanta-se o sol, e põe-se o sol, e volta ao seu lugar, onde nasce de novo. 6 O vento vai para o sul e faz o seu giro para o norte; volve-se, e revolve-se, na sua carreira, e retorna aos seus circuitos. 7 Todos os rios correm para o mar, e o mar não se enche; ao lugar para onde correm os rios, para lá tornam eles a correr. 8 Todas as coisas são canseiras tais, que ninguém as pode exprimir; os olhos não se fartam de ver, nem se enchem os ouvidos de ouvir. 9 O que foi é o que há de ser; e o que se fez, isso se tornará a fazer; nada há, pois, novo debaixo do sol. 10 Há alguma coisa de que se possa dizer: Vê, isto é novo? Não! Já foi nos séculos que foram antes de nós. 11 Já não há lembrança das coisas que precederam; e das coisas posteriores também não haverá memória entre os que hão de vir depois delas. 12 Eu, o Pregador, venho sendo rei de Israel, em Jerusalém. 13 Apliquei o coração a esquadrinhar e a informar-me com sabedoria de tudo quanto sucede debaixo do céu; este enfadonho trabalho impôs Deus aos filhos dos homens, para nele os afligir. 14 Atentei para todas as obras que se fazem debaixo do sol, e eis que tudo era vaidade e correr atrás do vento. 15 Aquilo que é torto não se pode endireitar; e o que falta não se pode calcular. 16 Disse comigo: eis que me engrandeci e sobrepujei em sabedoria a todos os que antes de mim existiram em Jerusalém; com efeito, o meu coração tem tido larga experiência da sabedoria e do conhecimento. 17 Apliquei o coração a conhecer a sabedoria e a saber o que é loucura e o que é estultícia; e vim a saber que também isto é correr atrás do vento. 18 Porque na muita sabedoria há muito enfado; e quem aumenta ciência aumenta tristeza. '"
      ]
     },
     "execution_count": 13,
     "metadata": {},
     "output_type": "execute_result"
    }
   ],
   "source": [
    "txt"
   ]
  },
  {
   "cell_type": "code",
   "execution_count": 14,
   "id": "ed881d54-4cf2-4331-a700-eab74d69ab83",
   "metadata": {},
   "outputs": [],
   "source": [
    "hb_at = 'OSHB.db'"
   ]
  },
  {
   "cell_type": "code",
   "execution_count": 15,
   "id": "63b481fa",
   "metadata": {},
   "outputs": [],
   "source": [
    "palavra_hb = 'חכמה'"
   ]
  },
  {
   "cell_type": "code",
   "execution_count": 16,
   "id": "15efcf40",
   "metadata": {},
   "outputs": [],
   "source": [
    "def encontrar_palavra_hb_at(palavra_hb):\n",
    "    with open('hb_word.sql') as f:\n",
    "        sql = f.read()\n",
    "\n",
    "    with sqlite3.connect(hb_at) as cnx:\n",
    "        cursor = cnx.cursor()\n",
    "        rs = cursor.execute(sql.format(palavra_hb)).fetchall()\n",
    "    return rs\n",
    "    "
   ]
  },
  {
   "cell_type": "code",
   "execution_count": 17,
   "id": "2ea40e1b",
   "metadata": {},
   "outputs": [
    {
     "data": {
      "text/plain": [
       "[(136, 'Ecclesiastes', 1, 13, 6, 'Hb/H2451', 'Rd/Ncfsa'),\n",
       " (181, 'Ecclesiastes', 1, 16, 10, 'H2451', 'Ncfsa'),\n",
       " (192, 'Ecclesiastes', 1, 16, 21, 'H2451', 'Ncfsa'),\n",
       " (197, 'Ecclesiastes', 1, 17, 4, 'H2451', 'Ncfsa'),\n",
       " (209, 'Ecclesiastes', 1, 18, 3, 'H2451', 'Ncfsa'),\n",
       " (244, 'Ecclesiastes', 2, 3, 9, 'Hb/H2451', 'Rd/Ncfsa'),\n",
       " (377, 'Ecclesiastes', 2, 12, 4, 'H2451', 'Ncfsa'),\n",
       " (394, 'Ecclesiastes', 2, 13, 5, 'Hl/H2451', 'Rd/Ncfsa'),\n",
       " (509, 'Ecclesiastes', 2, 21, 5, 'Hb/H2451', 'R/Ncfsa'),\n",
       " (580, 'Ecclesiastes', 2, 26, 6, 'H2451', 'Ncfsa'),\n",
       " (1647, 'Ecclesiastes', 7, 10, 12, 'Hm/H2451', 'R/Ncfsa'),\n",
       " (1652, 'Ecclesiastes', 7, 11, 2, 'H2451', 'Ncfsa'),\n",
       " (1660, 'Ecclesiastes', 7, 12, 3, 'Hd/H2451', 'Td/Ncfsa'),\n",
       " (1665, 'Ecclesiastes', 7, 12, 8, 'Hd/H2451', 'Td/Ncfsa'),\n",
       " (1748, 'Ecclesiastes', 7, 19, 1, 'Hd/H2451', 'Td/Ncfsa'),\n",
       " (1795, 'Ecclesiastes', 7, 23, 4, 'Hb/H2451', 'Rd/Ncfsa'),\n",
       " (1797, 'Ecclesiastes', 7, 23, 6, 'H2449', 'Vqh1cs'),\n",
       " (1814, 'Ecclesiastes', 7, 25, 7, 'H2451', 'Ncfsa'),\n",
       " (2114, 'Ecclesiastes', 8, 16, 6, 'H2451', 'Ncfsa'),\n",
       " (2345, 'Ecclesiastes', 9, 10, 13, 'Hc/H2451', 'C/Ncfsa'),\n",
       " (2406, 'Ecclesiastes', 9, 13, 4, 'H2451', 'Ncfsa'),\n",
       " (2447, 'Ecclesiastes', 9, 16, 4, 'H2451', 'Ncfsa'),\n",
       " (2463, 'Ecclesiastes', 9, 18, 2, 'H2451', 'Ncfsa'),\n",
       " (2478, 'Ecclesiastes', 10, 1, 8, 'Hm/H2451', 'R/Ncfsa'),\n",
       " (2565, 'Ecclesiastes', 10, 10, 13, 'H2451', 'Ncfsa'),\n",
       " (14107, 'Job', 4, 21, 7, 'Hb/H2451', 'R/Ncfsa'),\n",
       " (15344, 'Job', 11, 6, 4, 'H2451', 'Ncfsa'),\n",
       " (15466, 'Job', 12, 2, 7, 'H2451', 'Ncfsa'),\n",
       " (15551, 'Job', 12, 12, 2, 'H2451', 'Ncfsa'),\n",
       " (15556, 'Job', 12, 13, 2, 'H2451', 'Ncfsa'),\n",
       " (15678, 'Job', 13, 5, 7, 'Hl/H2451', 'R/Ncfsa'),\n",
       " (16074, 'Job', 15, 8, 6, 'H2451', 'Ncfsa'),\n",
       " (17969, 'Job', 26, 3, 4, 'H2451', 'Ncfsa'),\n",
       " (18310, 'Job', 28, 12, 1, 'Hc/Hd/H2451', 'C/Td/Ncfsa'),\n",
       " (18361, 'Job', 28, 18, 6, 'H2451', 'Ncfsa'),\n",
       " (18371, 'Job', 28, 20, 1, 'Hc/Hd/H2451', 'C/Td/Ncfsa'),\n",
       " (18431, 'Job', 28, 28, 7, 'H2451', 'Ncfsa'),\n",
       " (19228, 'Job', 32, 7, 7, 'H2451', 'Ncfsa'),\n",
       " (19271, 'Job', 32, 13, 4, 'H2451', 'Ncfsa'),\n",
       " (19592, 'Job', 33, 33, 8, 'H2451', 'Ncfsa'),\n",
       " (20694, 'Job', 38, 36, 4, 'H2451', 'Ncfsa'),\n",
       " (20703, 'Job', 38, 37, 4, 'Hb/H2451', 'R/Ncfsa'),\n",
       " (20857, 'Job', 39, 17, 4, 'H2451', 'Ncfsa'),\n",
       " (21727, 'II Chronicles', 1, 10, 2, 'H2451', 'Ncfsa'),\n",
       " (21767, 'II Chronicles', 1, 11, 25, 'H2451', 'Ncfsa'),\n",
       " (21776, 'II Chronicles', 1, 12, 1, 'Hd/H2451', 'Td/Ncfsa'),\n",
       " (24801, 'II Chronicles', 9, 22, 8, 'Hc/H2451', 'C/Ncfsa'),\n",
       " (50779, 'Deuteronomy', 34, 9, 6, 'H2451', 'Ncfsa'),\n",
       " (53695, 'Isaiah', 11, 2, 6, 'H2451', 'Ncfsa'),\n",
       " (81285, 'Daniel', 1, 4, 12, 'H2451', 'Ncfsa'),\n",
       " (81478, 'Daniel', 1, 17, 11, 'Hc/H2451', 'C/Ncfsa'),\n",
       " (82010, 'Daniel', 2, 30, 3, 'Hb/H2452', 'AR/Ncfsa'),\n",
       " (83851, 'Daniel', 5, 11, 13, 'Hc/H2452', 'AC/Ncfsa'),\n",
       " (83927, 'Daniel', 5, 14, 10, 'Hc/H2452', 'AC/Ncfsa'),\n",
       " (90639, 'I Kings', 4, 29, 3, 'H2451', 'Ncfsa'),\n",
       " (90933, 'I Kings', 5, 12, 3, 'H2451', 'Ncfsa'),\n",
       " (91721, 'I Kings', 7, 14, 14, 'Hd/H2451', 'Td/Ncfsa'),\n",
       " (94060, 'I Kings', 10, 7, 15, 'H2451', 'Ncfsa'),\n",
       " (94324, 'I Kings', 10, 23, 8, 'Hc/Hl/H2451', 'C/R/Ncfsa'),\n",
       " (110608, 'II Samuel', 14, 2, 7, 'H2450', 'Aafsa'),\n",
       " (114428, 'II Samuel', 20, 16, 3, 'H2450', 'Aafsa'),\n",
       " (140765, 'I Chronicles', 28, 21, 14, 'Hb/H2451', 'Rd/Ncfsa'),\n",
       " (160526, 'Ezekiel', 28, 12, 18, 'H2451', 'Ncfsa'),\n",
       " (173849, 'Psalms', 37, 30, 4, 'H2451', 'Ncfsa'),\n",
       " (175762, 'Psalms', 51, 6, 6, 'H2451', 'Ncfsa'),\n",
       " (181457, 'Psalms', 90, 12, 7, 'H2451', 'Ncfsa'),\n",
       " (183078, 'Psalms', 104, 24, 6, 'Hb/H2451', 'R/Ncfsa'),\n",
       " (184531, 'Psalms', 111, 10, 2, 'H2451', 'Ncfsa'),\n",
       " (208222, 'Jeremiah', 49, 7, 8, 'H2451', 'Ncfsa'),\n",
       " (213944, 'Zechariah', 9, 2, 8, 'H2449', 'Vqp3fs'),\n",
       " (240963, 'Proverbs', 1, 2, 2, 'H2451', 'Ncfsa'),\n",
       " (240997, 'Proverbs', 1, 7, 5, 'H2451', 'Ncfsa'),\n",
       " (241202, 'Proverbs', 2, 2, 2, 'Hl/H2451', 'Rd/Ncfsa'),\n",
       " (241229, 'Proverbs', 2, 6, 4, 'H2451', 'Ncfsa'),\n",
       " (241257, 'Proverbs', 2, 10, 3, 'H2451', 'Ncfsa'),\n",
       " (241435, 'Proverbs', 3, 13, 4, 'H2451', 'Ncfsa'),\n",
       " (241475, 'Proverbs', 3, 19, 2, 'Hb/H2451', 'R/Ncfsa'),\n",
       " (241635, 'Proverbs', 4, 5, 2, 'H2451', 'Ncfsa'),\n",
       " (241650, 'Proverbs', 4, 7, 2, 'H2451', 'Ncfsa'),\n",
       " (241652, 'Proverbs', 4, 7, 4, 'H2451', 'Ncfsa'),\n",
       " (241678, 'Proverbs', 4, 11, 2, 'H2451', 'Ncfsa'),\n",
       " (242256, 'Proverbs', 7, 4, 2, 'Hl/H2451', 'Rd/Ncfsa'),\n",
       " (242430, 'Proverbs', 8, 1, 2, 'H2451', 'Ncfsa'),\n",
       " (242499, 'Proverbs', 8, 11, 3, 'H2451', 'Ncfsa'),\n",
       " (242507, 'Proverbs', 8, 12, 2, 'H2451', 'Ncfsa'),\n",
       " (242754, 'Proverbs', 9, 10, 2, 'H2451', 'Ncfsa'),\n",
       " (242909, 'Proverbs', 10, 13, 4, 'H2451', 'Ncfsa'),\n",
       " (242984, 'Proverbs', 10, 23, 5, 'Hc/H2451', 'C/Ncfsa'),\n",
       " (243039, 'Proverbs', 10, 31, 4, 'H2451', 'Ncfsa'),\n",
       " (243063, 'Proverbs', 11, 2, 7, 'H2451', 'Ncfsa'),\n",
       " (243549, 'Proverbs', 13, 10, 7, 'H2451', 'Ncfsa'),\n",
       " (243701, 'Proverbs', 14, 6, 3, 'H2451', 'Ncfsa'),\n",
       " (243894, 'Proverbs', 14, 33, 4, 'H2451', 'Ncfsa'),\n",
       " (244160, 'Proverbs', 15, 33, 4, 'H2451', 'Ncfsa'),\n",
       " (244277, 'Proverbs', 16, 16, 2, 'H2451', 'Ncfsa'),\n",
       " (244548, 'Proverbs', 17, 16, 7, 'H2451', 'Ncfsa'),\n",
       " (244610, 'Proverbs', 17, 24, 4, 'H2451', 'Ncfsa'),\n",
       " (244677, 'Proverbs', 18, 4, 9, 'H2451', 'Ncfsa'),\n",
       " (245511, 'Proverbs', 21, 30, 2, 'H2451', 'Ncfsa'),\n",
       " (245935, 'Proverbs', 23, 23, 5, 'H2451', 'Ncfsa'),\n",
       " (246055, 'Proverbs', 24, 3, 1, 'Hb/H2451', 'R/Ncfsa'),\n",
       " (246142, 'Proverbs', 24, 14, 3, 'H2451', 'Ncfsa'),\n",
       " (247193, 'Proverbs', 28, 26, 6, 'Hb/H2451', 'R/Ncfsa'),\n",
       " (247229, 'Proverbs', 29, 3, 3, 'H2451', 'Ncfsa'),\n",
       " (247323, 'Proverbs', 29, 15, 4, 'H2451', 'Ncfsa'),\n",
       " (247435, 'Proverbs', 30, 3, 3, 'H2451', 'Ncfsa'),\n",
       " (247899, 'Proverbs', 31, 26, 3, 'Hb/H2451', 'R/Ncfsa'),\n",
       " (277737, 'Exodus', 1, 10, 2, 'H2449', 'Vth1cp'),\n",
       " (288306, 'Exodus', 28, 3, 10, 'H2451', 'Ncfsa'),\n",
       " (290001, 'Exodus', 31, 3, 5, 'Hb/H2451', 'R/Ncfsa'),\n",
       " (290035, 'Exodus', 31, 6, 16, 'H2451', 'Ncfsa'),\n",
       " (291974, 'Exodus', 35, 26, 7, 'Hb/H2451', 'R/Ncfsa'),\n",
       " (292038, 'Exodus', 35, 31, 5, 'Hb/H2451', 'R/Ncfsa'),\n",
       " (292098, 'Exodus', 36, 1, 11, 'H2451', 'Ncfsa'),\n",
       " (292126, 'Exodus', 36, 2, 15, 'H2451', 'Ncfsa')]"
      ]
     },
     "execution_count": 17,
     "metadata": {},
     "output_type": "execute_result"
    }
   ],
   "source": [
    "encontrar_palavra_hb_at(palavra_hb)"
   ]
  },
  {
   "cell_type": "code",
   "execution_count": 18,
   "id": "1cc2614b",
   "metadata": {},
   "outputs": [],
   "source": [
    "lxx = 'lxx.db'"
   ]
  },
  {
   "cell_type": "code",
   "execution_count": 19,
   "id": "1a6a68e3",
   "metadata": {},
   "outputs": [],
   "source": [
    "palavra_gg = 'ἐντολή'"
   ]
  },
  {
   "cell_type": "code",
   "execution_count": 20,
   "id": "0fa9af22",
   "metadata": {},
   "outputs": [],
   "source": [
    "def encontrar_palavra_gg_at(palavra_gg):\n",
    "    with open('gk_word.sql') as f:\n",
    "        sql = f.read()\n",
    "\n",
    "    with sqlite3.connect(lxx) as cnx:\n",
    "        cursor = cnx.cursor()\n",
    "        rs = cursor.execute(sql.format(palavra_gg)).fetchall()\n",
    "    return rs"
   ]
  },
  {
   "cell_type": "code",
   "execution_count": 21,
   "id": "d0e2e858",
   "metadata": {},
   "outputs": [
    {
     "data": {
      "text/plain": [
       "[('14.1Kings.mlxx', '1/3Kgs', 2, 3, 17, 'ἐντολή', 'N1 APF'),\n",
       " ('14.1Kings.mlxx', '1/3Kgs', 2, 43, 11, 'ἐντολή', 'N1 ASF'),\n",
       " ('14.1Kings.mlxx', '1/3Kgs', 3, 14, 10, 'ἐντολή', 'N1 APF'),\n",
       " ('14.1Kings.mlxx', '1/3Kgs', 8, 58, 16, 'ἐντολή', 'N1 APF'),\n",
       " ('14.1Kings.mlxx', '1/3Kgs', 8, 61, 20, 'ἐντολή', 'N1 APF'),\n",
       " ('14.1Kings.mlxx', '1/3Kgs', 9, 4, 33, 'ἐντολή', 'N1 APF'),\n",
       " ('14.1Kings.mlxx', '1/3Kgs', 9, 6, 16, 'ἐντολή', 'N1 APF'),\n",
       " ('14.1Kings.mlxx', '1/3Kgs', 11, 11, 16, 'ἐντολή', 'N1 APF'),\n",
       " ('14.1Kings.mlxx', '1/3Kgs', 11, 38, 25, 'ἐντολή', 'N1 APF'),\n",
       " ('14.1Kings.mlxx', '1/3Kgs', 13, 21, 26, 'ἐντολή', 'N1 ASF'),\n",
       " ('05.Num.mlxx', 'Num', 15, 22, 9, 'ἐντολή', 'N1A APF'),\n",
       " ('05.Num.mlxx', 'Num', 15, 31, 8, 'ἐντολή', 'N1A APF'),\n",
       " ('05.Num.mlxx', 'Num', 15, 39, 14, 'ἐντολή', 'N1A GPF'),\n",
       " ('05.Num.mlxx', 'Num', 15, 40, 8, 'ἐντολή', 'N1A APF'),\n",
       " ('05.Num.mlxx', 'Num', 36, 13, 3, 'ἐντολή', 'N1A NPF'),\n",
       " ('25.2Macc.mlxx', '2Mac', 3, 7, 23, 'ἐντολή', 'N1 APF'),\n",
       " ('25.2Macc.mlxx', '2Mac', 3, 13, 8, 'ἐντολή', 'N1 APF'),\n",
       " ('25.2Macc.mlxx', '2Mac', 4, 25, 5, 'ἐντολή', 'N1A APF'),\n",
       " ('25.2Macc.mlxx', '2Mac', 14, 13, 2, 'ἐντολή', 'N1A APF'),\n",
       " ('27.4Macc.mlxx', '4Mac', 4, 6, 5, 'ἐντολή', 'N1A DPF'),\n",
       " ('27.4Macc.mlxx', '4Mac', 6, 4, 5, 'ἐντολή', 'N1A DPF'),\n",
       " ('27.4Macc.mlxx', '4Mac', 9, 1, 14, 'ἐντολή', 'N1A APF'),\n",
       " ('27.4Macc.mlxx', '4Mac', 13, 15, 14, 'ἐντολή', 'N1 ASF'),\n",
       " ('27.4Macc.mlxx', '4Mac', 16, 24, 18, 'ἐντολή', 'N1 ASF'),\n",
       " ('24.1Macc.mlxx', '1Mac', 2, 19, 31, 'ἐντολή', 'N1A DPF'),\n",
       " ('24.1Macc.mlxx', '1Mac', 2, 31, 22, 'ἐντολή', 'N1 ASF'),\n",
       " ('24.1Macc.mlxx', '1Mac', 2, 53, 7, 'ἐντολή', 'N1 ASF'),\n",
       " ('24.1Macc.mlxx', '1Mac', 11, 2, 18, 'ἐντολή', 'N1 NSF'),\n",
       " ('51.Isaiah2.mlxx', 'Isa', 48, 18, 5, 'ἐντολή', 'N1 GPF'),\n",
       " ('12.1Sam.mlxx', '1Sam/K', 13, 13, 12, 'ἐντολή', 'N1 ASF'),\n",
       " ('01.Gen.1.mlxx', 'Gen', 26, 5, 18, 'ἐντολή', 'N1A APF'),\n",
       " ('49.Malachi.mlxx', 'Mal', 2, 1, 4, 'ἐντολή', 'N1 NSF'),\n",
       " ('49.Malachi.mlxx', 'Mal', 2, 4, 9, 'ἐντολή', 'N1 ASF'),\n",
       " ('28.Psalms1.mlxx', 'Ps', 18, 9, 8, 'ἐντολή', 'N1 NSF'),\n",
       " ('36.Sirach.mlxx', 'Sir', 1, 26, 4, 'ἐντολή', 'N1A APF'),\n",
       " ('36.Sirach.mlxx', 'Sir', 6, 37, 9, 'ἐντολή', 'N1A DPF'),\n",
       " ('36.Sirach.mlxx', 'Sir', 10, 19, 23, 'ἐντολή', 'N1A APF'),\n",
       " ('36.Sirach.mlxx', 'Sir', 15, 15, 4, 'ἐντολή', 'N1A APF'),\n",
       " ('36.Sirach.mlxx', 'Sir', 23, 27, 15, 'ἐντολή', 'N1A DPF'),\n",
       " ('36.Sirach.mlxx', 'Sir', 28, 6, 12, 'ἐντολή', 'N1A DPF'),\n",
       " ('36.Sirach.mlxx', 'Sir', 28, 7, 2, 'ἐντολή', 'N1A GPF'),\n",
       " ('36.Sirach.mlxx', 'Sir', 29, 1, 14, 'ἐντολή', 'N1A APF'),\n",
       " ('36.Sirach.mlxx', 'Sir', 29, 9, 2, 'ἐντολή', 'N1 GSF'),\n",
       " ('36.Sirach.mlxx', 'Sir', 29, 11, 6, 'ἐντολή', 'N1A APF'),\n",
       " ('36.Sirach.mlxx', 'Sir', 32, 23, 13, 'ἐντολή', 'N1A GPF'),\n",
       " ('36.Sirach.mlxx', 'Sir', 32, 24, 5, 'ἐντολή', 'N1A DPF'),\n",
       " ('36.Sirach.mlxx', 'Sir', 35, 1, 10, 'ἐντολή', 'N1A DPF'),\n",
       " ('36.Sirach.mlxx', 'Sir', 35, 4, 11, 'ἐντολή', 'N1 GSF'),\n",
       " ('36.Sirach.mlxx', 'Sir', 37, 12, 11, 'ἐντολή', 'N1A APF'),\n",
       " ('36.Sirach.mlxx', 'Sir', 39, 31, 3, 'ἐντολή', 'N1 DSF'),\n",
       " ('36.Sirach.mlxx', 'Sir', 45, 5, 17, 'ἐντολή', 'N1A APF'),\n",
       " ('36.Sirach.mlxx', 'Sir', 45, 17, 4, 'ἐντολή', 'N1A DPF'),\n",
       " ('03.Exod.mlxx', 'Exod', 12, 17, 4, 'ἐντολή', 'N1 ASF'),\n",
       " ('03.Exod.mlxx', 'Exod', 15, 26, 21, 'ἐντολή', 'N1A DPF'),\n",
       " ('03.Exod.mlxx', 'Exod', 16, 28, 12, 'ἐντολή', 'N1A APF'),\n",
       " ('03.Exod.mlxx', 'Exod', 24, 12, 26, 'ἐντολή', 'N1A APF'),\n",
       " ('30.Odes.mlxx', 'Od', 7, 29, 14, 'ἐντολή', 'N1 GPF'),\n",
       " ('15.2Kings.mlxx', '2/4Kgs', 17, 13, 30, 'ἐντολή', 'N1 APF'),\n",
       " ('15.2Kings.mlxx', '2/4Kgs', 17, 16, 3, 'ἐντολή', 'N1 APF'),\n",
       " ('15.2Kings.mlxx', '2/4Kgs', 17, 19, 7, 'ἐντολή', 'N1 APF'),\n",
       " ('15.2Kings.mlxx', '2/4Kgs', 17, 34, 32, 'ἐντολή', 'N1 ASF'),\n",
       " ('15.2Kings.mlxx', '2/4Kgs', 17, 37, 12, 'ἐντολή', 'N1 APF'),\n",
       " ('15.2Kings.mlxx', '2/4Kgs', 18, 6, 12, 'ἐντολή', 'N1 APF'),\n",
       " ('15.2Kings.mlxx', '2/4Kgs', 18, 36, 9, 'ἐντολή', 'N1 NSF'),\n",
       " ('15.2Kings.mlxx', '2/4Kgs', 21, 8, 25, 'ἐντολή', 'N1 ASF'),\n",
       " ('15.2Kings.mlxx', '2/4Kgs', 23, 3, 21, 'ἐντολή', 'N1 APF'),\n",
       " ('61.DanielOG.mlxx', 'Dan', 3, 12, 23, 'ἐντολή', 'N1 ASF'),\n",
       " ('61.DanielOG.mlxx', 'Dan', 3, 29, 16, 'ἐντολή', 'N1 GPF'),\n",
       " ('61.DanielOG.mlxx', 'Dan', 9, 5, 9, 'ἐντολή', 'N1A APF'),\n",
       " ('04.Lev.mlxx', 'Lev', 4, 13, 21, 'ἐντολή', 'N1A GPF'),\n",
       " ('04.Lev.mlxx', 'Lev', 4, 22, 12, 'ἐντολή', 'N1A GPF'),\n",
       " ('04.Lev.mlxx', 'Lev', 4, 27, 19, 'ἐντολή', 'N1A GPF'),\n",
       " ('04.Lev.mlxx', 'Lev', 5, 17, 13, 'ἐντολή', 'N1A GPF'),\n",
       " ('04.Lev.mlxx', 'Lev', 5, 21, 8, 'ἐντολή', 'N1A APF'),\n",
       " ('04.Lev.mlxx', 'Lev', 22, 31, 4, 'ἐντολή', 'N1A APF'),\n",
       " ('04.Lev.mlxx', 'Lev', 26, 3, 8, 'ἐντολή', 'N1A APF'),\n",
       " ('04.Lev.mlxx', 'Lev', 26, 15, 18, 'ἐντολή', 'N1A APF'),\n",
       " ('04.Lev.mlxx', 'Lev', 27, 34, 4, 'ἐντολή', 'N1A NPF'),\n",
       " ('62.DanielTh.mlxx', 'DanTh', 3, 29, 14, 'ἐντολή', 'N1 GPF'),\n",
       " ('62.DanielTh.mlxx', 'DanTh', 9, 4, 34, 'ἐντολή', 'N1 APF'),\n",
       " ('62.DanielTh.mlxx', 'DanTh', 9, 5, 10, 'ἐντολή', 'N1 GPF'),\n",
       " ('10.JudgesA.mlxx', 'JudgA', 2, 17, 33, 'ἐντολή', 'N1 APF'),\n",
       " ('10.JudgesA.mlxx', 'JudgA', 3, 4, 13, 'ἐντολή', 'N1 APF'),\n",
       " ('54.Baruch.mlxx', 'Bar', 3, 9, 3, 'ἐντολή', 'N1 APF'),\n",
       " ('54.Baruch.mlxx', 'Bar', 4, 13, 9, 'ἐντολή', 'N1 GPF'),\n",
       " ('35.Wisdom.mlxx', 'Wis', 9, 9, 28, 'ἐντολή', 'N1 DPF'),\n",
       " ('35.Wisdom.mlxx', 'Wis', 16, 6, 12, 'ἐντολή', 'N1 GSF'),\n",
       " ('57.Ezek1.mlxx', 'Ezek', 18, 21, 17, 'ἐντολή', 'N1 APF'),\n",
       " ('18.1Esdras.mlxx', '1Esdr', 4, 52, 11, 'ἐντολή', 'N1 ASF'),\n",
       " ('18.1Esdras.mlxx', '1Esdr', 8, 7, 19, 'ἐντολή', 'N1 GPF'),\n",
       " ('07.JoshB.mlxx', 'JoshB', 5, 6, 29, 'ἐντολή', 'N1 GPF'),\n",
       " ('07.JoshB.mlxx', 'JoshB', 22, 3, 17, 'ἐντολή', 'N1 ASF'),\n",
       " ('07.JoshB.mlxx', 'JoshB', 22, 5, 6, 'ἐντολή', 'N1 APF'),\n",
       " ('07.JoshB.mlxx', 'JoshB', 22, 5, 30, 'ἐντολή', 'N1 APF'),\n",
       " ('32.Qoheleth.mlxx', 'Qoh', 8, 5, 3, 'ἐντολή', 'N1 ASF'),\n",
       " ('32.Qoheleth.mlxx', 'Qoh', 12, 13, 11, 'ἐντολή', 'N1 APF'),\n",
       " ('16.1Chron.mlxx', '1Chr', 28, 7, 13, 'ἐντολή', 'N1 APF'),\n",
       " ('16.1Chron.mlxx', '1Chr', 28, 8, 18, 'ἐντολή', 'N1 APF'),\n",
       " ('16.1Chron.mlxx', '1Chr', 29, 19, 11, 'ἐντολή', 'N1 APF'),\n",
       " ('53.Jer2.mlxx', 'Jer', 42, 16, 8, 'ἐντολή', 'N1 ASF'),\n",
       " ('53.Jer2.mlxx', 'Jer', 42, 18, 13, 'ἐντολή', 'N1 ASF'),\n",
       " ('23.TobitS.mlxx', 'TobS', 1, 8, 41, 'ἐντολή', 'N1 APF'),\n",
       " ('23.TobitS.mlxx', 'TobS', 3, 4, 4, 'ἐντολή', 'N1 GPF'),\n",
       " ('23.TobitS.mlxx', 'TobS', 3, 5, 20, 'ἐντολή', 'N1 APF'),\n",
       " ('23.TobitS.mlxx', 'TobS', 4, 5, 17, 'ἐντολή', 'N1 APF'),\n",
       " ('23.TobitS.mlxx', 'TobS', 4, 19, 20, 'ἐντολή', 'N1 APF'),\n",
       " ('23.TobitS.mlxx', 'TobS', 6, 16, 7, 'ἐντολή', 'N1 APF'),\n",
       " ('22.TobitBA.mlxx', 'TobBA', 3, 4, 4, 'ἐντολή', 'N1A GPF'),\n",
       " ('22.TobitBA.mlxx', 'TobBA', 3, 5, 24, 'ἐντολή', 'N1 APF'),\n",
       " ('22.TobitBA.mlxx', 'TobBA', 4, 5, 17, 'ἐντολή', 'N1A APF'),\n",
       " ('22.TobitBA.mlxx', 'TobBA', 4, 19, 52, 'ἐντολή', 'N1A GPF'),\n",
       " ('29.Psalms2.mlxx', 'Ps', 77, 7, 18, 'ἐντολή', 'N1 APF'),\n",
       " ('29.Psalms2.mlxx', 'Ps', 88, 32, 8, 'ἐντολή', 'N1 APF'),\n",
       " ('29.Psalms2.mlxx', 'Ps', 102, 18, 9, 'ἐντολή', 'N1 GPF'),\n",
       " ('29.Psalms2.mlxx', 'Ps', 110, 7, 10, 'ἐντολή', 'N1 NPF'),\n",
       " ('29.Psalms2.mlxx', 'Ps', 111, 1, 10, 'ἐντολή', 'N1 DPF'),\n",
       " ('29.Psalms2.mlxx', 'Ps', 118, 4, 4, 'ἐντολή', 'N1 APF'),\n",
       " ('29.Psalms2.mlxx', 'Ps', 118, 6, 12, 'ἐντολή', 'N1 APF'),\n",
       " ('29.Psalms2.mlxx', 'Ps', 118, 10, 12, 'ἐντολή', 'N1 GPF'),\n",
       " ('29.Psalms2.mlxx', 'Ps', 118, 15, 3, 'ἐντολή', 'N1 DPF'),\n",
       " ('29.Psalms2.mlxx', 'Ps', 118, 19, 12, 'ἐντολή', 'N1 APF'),\n",
       " ('29.Psalms2.mlxx', 'Ps', 118, 21, 8, 'ἐντολή', 'N1 GPF'),\n",
       " ('29.Psalms2.mlxx', 'Ps', 118, 32, 2, 'ἐντολή', 'N1 GPF'),\n",
       " ('29.Psalms2.mlxx', 'Ps', 118, 35, 6, 'ἐντολή', 'N1 GPF'),\n",
       " ('29.Psalms2.mlxx', 'Ps', 118, 40, 4, 'ἐντολή', 'N1 APF'),\n",
       " ('29.Psalms2.mlxx', 'Ps', 118, 45, 7, 'ἐντολή', 'N1 APF'),\n",
       " ('29.Psalms2.mlxx', 'Ps', 118, 47, 5, 'ἐντολή', 'N1 DPF'),\n",
       " ('29.Psalms2.mlxx', 'Ps', 118, 48, 8, 'ἐντολή', 'N1 APF'),\n",
       " ('29.Psalms2.mlxx', 'Ps', 118, 60, 8, 'ἐντολή', 'N1 APF'),\n",
       " ('29.Psalms2.mlxx', 'Ps', 118, 63, 12, 'ἐντολή', 'N1 APF'),\n",
       " ('29.Psalms2.mlxx', 'Ps', 118, 66, 10, 'ἐντολή', 'N1 DPF'),\n",
       " ('29.Psalms2.mlxx', 'Ps', 118, 69, 14, 'ἐντολή', 'N1 APF'),\n",
       " ('29.Psalms2.mlxx', 'Ps', 118, 73, 16, 'ἐντολή', 'N1 APF'),\n",
       " ('29.Psalms2.mlxx', 'Ps', 118, 78, 13, 'ἐντολή', 'N1 DPF'),\n",
       " ('29.Psalms2.mlxx', 'Ps', 118, 86, 3, 'ἐντολή', 'N1 NPF'),\n",
       " ('29.Psalms2.mlxx', 'Ps', 118, 87, 13, 'ἐντολή', 'N1 APF'),\n",
       " ('29.Psalms2.mlxx', 'Ps', 118, 96, 7, 'ἐντολή', 'N1 NSF'),\n",
       " ('29.Psalms2.mlxx', 'Ps', 118, 98, 8, 'ἐντολή', 'N1 ASF'),\n",
       " ('29.Psalms2.mlxx', 'Ps', 118, 100, 6, 'ἐντολή', 'N1 APF'),\n",
       " ('29.Psalms2.mlxx', 'Ps', 118, 104, 3, 'ἐντολή', 'N1 GPF'),\n",
       " ('29.Psalms2.mlxx', 'Ps', 118, 110, 8, 'ἐντολή', 'N1 GPF'),\n",
       " ('29.Psalms2.mlxx', 'Ps', 118, 115, 8, 'ἐντολή', 'N1 APF'),\n",
       " ('29.Psalms2.mlxx', 'Ps', 118, 127, 5, 'ἐντολή', 'N1 APF'),\n",
       " ('29.Psalms2.mlxx', 'Ps', 118, 128, 6, 'ἐντολή', 'N1 APF'),\n",
       " ('29.Psalms2.mlxx', 'Ps', 118, 131, 10, 'ἐντολή', 'N1 APF'),\n",
       " ('29.Psalms2.mlxx', 'Ps', 118, 134, 9, 'ἐντολή', 'N1 APF'),\n",
       " ('29.Psalms2.mlxx', 'Ps', 118, 143, 7, 'ἐντολή', 'N1 NPF'),\n",
       " ('29.Psalms2.mlxx', 'Ps', 118, 151, 8, 'ἐντολή', 'N1 NPF'),\n",
       " ('29.Psalms2.mlxx', 'Ps', 118, 159, 4, 'ἐντολή', 'N1 APF'),\n",
       " ('29.Psalms2.mlxx', 'Ps', 118, 166, 8, 'ἐντολή', 'N1 APF'),\n",
       " ('29.Psalms2.mlxx', 'Ps', 118, 168, 3, 'ἐντολή', 'N1 APF'),\n",
       " ('29.Psalms2.mlxx', 'Ps', 118, 172, 11, 'ἐντολή', 'N1 NPF'),\n",
       " ('29.Psalms2.mlxx', 'Ps', 118, 173, 10, 'ἐντολή', 'N1 APF'),\n",
       " ('29.Psalms2.mlxx', 'Ps', 118, 176, 11, 'ἐντολή', 'N1 APF'),\n",
       " ('31.Proverbs.mlxx', 'Prov', 2, 1, 6, 'ἐντολή', 'N1 GSF'),\n",
       " ('31.Proverbs.mlxx', 'Prov', 4, 5, 2, 'ἐντολή', 'N1 APF'),\n",
       " ('31.Proverbs.mlxx', 'Prov', 6, 23, 3, 'ἐντολή', 'N1 NSF'),\n",
       " ('31.Proverbs.mlxx', 'Prov', 7, 1, 8, 'ἐντολή', 'N1 APF'),\n",
       " ('31.Proverbs.mlxx', 'Prov', 7, 2, 3, 'ἐντολή', 'N1 APF'),\n",
       " ('31.Proverbs.mlxx', 'Prov', 10, 8, 4, 'ἐντολή', 'N1 APF'),\n",
       " ('31.Proverbs.mlxx', 'Prov', 13, 13, 10, 'ἐντολή', 'N1 ASF'),\n",
       " ('31.Proverbs.mlxx', 'Prov', 15, 5, 8, 'ἐντολή', 'N1 APF'),\n",
       " ('31.Proverbs.mlxx', 'Prov', 19, 16, 3, 'ἐντολή', 'N1 ASF'),\n",
       " ('09.JudgesB.mlxx', 'JudgB', 3, 4, 13, 'ἐντολή', 'N1 APF'),\n",
       " ('17.2Chron.mlxx', '2Chr', 7, 19, 12, 'ἐντολή', 'N1 APF'),\n",
       " ('17.2Chron.mlxx', '2Chr', 8, 13, 12, 'ἐντολή', 'N1 APF'),\n",
       " ('17.2Chron.mlxx', '2Chr', 8, 14, 49, 'ἐντολή', 'N1 NPF'),\n",
       " ('17.2Chron.mlxx', '2Chr', 8, 15, 4, 'ἐντολή', 'N1 APF'),\n",
       " ('17.2Chron.mlxx', '2Chr', 12, 1, 13, 'ἐντολή', 'N1 APF'),\n",
       " ('17.2Chron.mlxx', '2Chr', 14, 3, 18, 'ἐντολή', 'N1 APF'),\n",
       " ('17.2Chron.mlxx', '2Chr', 17, 4, 12, 'ἐντολή', 'N1 DPF'),\n",
       " ('17.2Chron.mlxx', '2Chr', 19, 10, 26, 'ἐντολή', 'N1 GSF'),\n",
       " ('17.2Chron.mlxx', '2Chr', 24, 20, 25, 'ἐντολή', 'N1 APF'),\n",
       " ('17.2Chron.mlxx', '2Chr', 24, 21, 8, 'ἐντολή', 'N1 GSF'),\n",
       " ('17.2Chron.mlxx', '2Chr', 29, 15, 10, 'ἐντολή', 'N1 ASF'),\n",
       " ('17.2Chron.mlxx', '2Chr', 29, 25, 18, 'ἐντολή', 'N1 ASF'),\n",
       " ('17.2Chron.mlxx', '2Chr', 29, 25, 34, 'ἐντολή', 'N1 GSF'),\n",
       " ('17.2Chron.mlxx', '2Chr', 30, 16, 13, 'ἐντολή', 'N1 ASF'),\n",
       " ('17.2Chron.mlxx', '2Chr', 34, 31, 20, 'ἐντολή', 'N1 APF'),\n",
       " ('17.2Chron.mlxx', '2Chr', 35, 10, 22, 'ἐντολή', 'N1 ASF'),\n",
       " ('17.2Chron.mlxx', '2Chr', 35, 15, 12, 'ἐντολή', 'N1 APF'),\n",
       " ('17.2Chron.mlxx', '2Chr', 35, 16, 27, 'ἐντολή', 'N1 ASF'),\n",
       " ('19.2Esdras.mlxx', '2Esdr', 7, 11, 18, 'ἐντολή', 'N1 GPF'),\n",
       " ('19.2Esdras.mlxx', '2Esdr', 9, 10, 10, 'ἐντολή', 'N1 APF'),\n",
       " ('19.2Esdras.mlxx', '2Esdr', 9, 14, 4, 'ἐντολή', 'N1 APF'),\n",
       " ('19.2Esdras.mlxx', '2Esdr', 10, 3, 25, 'ἐντολή', 'N1 DPF'),\n",
       " ('19.2Esdras.mlxx', '2Esdr', 11, 5, 30, 'ἐντολή', 'N1 APF'),\n",
       " ('19.2Esdras.mlxx', '2Esdr', 11, 7, 9, 'ἐντολή', 'N1 APF'),\n",
       " ('19.2Esdras.mlxx', '2Esdr', 11, 9, 9, 'ἐντολή', 'N1 APF'),\n",
       " ('19.2Esdras.mlxx', '2Esdr', 19, 13, 22, 'ἐντολή', 'N1 APF'),\n",
       " ('19.2Esdras.mlxx', '2Esdr', 19, 14, 9, 'ἐντολή', 'N1 APF'),\n",
       " ('19.2Esdras.mlxx', '2Esdr', 19, 16, 17, 'ἐντολή', 'N1 GPF'),\n",
       " ('19.2Esdras.mlxx', '2Esdr', 19, 29, 16, 'ἐντολή', 'N1 DPF'),\n",
       " ('19.2Esdras.mlxx', '2Esdr', 19, 34, 26, 'ἐντολή', 'N1 GPF'),\n",
       " ('19.2Esdras.mlxx', '2Esdr', 20, 30, 35, 'ἐντολή', 'N1 APF'),\n",
       " ('19.2Esdras.mlxx', '2Esdr', 20, 33, 5, 'ἐντολή', 'N1 APF'),\n",
       " ('19.2Esdras.mlxx', '2Esdr', 21, 23, 2, 'ἐντολή', 'N1 NSF'),\n",
       " ('19.2Esdras.mlxx', '2Esdr', 22, 24, 24, 'ἐντολή', 'N1 DSF'),\n",
       " ('19.2Esdras.mlxx', '2Esdr', 22, 45, 17, 'ἐντολή', 'N1 NPF'),\n",
       " ('19.2Esdras.mlxx', '2Esdr', 23, 5, 30, 'ἐντολή', 'N1 ASF'),\n",
       " ('06.Deut.mlxx', 'Deut', 4, 2, 17, 'ἐντολή', 'N1A APF'),\n",
       " ('06.Deut.mlxx', 'Deut', 4, 40, 8, 'ἐντολή', 'N1A APF'),\n",
       " ('06.Deut.mlxx', 'Deut', 5, 29, 16, 'ἐντολή', 'N1A APF'),\n",
       " ('06.Deut.mlxx', 'Deut', 5, 31, 12, 'ἐντολή', 'N1A APF'),\n",
       " ('06.Deut.mlxx', 'Deut', 6, 1, 4, 'ἐντολή', 'N1A NPF'),\n",
       " ('06.Deut.mlxx', 'Deut', 6, 2, 14, 'ἐντολή', 'N1A APF'),\n",
       " ('06.Deut.mlxx', 'Deut', 6, 17, 4, 'ἐντολή', 'N1A APF'),\n",
       " ('06.Deut.mlxx', 'Deut', 6, 25, 10, 'ἐντολή', 'N1A APF'),\n",
       " ('06.Deut.mlxx', 'Deut', 7, 9, 24, 'ἐντολή', 'N1A APF'),\n",
       " ('06.Deut.mlxx', 'Deut', 7, 11, 4, 'ἐντολή', 'N1A APF'),\n",
       " ('06.Deut.mlxx', 'Deut', 8, 1, 3, 'ἐντολή', 'N1A APF'),\n",
       " ('06.Deut.mlxx', 'Deut', 8, 2, 33, 'ἐντολή', 'N1A APF'),\n",
       " ('06.Deut.mlxx', 'Deut', 8, 6, 4, 'ἐντολή', 'N1A APF'),\n",
       " ('06.Deut.mlxx', 'Deut', 8, 11, 13, 'ἐντολή', 'N1A APF'),\n",
       " ('06.Deut.mlxx', 'Deut', 10, 13, 3, 'ἐντολή', 'N1A APF'),\n",
       " ('06.Deut.mlxx', 'Deut', 11, 8, 5, 'ἐντολή', 'N1A APF'),\n",
       " ('06.Deut.mlxx', 'Deut', 11, 13, 7, 'ἐντολή', 'N1A APF'),\n",
       " ('06.Deut.mlxx', 'Deut', 11, 22, 8, 'ἐντολή', 'N1A APF'),\n",
       " ('06.Deut.mlxx', 'Deut', 11, 27, 6, 'ἐντολή', 'N1A APF'),\n",
       " ('06.Deut.mlxx', 'Deut', 11, 28, 8, 'ἐντολή', 'N1A APF'),\n",
       " ('06.Deut.mlxx', 'Deut', 13, 5, 12, 'ἐντολή', 'N1A APF'),\n",
       " ('06.Deut.mlxx', 'Deut', 13, 19, 12, 'ἐντολή', 'N1A APF'),\n",
       " ('06.Deut.mlxx', 'Deut', 15, 5, 16, 'ἐντολή', 'N1A APF'),\n",
       " ('06.Deut.mlxx', 'Deut', 16, 12, 14, 'ἐντολή', 'N1A APF'),\n",
       " ('06.Deut.mlxx', 'Deut', 17, 19, 25, 'ἐντολή', 'N1A APF'),\n",
       " ('06.Deut.mlxx', 'Deut', 17, 20, 16, 'ἐντολή', 'N1A GPF'),\n",
       " ('06.Deut.mlxx', 'Deut', 19, 9, 6, 'ἐντολή', 'N1A APF'),\n",
       " ('06.Deut.mlxx', 'Deut', 26, 13, 32, 'ἐντολή', 'N1A APF'),\n",
       " ('06.Deut.mlxx', 'Deut', 26, 13, 39, 'ἐντολή', 'N1 ASF'),\n",
       " ('06.Deut.mlxx', 'Deut', 26, 18, 17, 'ἐντολή', 'N1A APF'),\n",
       " ('06.Deut.mlxx', 'Deut', 27, 1, 12, 'ἐντολή', 'N1A APF'),\n",
       " ('06.Deut.mlxx', 'Deut', 27, 10, 13, 'ἐντολή', 'N1A APF'),\n",
       " ('06.Deut.mlxx', 'Deut', 28, 1, 32, 'ἐντολή', 'N1A APF'),\n",
       " ('06.Deut.mlxx', 'Deut', 28, 13, 24, 'ἐντολή', 'N1A GPF'),\n",
       " ('06.Deut.mlxx', 'Deut', 28, 15, 17, 'ἐντολή', 'N1A APF'),\n",
       " ('06.Deut.mlxx', 'Deut', 28, 45, 35, 'ἐντολή', 'N1A APF'),\n",
       " ('06.Deut.mlxx', 'Deut', 30, 8, 15, 'ἐντολή', 'N1A APF'),\n",
       " ('06.Deut.mlxx', 'Deut', 30, 10, 14, 'ἐντολή', 'N1A APF'),\n",
       " ('06.Deut.mlxx', 'Deut', 30, 11, 3, 'ἐντολή', 'N1 NSF'),\n",
       " ('06.Deut.mlxx', 'Deut', 30, 16, 4, 'ἐντολή', 'N1A APF')]"
      ]
     },
     "execution_count": 21,
     "metadata": {},
     "output_type": "execute_result"
    }
   ],
   "source": [
    "encontrar_palavra_gg_at(palavra_gg)"
   ]
  },
  {
   "cell_type": "code",
   "execution_count": 22,
   "id": "59d40585",
   "metadata": {},
   "outputs": [],
   "source": [
    "def retornar_texto_vs_hb(livro, cap, verso):\n",
    "    sql ='SELECT Verse, Form FROM Words WHERE BookName like \"{}\" and Chapter = {} and Verse = {}'.format(livro, cap, verso)\n",
    "    with sqlite3.connect(hb_at) as cnx:\n",
    "        cursor = cnx.cursor()\n",
    "        rs = cursor.execute(sql).fetchall()\n",
    "        nr_versiculo = rs[0][0]\n",
    "        palavras_vs_hb = ''.join([p[1].replace('/', '') + ' ' for p in rs])\n",
    "    return (nr_versiculo, palavras_vs_hb)"
   ]
  },
  {
   "cell_type": "code",
   "execution_count": 23,
   "id": "771135bf",
   "metadata": {},
   "outputs": [
    {
     "name": "stdout",
     "output_type": "stream",
     "text": [
      "(10, 'זאת בריתי אשר תשמרו ביני וביניכם ובין זרעך אחריך המול לכם כל זכר ')\n"
     ]
    }
   ],
   "source": [
    "texto_vs_hb = retornar_texto_vs_hb('Genesis', 17, 10)\n",
    "print(texto_vs_hb)"
   ]
  },
  {
   "cell_type": "code",
   "execution_count": 24,
   "id": "9ef2e604",
   "metadata": {},
   "outputs": [],
   "source": [
    "def retornar_txt_cap_hb(livro, cap):\n",
    "    sql = 'select max(Verse) from Words where BookName like \"{}\" and Chapter = {}'.format(livro, cap)\n",
    "    with sqlite3.connect(hb_at) as cnx:\n",
    "        cursor = cnx.cursor()\n",
    "        rs = cursor.execute(sql).fetchone()\n",
    "        txt_cap_hb = []\n",
    "        for vs in range(1, rs[0]+1):\n",
    "            txt_cap_hb.append(retornar_texto_vs_hb(livro, cap, vs))\n",
    "    return (cap, txt_cap_hb)"
   ]
  },
  {
   "cell_type": "code",
   "execution_count": 25,
   "id": "bdd4184c",
   "metadata": {},
   "outputs": [
    {
     "data": {
      "text/plain": [
       "['בראשית ברא אלהים את השמים ואת הארץ ',\n",
       " 'והארץ היתה תהו ובהו וחשך על פני תהום ורוח אלהים מרחפת על פני המים ',\n",
       " 'ויאמר אלהים יהי אור ויהי אור ',\n",
       " 'וירא אלהים את האור כי טוב ויבדל אלהים בין האור ובין החשך ',\n",
       " 'ויקרא אלהים לאור יום ולחשך קרא לילה ויהי ערב ויהי בקר יום אחד ',\n",
       " 'ויאמר אלהים יהי רקיע בתוך המים ויהי מבדיל בין מים למים ',\n",
       " 'ויעש אלהים את הרקיע ויבדל בין המים אשר מתחת לרקיע ובין המים אשר מעל לרקיע ויהי כן ',\n",
       " 'ויקרא אלהים לרקיע שמים ויהי ערב ויהי בקר יום שני ',\n",
       " 'ויאמר אלהים יקוו המים מתחת השמים אל מקום אחד ותראה היבשה ויהי כן ',\n",
       " 'ויקרא אלהים ליבשה ארץ ולמקוה המים קרא ימים וירא אלהים כי טוב ',\n",
       " 'ויאמר אלהים תדשא הארץ דשא עשב מזריע זרע עץ פרי עשה פרי למינו אשר זרעו בו על הארץ ויהי כן ',\n",
       " 'ותוצא הארץ דשא עשב מזריע זרע למינהו ועץ עשה פרי אשר זרעו בו למינהו וירא אלהים כי טוב ',\n",
       " 'ויהי ערב ויהי בקר יום שלישי ',\n",
       " 'ויאמר אלהים יהי מארת ברקיע השמים להבדיל בין היום ובין הלילה והיו לאתת ולמועדים ולימים ושנים ',\n",
       " 'והיו למאורת ברקיע השמים להאיר על הארץ ויהי כן ',\n",
       " 'ויעש אלהים את שני המארת הגדלים את המאור הגדל לממשלת היום ואת המאור הקטן לממשלת הלילה ואת הכוכבים ',\n",
       " 'ויתן אתם אלהים ברקיע השמים להאיר על הארץ ',\n",
       " 'ולמשל ביום ובלילה ולהבדיל בין האור ובין החשך וירא אלהים כי טוב ',\n",
       " 'ויהי ערב ויהי בקר יום רביעי ',\n",
       " 'ויאמר אלהים ישרצו המים שרץ נפש חיה ועוף יעופף על הארץ על פני רקיע השמים ',\n",
       " 'ויברא אלהים את התנינם הגדלים ואת כל נפש החיה הרמשת אשר שרצו המים למינהם ואת כל עוף כנף למינהו וירא אלהים כי טוב ',\n",
       " 'ויברך אתם אלהים לאמר פרו ורבו ומלאו את המים בימים והעוף ירב בארץ ',\n",
       " 'ויהי ערב ויהי בקר יום חמישי ',\n",
       " 'ויאמר אלהים תוצא הארץ נפש חיה למינה בהמה ורמש וחיתו ארץ למינה ויהי כן ',\n",
       " 'ויעש אלהים את חית הארץ למינה ואת הבהמה למינה ואת כל רמש האדמה למינהו וירא אלהים כי טוב ',\n",
       " 'ויאמר אלהים נעשה אדם בצלמנו כדמותנו וירדו בדגת הים ובעוף השמים ובבהמה ובכל הארץ ובכל הרמש הרמש על הארץ ',\n",
       " 'ויברא אלהים את האדם בצלמו בצלם אלהים ברא אתו זכר ונקבה ברא אתם ',\n",
       " 'ויברך אתם אלהים ויאמר להם אלהים פרו ורבו ומלאו את הארץ וכבשה ורדו בדגת הים ובעוף השמים ובכל חיה הרמשת על הארץ ',\n",
       " 'ויאמר אלהים הנה נתתי לכם את כל עשב זרע זרע אשר על פני כל הארץ ואת כל העץ אשר בו פרי עץ זרע זרע לכם יהיה לאכלה ',\n",
       " 'ולכל חית הארץ ולכל עוף השמים ולכל רומש על הארץ אשר בו נפש חיה את כל ירק עשב לאכלה ויהי כן ',\n",
       " 'וירא אלהים את כל אשר עשה והנה טוב מאד ויהי ערב ויהי בקר יום הששי ']"
      ]
     },
     "execution_count": 25,
     "metadata": {},
     "output_type": "execute_result"
    }
   ],
   "source": [
    "[vs[1] for vs in retornar_txt_cap_hb('Genesis', 1)[1]]"
   ]
  },
  {
   "cell_type": "code",
   "execution_count": 26,
   "id": "e2b1c396",
   "metadata": {},
   "outputs": [],
   "source": [
    "def retornar_txt_livro_hb(livro):\n",
    "    sql = 'select max(Chapter) from Words where BookName like \"{}\"'.format(livro)\n",
    "    with sqlite3.connect(hb_at) as cnx:\n",
    "        cursor = cnx.cursor()\n",
    "        rs = cursor.execute(sql).fetchone()\n",
    "        txt_livro_hb = []\n",
    "        for cap in range(1, rs[0]+1):\n",
    "            txt_livro_hb.append(retornar_txt_cap_hb(livro, cap))\n",
    "    return txt_livro_hb\n",
    "        \n"
   ]
  },
  {
   "cell_type": "code",
   "execution_count": 27,
   "id": "f5fc6788",
   "metadata": {},
   "outputs": [],
   "source": [
    "texto_hb = retornar_texto_vs_hb('Genesis', 1, 5)"
   ]
  },
  {
   "cell_type": "code",
   "execution_count": 28,
   "id": "925f5d79",
   "metadata": {},
   "outputs": [
    {
     "name": "stdout",
     "output_type": "stream",
     "text": [
      "(5, 'ויקרא אלהים לאור יום ולחשך קרא לילה ויהי ערב ויהי בקר יום אחד ')\n"
     ]
    }
   ],
   "source": [
    "print(texto_hb)"
   ]
  },
  {
   "cell_type": "code",
   "execution_count": 29,
   "id": "7f1f27fb",
   "metadata": {},
   "outputs": [],
   "source": [
    "import os\n",
    "import re\n",
    "from pathlib import Path\n",
    "home = str(Path.home())"
   ]
  },
  {
   "cell_type": "code",
   "execution_count": 32,
   "metadata": {},
   "outputs": [],
   "source": [
    "pasta_txt_gnt = home + '/Software/almeida-semantica/sblgnt'"
   ]
  },
  {
   "cell_type": "code",
   "execution_count": 30,
   "id": "4b5ce37b",
   "metadata": {},
   "outputs": [
    {
     "ename": "NameError",
     "evalue": "name 'arqs' is not defined",
     "output_type": "error",
     "traceback": [
      "\u001b[0;31m---------------------------------------------------------------------------\u001b[0m",
      "\u001b[0;31mNameError\u001b[0m                                 Traceback (most recent call last)",
      "\u001b[1;32m/home/s273524038/Software/almeida-semantica/teste_bd.ipynb Célula 30\u001b[0m line \u001b[0;36m1\n\u001b[0;32m----> <a href='vscode-notebook-cell:/home/s273524038/Software/almeida-semantica/teste_bd.ipynb#X41sZmlsZQ%3D%3D?line=0'>1</a>\u001b[0m arqs\n",
      "\u001b[0;31mNameError\u001b[0m: name 'arqs' is not defined"
     ]
    }
   ],
   "source": [
    "arqs"
   ]
  },
  {
   "cell_type": "code",
   "execution_count": 33,
   "id": "dae03035",
   "metadata": {},
   "outputs": [],
   "source": [
    "arqs = [arq for arq in os.listdir(pasta_txt_gnt) if re.match(r'^([\\s\\d]+).*txt$', arq)]"
   ]
  },
  {
   "cell_type": "code",
   "execution_count": 35,
   "metadata": {},
   "outputs": [
    {
     "data": {
      "text/plain": [
       "['58-Heb-morphgnt.txt',\n",
       " '44-Ac-morphgnt.txt',\n",
       " '57-Phm-morphgnt.txt',\n",
       " '56-Tit-morphgnt.txt',\n",
       " '49-Eph-morphgnt.txt',\n",
       " '40-Mt-morphgnt.txt',\n",
       " '47-2Co-morphgnt.txt',\n",
       " '61-2Pe-morphgnt.txt',\n",
       " '53-2Th-morphgnt.txt',\n",
       " '63-2Jn-morphgnt.txt',\n",
       " '65-Jud-morphgnt.txt',\n",
       " '60-1Pe-morphgnt.txt',\n",
       " '46-1Co-morphgnt.txt',\n",
       " '48-Ga-morphgnt.txt',\n",
       " '66-Re-morphgnt.txt',\n",
       " '43-Jn-morphgnt.txt',\n",
       " '41-Mk-morphgnt.txt',\n",
       " '45-Ro-morphgnt.txt',\n",
       " '50-Php-morphgnt.txt',\n",
       " '54-1Ti-morphgnt.txt',\n",
       " '64-3Jn-morphgnt.txt',\n",
       " '52-1Th-morphgnt.txt',\n",
       " '62-1Jn-morphgnt.txt',\n",
       " '59-Jas-morphgnt.txt',\n",
       " '51-Col-morphgnt.txt',\n",
       " '55-2Ti-morphgnt.txt',\n",
       " '42-Lk-morphgnt.txt']"
      ]
     },
     "execution_count": 35,
     "metadata": {},
     "output_type": "execute_result"
    }
   ],
   "source": [
    "arqs"
   ]
  },
  {
   "cell_type": "code",
   "execution_count": 36,
   "id": "42a2e9e5",
   "metadata": {},
   "outputs": [],
   "source": [
    "from enum import Enum"
   ]
  },
  {
   "cell_type": "code",
   "execution_count": 37,
   "id": "1febccaf",
   "metadata": {},
   "outputs": [],
   "source": [
    "def retornar_livro_nt(livro):\n",
    "    pasta_txt_gnt = home + '/Software/almeida-semantica/sblgnt'\n",
    "    arqs = [arq for arq in os.listdir(pasta_txt_gnt) if re.match(r'^([\\s\\d]+).*txt$', arq)]\n",
    "    arqs.sort()\n",
    "    livros_nt = ['Mateus', 'Marcos', 'Lucas', 'João', 'Atos', 'Romanos', '1Coríntios', '2Coríntios', 'Gálatas', 'Efésios', 'Filipenses', 'Colossenses', '1Tessalonicenses', '2Tessalonicenses', '1Timóteo', '2Timóteo', 'Tito', 'Filemom', 'Hebreus', 'Tiago', '1Pedro', '2Pedro', '1João', '2João', '3João', 'Judas', 'Apocalipse']\n",
    "    \n",
    "    for idx, value in enumerate(livros_nt):\n",
    "        if livro==value:\n",
    "            arq = arqs[idx]\n",
    "\n",
    "    return os.path.join(pasta_txt_gnt, arq)\n"
   ]
  },
  {
   "cell_type": "code",
   "execution_count": 58,
   "id": "e381992e",
   "metadata": {},
   "outputs": [
    {
     "ename": "NameError",
     "evalue": "name 'livros_nt' is not defined",
     "output_type": "error",
     "traceback": [
      "\u001b[0;31m---------------------------------------------------------------------------\u001b[0m",
      "\u001b[0;31mNameError\u001b[0m                                 Traceback (most recent call last)",
      "\u001b[1;32m/home/s273524038/Software/almeida-semantica/teste_bd.ipynb Célula 36\u001b[0m line \u001b[0;36m1\n\u001b[0;32m----> <a href='vscode-notebook-cell:/home/s273524038/Software/almeida-semantica/teste_bd.ipynb#X42sZmlsZQ%3D%3D?line=0'>1</a>\u001b[0m \u001b[39mlen\u001b[39m(livros_nt)\n",
      "\u001b[0;31mNameError\u001b[0m: name 'livros_nt' is not defined"
     ]
    }
   ],
   "source": [
    "len(livros_nt)"
   ]
  },
  {
   "cell_type": "code",
   "execution_count": 39,
   "id": "a53c6bfd",
   "metadata": {},
   "outputs": [
    {
     "data": {
      "text/plain": [
       "'/home/s273524038/Software/almeida-semantica/sblgnt/46-1Co-morphgnt.txt'"
      ]
     },
     "execution_count": 39,
     "metadata": {},
     "output_type": "execute_result"
    }
   ],
   "source": [
    "retornar_livro_nt('1Coríntios')"
   ]
  },
  {
   "cell_type": "code",
   "execution_count": 40,
   "metadata": {},
   "outputs": [],
   "source": [
    "with open(retornar_livro_nt('1Coríntios'), 'r') as f:\n",
    "    # palavras = ''\n",
    "    cap=1\n",
    "    verso=18\n",
    "    str_verso=str(cap).zfill(2)+str(verso).zfill(2)\n",
    "    palavras = [linha.split()[3] for linha in f.readlines() if linha.split()[0][2:6]==str_verso] \n",
    "    # for linha in f.readlines():\n",
    "    #     if int(linha.split()[0][2:4])==1 and int(linha.split()[0][4:6]==18):\n",
    "    #         palavras += ''.join(linha.split()[3]) + ' '\n",
    "    #         print(linha.split()[3])\n",
    "\n",
    "    # linhas = [l.split()[3] for l in f.readlines() if int(f.readline().split()[0][2:4])==1 and int(f.readline().split()[0][4:6])==18]\n",
    "    # texto += ''.join(f.readline().split()[3])"
   ]
  },
  {
   "cell_type": "code",
   "execution_count": 41,
   "metadata": {},
   "outputs": [
    {
     "data": {
      "text/plain": [
       "'Ὁ λόγος γὰρ ὁ τοῦ σταυροῦ τοῖς μὲν ἀπολλυμένοις μωρία ἐστίν, τοῖς δὲ σῳζομένοις ἡμῖν δύναμις θεοῦ ἐστιν.'"
      ]
     },
     "execution_count": 41,
     "metadata": {},
     "output_type": "execute_result"
    }
   ],
   "source": [
    "\" \".join(palavras)"
   ]
  },
  {
   "cell_type": "code",
   "execution_count": 42,
   "id": "0391771c",
   "metadata": {},
   "outputs": [],
   "source": [
    "def retornar_txt_vs_gg(livro, cap, verso):\n",
    "    with open(retornar_livro_nt(livro), 'r') as f:\n",
    "        str_verso=str(cap).zfill(2)+str(verso).zfill(2)\n",
    "        palavras = [linha.split()[3] for linha in f.readlines() if linha.split()[0][2:6]==str_verso] \n",
    "        txt_verso = str(verso) + \" \" + \" \".join(palavras)\n",
    "    return txt_verso"
   ]
  },
  {
   "cell_type": "code",
   "execution_count": 43,
   "metadata": {},
   "outputs": [
    {
     "name": "stdout",
     "output_type": "stream",
     "text": [
      "4 τοῦ ὁρισθέντος υἱοῦ θεοῦ ἐν δυνάμει κατὰ πνεῦμα ἁγιωσύνης ἐξ ἀναστάσεως νεκρῶν, Ἰησοῦ Χριστοῦ τοῦ κυρίου ἡμῶν,\n"
     ]
    }
   ],
   "source": [
    "print(retornar_txt_vs_gg('Romanos', 1, 4))"
   ]
  },
  {
   "cell_type": "code",
   "execution_count": 44,
   "id": "3857ebac",
   "metadata": {},
   "outputs": [],
   "source": [
    "from translate import Translator"
   ]
  },
  {
   "cell_type": "code",
   "execution_count": 45,
   "id": "47ee4e93",
   "metadata": {},
   "outputs": [],
   "source": [
    "def retornar_livros_at():\n",
    "    sql = 'select distinct BookName from Words'\n",
    "\n",
    "    try:\n",
    "        with sqlite3.connect(hb_at) as cnx:\n",
    "            cursor = cnx.cursor()\n",
    "            rs = cursor.execute(sql).fetchall()\n",
    "    except sqlite3.Error as er:\n",
    "        print(er)\n",
    "\n",
    "    return [l[0] for l in rs]"
   ]
  },
  {
   "cell_type": "code",
   "execution_count": 46,
   "id": "b3f41ca0",
   "metadata": {},
   "outputs": [
    {
     "data": {
      "text/plain": [
       "['Ecclesiastes',\n",
       " 'Judges',\n",
       " 'Obadiah',\n",
       " 'Job',\n",
       " 'II Chronicles',\n",
       " 'Lamentations',\n",
       " 'Deuteronomy',\n",
       " 'Isaiah',\n",
       " 'Leviticus',\n",
       " 'Nahum',\n",
       " 'Malachi',\n",
       " 'Daniel',\n",
       " 'Joel',\n",
       " 'I Kings',\n",
       " 'Ezra',\n",
       " 'II Samuel',\n",
       " 'Zephaniah',\n",
       " 'Joshua',\n",
       " 'Song of Solomon',\n",
       " 'Amos',\n",
       " 'I Chronicles',\n",
       " 'Micah',\n",
       " 'Hosea',\n",
       " 'Nehemiah',\n",
       " 'Ezekiel',\n",
       " 'Psalms',\n",
       " 'Jeremiah',\n",
       " 'Ruth',\n",
       " 'Zechariah',\n",
       " 'Haggai',\n",
       " 'Esther',\n",
       " 'Jonah',\n",
       " 'Habakkuk',\n",
       " 'Genesis',\n",
       " 'Proverbs',\n",
       " 'Numbers',\n",
       " 'I Samuel',\n",
       " 'Exodus',\n",
       " 'II Kings']"
      ]
     },
     "execution_count": 46,
     "metadata": {},
     "output_type": "execute_result"
    }
   ],
   "source": [
    "retornar_livros_at()"
   ]
  },
  {
   "cell_type": "code",
   "execution_count": 47,
   "id": "c3391c39",
   "metadata": {},
   "outputs": [],
   "source": [
    "def traduzir_caps_interv(fonte, livro, cap_ini, cap_fim):\n",
    "    livros_at = retornar_livros_at()\n",
    "    transl=Translator(from_lang=fonte, to_lang='pt')\n",
    "    if livro in livros_at:\n",
    "        texto_traduzido = ''\n",
    "        for cap in range(cap_ini, cap_fim+1):\n",
    "            nr_vs = 1\n",
    "            for verso in [vs[1] for vs in retornar_txt_cap_hb(livro, cap)[1]]:\n",
    "                texto_traduzido += str(nr_vs) + ' '\n",
    "                texto_traduzido += ''.join(transl.translate(verso) + ' ')\n",
    "                nr_vs=nr_vs+1\n",
    "            texto_traduzido += ''.join('\\n\\n' + livro + ' ' + str(cap+1) + '\\n')\n",
    "\n",
    "    return texto_traduzido\n",
    "    "
   ]
  },
  {
   "cell_type": "code",
   "execution_count": 48,
   "metadata": {},
   "outputs": [],
   "source": [
    "def traduzir_vs(fonte, livro, cap, verso):\n",
    "    transl=Translator(from_lang=fonte, to_lang='pt')\n",
    "    if fonte=='he':\n",
    "        livros = retornar_livros_at()\n",
    "        if livro in livros:\n",
    "            return transl.translate(retornar_texto_vs_hb(livro, cap, verso))\n",
    "    else:\n",
    "        return transl.translate(retornar_txt_vs_gg(livro, cap, verso))"
   ]
  },
  {
   "cell_type": "code",
   "execution_count": 53,
   "metadata": {},
   "outputs": [],
   "source": [
    "transl=Translator(from_lang='el', to_lang='pt')"
   ]
  },
  {
   "cell_type": "code",
   "execution_count": 59,
   "metadata": {},
   "outputs": [],
   "source": [
    "texto_traduzido = transl.translate(txt_vs_nt(56, 1, 12))"
   ]
  },
  {
   "cell_type": "code",
   "execution_count": 8,
   "id": "bbe7c83c",
   "metadata": {},
   "outputs": [],
   "source": [
    "# texto_traduzido = traduzir_caps_interv('he', 'Genesis', 27, 37)"
   ]
  },
  {
   "cell_type": "code",
   "execution_count": 60,
   "id": "7d20da82",
   "metadata": {},
   "outputs": [
    {
     "name": "stdout",
     "output_type": "stream",
     "text": [
      "12 Um deles disse, um profeta deles, cretenses eternamente mentirosos, bestas malignas, raças azedas.\n"
     ]
    }
   ],
   "source": [
    "print(texto_traduzido)"
   ]
  },
  {
   "cell_type": "code",
   "execution_count": 20,
   "id": "752700ce",
   "metadata": {},
   "outputs": [],
   "source": [
    "with open('texto_traduzido', 'a') as saida:\n",
    "    saida.write(traduzir_caps_interv('he', 'Genesis', 22, 28))"
   ]
  },
  {
   "cell_type": "code",
   "execution_count": null,
   "id": "f1fece04",
   "metadata": {},
   "outputs": [],
   "source": [
    "with open('texto_traduzido', 'a') as saida:\n",
    "    saida.write(texto_traduzido)"
   ]
  },
  {
   "cell_type": "code",
   "execution_count": 49,
   "metadata": {},
   "outputs": [],
   "source": [
    "nt = 'sbl.db'"
   ]
  },
  {
   "cell_type": "code",
   "execution_count": 50,
   "metadata": {},
   "outputs": [],
   "source": [
    "import xml.etree.ElementTree as ET"
   ]
  },
  {
   "cell_type": "code",
   "execution_count": 51,
   "metadata": {},
   "outputs": [],
   "source": [
    "def txt_vs_nt(nr_livro, cap, vs):\n",
    "    sql = 'SELECT content FROM bible WHERE nr_sq_livro = {} AND chapter = {} AND verse = {}'.format(nr_livro, cap, vs)\n",
    "\n",
    "    try:\n",
    "        with sqlite3.connect(nt) as cnx:\n",
    "            cursor = cnx.cursor()\n",
    "            rs = cursor.execute(sql).fetchone()[0]\n",
    "    except sqlite3.Error as er:\n",
    "        print(er)\n",
    "\n",
    "    # como faz lista enumerada com if else \n",
    "    # return str(vs) + \" \" + \"\".join([child.text + \" \" if i!=len(verso) else child.text + child.tail for i, child in enumerate(verso)])\n",
    "\n",
    "    return str(vs) + \" \" + \"\".join([child.text + child.tail for child in ET.fromstring(rs)])\n"
   ]
  },
  {
   "cell_type": "code",
   "execution_count": 52,
   "metadata": {},
   "outputs": [
    {
     "data": {
      "text/plain": [
       "'6 ἦσαν δὲ δίκαιοι ἀμφότεροι ⸀ἐναντίον τοῦ θεοῦ, πορευόμενοι ἐν πάσαις ταῖς ἐντολαῖς καὶ δικαιώμασιν τοῦ κυρίου ἄμεμπτοι.\\n'"
      ]
     },
     "execution_count": 52,
     "metadata": {},
     "output_type": "execute_result"
    }
   ],
   "source": [
    "txt_vs_nt(42, 1, 6)"
   ]
  }
 ],
 "metadata": {
  "kernelspec": {
   "display_name": "Python 3 (ipykernel)",
   "language": "python",
   "name": "python3"
  },
  "language_info": {
   "codemirror_mode": {
    "name": "ipython",
    "version": 3
   },
   "file_extension": ".py",
   "mimetype": "text/x-python",
   "name": "python",
   "nbconvert_exporter": "python",
   "pygments_lexer": "ipython3",
   "version": "3.10.12"
  }
 },
 "nbformat": 4,
 "nbformat_minor": 5
}
