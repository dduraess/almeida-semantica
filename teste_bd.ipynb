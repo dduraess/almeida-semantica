{
 "cells": [
  {
   "cell_type": "code",
   "execution_count": 1,
   "id": "0dbd6d33-9d05-40f0-b7f5-553bd6435adb",
   "metadata": {
    "tags": []
   },
   "outputs": [],
   "source": [
    "import sqlite3"
   ]
  },
  {
   "cell_type": "code",
   "execution_count": 2,
   "id": "5155f316-c91f-4a53-b8f7-7320c65f3735",
   "metadata": {
    "tags": []
   },
   "outputs": [],
   "source": [
    "pt_ara = 'ARA.sqlite'"
   ]
  },
  {
   "cell_type": "code",
   "execution_count": 3,
   "id": "6113d9f5-5f9a-40e4-9068-fdce12be304d",
   "metadata": {
    "tags": []
   },
   "outputs": [],
   "source": [
    "def ultimo_vs(nm_livro, cap):\n",
    "    with open('nr_vs_por_livro_cap.sql') as f:\n",
    "        sql = f.read()\n",
    "    with sqlite3.connect(pt_ara) as cnx:\n",
    "        cursor = cnx.cursor()\n",
    "        rs = cursor.execute(sql.format(nm_livro, cap)).fetchall()\n",
    "    return rs[0][0]"
   ]
  },
  {
   "cell_type": "code",
   "execution_count": 10,
   "id": "7332712f-8c6c-435c-9849-1f6777048bca",
   "metadata": {
    "tags": []
   },
   "outputs": [],
   "source": [
    "def txt_intervalo(nm_livro, cap_ini, cap_fim, vs_ini, vs_fim):\n",
    "    with open('intervalo_vs.sql') as f:\n",
    "        sql = f.read()\n",
    "    with sqlite3.connect(pt_ara) as cnx:\n",
    "        cursor = cnx.cursor()\n",
    "        rs = cursor.execute(sql.format(nm_livro, cap_ini, cap_fim, vs_ini, vs_fim)).fetchall()\n",
    "    return rs"
   ]
  },
  {
   "cell_type": "code",
   "execution_count": 4,
   "id": "054ed6ff-53a8-40bb-9fce-45e16e073d9d",
   "metadata": {
    "tags": []
   },
   "outputs": [],
   "source": [
    "livro = 'Eclesiastes'"
   ]
  },
  {
   "cell_type": "code",
   "execution_count": 6,
   "id": "8a3cd2ff-9c3b-4a9f-a366-b5634b2e248b",
   "metadata": {
    "tags": []
   },
   "outputs": [],
   "source": [
    "cap_ini = 1"
   ]
  },
  {
   "cell_type": "code",
   "execution_count": 8,
   "id": "82e038a0",
   "metadata": {},
   "outputs": [],
   "source": [
    "cap_fim = 1"
   ]
  },
  {
   "cell_type": "code",
   "execution_count": 11,
   "id": "6571b789-2ac7-470e-ba24-102c9f6a2e90",
   "metadata": {
    "tags": []
   },
   "outputs": [],
   "source": [
    "lista_rs = txt_intervalo(livro, cap_ini, cap_fim, 1, ultimo_vs(livro, cap_fim))"
   ]
  },
  {
   "cell_type": "code",
   "execution_count": 5,
   "id": "dc1ad7e0",
   "metadata": {},
   "outputs": [
    {
     "ename": "NameError",
     "evalue": "name 'txt_intervalo' is not defined",
     "output_type": "error",
     "traceback": [
      "\u001b[0;31m---------------------------------------------------------------------------\u001b[0m",
      "\u001b[0;31mNameError\u001b[0m                                 Traceback (most recent call last)",
      "Cell \u001b[0;32mIn[5], line 1\u001b[0m\n\u001b[0;32m----> 1\u001b[0m lista_rs \u001b[39m=\u001b[39m txt_intervalo(livro, cap_ini, cap_fim, \u001b[39m9\u001b[39m, \u001b[39m13\u001b[39m)\n",
      "\u001b[0;31mNameError\u001b[0m: name 'txt_intervalo' is not defined"
     ]
    }
   ],
   "source": [
    "lista_rs = txt_intervalo(livro, cap_ini, cap_fim, 9, 13)"
   ]
  },
  {
   "cell_type": "code",
   "execution_count": 12,
   "id": "5608a12f-86a9-404d-af26-38e881924008",
   "metadata": {
    "tags": []
   },
   "outputs": [
    {
     "data": {
      "text/plain": [
       "[(1, 'Palavra do Pregador, filho de Davi, rei de Jerusalém:'),\n",
       " (2,\n",
       "  'Vaidade de vaidades, diz o Pregador; vaidade de vaidades, tudo é vaidade.'),\n",
       " (3,\n",
       "  'Que proveito tem o homem de todo o seu trabalho, com que se afadiga debaixo do sol?'),\n",
       " (4, 'Geração vai e geração vem; mas a terra permanece para sempre.'),\n",
       " (5,\n",
       "  'Levanta-se o sol, e põe-se o sol, e volta ao seu lugar, onde nasce de novo.'),\n",
       " (6,\n",
       "  'O vento vai para o sul e faz o seu giro para o norte; volve-se, e revolve-se, na sua carreira, e retorna aos seus circuitos.'),\n",
       " (7,\n",
       "  'Todos os rios correm para o mar, e o mar não se enche; ao lugar para onde correm os rios, para lá tornam eles a correr.'),\n",
       " (8,\n",
       "  'Todas as coisas são canseiras tais, que ninguém as pode exprimir; os olhos não se fartam de ver, nem se enchem os ouvidos de ouvir.'),\n",
       " (9,\n",
       "  'O que foi é o que há de ser; e o que se fez, isso se tornará a fazer; nada há, pois, novo debaixo do sol.'),\n",
       " (10,\n",
       "  'Há alguma coisa de que se possa dizer: Vê, isto é novo? Não! Já foi nos séculos que foram antes de nós.'),\n",
       " (11,\n",
       "  'Já não há lembrança das coisas que precederam; e das coisas posteriores também não haverá memória entre os que hão de vir depois delas.'),\n",
       " (12, 'Eu, o Pregador, venho sendo rei de Israel, em Jerusalém.'),\n",
       " (13,\n",
       "  'Apliquei o coração a esquadrinhar e a informar-me com sabedoria de tudo quanto sucede debaixo do céu; este enfadonho trabalho impôs Deus aos filhos dos homens, para nele os afligir.'),\n",
       " (14,\n",
       "  'Atentei para todas as obras que se fazem debaixo do sol, e eis que tudo era vaidade e correr atrás do vento.'),\n",
       " (15,\n",
       "  'Aquilo que é torto não se pode endireitar; e o que falta não se pode calcular.'),\n",
       " (16,\n",
       "  'Disse comigo: eis que me engrandeci e sobrepujei em sabedoria a todos os que antes de mim existiram em Jerusalém; com efeito, o meu coração tem tido larga experiência da sabedoria e do conhecimento.'),\n",
       " (17,\n",
       "  'Apliquei o coração a conhecer a sabedoria e a saber o que é loucura e o que é estultícia; e vim a saber que também isto é correr atrás do vento.'),\n",
       " (18,\n",
       "  'Porque na muita sabedoria há muito enfado; e quem aumenta ciência aumenta tristeza.')]"
      ]
     },
     "execution_count": 12,
     "metadata": {},
     "output_type": "execute_result"
    }
   ],
   "source": [
    "lista_rs"
   ]
  },
  {
   "cell_type": "code",
   "execution_count": 13,
   "id": "bb8e94ec-8fea-462e-be12-18a5f2814d6b",
   "metadata": {
    "tags": []
   },
   "outputs": [],
   "source": [
    "txt = ''"
   ]
  },
  {
   "cell_type": "code",
   "execution_count": 14,
   "id": "a1c99c35-ac5f-4a15-8a00-bc25ed70ab3e",
   "metadata": {
    "tags": []
   },
   "outputs": [],
   "source": [
    "for i in lista_rs:\n",
    "    txt += str(i[0]) + ' ' + i[1].strip() + ' '"
   ]
  },
  {
   "cell_type": "code",
   "execution_count": 15,
   "id": "7dcbe635-df5a-4c1a-9fb2-f37e54191981",
   "metadata": {
    "tags": []
   },
   "outputs": [
    {
     "data": {
      "text/plain": [
       "'1 Palavra do Pregador, filho de Davi, rei de Jerusalém: 2 Vaidade de vaidades, diz o Pregador; vaidade de vaidades, tudo é vaidade. 3 Que proveito tem o homem de todo o seu trabalho, com que se afadiga debaixo do sol? 4 Geração vai e geração vem; mas a terra permanece para sempre. 5 Levanta-se o sol, e põe-se o sol, e volta ao seu lugar, onde nasce de novo. 6 O vento vai para o sul e faz o seu giro para o norte; volve-se, e revolve-se, na sua carreira, e retorna aos seus circuitos. 7 Todos os rios correm para o mar, e o mar não se enche; ao lugar para onde correm os rios, para lá tornam eles a correr. 8 Todas as coisas são canseiras tais, que ninguém as pode exprimir; os olhos não se fartam de ver, nem se enchem os ouvidos de ouvir. 9 O que foi é o que há de ser; e o que se fez, isso se tornará a fazer; nada há, pois, novo debaixo do sol. 10 Há alguma coisa de que se possa dizer: Vê, isto é novo? Não! Já foi nos séculos que foram antes de nós. 11 Já não há lembrança das coisas que precederam; e das coisas posteriores também não haverá memória entre os que hão de vir depois delas. 12 Eu, o Pregador, venho sendo rei de Israel, em Jerusalém. 13 Apliquei o coração a esquadrinhar e a informar-me com sabedoria de tudo quanto sucede debaixo do céu; este enfadonho trabalho impôs Deus aos filhos dos homens, para nele os afligir. 14 Atentei para todas as obras que se fazem debaixo do sol, e eis que tudo era vaidade e correr atrás do vento. 15 Aquilo que é torto não se pode endireitar; e o que falta não se pode calcular. 16 Disse comigo: eis que me engrandeci e sobrepujei em sabedoria a todos os que antes de mim existiram em Jerusalém; com efeito, o meu coração tem tido larga experiência da sabedoria e do conhecimento. 17 Apliquei o coração a conhecer a sabedoria e a saber o que é loucura e o que é estultícia; e vim a saber que também isto é correr atrás do vento. 18 Porque na muita sabedoria há muito enfado; e quem aumenta ciência aumenta tristeza. '"
      ]
     },
     "execution_count": 15,
     "metadata": {},
     "output_type": "execute_result"
    }
   ],
   "source": [
    "txt"
   ]
  },
  {
   "cell_type": "code",
   "execution_count": 3,
   "id": "ed881d54-4cf2-4331-a700-eab74d69ab83",
   "metadata": {},
   "outputs": [],
   "source": [
    "hb_at = 'OSHB.db'"
   ]
  },
  {
   "cell_type": "code",
   "execution_count": 2,
   "id": "63b481fa",
   "metadata": {},
   "outputs": [],
   "source": [
    "palavra_hb = 'חכמה'"
   ]
  },
  {
   "cell_type": "code",
   "execution_count": 3,
   "id": "15efcf40",
   "metadata": {},
   "outputs": [],
   "source": [
    "def encontrar_palavra_hb_at(palavra_hb):\n",
    "    with open('hb_word.sql') as f:\n",
    "        sql = f.read()\n",
    "\n",
    "    with sqlite3.connect(hb_at) as cnx:\n",
    "        cursor = cnx.cursor()\n",
    "        rs = cursor.execute(sql.format(palavra_hb)).fetchall()\n",
    "    return rs\n",
    "    "
   ]
  },
  {
   "cell_type": "code",
   "execution_count": 9,
   "id": "2ea40e1b",
   "metadata": {},
   "outputs": [
    {
     "data": {
      "text/plain": [
       "[(136, 'Ecclesiastes', 1, 13, 6, 'Hb/H2451', 'Rd/Ncfsa'),\n",
       " (181, 'Ecclesiastes', 1, 16, 10, 'H2451', 'Ncfsa'),\n",
       " (192, 'Ecclesiastes', 1, 16, 21, 'H2451', 'Ncfsa'),\n",
       " (197, 'Ecclesiastes', 1, 17, 4, 'H2451', 'Ncfsa'),\n",
       " (209, 'Ecclesiastes', 1, 18, 3, 'H2451', 'Ncfsa'),\n",
       " (244, 'Ecclesiastes', 2, 3, 9, 'Hb/H2451', 'Rd/Ncfsa'),\n",
       " (377, 'Ecclesiastes', 2, 12, 4, 'H2451', 'Ncfsa'),\n",
       " (394, 'Ecclesiastes', 2, 13, 5, 'Hl/H2451', 'Rd/Ncfsa'),\n",
       " (509, 'Ecclesiastes', 2, 21, 5, 'Hb/H2451', 'R/Ncfsa'),\n",
       " (580, 'Ecclesiastes', 2, 26, 6, 'H2451', 'Ncfsa'),\n",
       " (1647, 'Ecclesiastes', 7, 10, 12, 'Hm/H2451', 'R/Ncfsa'),\n",
       " (1652, 'Ecclesiastes', 7, 11, 2, 'H2451', 'Ncfsa'),\n",
       " (1660, 'Ecclesiastes', 7, 12, 3, 'Hd/H2451', 'Td/Ncfsa'),\n",
       " (1665, 'Ecclesiastes', 7, 12, 8, 'Hd/H2451', 'Td/Ncfsa'),\n",
       " (1748, 'Ecclesiastes', 7, 19, 1, 'Hd/H2451', 'Td/Ncfsa'),\n",
       " (1795, 'Ecclesiastes', 7, 23, 4, 'Hb/H2451', 'Rd/Ncfsa'),\n",
       " (1797, 'Ecclesiastes', 7, 23, 6, 'H2449', 'Vqh1cs'),\n",
       " (1814, 'Ecclesiastes', 7, 25, 7, 'H2451', 'Ncfsa'),\n",
       " (2114, 'Ecclesiastes', 8, 16, 6, 'H2451', 'Ncfsa'),\n",
       " (2345, 'Ecclesiastes', 9, 10, 13, 'Hc/H2451', 'C/Ncfsa'),\n",
       " (2406, 'Ecclesiastes', 9, 13, 4, 'H2451', 'Ncfsa'),\n",
       " (2447, 'Ecclesiastes', 9, 16, 4, 'H2451', 'Ncfsa'),\n",
       " (2463, 'Ecclesiastes', 9, 18, 2, 'H2451', 'Ncfsa'),\n",
       " (2478, 'Ecclesiastes', 10, 1, 8, 'Hm/H2451', 'R/Ncfsa'),\n",
       " (2565, 'Ecclesiastes', 10, 10, 13, 'H2451', 'Ncfsa'),\n",
       " (14107, 'Job', 4, 21, 7, 'Hb/H2451', 'R/Ncfsa'),\n",
       " (15344, 'Job', 11, 6, 4, 'H2451', 'Ncfsa'),\n",
       " (15466, 'Job', 12, 2, 7, 'H2451', 'Ncfsa'),\n",
       " (15551, 'Job', 12, 12, 2, 'H2451', 'Ncfsa'),\n",
       " (15556, 'Job', 12, 13, 2, 'H2451', 'Ncfsa'),\n",
       " (15678, 'Job', 13, 5, 7, 'Hl/H2451', 'R/Ncfsa'),\n",
       " (16074, 'Job', 15, 8, 6, 'H2451', 'Ncfsa'),\n",
       " (17969, 'Job', 26, 3, 4, 'H2451', 'Ncfsa'),\n",
       " (18310, 'Job', 28, 12, 1, 'Hc/Hd/H2451', 'C/Td/Ncfsa'),\n",
       " (18361, 'Job', 28, 18, 6, 'H2451', 'Ncfsa'),\n",
       " (18371, 'Job', 28, 20, 1, 'Hc/Hd/H2451', 'C/Td/Ncfsa'),\n",
       " (18431, 'Job', 28, 28, 7, 'H2451', 'Ncfsa'),\n",
       " (19228, 'Job', 32, 7, 7, 'H2451', 'Ncfsa'),\n",
       " (19271, 'Job', 32, 13, 4, 'H2451', 'Ncfsa'),\n",
       " (19592, 'Job', 33, 33, 8, 'H2451', 'Ncfsa'),\n",
       " (20694, 'Job', 38, 36, 4, 'H2451', 'Ncfsa'),\n",
       " (20703, 'Job', 38, 37, 4, 'Hb/H2451', 'R/Ncfsa'),\n",
       " (20857, 'Job', 39, 17, 4, 'H2451', 'Ncfsa'),\n",
       " (21727, 'II Chronicles', 1, 10, 2, 'H2451', 'Ncfsa'),\n",
       " (21767, 'II Chronicles', 1, 11, 25, 'H2451', 'Ncfsa'),\n",
       " (21776, 'II Chronicles', 1, 12, 1, 'Hd/H2451', 'Td/Ncfsa'),\n",
       " (24801, 'II Chronicles', 9, 22, 8, 'Hc/H2451', 'C/Ncfsa'),\n",
       " (50779, 'Deuteronomy', 34, 9, 6, 'H2451', 'Ncfsa'),\n",
       " (53695, 'Isaiah', 11, 2, 6, 'H2451', 'Ncfsa'),\n",
       " (81285, 'Daniel', 1, 4, 12, 'H2451', 'Ncfsa'),\n",
       " (81478, 'Daniel', 1, 17, 11, 'Hc/H2451', 'C/Ncfsa'),\n",
       " (82010, 'Daniel', 2, 30, 3, 'Hb/H2452', 'AR/Ncfsa'),\n",
       " (83851, 'Daniel', 5, 11, 13, 'Hc/H2452', 'AC/Ncfsa'),\n",
       " (83927, 'Daniel', 5, 14, 10, 'Hc/H2452', 'AC/Ncfsa'),\n",
       " (90639, 'I Kings', 4, 29, 3, 'H2451', 'Ncfsa'),\n",
       " (90933, 'I Kings', 5, 12, 3, 'H2451', 'Ncfsa'),\n",
       " (91721, 'I Kings', 7, 14, 14, 'Hd/H2451', 'Td/Ncfsa'),\n",
       " (94060, 'I Kings', 10, 7, 15, 'H2451', 'Ncfsa'),\n",
       " (94324, 'I Kings', 10, 23, 8, 'Hc/Hl/H2451', 'C/R/Ncfsa'),\n",
       " (110608, 'II Samuel', 14, 2, 7, 'H2450', 'Aafsa'),\n",
       " (114428, 'II Samuel', 20, 16, 3, 'H2450', 'Aafsa'),\n",
       " (140765, 'I Chronicles', 28, 21, 14, 'Hb/H2451', 'Rd/Ncfsa'),\n",
       " (160526, 'Ezekiel', 28, 12, 18, 'H2451', 'Ncfsa'),\n",
       " (173849, 'Psalms', 37, 30, 4, 'H2451', 'Ncfsa'),\n",
       " (175762, 'Psalms', 51, 6, 6, 'H2451', 'Ncfsa'),\n",
       " (181457, 'Psalms', 90, 12, 7, 'H2451', 'Ncfsa'),\n",
       " (183078, 'Psalms', 104, 24, 6, 'Hb/H2451', 'R/Ncfsa'),\n",
       " (184531, 'Psalms', 111, 10, 2, 'H2451', 'Ncfsa'),\n",
       " (208222, 'Jeremiah', 49, 7, 8, 'H2451', 'Ncfsa'),\n",
       " (213944, 'Zechariah', 9, 2, 8, 'H2449', 'Vqp3fs'),\n",
       " (240963, 'Proverbs', 1, 2, 2, 'H2451', 'Ncfsa'),\n",
       " (240997, 'Proverbs', 1, 7, 5, 'H2451', 'Ncfsa'),\n",
       " (241202, 'Proverbs', 2, 2, 2, 'Hl/H2451', 'Rd/Ncfsa'),\n",
       " (241229, 'Proverbs', 2, 6, 4, 'H2451', 'Ncfsa'),\n",
       " (241257, 'Proverbs', 2, 10, 3, 'H2451', 'Ncfsa'),\n",
       " (241435, 'Proverbs', 3, 13, 4, 'H2451', 'Ncfsa'),\n",
       " (241475, 'Proverbs', 3, 19, 2, 'Hb/H2451', 'R/Ncfsa'),\n",
       " (241635, 'Proverbs', 4, 5, 2, 'H2451', 'Ncfsa'),\n",
       " (241650, 'Proverbs', 4, 7, 2, 'H2451', 'Ncfsa'),\n",
       " (241652, 'Proverbs', 4, 7, 4, 'H2451', 'Ncfsa'),\n",
       " (241678, 'Proverbs', 4, 11, 2, 'H2451', 'Ncfsa'),\n",
       " (242256, 'Proverbs', 7, 4, 2, 'Hl/H2451', 'Rd/Ncfsa'),\n",
       " (242430, 'Proverbs', 8, 1, 2, 'H2451', 'Ncfsa'),\n",
       " (242499, 'Proverbs', 8, 11, 3, 'H2451', 'Ncfsa'),\n",
       " (242507, 'Proverbs', 8, 12, 2, 'H2451', 'Ncfsa'),\n",
       " (242754, 'Proverbs', 9, 10, 2, 'H2451', 'Ncfsa'),\n",
       " (242909, 'Proverbs', 10, 13, 4, 'H2451', 'Ncfsa'),\n",
       " (242984, 'Proverbs', 10, 23, 5, 'Hc/H2451', 'C/Ncfsa'),\n",
       " (243039, 'Proverbs', 10, 31, 4, 'H2451', 'Ncfsa'),\n",
       " (243063, 'Proverbs', 11, 2, 7, 'H2451', 'Ncfsa'),\n",
       " (243549, 'Proverbs', 13, 10, 7, 'H2451', 'Ncfsa'),\n",
       " (243701, 'Proverbs', 14, 6, 3, 'H2451', 'Ncfsa'),\n",
       " (243894, 'Proverbs', 14, 33, 4, 'H2451', 'Ncfsa'),\n",
       " (244160, 'Proverbs', 15, 33, 4, 'H2451', 'Ncfsa'),\n",
       " (244277, 'Proverbs', 16, 16, 2, 'H2451', 'Ncfsa'),\n",
       " (244548, 'Proverbs', 17, 16, 7, 'H2451', 'Ncfsa'),\n",
       " (244610, 'Proverbs', 17, 24, 4, 'H2451', 'Ncfsa'),\n",
       " (244677, 'Proverbs', 18, 4, 9, 'H2451', 'Ncfsa'),\n",
       " (245511, 'Proverbs', 21, 30, 2, 'H2451', 'Ncfsa'),\n",
       " (245935, 'Proverbs', 23, 23, 5, 'H2451', 'Ncfsa'),\n",
       " (246055, 'Proverbs', 24, 3, 1, 'Hb/H2451', 'R/Ncfsa'),\n",
       " (246142, 'Proverbs', 24, 14, 3, 'H2451', 'Ncfsa'),\n",
       " (247193, 'Proverbs', 28, 26, 6, 'Hb/H2451', 'R/Ncfsa'),\n",
       " (247229, 'Proverbs', 29, 3, 3, 'H2451', 'Ncfsa'),\n",
       " (247323, 'Proverbs', 29, 15, 4, 'H2451', 'Ncfsa'),\n",
       " (247435, 'Proverbs', 30, 3, 3, 'H2451', 'Ncfsa'),\n",
       " (247899, 'Proverbs', 31, 26, 3, 'Hb/H2451', 'R/Ncfsa'),\n",
       " (277737, 'Exodus', 1, 10, 2, 'H2449', 'Vth1cp'),\n",
       " (288306, 'Exodus', 28, 3, 10, 'H2451', 'Ncfsa'),\n",
       " (290001, 'Exodus', 31, 3, 5, 'Hb/H2451', 'R/Ncfsa'),\n",
       " (290035, 'Exodus', 31, 6, 16, 'H2451', 'Ncfsa'),\n",
       " (291974, 'Exodus', 35, 26, 7, 'Hb/H2451', 'R/Ncfsa'),\n",
       " (292038, 'Exodus', 35, 31, 5, 'Hb/H2451', 'R/Ncfsa'),\n",
       " (292098, 'Exodus', 36, 1, 11, 'H2451', 'Ncfsa'),\n",
       " (292126, 'Exodus', 36, 2, 15, 'H2451', 'Ncfsa')]"
      ]
     },
     "execution_count": 9,
     "metadata": {},
     "output_type": "execute_result"
    }
   ],
   "source": [
    "encontrar_palavra_hb_at(palavra_hb)"
   ]
  },
  {
   "cell_type": "code",
   "execution_count": 10,
   "id": "1cc2614b",
   "metadata": {},
   "outputs": [],
   "source": [
    "lxx = 'lxx.db'"
   ]
  },
  {
   "cell_type": "code",
   "execution_count": 15,
   "id": "1a6a68e3",
   "metadata": {},
   "outputs": [],
   "source": [
    "palavra_gg = 'γένεσις'"
   ]
  },
  {
   "cell_type": "code",
   "execution_count": 12,
   "id": "0fa9af22",
   "metadata": {},
   "outputs": [],
   "source": [
    "def encontrar_palavra_gg_at(palavra_gg):\n",
    "    with open('gk_word.sql') as f:\n",
    "        sql = f.read()\n",
    "\n",
    "    with sqlite3.connect(lxx) as cnx:\n",
    "        cursor = cnx.cursor()\n",
    "        rs = cursor.execute(sql.format(palavra_gg)).fetchall()\n",
    "    return rs"
   ]
  },
  {
   "cell_type": "code",
   "execution_count": 17,
   "id": "d0e2e858",
   "metadata": {},
   "outputs": [
    {
     "data": {
      "text/plain": [
       "[('05.Num.mlxx', 'Num', 1, 18, 16, 'γένεσις', 'N3I APF'),\n",
       " ('05.Num.mlxx', 'Num', 3, 1, 4, 'γένεσις', 'N3I NPF'),\n",
       " ('25.2Macc.mlxx', '2Mac', 7, 23, 9, 'γένεσις', 'N3I ASF'),\n",
       " ('25.2Macc.mlxx', '2Mac', 7, 23, 13, 'γένεσις', 'N3I ASF'),\n",
       " ('63.SusOG.mlxx', 'Sus', 1, '35a', 11, 'γένεσις', 'N3I GSF'),\n",
       " ('38.Hosea.mlxx', 'Hos', 2, 5, 11, 'γένεσις', 'N3I GSF'),\n",
       " ('21.Judith.mlxx', 'Jdt', 12, 18, 20, 'γένεσις', 'N3I GSF'),\n",
       " ('27.4Macc.mlxx', '4Mac', 15, 25, 13, 'γένεσις', 'N3I ASF'),\n",
       " ('37.PsSol.mlxx', 'PsSol', 3, 9, 9, 'γένεσις', 'N3I GSF'),\n",
       " ('11.Ruth.mlxx', 'Ruth', 2, 11, 35, 'γένεσις', 'N3I GSF'),\n",
       " ('11.Ruth.mlxx', 'Ruth', 4, 18, 4, 'γένεσις', 'N3I NPF'),\n",
       " ('01.Gen.1.mlxx', 'Gen', 2, 4, 4, 'γένεσις', 'N3I GSF'),\n",
       " ('01.Gen.1.mlxx', 'Gen', 5, 1, 4, 'γένεσις', 'N3I GSF'),\n",
       " ('01.Gen.1.mlxx', 'Gen', 6, 9, 4, 'γένεσις', 'N3I NPF'),\n",
       " ('01.Gen.1.mlxx', 'Gen', 10, 1, 4, 'γένεσις', 'N3I NPF'),\n",
       " ('01.Gen.1.mlxx', 'Gen', 10, 32, 7, 'γένεσις', 'N3I NPF'),\n",
       " ('01.Gen.1.mlxx', 'Gen', 11, 10, 4, 'γένεσις', 'N3I NPF'),\n",
       " ('01.Gen.1.mlxx', 'Gen', 11, 27, 4, 'γένεσις', 'N3I NPF'),\n",
       " ('01.Gen.1.mlxx', 'Gen', 25, 12, 4, 'γένεσις', 'N3I NPF'),\n",
       " ('01.Gen.1.mlxx', 'Gen', 25, 19, 4, 'γένεσις', 'N3I NPF'),\n",
       " ('64.SusTh.mlxx', 'SusTh', 1, 42, 21, 'γένεσις', 'N3I GSF'),\n",
       " ('36.Sirach.mlxx', 'Sir', 44, 1, 10, 'γένεσις', 'N3I DSF'),\n",
       " ('03.Exod.mlxx', 'Exod', 6, 24, 11, 'γένεσις', 'N3I NPF'),\n",
       " ('03.Exod.mlxx', 'Exod', 6, 25, 23, 'γένεσις', 'N3I APF'),\n",
       " ('03.Exod.mlxx', 'Exod', 28, 10, 21, 'γένεσις', 'N3I APF'),\n",
       " ('61.DanielOG.mlxx', 'Dan', 2, 43, 14, 'γένεσις', 'N3I ASF'),\n",
       " ('35.Wisdom.mlxx', 'Wis', 1, 14, 11, 'γένεσις', 'N3I NPF'),\n",
       " ('35.Wisdom.mlxx', 'Wis', 3, 12, 12, 'γένεσις', 'N3I NSF'),\n",
       " ('35.Wisdom.mlxx', 'Wis', 6, 22, 17, 'γένεσις', 'N3I GSF'),\n",
       " ('35.Wisdom.mlxx', 'Wis', 7, 5, 6, 'γένεσις', 'N3I GSF'),\n",
       " ('35.Wisdom.mlxx', 'Wis', 12, 10, 13, 'γένεσις', 'N3I NSF'),\n",
       " ('35.Wisdom.mlxx', 'Wis', 14, 6, 17, 'γένεσις', 'N3I GSF'),\n",
       " ('35.Wisdom.mlxx', 'Wis', 14, 26, 7, 'γένεσις', 'N3I GSF'),\n",
       " ('35.Wisdom.mlxx', 'Wis', 16, 26, 12, 'γένεσις', 'N3I NPF'),\n",
       " ('35.Wisdom.mlxx', 'Wis', 18, 12, 26, 'γένεσις', 'N3I NSF'),\n",
       " ('35.Wisdom.mlxx', 'Wis', 19, 10, 12, 'γένεσις', 'N3I GSF'),\n",
       " ('57.Ezek1.mlxx', 'Ezek', 4, 14, 23, 'γένεσις', 'N3I GSF'),\n",
       " ('57.Ezek1.mlxx', 'Ezek', 16, 3, 13, 'γένεσις', 'N3I NSF'),\n",
       " ('57.Ezek1.mlxx', 'Ezek', 16, 4, 3, 'γένεσις', 'N3I NSF'),\n",
       " ('32.Qoheleth.mlxx', 'Qoh', 7, 1, 12, 'γένεσις', 'N3I GSF'),\n",
       " ('16.1Chron.mlxx', '1Chr', 1, 29, 4, 'γένεσις', 'N3I NPF'),\n",
       " ('16.1Chron.mlxx', '1Chr', 4, 2, 20, 'γένεσις', 'N3I NPF'),\n",
       " ('16.1Chron.mlxx', '1Chr', 4, 21, 13, 'γένεσις', 'N3I NPF'),\n",
       " ('16.1Chron.mlxx', '1Chr', 4, 38, 9, 'γένεσις', 'N3I DPF'),\n",
       " ('16.1Chron.mlxx', '1Chr', 5, 7, 12, 'γένεσις', 'N3I NPF'),\n",
       " ('16.1Chron.mlxx', '1Chr', 7, 2, 24, 'γένεσις', 'N3I NPF'),\n",
       " ('16.1Chron.mlxx', '1Chr', 7, 4, 5, 'γένεσις', 'N3I NPF'),\n",
       " ('16.1Chron.mlxx', '1Chr', 7, 9, 6, 'γένεσις', 'N3I NPF'),\n",
       " ('16.1Chron.mlxx', '1Chr', 8, 28, 5, 'γένεσις', 'N3I NPF'),\n",
       " ('16.1Chron.mlxx', '1Chr', 9, 9, 5, 'γένεσις', 'N3I APF'),\n",
       " ('16.1Chron.mlxx', '1Chr', 9, 34, 8, 'γένεσις', 'N3I APF'),\n",
       " ('16.1Chron.mlxx', '1Chr', 26, 31, 9, 'γένεσις', 'N3I NPF'),\n",
       " ('02.Gen.2.mlxx', 'Gen', 31, 13, 36, 'γένεσις', 'N3I GSF'),\n",
       " ('02.Gen.2.mlxx', 'Gen', 32, 10, 26, 'γένεσις', 'N3I GSF'),\n",
       " ('02.Gen.2.mlxx', 'Gen', 36, 1, 4, 'γένεσις', 'N3I NPF'),\n",
       " ('02.Gen.2.mlxx', 'Gen', 36, 9, 4, 'γένεσις', 'N3I NPF'),\n",
       " ('02.Gen.2.mlxx', 'Gen', 37, 2, 4, 'γένεσις', 'N3I NPF'),\n",
       " ('02.Gen.2.mlxx', 'Gen', 40, 20, 9, 'γένεσις', 'N3I GSF')]"
      ]
     },
     "execution_count": 17,
     "metadata": {},
     "output_type": "execute_result"
    }
   ],
   "source": [
    "encontrar_palavra_gg_at(palavra_gg)"
   ]
  },
  {
   "cell_type": "code",
   "execution_count": 1,
   "id": "59d40585",
   "metadata": {},
   "outputs": [],
   "source": [
    "def retornar_texto_vs_hb(livro, cap, verso):\n",
    "    sql ='SELECT Verse, Form FROM Words WHERE BookName like \"{}\" and Chapter = {} and Verse = {}'.format(livro, cap, verso)\n",
    "    with sqlite3.connect(hb_at) as cnx:\n",
    "        cursor = cnx.cursor()\n",
    "        rs = cursor.execute(sql).fetchall()\n",
    "        nr_versiculo = rs[0][0]\n",
    "        palavras_vs_hb = ''.join([p[1].replace('/', '') + ' ' for p in rs])\n",
    "    return (nr_versiculo, palavras_vs_hb)"
   ]
  },
  {
   "cell_type": "code",
   "execution_count": 151,
   "id": "771135bf",
   "metadata": {},
   "outputs": [
    {
     "name": "stdout",
     "output_type": "stream",
     "text": [
      "(10, 'זאת בריתי אשר תשמרו ביני וביניכם ובין זרעך אחריך המול לכם כל זכר ')\n"
     ]
    }
   ],
   "source": [
    "texto_vs_hb = retornar_texto_vs_hb('Genesis', 17, 10)\n",
    "print(texto_vs_hb)"
   ]
  },
  {
   "cell_type": "code",
   "execution_count": 4,
   "id": "9ef2e604",
   "metadata": {},
   "outputs": [],
   "source": [
    "def retornar_txt_cap_hb(livro, cap):\n",
    "    sql = 'select max(Verse) from Words where BookName like \"{}\" and Chapter = {}'.format(livro, cap)\n",
    "    with sqlite3.connect(hb_at) as cnx:\n",
    "        cursor = cnx.cursor()\n",
    "        rs = cursor.execute(sql).fetchone()\n",
    "        txt_cap_hb = []\n",
    "        for vs in range(1, rs[0]+1):\n",
    "            txt_cap_hb.append(retornar_texto_vs_hb(livro, cap, vs))\n",
    "    return (cap, txt_cap_hb)"
   ]
  },
  {
   "cell_type": "code",
   "execution_count": 33,
   "id": "bdd4184c",
   "metadata": {},
   "outputs": [
    {
     "data": {
      "text/plain": [
       "['בראשית ברא אלהים את השמים ואת הארץ ',\n",
       " 'והארץ היתה תהו ובהו וחשך על פני תהום ורוח אלהים מרחפת על פני המים ',\n",
       " 'ויאמר אלהים יהי אור ויהי אור ',\n",
       " 'וירא אלהים את האור כי טוב ויבדל אלהים בין האור ובין החשך ',\n",
       " 'ויקרא אלהים לאור יום ולחשך קרא לילה ויהי ערב ויהי בקר יום אחד ',\n",
       " 'ויאמר אלהים יהי רקיע בתוך המים ויהי מבדיל בין מים למים ',\n",
       " 'ויעש אלהים את הרקיע ויבדל בין המים אשר מתחת לרקיע ובין המים אשר מעל לרקיע ויהי כן ',\n",
       " 'ויקרא אלהים לרקיע שמים ויהי ערב ויהי בקר יום שני ',\n",
       " 'ויאמר אלהים יקוו המים מתחת השמים אל מקום אחד ותראה היבשה ויהי כן ',\n",
       " 'ויקרא אלהים ליבשה ארץ ולמקוה המים קרא ימים וירא אלהים כי טוב ',\n",
       " 'ויאמר אלהים תדשא הארץ דשא עשב מזריע זרע עץ פרי עשה פרי למינו אשר זרעו בו על הארץ ויהי כן ',\n",
       " 'ותוצא הארץ דשא עשב מזריע זרע למינהו ועץ עשה פרי אשר זרעו בו למינהו וירא אלהים כי טוב ',\n",
       " 'ויהי ערב ויהי בקר יום שלישי ',\n",
       " 'ויאמר אלהים יהי מארת ברקיע השמים להבדיל בין היום ובין הלילה והיו לאתת ולמועדים ולימים ושנים ',\n",
       " 'והיו למאורת ברקיע השמים להאיר על הארץ ויהי כן ',\n",
       " 'ויעש אלהים את שני המארת הגדלים את המאור הגדל לממשלת היום ואת המאור הקטן לממשלת הלילה ואת הכוכבים ',\n",
       " 'ויתן אתם אלהים ברקיע השמים להאיר על הארץ ',\n",
       " 'ולמשל ביום ובלילה ולהבדיל בין האור ובין החשך וירא אלהים כי טוב ',\n",
       " 'ויהי ערב ויהי בקר יום רביעי ',\n",
       " 'ויאמר אלהים ישרצו המים שרץ נפש חיה ועוף יעופף על הארץ על פני רקיע השמים ',\n",
       " 'ויברא אלהים את התנינם הגדלים ואת כל נפש החיה הרמשת אשר שרצו המים למינהם ואת כל עוף כנף למינהו וירא אלהים כי טוב ',\n",
       " 'ויברך אתם אלהים לאמר פרו ורבו ומלאו את המים בימים והעוף ירב בארץ ',\n",
       " 'ויהי ערב ויהי בקר יום חמישי ',\n",
       " 'ויאמר אלהים תוצא הארץ נפש חיה למינה בהמה ורמש וחיתו ארץ למינה ויהי כן ',\n",
       " 'ויעש אלהים את חית הארץ למינה ואת הבהמה למינה ואת כל רמש האדמה למינהו וירא אלהים כי טוב ',\n",
       " 'ויאמר אלהים נעשה אדם בצלמנו כדמותנו וירדו בדגת הים ובעוף השמים ובבהמה ובכל הארץ ובכל הרמש הרמש על הארץ ',\n",
       " 'ויברא אלהים את האדם בצלמו בצלם אלהים ברא אתו זכר ונקבה ברא אתם ',\n",
       " 'ויברך אתם אלהים ויאמר להם אלהים פרו ורבו ומלאו את הארץ וכבשה ורדו בדגת הים ובעוף השמים ובכל חיה הרמשת על הארץ ',\n",
       " 'ויאמר אלהים הנה נתתי לכם את כל עשב זרע זרע אשר על פני כל הארץ ואת כל העץ אשר בו פרי עץ זרע זרע לכם יהיה לאכלה ',\n",
       " 'ולכל חית הארץ ולכל עוף השמים ולכל רומש על הארץ אשר בו נפש חיה את כל ירק עשב לאכלה ויהי כן ',\n",
       " 'וירא אלהים את כל אשר עשה והנה טוב מאד ויהי ערב ויהי בקר יום הששי ']"
      ]
     },
     "execution_count": 33,
     "metadata": {},
     "output_type": "execute_result"
    }
   ],
   "source": [
    "[vs[1] for vs in retornar_txt_cap_hb('Genesis', 1)[1]]"
   ]
  },
  {
   "cell_type": "code",
   "execution_count": 5,
   "id": "e2b1c396",
   "metadata": {},
   "outputs": [],
   "source": [
    "def retornar_txt_livro_hb(livro):\n",
    "    sql = 'select max(Chapter) from Words where BookName like \"{}\"'.format(livro)\n",
    "    with sqlite3.connect(hb_at) as cnx:\n",
    "        cursor = cnx.cursor()\n",
    "        rs = cursor.execute(sql).fetchone()\n",
    "        txt_livro_hb = []\n",
    "        for cap in range(1, rs[0]+1):\n",
    "            txt_livro_hb.append(retornar_txt_cap_hb(livro, cap))\n",
    "    return txt_livro_hb\n",
    "        \n"
   ]
  },
  {
   "cell_type": "code",
   "execution_count": 15,
   "id": "f5fc6788",
   "metadata": {},
   "outputs": [],
   "source": [
    "texto_hb = retornar_texto_vs_hb('Genesis', 1, 5)"
   ]
  },
  {
   "cell_type": "code",
   "execution_count": 16,
   "id": "925f5d79",
   "metadata": {},
   "outputs": [
    {
     "name": "stdout",
     "output_type": "stream",
     "text": [
      "(5, 'ויקרא אלהים לאור יום ולחשך קרא לילה ויהי ערב ויהי בקר יום אחד ')\n"
     ]
    }
   ],
   "source": [
    "print(texto_hb)"
   ]
  },
  {
   "cell_type": "code",
   "execution_count": 3,
   "id": "7f1f27fb",
   "metadata": {},
   "outputs": [],
   "source": [
    "import os\n",
    "import re\n",
    "from pathlib import Path\n",
    "home = str(Path.home())"
   ]
  },
  {
   "cell_type": "code",
   "execution_count": 8,
   "id": "4b5ce37b",
   "metadata": {},
   "outputs": [
    {
     "data": {
      "text/plain": [
       "['66-Re-morphgnt.txt',\n",
       " '64-3Jn-morphgnt.txt',\n",
       " '40-Mt-morphgnt.txt',\n",
       " '53-2Th-morphgnt.txt',\n",
       " '52-1Th-morphgnt.txt',\n",
       " '59-Jas-morphgnt.txt',\n",
       " '56-Tit-morphgnt.txt',\n",
       " '48-Ga-morphgnt.txt',\n",
       " '42-Lk-morphgnt.txt',\n",
       " '45-Ro-morphgnt.txt',\n",
       " '43-Jn-morphgnt.txt',\n",
       " '41-Mk-morphgnt.txt',\n",
       " '55-2Ti-morphgnt.txt',\n",
       " '60-1Pe-morphgnt.txt',\n",
       " '54-1Ti-morphgnt.txt',\n",
       " '61-2Pe-morphgnt.txt',\n",
       " '51-Col-morphgnt.txt',\n",
       " '44-Ac-morphgnt.txt',\n",
       " '58-Heb-morphgnt.txt',\n",
       " '65-Jud-morphgnt.txt',\n",
       " '47-2Co-morphgnt.txt',\n",
       " '46-1Co-morphgnt.txt',\n",
       " '63-2Jn-morphgnt.txt',\n",
       " '62-1Jn-morphgnt.txt',\n",
       " '49-Eph-morphgnt.txt',\n",
       " '57-Phm-morphgnt.txt',\n",
       " '50-Php-morphgnt.txt']"
      ]
     },
     "execution_count": 8,
     "metadata": {},
     "output_type": "execute_result"
    }
   ],
   "source": [
    "arqs"
   ]
  },
  {
   "cell_type": "code",
   "execution_count": 3,
   "id": "e381992e",
   "metadata": {},
   "outputs": [
    {
     "data": {
      "text/plain": [
       "27"
      ]
     },
     "execution_count": 3,
     "metadata": {},
     "output_type": "execute_result"
    }
   ],
   "source": [
    "len(livros_nt)"
   ]
  },
  {
   "cell_type": "code",
   "execution_count": 8,
   "metadata": {},
   "outputs": [],
   "source": [
    "pasta_txt_gnt = home + '/Software/almeida-semantica/sblgnt'"
   ]
  },
  {
   "cell_type": "code",
   "execution_count": 9,
   "id": "dae03035",
   "metadata": {},
   "outputs": [],
   "source": [
    "arqs = [arq for arq in os.listdir(pasta_txt_gnt) if re.match(r'^([\\s\\d]+).*txt$', arq)]"
   ]
  },
  {
   "cell_type": "code",
   "execution_count": 10,
   "metadata": {},
   "outputs": [
    {
     "data": {
      "text/plain": [
       "[]"
      ]
     },
     "execution_count": 10,
     "metadata": {},
     "output_type": "execute_result"
    }
   ],
   "source": [
    "arqs"
   ]
  },
  {
   "cell_type": "code",
   "execution_count": 25,
   "id": "42a2e9e5",
   "metadata": {},
   "outputs": [],
   "source": [
    "from enum import Enum"
   ]
  },
  {
   "cell_type": "code",
   "execution_count": 15,
   "id": "1febccaf",
   "metadata": {},
   "outputs": [],
   "source": [
    "def retornar_livro_nt(livro):\n",
    "    pasta_txt_gnt = home + '/Software/almeida-semantica/sblgnt'\n",
    "    arqs = [arq for arq in os.listdir(pasta_txt_gnt) if re.match(r'^([\\s\\d]+).*txt$', arq)]\n",
    "    arqs.sort()\n",
    "    livros_nt = ['Mateus', 'Marcos', 'Lucas', 'João', 'Atos', 'Romanos', '1Coríntios', '2Coríntios', 'Gálatas', 'Efésios', 'Filipenses', 'Colossenses', '1Tessalonicenses', '2Tessalonicenses', '1Timóteo', '2Timóteo', 'Tito', 'Filemom', 'Hebreus', 'Tiago', '1Pedro', '2Pedro', '1João', '2João', '3João', 'Judas', 'Apocalipse']\n",
    "    \n",
    "    for idx, value in enumerate(livros_nt):\n",
    "        if livro==value:\n",
    "            arq = arqs[idx]\n",
    "\n",
    "    return os.path.join(pasta_txt_gnt, arq)\n"
   ]
  },
  {
   "cell_type": "code",
   "execution_count": 16,
   "id": "a53c6bfd",
   "metadata": {},
   "outputs": [
    {
     "data": {
      "text/plain": [
       "'/home/s273524038/Software/almeida-semantica/sblgnt/46-1Co-morphgnt.txt'"
      ]
     },
     "execution_count": 16,
     "metadata": {},
     "output_type": "execute_result"
    }
   ],
   "source": [
    "retornar_livro_nt('1Coríntios')"
   ]
  },
  {
   "cell_type": "code",
   "execution_count": 51,
   "metadata": {},
   "outputs": [],
   "source": [
    "with open(retornar_livro_nt('1Coríntios'), 'r') as f:\n",
    "    # palavras = ''\n",
    "    cap=1\n",
    "    verso=18\n",
    "    str_verso=str(cap).zfill(2)+str(verso).zfill(2)\n",
    "    palavras = [linha.split()[3] for linha in f.readlines() if linha.split()[0][2:6]==str_verso] \n",
    "    # for linha in f.readlines():\n",
    "    #     if int(linha.split()[0][2:4])==1 and int(linha.split()[0][4:6]==18):\n",
    "    #         palavras += ''.join(linha.split()[3]) + ' '\n",
    "    #         print(linha.split()[3])\n",
    "\n",
    "    # linhas = [l.split()[3] for l in f.readlines() if int(f.readline().split()[0][2:4])==1 and int(f.readline().split()[0][4:6])==18]\n",
    "    # texto += ''.join(f.readline().split()[3])"
   ]
  },
  {
   "cell_type": "code",
   "execution_count": 52,
   "metadata": {},
   "outputs": [
    {
     "data": {
      "text/plain": [
       "['Ὁ',\n",
       " 'λόγος',\n",
       " 'γὰρ',\n",
       " 'ὁ',\n",
       " 'τοῦ',\n",
       " 'σταυροῦ',\n",
       " 'τοῖς',\n",
       " 'μὲν',\n",
       " 'ἀπολλυμένοις',\n",
       " 'μωρία',\n",
       " 'ἐστίν,',\n",
       " 'τοῖς',\n",
       " 'δὲ',\n",
       " 'σῳζομένοις',\n",
       " 'ἡμῖν',\n",
       " 'δύναμις',\n",
       " 'θεοῦ',\n",
       " 'ἐστιν.']"
      ]
     },
     "execution_count": 52,
     "metadata": {},
     "output_type": "execute_result"
    }
   ],
   "source": [
    "palavras"
   ]
  },
  {
   "cell_type": "code",
   "execution_count": 26,
   "id": "0391771c",
   "metadata": {},
   "outputs": [],
   "source": [
    "def retornar_txt_vs_gg(livro, cap, verso):\n",
    "    txt_verso=''\n",
    "    with open(retornar_livro_nt(livro), 'r') as f:\n",
    "        while int(f.readline().split()[0][2:4])==cap and int(f.readline().split()[0][4:6])==verso:\n",
    "            txt_verso += ''.join(f.readline().split()[3]) \n",
    "    return txt_verso"
   ]
  },
  {
   "cell_type": "code",
   "execution_count": 30,
   "metadata": {},
   "outputs": [
    {
     "name": "stdout",
     "output_type": "stream",
     "text": [
      "\n"
     ]
    }
   ],
   "source": [
    "print(retornar_txt_vs_gg('Romanos', 1, 4))"
   ]
  },
  {
   "cell_type": "code",
   "execution_count": 5,
   "id": "3857ebac",
   "metadata": {},
   "outputs": [],
   "source": [
    "from translate import Translator"
   ]
  },
  {
   "cell_type": "code",
   "execution_count": 6,
   "id": "47ee4e93",
   "metadata": {},
   "outputs": [],
   "source": [
    "def retornar_livros_at():\n",
    "    sql = 'select distinct BookName from Words'\n",
    "\n",
    "    try:\n",
    "        with sqlite3.connect(hb_at) as cnx:\n",
    "            cursor = cnx.cursor()\n",
    "            rs = cursor.execute(sql).fetchall()\n",
    "    except sqlite3.Error as er:\n",
    "        print(er)\n",
    "\n",
    "    return [l[0] for l in rs]"
   ]
  },
  {
   "cell_type": "code",
   "execution_count": 8,
   "id": "b3f41ca0",
   "metadata": {},
   "outputs": [
    {
     "data": {
      "text/plain": [
       "['Ecclesiastes',\n",
       " 'Judges',\n",
       " 'Obadiah',\n",
       " 'Job',\n",
       " 'II Chronicles',\n",
       " 'Lamentations',\n",
       " 'Deuteronomy',\n",
       " 'Isaiah',\n",
       " 'Leviticus',\n",
       " 'Nahum',\n",
       " 'Malachi',\n",
       " 'Daniel',\n",
       " 'Joel',\n",
       " 'I Kings',\n",
       " 'Ezra',\n",
       " 'II Samuel',\n",
       " 'Zephaniah',\n",
       " 'Joshua',\n",
       " 'Song of Solomon',\n",
       " 'Amos',\n",
       " 'I Chronicles',\n",
       " 'Micah',\n",
       " 'Hosea',\n",
       " 'Nehemiah',\n",
       " 'Ezekiel',\n",
       " 'Psalms',\n",
       " 'Jeremiah',\n",
       " 'Ruth',\n",
       " 'Zechariah',\n",
       " 'Haggai',\n",
       " 'Esther',\n",
       " 'Jonah',\n",
       " 'Habakkuk',\n",
       " 'Genesis',\n",
       " 'Proverbs',\n",
       " 'Numbers',\n",
       " 'I Samuel',\n",
       " 'Exodus',\n",
       " 'II Kings']"
      ]
     },
     "execution_count": 8,
     "metadata": {},
     "output_type": "execute_result"
    }
   ],
   "source": [
    "retornar_livros_at()"
   ]
  },
  {
   "cell_type": "code",
   "execution_count": 7,
   "id": "c3391c39",
   "metadata": {},
   "outputs": [],
   "source": [
    "def traduzir(fonte, livro, cap_ini, cap_fim):\n",
    "    livros_at = retornar_livros_at()\n",
    "    transl=Translator(from_lang=fonte, to_lang='pt')\n",
    "    if livro in livros_at:\n",
    "        texto_traduzido = ''\n",
    "        for cap in range(cap_ini, cap_fim+1):\n",
    "            nr_vs = 1\n",
    "            for verso in [vs[1] for vs in retornar_txt_cap_hb(livro, cap)[1]]:\n",
    "                texto_traduzido += str(nr_vs) + ' '\n",
    "                texto_traduzido += ''.join(transl.translate(verso) + ' ')\n",
    "                nr_vs=nr_vs+1\n",
    "            texto_traduzido += ''.join('\\n\\n' + livro + ' ' + str(cap+1) + '\\n')\n",
    "    else:\n",
    "        print('Livro informado não corresponde a nenhum dos do Antigo Testamento')\n",
    "\n",
    "    return texto_traduzido\n",
    "    "
   ]
  },
  {
   "cell_type": "code",
   "execution_count": 8,
   "id": "bbe7c83c",
   "metadata": {},
   "outputs": [],
   "source": [
    "texto_traduzido = traduzir('he', 'Genesis', 27, 37)"
   ]
  },
  {
   "cell_type": "code",
   "execution_count": 145,
   "id": "7d20da82",
   "metadata": {},
   "outputs": [
    {
     "name": "stdout",
     "output_type": "stream",
     "text": [
      "1 MYMEMORY WARNING: YOU USED ALL AVAILABLE FREE TRANSLATIONS FOR TODAY. NEXT AVAILABLE IN  11 HOURS 32 MINUTES 40 SECONDS VISIT HTTPS://MYMEMORY.TRANSLATED.NET/DOC/USAGELIMITS.PHP TO TRANSLATE MORE 2 MYMEMORY WARNING: YOU USED ALL AVAILABLE FREE TRANSLATIONS FOR TODAY. NEXT AVAILABLE IN  11 HOURS 32 MINUTES 39 SECONDS VISIT HTTPS://MYMEMORY.TRANSLATED.NET/DOC/USAGELIMITS.PHP TO TRANSLATE MORE 3 MYMEMORY WARNING: YOU USED ALL AVAILABLE FREE TRANSLATIONS FOR TODAY. NEXT AVAILABLE IN  11 HOURS 32 MINUTES 37 SECONDS VISIT HTTPS://MYMEMORY.TRANSLATED.NET/DOC/USAGELIMITS.PHP TO TRANSLATE MORE 4 MYMEMORY WARNING: YOU USED ALL AVAILABLE FREE TRANSLATIONS FOR TODAY. NEXT AVAILABLE IN  11 HOURS 32 MINUTES 35 SECONDS VISIT HTTPS://MYMEMORY.TRANSLATED.NET/DOC/USAGELIMITS.PHP TO TRANSLATE MORE 5 MYMEMORY WARNING: YOU USED ALL AVAILABLE FREE TRANSLATIONS FOR TODAY. NEXT AVAILABLE IN  11 HOURS 32 MINUTES 34 SECONDS VISIT HTTPS://MYMEMORY.TRANSLATED.NET/DOC/USAGELIMITS.PHP TO TRANSLATE MORE 6 MYMEMORY WARNING: YOU USED ALL AVAILABLE FREE TRANSLATIONS FOR TODAY. NEXT AVAILABLE IN  11 HOURS 32 MINUTES 32 SECONDS VISIT HTTPS://MYMEMORY.TRANSLATED.NET/DOC/USAGELIMITS.PHP TO TRANSLATE MORE 7 MYMEMORY WARNING: YOU USED ALL AVAILABLE FREE TRANSLATIONS FOR TODAY. NEXT AVAILABLE IN  11 HOURS 32 MINUTES 30 SECONDS VISIT HTTPS://MYMEMORY.TRANSLATED.NET/DOC/USAGELIMITS.PHP TO TRANSLATE MORE 8 MYMEMORY WARNING: YOU USED ALL AVAILABLE FREE TRANSLATIONS FOR TODAY. NEXT AVAILABLE IN  11 HOURS 32 MINUTES 28 SECONDS VISIT HTTPS://MYMEMORY.TRANSLATED.NET/DOC/USAGELIMITS.PHP TO TRANSLATE MORE 9 MYMEMORY WARNING: YOU USED ALL AVAILABLE FREE TRANSLATIONS FOR TODAY. NEXT AVAILABLE IN  11 HOURS 32 MINUTES 27 SECONDS VISIT HTTPS://MYMEMORY.TRANSLATED.NET/DOC/USAGELIMITS.PHP TO TRANSLATE MORE 10 MYMEMORY WARNING: YOU USED ALL AVAILABLE FREE TRANSLATIONS FOR TODAY. NEXT AVAILABLE IN  11 HOURS 32 MINUTES 25 SECONDS VISIT HTTPS://MYMEMORY.TRANSLATED.NET/DOC/USAGELIMITS.PHP TO TRANSLATE MORE 11 MYMEMORY WARNING: YOU USED ALL AVAILABLE FREE TRANSLATIONS FOR TODAY. NEXT AVAILABLE IN  11 HOURS 32 MINUTES 24 SECONDS VISIT HTTPS://MYMEMORY.TRANSLATED.NET/DOC/USAGELIMITS.PHP TO TRANSLATE MORE 12 MYMEMORY WARNING: YOU USED ALL AVAILABLE FREE TRANSLATIONS FOR TODAY. NEXT AVAILABLE IN  11 HOURS 32 MINUTES 21 SECONDS VISIT HTTPS://MYMEMORY.TRANSLATED.NET/DOC/USAGELIMITS.PHP TO TRANSLATE MORE 13 MYMEMORY WARNING: YOU USED ALL AVAILABLE FREE TRANSLATIONS FOR TODAY. NEXT AVAILABLE IN  11 HOURS 32 MINUTES 19 SECONDS VISIT HTTPS://MYMEMORY.TRANSLATED.NET/DOC/USAGELIMITS.PHP TO TRANSLATE MORE 14 MYMEMORY WARNING: YOU USED ALL AVAILABLE FREE TRANSLATIONS FOR TODAY. NEXT AVAILABLE IN  11 HOURS 32 MINUTES 17 SECONDS VISIT HTTPS://MYMEMORY.TRANSLATED.NET/DOC/USAGELIMITS.PHP TO TRANSLATE MORE 15 MYMEMORY WARNING: YOU USED ALL AVAILABLE FREE TRANSLATIONS FOR TODAY. NEXT AVAILABLE IN  11 HOURS 32 MINUTES 15 SECONDS VISIT HTTPS://MYMEMORY.TRANSLATED.NET/DOC/USAGELIMITS.PHP TO TRANSLATE MORE 16 MYMEMORY WARNING: YOU USED ALL AVAILABLE FREE TRANSLATIONS FOR TODAY. NEXT AVAILABLE IN  11 HOURS 32 MINUTES 14 SECONDS VISIT HTTPS://MYMEMORY.TRANSLATED.NET/DOC/USAGELIMITS.PHP TO TRANSLATE MORE 17 MYMEMORY WARNING: YOU USED ALL AVAILABLE FREE TRANSLATIONS FOR TODAY. NEXT AVAILABLE IN  11 HOURS 32 MINUTES 12 SECONDS VISIT HTTPS://MYMEMORY.TRANSLATED.NET/DOC/USAGELIMITS.PHP TO TRANSLATE MORE 18 MYMEMORY WARNING: YOU USED ALL AVAILABLE FREE TRANSLATIONS FOR TODAY. NEXT AVAILABLE IN  11 HOURS 32 MINUTES 10 SECONDS VISIT HTTPS://MYMEMORY.TRANSLATED.NET/DOC/USAGELIMITS.PHP TO TRANSLATE MORE \n",
      "\n",
      "Genesis21\n"
     ]
    }
   ],
   "source": [
    "print(texto_traduzido)"
   ]
  },
  {
   "cell_type": "code",
   "execution_count": 20,
   "id": "752700ce",
   "metadata": {},
   "outputs": [],
   "source": [
    "with open('texto_traduzido', 'a') as saida:\n",
    "    saida.write(traduzir('he', 'Genesis', 22, 28))"
   ]
  },
  {
   "cell_type": "code",
   "execution_count": null,
   "id": "f1fece04",
   "metadata": {},
   "outputs": [],
   "source": [
    "with open('texto_traduzido', 'a') as saida:\n",
    "    saida.write(texto_traduzido)"
   ]
  }
 ],
 "metadata": {
  "kernelspec": {
   "display_name": "Python 3 (ipykernel)",
   "language": "python",
   "name": "python3"
  },
  "language_info": {
   "codemirror_mode": {
    "name": "ipython",
    "version": 3
   },
   "file_extension": ".py",
   "mimetype": "text/x-python",
   "name": "python",
   "nbconvert_exporter": "python",
   "pygments_lexer": "ipython3",
   "version": "3.10.12"
  }
 },
 "nbformat": 4,
 "nbformat_minor": 5
}
