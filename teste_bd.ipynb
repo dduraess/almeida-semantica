{
 "cells": [
  {
   "cell_type": "code",
   "execution_count": 1,
   "id": "0dbd6d33-9d05-40f0-b7f5-553bd6435adb",
   "metadata": {
    "tags": []
   },
   "outputs": [],
   "source": [
    "import sqlite3"
   ]
  },
  {
   "cell_type": "code",
   "execution_count": 2,
   "id": "5155f316-c91f-4a53-b8f7-7320c65f3735",
   "metadata": {
    "tags": []
   },
   "outputs": [],
   "source": [
    "arq_bd = 'ARA.sqlite'"
   ]
  },
  {
   "cell_type": "code",
   "execution_count": 3,
   "id": "6113d9f5-5f9a-40e4-9068-fdce12be304d",
   "metadata": {
    "tags": []
   },
   "outputs": [],
   "source": [
    "def ultimo_vs(nm_livro, cap):\n",
    "    with open('nr_vs_por_livro_cap.sql') as f:\n",
    "        sql = f.read()\n",
    "    with sqlite3.connect(arq_bd) as cnx:\n",
    "        cursor = cnx.cursor()\n",
    "        rs = cursor.execute(sql.format(nm_livro, cap)).fetchall()\n",
    "    return rs[0][0]"
   ]
  },
  {
   "cell_type": "code",
   "execution_count": 4,
   "id": "7332712f-8c6c-435c-9849-1f6777048bca",
   "metadata": {
    "tags": []
   },
   "outputs": [],
   "source": [
    "def txt_intervalo(nm_livro, cap_ini, cap_fim, vs_ini, vs_fim):\n",
    "    with open('intervalo_vs.sql') as f:\n",
    "        sql = f.read()\n",
    "    with sqlite3.connect(arq_bd) as cnx:\n",
    "        cursor = cnx.cursor()\n",
    "        rs = cursor.execute(sql.format(nm_livro, cap_ini, cap_fim, vs_ini, vs_fim)).fetchall()\n",
    "    return rs"
   ]
  },
  {
   "cell_type": "code",
   "execution_count": 1,
   "id": "054ed6ff-53a8-40bb-9fce-45e16e073d9d",
   "metadata": {
    "tags": []
   },
   "outputs": [],
   "source": [
    "livro = 'Salmos'"
   ]
  },
  {
   "cell_type": "code",
   "execution_count": 2,
   "id": "8a3cd2ff-9c3b-4a9f-a366-b5634b2e248b",
   "metadata": {
    "tags": []
   },
   "outputs": [],
   "source": [
    "cap_ini = 34"
   ]
  },
  {
   "cell_type": "code",
   "execution_count": 3,
   "id": "82e038a0",
   "metadata": {},
   "outputs": [],
   "source": [
    "cap_fim = 36"
   ]
  },
  {
   "cell_type": "code",
   "execution_count": 4,
   "id": "6571b789-2ac7-470e-ba24-102c9f6a2e90",
   "metadata": {
    "tags": []
   },
   "outputs": [
    {
     "ename": "NameError",
     "evalue": "name 'txt_intervalo' is not defined",
     "output_type": "error",
     "traceback": [
      "\u001b[0;31m---------------------------------------------------------------------------\u001b[0m",
      "\u001b[0;31mNameError\u001b[0m                                 Traceback (most recent call last)",
      "Cell \u001b[0;32mIn[4], line 1\u001b[0m\n\u001b[0;32m----> 1\u001b[0m lista_rs \u001b[39m=\u001b[39m txt_intervalo(livro, cap_ini, cap_fim, \u001b[39m1\u001b[39m, ultimo_vs(livro, cap_fim))\n",
      "\u001b[0;31mNameError\u001b[0m: name 'txt_intervalo' is not defined"
     ]
    }
   ],
   "source": [
    "lista_rs = txt_intervalo(livro, cap_ini, cap_fim, 1, ultimo_vs(livro, cap_fim))"
   ]
  },
  {
   "cell_type": "code",
   "execution_count": 5,
   "id": "dc1ad7e0",
   "metadata": {},
   "outputs": [
    {
     "ename": "NameError",
     "evalue": "name 'txt_intervalo' is not defined",
     "output_type": "error",
     "traceback": [
      "\u001b[0;31m---------------------------------------------------------------------------\u001b[0m",
      "\u001b[0;31mNameError\u001b[0m                                 Traceback (most recent call last)",
      "Cell \u001b[0;32mIn[5], line 1\u001b[0m\n\u001b[0;32m----> 1\u001b[0m lista_rs \u001b[39m=\u001b[39m txt_intervalo(livro, cap_ini, cap_fim, \u001b[39m9\u001b[39m, \u001b[39m13\u001b[39m)\n",
      "\u001b[0;31mNameError\u001b[0m: name 'txt_intervalo' is not defined"
     ]
    }
   ],
   "source": [
    "lista_rs = txt_intervalo(livro, cap_ini, cap_fim, 9, 13)"
   ]
  },
  {
   "cell_type": "code",
   "execution_count": 16,
   "id": "5608a12f-86a9-404d-af26-38e881924008",
   "metadata": {
    "tags": []
   },
   "outputs": [
    {
     "data": {
      "text/plain": [
       "[(1,\n",
       "  'Irmãos, venho lembrar-vos o evangelho que vos anunciei, o qual recebestes e no qual ainda perseverais;'),\n",
       " (2,\n",
       "  'por ele também sois salvos, se retiverdes a palavra tal como vo-la preguei, a menos que tenhais crido em vão.'),\n",
       " (3,\n",
       "  'Antes de tudo, vos entreguei o que também recebi: que Cristo morreu pelos nossos pecados, segundo as Escrituras,'),\n",
       " (4,\n",
       "  'e que foi sepultado e ressuscitou ao terceiro dia, segundo as Escrituras.'),\n",
       " (5, 'E apareceu a Cefas e, depois, aos doze.'),\n",
       " (6,\n",
       "  'Depois, foi visto por mais de quinhentos irmãos de uma só vez, dos quais a maioria sobrevive até agora; porém alguns já dormem.'),\n",
       " (7, 'Depois, foi visto por Tiago, mais tarde, por todos os apóstolos'),\n",
       " (8,\n",
       "  'e, afinal, depois de todos, foi visto também por mim, como por um nascido fora de tempo.'),\n",
       " (9,\n",
       "  'Porque eu sou o menor dos apóstolos, que mesmo não sou digno de ser chamado apóstolo, pois persegui a igreja de Deus.'),\n",
       " (10,\n",
       "  'Mas, pela graça de Deus, sou o que sou; e a sua graça, que me foi concedida, não se tornou vã; antes, trabalhei muito mais do que todos eles; todavia, não eu, mas a graça de Deus comigo.'),\n",
       " (11, 'Portanto, seja eu ou sejam eles, assim pregamos e assim crestes.'),\n",
       " (12,\n",
       "  'Ora, se é corrente pregar-se que Cristo ressuscitou dentre os mortos, como, pois, afirmam alguns dentre vós que não há ressurreição de mortos?'),\n",
       " (13, 'E, se não há ressurreição de mortos, então, Cristo não ressuscitou.'),\n",
       " (14,\n",
       "  'E, se Cristo não ressuscitou, é vã a nossa pregação, e vã, a vossa fé;'),\n",
       " (15,\n",
       "  'e somos tidos por falsas testemunhas de Deus, porque temos asseverado contra Deus que ele ressuscitou a Cristo, ao qual ele não ressuscitou, se é certo que os mortos não ressuscitam.'),\n",
       " (16, 'Porque, se os mortos não ressuscitam, também Cristo não ressuscitou.'),\n",
       " (17,\n",
       "  'E, se Cristo não ressuscitou, é vã a vossa fé, e ainda permaneceis nos vossos pecados.'),\n",
       " (18, 'E ainda mais: os que dormiram em Cristo pereceram.'),\n",
       " (19,\n",
       "  'Se a nossa esperança em Cristo se limita apenas a esta vida, somos os mais infelizes de todos os homens.'),\n",
       " (20,\n",
       "  'Mas, de fato, Cristo ressuscitou dentre os mortos, sendo ele as primícias dos que dormem.'),\n",
       " (21,\n",
       "  'Visto que a morte veio por um homem, também por um homem veio a ressurreição dos mortos.'),\n",
       " (22,\n",
       "  'Porque, assim como, em Adão, todos morrem, assim também todos serão vivificados em Cristo.'),\n",
       " (23,\n",
       "  'Cada um, porém, por sua própria ordem: Cristo, as primícias; depois, os que são de Cristo, na sua vinda.'),\n",
       " (24,\n",
       "  'E, então, virá o fim, quando ele entregar o reino ao Deus e Pai, quando houver destruído todo principado, bem como toda potestade e poder.'),\n",
       " (1,\n",
       "  'Quanto à coleta para os santos, fazei vós também como ordenei às igrejas da Galácia.'),\n",
       " (2,\n",
       "  'No primeiro dia da semana, cada um de vós ponha de parte, em casa, conforme a sua prosperidade, e vá juntando, para que se não façam coletas quando eu for.'),\n",
       " (3,\n",
       "  'E, quando tiver chegado, enviarei, com cartas, para levarem as vossas dádivas a Jerusalém, aqueles que aprovardes.'),\n",
       " (4, 'Se convier que eu também vá, eles irão comigo.'),\n",
       " (5,\n",
       "  'Irei ter convosco por ocasião da minha passagem pela Macedônia, porque devo percorrer a Macedônia.'),\n",
       " (6,\n",
       "  'E bem pode ser que convosco me demore ou mesmo passe o inverno, para que me encaminheis nas viagens que eu tenha de fazer.'),\n",
       " (7,\n",
       "  'Porque não quero, agora, ver-vos apenas de passagem, pois espero permanecer convosco algum tempo, se o Senhor o permitir.'),\n",
       " (8, 'Ficarei, porém, em Éfeso até ao Pentecostes;'),\n",
       " (9,\n",
       "  'porque uma porta grande e oportuna para o trabalho se me abriu; e há muitos adversários.'),\n",
       " (10,\n",
       "  'E, se Timóteo for, vede que esteja sem receio entre vós, porque trabalha na obra do Senhor, como também eu;'),\n",
       " (11,\n",
       "  'ninguém, pois, o despreze. Mas encaminhai-o em paz, para que venha ter comigo, visto que o espero com os irmãos.'),\n",
       " (12,\n",
       "  'Acerca do irmão Apolo, muito lhe tenho recomendado que fosse ter convosco em companhia dos irmãos, mas de modo algum era a vontade dele ir agora; irá, porém, quando se lhe deparar boa oportunidade.'),\n",
       " (13,\n",
       "  'Sede vigilantes, permanecei firmes na fé, portai-vos varonilmente, fortalecei-vos.'),\n",
       " (14, 'Todos os vossos atos sejam feitos com amor.'),\n",
       " (15,\n",
       "  'E agora, irmãos, eu vos peço o seguinte (sabeis que a casa de Estéfanas são as primícias da Acaia e que se consagraram ao serviço dos santos):'),\n",
       " (16,\n",
       "  'que também vos sujeiteis a esses tais, como também a todo aquele que é cooperador e obreiro.'),\n",
       " (17,\n",
       "  'Alegro-me com a vinda de Estéfanas, e de Fortunato, e de Acaico; porque estes supriram o que da vossa parte faltava.'),\n",
       " (18,\n",
       "  'Porque trouxeram refrigério ao meu espírito e ao vosso. Reconhecei, pois, a homens como estes.'),\n",
       " (19,\n",
       "  'As igrejas da Ásia vos saúdam. No Senhor, muito vos saúdam Áquila e Priscila e, bem assim, a igreja que está na casa deles.'),\n",
       " (20,\n",
       "  'Todos os irmãos vos saúdam. Saudai-vos uns aos outros com ósculo santo.'),\n",
       " (21, 'A saudação, escrevo-a eu, Paulo, de próprio punho.'),\n",
       " (22, 'Se alguém não ama o Senhor, seja anátema. Maranata!'),\n",
       " (23, 'A graça do Senhor Jesus seja convosco.'),\n",
       " (24, 'O meu amor seja com todos vós, em Cristo Jesus.')]"
      ]
     },
     "execution_count": 16,
     "metadata": {},
     "output_type": "execute_result"
    }
   ],
   "source": [
    "lista_rs"
   ]
  },
  {
   "cell_type": "code",
   "execution_count": 17,
   "id": "bb8e94ec-8fea-462e-be12-18a5f2814d6b",
   "metadata": {
    "tags": []
   },
   "outputs": [],
   "source": [
    "txt = ''"
   ]
  },
  {
   "cell_type": "code",
   "execution_count": 18,
   "id": "a1c99c35-ac5f-4a15-8a00-bc25ed70ab3e",
   "metadata": {
    "tags": []
   },
   "outputs": [],
   "source": [
    "for i in lista_rs:\n",
    "    txt += str(i[0]) + ' ' + i[1].strip() + ' '"
   ]
  },
  {
   "cell_type": "code",
   "execution_count": 19,
   "id": "7dcbe635-df5a-4c1a-9fb2-f37e54191981",
   "metadata": {
    "tags": []
   },
   "outputs": [
    {
     "data": {
      "text/plain": [
       "'1 Irmãos, venho lembrar-vos o evangelho que vos anunciei, o qual recebestes e no qual ainda perseverais; 2 por ele também sois salvos, se retiverdes a palavra tal como vo-la preguei, a menos que tenhais crido em vão. 3 Antes de tudo, vos entreguei o que também recebi: que Cristo morreu pelos nossos pecados, segundo as Escrituras, 4 e que foi sepultado e ressuscitou ao terceiro dia, segundo as Escrituras. 5 E apareceu a Cefas e, depois, aos doze. 6 Depois, foi visto por mais de quinhentos irmãos de uma só vez, dos quais a maioria sobrevive até agora; porém alguns já dormem. 7 Depois, foi visto por Tiago, mais tarde, por todos os apóstolos 8 e, afinal, depois de todos, foi visto também por mim, como por um nascido fora de tempo. 9 Porque eu sou o menor dos apóstolos, que mesmo não sou digno de ser chamado apóstolo, pois persegui a igreja de Deus. 10 Mas, pela graça de Deus, sou o que sou; e a sua graça, que me foi concedida, não se tornou vã; antes, trabalhei muito mais do que todos eles; todavia, não eu, mas a graça de Deus comigo. 11 Portanto, seja eu ou sejam eles, assim pregamos e assim crestes. 12 Ora, se é corrente pregar-se que Cristo ressuscitou dentre os mortos, como, pois, afirmam alguns dentre vós que não há ressurreição de mortos? 13 E, se não há ressurreição de mortos, então, Cristo não ressuscitou. 14 E, se Cristo não ressuscitou, é vã a nossa pregação, e vã, a vossa fé; 15 e somos tidos por falsas testemunhas de Deus, porque temos asseverado contra Deus que ele ressuscitou a Cristo, ao qual ele não ressuscitou, se é certo que os mortos não ressuscitam. 16 Porque, se os mortos não ressuscitam, também Cristo não ressuscitou. 17 E, se Cristo não ressuscitou, é vã a vossa fé, e ainda permaneceis nos vossos pecados. 18 E ainda mais: os que dormiram em Cristo pereceram. 19 Se a nossa esperança em Cristo se limita apenas a esta vida, somos os mais infelizes de todos os homens. 20 Mas, de fato, Cristo ressuscitou dentre os mortos, sendo ele as primícias dos que dormem. 21 Visto que a morte veio por um homem, também por um homem veio a ressurreição dos mortos. 22 Porque, assim como, em Adão, todos morrem, assim também todos serão vivificados em Cristo. 23 Cada um, porém, por sua própria ordem: Cristo, as primícias; depois, os que são de Cristo, na sua vinda. 24 E, então, virá o fim, quando ele entregar o reino ao Deus e Pai, quando houver destruído todo principado, bem como toda potestade e poder. 1 Quanto à coleta para os santos, fazei vós também como ordenei às igrejas da Galácia. 2 No primeiro dia da semana, cada um de vós ponha de parte, em casa, conforme a sua prosperidade, e vá juntando, para que se não façam coletas quando eu for. 3 E, quando tiver chegado, enviarei, com cartas, para levarem as vossas dádivas a Jerusalém, aqueles que aprovardes. 4 Se convier que eu também vá, eles irão comigo. 5 Irei ter convosco por ocasião da minha passagem pela Macedônia, porque devo percorrer a Macedônia. 6 E bem pode ser que convosco me demore ou mesmo passe o inverno, para que me encaminheis nas viagens que eu tenha de fazer. 7 Porque não quero, agora, ver-vos apenas de passagem, pois espero permanecer convosco algum tempo, se o Senhor o permitir. 8 Ficarei, porém, em Éfeso até ao Pentecostes; 9 porque uma porta grande e oportuna para o trabalho se me abriu; e há muitos adversários. 10 E, se Timóteo for, vede que esteja sem receio entre vós, porque trabalha na obra do Senhor, como também eu; 11 ninguém, pois, o despreze. Mas encaminhai-o em paz, para que venha ter comigo, visto que o espero com os irmãos. 12 Acerca do irmão Apolo, muito lhe tenho recomendado que fosse ter convosco em companhia dos irmãos, mas de modo algum era a vontade dele ir agora; irá, porém, quando se lhe deparar boa oportunidade. 13 Sede vigilantes, permanecei firmes na fé, portai-vos varonilmente, fortalecei-vos. 14 Todos os vossos atos sejam feitos com amor. 15 E agora, irmãos, eu vos peço o seguinte (sabeis que a casa de Estéfanas são as primícias da Acaia e que se consagraram ao serviço dos santos): 16 que também vos sujeiteis a esses tais, como também a todo aquele que é cooperador e obreiro. 17 Alegro-me com a vinda de Estéfanas, e de Fortunato, e de Acaico; porque estes supriram o que da vossa parte faltava. 18 Porque trouxeram refrigério ao meu espírito e ao vosso. Reconhecei, pois, a homens como estes. 19 As igrejas da Ásia vos saúdam. No Senhor, muito vos saúdam Áquila e Priscila e, bem assim, a igreja que está na casa deles. 20 Todos os irmãos vos saúdam. Saudai-vos uns aos outros com ósculo santo. 21 A saudação, escrevo-a eu, Paulo, de próprio punho. 22 Se alguém não ama o Senhor, seja anátema. Maranata! 23 A graça do Senhor Jesus seja convosco. 24 O meu amor seja com todos vós, em Cristo Jesus. '"
      ]
     },
     "execution_count": 19,
     "metadata": {},
     "output_type": "execute_result"
    }
   ],
   "source": [
    "txt"
   ]
  },
  {
   "cell_type": "code",
   "execution_count": null,
   "id": "ed881d54-4cf2-4331-a700-eab74d69ab83",
   "metadata": {},
   "outputs": [],
   "source": []
  }
 ],
 "metadata": {
  "kernelspec": {
   "display_name": "Python 3 (ipykernel)",
   "language": "python",
   "name": "python3"
  },
  "language_info": {
   "codemirror_mode": {
    "name": "ipython",
    "version": 3
   },
   "file_extension": ".py",
   "mimetype": "text/x-python",
   "name": "python",
   "nbconvert_exporter": "python",
   "pygments_lexer": "ipython3",
   "version": "3.10.6"
  }
 },
 "nbformat": 4,
 "nbformat_minor": 5
}
