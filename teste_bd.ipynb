{
 "cells": [
  {
   "cell_type": "code",
   "execution_count": 37,
   "id": "0dbd6d33-9d05-40f0-b7f5-553bd6435adb",
   "metadata": {
    "tags": []
   },
   "outputs": [],
   "source": [
    "import sqlite3"
   ]
  },
  {
   "cell_type": "code",
   "execution_count": 38,
   "id": "5155f316-c91f-4a53-b8f7-7320c65f3735",
   "metadata": {
    "tags": []
   },
   "outputs": [],
   "source": [
    "arq_bd = 'ARA.sqlite'"
   ]
  },
  {
   "cell_type": "code",
   "execution_count": 45,
   "id": "6113d9f5-5f9a-40e4-9068-fdce12be304d",
   "metadata": {},
   "outputs": [],
   "source": [
    "def ultimo_vs(nm_livro, cap):\n",
    "    with open('nr_vs_por_livro_cap.sql') as f:\n",
    "        sql = f.read()\n",
    "    with sqlite3.connect(arq_bd) as cnx:\n",
    "        cursor = cnx.cursor()\n",
    "        rs = cursor.execute(sql.format(nm_livro, cap)).fetchall()\n",
    "    return rs[0][0]"
   ]
  },
  {
   "cell_type": "code",
   "execution_count": 46,
   "id": "784fa380-9e24-48ab-be4e-858113e7382c",
   "metadata": {
    "tags": []
   },
   "outputs": [
    {
     "data": {
      "text/plain": [
       "26"
      ]
     },
     "execution_count": 46,
     "metadata": {},
     "output_type": "execute_result"
    }
   ],
   "source": [
    "ultimo_vs('Gênesis', 50)"
   ]
  },
  {
   "cell_type": "code",
   "execution_count": 47,
   "id": "7332712f-8c6c-435c-9849-1f6777048bca",
   "metadata": {
    "tags": []
   },
   "outputs": [],
   "source": [
    "def txt_intervalo(nm_livro, cap, vs_ini, vs_fim):\n",
    "    with open('intervalo_vs_msm_cap.sql') as f:\n",
    "        sql = f.read()\n",
    "    with sqlite3.connect(arq_bd) as cnx:\n",
    "        cursor = cnx.cursor()\n",
    "        rs = cursor.execute(sql.format(nm_livro, cap, vs_ini, vs_fim)).fetchall()\n",
    "    return rs"
   ]
  },
  {
   "cell_type": "code",
   "execution_count": 50,
   "id": "6571b789-2ac7-470e-ba24-102c9f6a2e90",
   "metadata": {
    "tags": []
   },
   "outputs": [],
   "source": [
    "lista_rs = txt_intervalo('Romanos', 3, 19, 26)"
   ]
  },
  {
   "cell_type": "code",
   "execution_count": 51,
   "id": "5608a12f-86a9-404d-af26-38e881924008",
   "metadata": {
    "tags": []
   },
   "outputs": [
    {
     "data": {
      "text/plain": [
       "[(19,\n",
       "  'Ora, sabemos que tudo o que a lei diz, aos que vivem na lei o diz para que se cale toda boca, e todo o mundo seja culpável perante Deus,'),\n",
       " (20,\n",
       "  'visto que ninguém será justificado diante dele por obras da lei, em razão de que pela lei vem o pleno conhecimento do pecado.'),\n",
       " (21,\n",
       "  'Mas agora, sem lei, se manifestou a justiça de Deus testemunhada pela lei e pelos profetas;'),\n",
       " (22,\n",
       "  'justiça de Deus mediante a fé em Jesus Cristo, para todos [e sobre todos] os que creem; porque não há distinção,'),\n",
       " (23, 'pois todos pecaram e carecem da glória de Deus,'),\n",
       " (24,\n",
       "  'sendo justificados gratuitamente, por sua graça, mediante a redenção que há em Cristo Jesus,'),\n",
       " (25,\n",
       "  'a quem Deus propôs, no seu sangue, como propiciação, mediante a fé, para manifestar a sua justiça, por ter Deus, na sua tolerância, deixado impunes os pecados anteriormente cometidos;'),\n",
       " (26,\n",
       "  'tendo em vista a manifestação da sua justiça no tempo presente, para ele mesmo ser justo e o justificador daquele que tem fé em Jesus.')]"
      ]
     },
     "execution_count": 51,
     "metadata": {},
     "output_type": "execute_result"
    }
   ],
   "source": [
    "lista_rs"
   ]
  },
  {
   "cell_type": "code",
   "execution_count": 52,
   "id": "bb8e94ec-8fea-462e-be12-18a5f2814d6b",
   "metadata": {
    "tags": []
   },
   "outputs": [],
   "source": [
    "txt = ''"
   ]
  },
  {
   "cell_type": "code",
   "execution_count": 53,
   "id": "a1c99c35-ac5f-4a15-8a00-bc25ed70ab3e",
   "metadata": {
    "tags": []
   },
   "outputs": [],
   "source": [
    "for i in lista_rs:\n",
    "    txt += str(i[0]) + ' ' + i[1].strip() + ' '"
   ]
  },
  {
   "cell_type": "code",
   "execution_count": 54,
   "id": "7dcbe635-df5a-4c1a-9fb2-f37e54191981",
   "metadata": {
    "tags": []
   },
   "outputs": [
    {
     "data": {
      "text/plain": [
       "'19 Ora, sabemos que tudo o que a lei diz, aos que vivem na lei o diz para que se cale toda boca, e todo o mundo seja culpável perante Deus, 20 visto que ninguém será justificado diante dele por obras da lei, em razão de que pela lei vem o pleno conhecimento do pecado. 21 Mas agora, sem lei, se manifestou a justiça de Deus testemunhada pela lei e pelos profetas; 22 justiça de Deus mediante a fé em Jesus Cristo, para todos [e sobre todos] os que creem; porque não há distinção, 23 pois todos pecaram e carecem da glória de Deus, 24 sendo justificados gratuitamente, por sua graça, mediante a redenção que há em Cristo Jesus, 25 a quem Deus propôs, no seu sangue, como propiciação, mediante a fé, para manifestar a sua justiça, por ter Deus, na sua tolerância, deixado impunes os pecados anteriormente cometidos; 26 tendo em vista a manifestação da sua justiça no tempo presente, para ele mesmo ser justo e o justificador daquele que tem fé em Jesus. '"
      ]
     },
     "execution_count": 54,
     "metadata": {},
     "output_type": "execute_result"
    }
   ],
   "source": [
    "txt"
   ]
  }
 ],
 "metadata": {
  "kernelspec": {
   "display_name": "Python 3 (ipykernel)",
   "language": "python",
   "name": "python3"
  },
  "language_info": {
   "codemirror_mode": {
    "name": "ipython",
    "version": 3
   },
   "file_extension": ".py",
   "mimetype": "text/x-python",
   "name": "python",
   "nbconvert_exporter": "python",
   "pygments_lexer": "ipython3",
   "version": "3.10.9"
  }
 },
 "nbformat": 4,
 "nbformat_minor": 5
}
