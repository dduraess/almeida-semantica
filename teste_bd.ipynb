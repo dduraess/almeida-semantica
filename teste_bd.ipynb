{
 "cells": [
  {
   "cell_type": "code",
   "execution_count": 5,
   "id": "0dbd6d33-9d05-40f0-b7f5-553bd6435adb",
   "metadata": {
    "tags": []
   },
   "outputs": [],
   "source": [
    "import sqlite3"
   ]
  },
  {
   "cell_type": "code",
   "execution_count": 2,
   "id": "5155f316-c91f-4a53-b8f7-7320c65f3735",
   "metadata": {
    "tags": []
   },
   "outputs": [],
   "source": [
    "pt_ara = 'ARA.sqlite'"
   ]
  },
  {
   "cell_type": "code",
   "execution_count": 3,
   "id": "6113d9f5-5f9a-40e4-9068-fdce12be304d",
   "metadata": {
    "tags": []
   },
   "outputs": [],
   "source": [
    "def ultimo_vs(nm_livro, cap):\n",
    "    with open('nr_vs_por_livro_cap.sql') as f:\n",
    "        sql = f.read()\n",
    "    with sqlite3.connect(pt_ara) as cnx:\n",
    "        cursor = cnx.cursor()\n",
    "        rs = cursor.execute(sql.format(nm_livro, cap)).fetchall()\n",
    "    return rs[0][0]"
   ]
  },
  {
   "cell_type": "code",
   "execution_count": 10,
   "id": "7332712f-8c6c-435c-9849-1f6777048bca",
   "metadata": {
    "tags": []
   },
   "outputs": [],
   "source": [
    "def txt_intervalo(nm_livro, cap_ini, cap_fim, vs_ini, vs_fim):\n",
    "    with open('intervalo_vs.sql') as f:\n",
    "        sql = f.read()\n",
    "    with sqlite3.connect(pt_ara) as cnx:\n",
    "        cursor = cnx.cursor()\n",
    "        rs = cursor.execute(sql.format(nm_livro, cap_ini, cap_fim, vs_ini, vs_fim)).fetchall()\n",
    "    return rs"
   ]
  },
  {
   "cell_type": "code",
   "execution_count": 4,
   "id": "054ed6ff-53a8-40bb-9fce-45e16e073d9d",
   "metadata": {
    "tags": []
   },
   "outputs": [],
   "source": [
    "livro = 'Eclesiastes'"
   ]
  },
  {
   "cell_type": "code",
   "execution_count": 6,
   "id": "8a3cd2ff-9c3b-4a9f-a366-b5634b2e248b",
   "metadata": {
    "tags": []
   },
   "outputs": [],
   "source": [
    "cap_ini = 1"
   ]
  },
  {
   "cell_type": "code",
   "execution_count": 8,
   "id": "82e038a0",
   "metadata": {},
   "outputs": [],
   "source": [
    "cap_fim = 1"
   ]
  },
  {
   "cell_type": "code",
   "execution_count": 11,
   "id": "6571b789-2ac7-470e-ba24-102c9f6a2e90",
   "metadata": {
    "tags": []
   },
   "outputs": [],
   "source": [
    "lista_rs = txt_intervalo(livro, cap_ini, cap_fim, 1, ultimo_vs(livro, cap_fim))"
   ]
  },
  {
   "cell_type": "code",
   "execution_count": 5,
   "id": "dc1ad7e0",
   "metadata": {},
   "outputs": [
    {
     "ename": "NameError",
     "evalue": "name 'txt_intervalo' is not defined",
     "output_type": "error",
     "traceback": [
      "\u001b[0;31m---------------------------------------------------------------------------\u001b[0m",
      "\u001b[0;31mNameError\u001b[0m                                 Traceback (most recent call last)",
      "Cell \u001b[0;32mIn[5], line 1\u001b[0m\n\u001b[0;32m----> 1\u001b[0m lista_rs \u001b[39m=\u001b[39m txt_intervalo(livro, cap_ini, cap_fim, \u001b[39m9\u001b[39m, \u001b[39m13\u001b[39m)\n",
      "\u001b[0;31mNameError\u001b[0m: name 'txt_intervalo' is not defined"
     ]
    }
   ],
   "source": [
    "lista_rs = txt_intervalo(livro, cap_ini, cap_fim, 9, 13)"
   ]
  },
  {
   "cell_type": "code",
   "execution_count": 12,
   "id": "5608a12f-86a9-404d-af26-38e881924008",
   "metadata": {
    "tags": []
   },
   "outputs": [
    {
     "data": {
      "text/plain": [
       "[(1, 'Palavra do Pregador, filho de Davi, rei de Jerusalém:'),\n",
       " (2,\n",
       "  'Vaidade de vaidades, diz o Pregador; vaidade de vaidades, tudo é vaidade.'),\n",
       " (3,\n",
       "  'Que proveito tem o homem de todo o seu trabalho, com que se afadiga debaixo do sol?'),\n",
       " (4, 'Geração vai e geração vem; mas a terra permanece para sempre.'),\n",
       " (5,\n",
       "  'Levanta-se o sol, e põe-se o sol, e volta ao seu lugar, onde nasce de novo.'),\n",
       " (6,\n",
       "  'O vento vai para o sul e faz o seu giro para o norte; volve-se, e revolve-se, na sua carreira, e retorna aos seus circuitos.'),\n",
       " (7,\n",
       "  'Todos os rios correm para o mar, e o mar não se enche; ao lugar para onde correm os rios, para lá tornam eles a correr.'),\n",
       " (8,\n",
       "  'Todas as coisas são canseiras tais, que ninguém as pode exprimir; os olhos não se fartam de ver, nem se enchem os ouvidos de ouvir.'),\n",
       " (9,\n",
       "  'O que foi é o que há de ser; e o que se fez, isso se tornará a fazer; nada há, pois, novo debaixo do sol.'),\n",
       " (10,\n",
       "  'Há alguma coisa de que se possa dizer: Vê, isto é novo? Não! Já foi nos séculos que foram antes de nós.'),\n",
       " (11,\n",
       "  'Já não há lembrança das coisas que precederam; e das coisas posteriores também não haverá memória entre os que hão de vir depois delas.'),\n",
       " (12, 'Eu, o Pregador, venho sendo rei de Israel, em Jerusalém.'),\n",
       " (13,\n",
       "  'Apliquei o coração a esquadrinhar e a informar-me com sabedoria de tudo quanto sucede debaixo do céu; este enfadonho trabalho impôs Deus aos filhos dos homens, para nele os afligir.'),\n",
       " (14,\n",
       "  'Atentei para todas as obras que se fazem debaixo do sol, e eis que tudo era vaidade e correr atrás do vento.'),\n",
       " (15,\n",
       "  'Aquilo que é torto não se pode endireitar; e o que falta não se pode calcular.'),\n",
       " (16,\n",
       "  'Disse comigo: eis que me engrandeci e sobrepujei em sabedoria a todos os que antes de mim existiram em Jerusalém; com efeito, o meu coração tem tido larga experiência da sabedoria e do conhecimento.'),\n",
       " (17,\n",
       "  'Apliquei o coração a conhecer a sabedoria e a saber o que é loucura e o que é estultícia; e vim a saber que também isto é correr atrás do vento.'),\n",
       " (18,\n",
       "  'Porque na muita sabedoria há muito enfado; e quem aumenta ciência aumenta tristeza.')]"
      ]
     },
     "execution_count": 12,
     "metadata": {},
     "output_type": "execute_result"
    }
   ],
   "source": [
    "lista_rs"
   ]
  },
  {
   "cell_type": "code",
   "execution_count": 13,
   "id": "bb8e94ec-8fea-462e-be12-18a5f2814d6b",
   "metadata": {
    "tags": []
   },
   "outputs": [],
   "source": [
    "txt = ''"
   ]
  },
  {
   "cell_type": "code",
   "execution_count": 14,
   "id": "a1c99c35-ac5f-4a15-8a00-bc25ed70ab3e",
   "metadata": {
    "tags": []
   },
   "outputs": [],
   "source": [
    "for i in lista_rs:\n",
    "    txt += str(i[0]) + ' ' + i[1].strip() + ' '"
   ]
  },
  {
   "cell_type": "code",
   "execution_count": 15,
   "id": "7dcbe635-df5a-4c1a-9fb2-f37e54191981",
   "metadata": {
    "tags": []
   },
   "outputs": [
    {
     "data": {
      "text/plain": [
       "'1 Palavra do Pregador, filho de Davi, rei de Jerusalém: 2 Vaidade de vaidades, diz o Pregador; vaidade de vaidades, tudo é vaidade. 3 Que proveito tem o homem de todo o seu trabalho, com que se afadiga debaixo do sol? 4 Geração vai e geração vem; mas a terra permanece para sempre. 5 Levanta-se o sol, e põe-se o sol, e volta ao seu lugar, onde nasce de novo. 6 O vento vai para o sul e faz o seu giro para o norte; volve-se, e revolve-se, na sua carreira, e retorna aos seus circuitos. 7 Todos os rios correm para o mar, e o mar não se enche; ao lugar para onde correm os rios, para lá tornam eles a correr. 8 Todas as coisas são canseiras tais, que ninguém as pode exprimir; os olhos não se fartam de ver, nem se enchem os ouvidos de ouvir. 9 O que foi é o que há de ser; e o que se fez, isso se tornará a fazer; nada há, pois, novo debaixo do sol. 10 Há alguma coisa de que se possa dizer: Vê, isto é novo? Não! Já foi nos séculos que foram antes de nós. 11 Já não há lembrança das coisas que precederam; e das coisas posteriores também não haverá memória entre os que hão de vir depois delas. 12 Eu, o Pregador, venho sendo rei de Israel, em Jerusalém. 13 Apliquei o coração a esquadrinhar e a informar-me com sabedoria de tudo quanto sucede debaixo do céu; este enfadonho trabalho impôs Deus aos filhos dos homens, para nele os afligir. 14 Atentei para todas as obras que se fazem debaixo do sol, e eis que tudo era vaidade e correr atrás do vento. 15 Aquilo que é torto não se pode endireitar; e o que falta não se pode calcular. 16 Disse comigo: eis que me engrandeci e sobrepujei em sabedoria a todos os que antes de mim existiram em Jerusalém; com efeito, o meu coração tem tido larga experiência da sabedoria e do conhecimento. 17 Apliquei o coração a conhecer a sabedoria e a saber o que é loucura e o que é estultícia; e vim a saber que também isto é correr atrás do vento. 18 Porque na muita sabedoria há muito enfado; e quem aumenta ciência aumenta tristeza. '"
      ]
     },
     "execution_count": 15,
     "metadata": {},
     "output_type": "execute_result"
    }
   ],
   "source": [
    "txt"
   ]
  },
  {
   "cell_type": "code",
   "execution_count": 1,
   "id": "ed881d54-4cf2-4331-a700-eab74d69ab83",
   "metadata": {},
   "outputs": [],
   "source": [
    "hb_at = 'OSHB.db'"
   ]
  },
  {
   "cell_type": "code",
   "execution_count": 2,
   "id": "63b481fa",
   "metadata": {},
   "outputs": [],
   "source": [
    "palavra_hb = 'חכמה'"
   ]
  },
  {
   "cell_type": "code",
   "execution_count": 3,
   "id": "15efcf40",
   "metadata": {},
   "outputs": [],
   "source": [
    "def encontrar_palavra_hb_at(palavra_hb):\n",
    "    with open('hb_word.sql') as f:\n",
    "        sql = f.read()\n",
    "\n",
    "    with sqlite3.connect(hb_at) as cnx:\n",
    "        cursor = cnx.cursor()\n",
    "        rs = cursor.execute(sql.format(palavra_hb)).fetchall()\n",
    "    return rs\n",
    "    "
   ]
  },
  {
   "cell_type": "code",
   "execution_count": 9,
   "id": "2ea40e1b",
   "metadata": {},
   "outputs": [
    {
     "data": {
      "text/plain": [
       "[(136, 'Ecclesiastes', 1, 13, 6, 'Hb/H2451', 'Rd/Ncfsa'),\n",
       " (181, 'Ecclesiastes', 1, 16, 10, 'H2451', 'Ncfsa'),\n",
       " (192, 'Ecclesiastes', 1, 16, 21, 'H2451', 'Ncfsa'),\n",
       " (197, 'Ecclesiastes', 1, 17, 4, 'H2451', 'Ncfsa'),\n",
       " (209, 'Ecclesiastes', 1, 18, 3, 'H2451', 'Ncfsa'),\n",
       " (244, 'Ecclesiastes', 2, 3, 9, 'Hb/H2451', 'Rd/Ncfsa'),\n",
       " (377, 'Ecclesiastes', 2, 12, 4, 'H2451', 'Ncfsa'),\n",
       " (394, 'Ecclesiastes', 2, 13, 5, 'Hl/H2451', 'Rd/Ncfsa'),\n",
       " (509, 'Ecclesiastes', 2, 21, 5, 'Hb/H2451', 'R/Ncfsa'),\n",
       " (580, 'Ecclesiastes', 2, 26, 6, 'H2451', 'Ncfsa'),\n",
       " (1647, 'Ecclesiastes', 7, 10, 12, 'Hm/H2451', 'R/Ncfsa'),\n",
       " (1652, 'Ecclesiastes', 7, 11, 2, 'H2451', 'Ncfsa'),\n",
       " (1660, 'Ecclesiastes', 7, 12, 3, 'Hd/H2451', 'Td/Ncfsa'),\n",
       " (1665, 'Ecclesiastes', 7, 12, 8, 'Hd/H2451', 'Td/Ncfsa'),\n",
       " (1748, 'Ecclesiastes', 7, 19, 1, 'Hd/H2451', 'Td/Ncfsa'),\n",
       " (1795, 'Ecclesiastes', 7, 23, 4, 'Hb/H2451', 'Rd/Ncfsa'),\n",
       " (1797, 'Ecclesiastes', 7, 23, 6, 'H2449', 'Vqh1cs'),\n",
       " (1814, 'Ecclesiastes', 7, 25, 7, 'H2451', 'Ncfsa'),\n",
       " (2114, 'Ecclesiastes', 8, 16, 6, 'H2451', 'Ncfsa'),\n",
       " (2345, 'Ecclesiastes', 9, 10, 13, 'Hc/H2451', 'C/Ncfsa'),\n",
       " (2406, 'Ecclesiastes', 9, 13, 4, 'H2451', 'Ncfsa'),\n",
       " (2447, 'Ecclesiastes', 9, 16, 4, 'H2451', 'Ncfsa'),\n",
       " (2463, 'Ecclesiastes', 9, 18, 2, 'H2451', 'Ncfsa'),\n",
       " (2478, 'Ecclesiastes', 10, 1, 8, 'Hm/H2451', 'R/Ncfsa'),\n",
       " (2565, 'Ecclesiastes', 10, 10, 13, 'H2451', 'Ncfsa'),\n",
       " (14107, 'Job', 4, 21, 7, 'Hb/H2451', 'R/Ncfsa'),\n",
       " (15344, 'Job', 11, 6, 4, 'H2451', 'Ncfsa'),\n",
       " (15466, 'Job', 12, 2, 7, 'H2451', 'Ncfsa'),\n",
       " (15551, 'Job', 12, 12, 2, 'H2451', 'Ncfsa'),\n",
       " (15556, 'Job', 12, 13, 2, 'H2451', 'Ncfsa'),\n",
       " (15678, 'Job', 13, 5, 7, 'Hl/H2451', 'R/Ncfsa'),\n",
       " (16074, 'Job', 15, 8, 6, 'H2451', 'Ncfsa'),\n",
       " (17969, 'Job', 26, 3, 4, 'H2451', 'Ncfsa'),\n",
       " (18310, 'Job', 28, 12, 1, 'Hc/Hd/H2451', 'C/Td/Ncfsa'),\n",
       " (18361, 'Job', 28, 18, 6, 'H2451', 'Ncfsa'),\n",
       " (18371, 'Job', 28, 20, 1, 'Hc/Hd/H2451', 'C/Td/Ncfsa'),\n",
       " (18431, 'Job', 28, 28, 7, 'H2451', 'Ncfsa'),\n",
       " (19228, 'Job', 32, 7, 7, 'H2451', 'Ncfsa'),\n",
       " (19271, 'Job', 32, 13, 4, 'H2451', 'Ncfsa'),\n",
       " (19592, 'Job', 33, 33, 8, 'H2451', 'Ncfsa'),\n",
       " (20694, 'Job', 38, 36, 4, 'H2451', 'Ncfsa'),\n",
       " (20703, 'Job', 38, 37, 4, 'Hb/H2451', 'R/Ncfsa'),\n",
       " (20857, 'Job', 39, 17, 4, 'H2451', 'Ncfsa'),\n",
       " (21727, 'II Chronicles', 1, 10, 2, 'H2451', 'Ncfsa'),\n",
       " (21767, 'II Chronicles', 1, 11, 25, 'H2451', 'Ncfsa'),\n",
       " (21776, 'II Chronicles', 1, 12, 1, 'Hd/H2451', 'Td/Ncfsa'),\n",
       " (24801, 'II Chronicles', 9, 22, 8, 'Hc/H2451', 'C/Ncfsa'),\n",
       " (50779, 'Deuteronomy', 34, 9, 6, 'H2451', 'Ncfsa'),\n",
       " (53695, 'Isaiah', 11, 2, 6, 'H2451', 'Ncfsa'),\n",
       " (81285, 'Daniel', 1, 4, 12, 'H2451', 'Ncfsa'),\n",
       " (81478, 'Daniel', 1, 17, 11, 'Hc/H2451', 'C/Ncfsa'),\n",
       " (82010, 'Daniel', 2, 30, 3, 'Hb/H2452', 'AR/Ncfsa'),\n",
       " (83851, 'Daniel', 5, 11, 13, 'Hc/H2452', 'AC/Ncfsa'),\n",
       " (83927, 'Daniel', 5, 14, 10, 'Hc/H2452', 'AC/Ncfsa'),\n",
       " (90639, 'I Kings', 4, 29, 3, 'H2451', 'Ncfsa'),\n",
       " (90933, 'I Kings', 5, 12, 3, 'H2451', 'Ncfsa'),\n",
       " (91721, 'I Kings', 7, 14, 14, 'Hd/H2451', 'Td/Ncfsa'),\n",
       " (94060, 'I Kings', 10, 7, 15, 'H2451', 'Ncfsa'),\n",
       " (94324, 'I Kings', 10, 23, 8, 'Hc/Hl/H2451', 'C/R/Ncfsa'),\n",
       " (110608, 'II Samuel', 14, 2, 7, 'H2450', 'Aafsa'),\n",
       " (114428, 'II Samuel', 20, 16, 3, 'H2450', 'Aafsa'),\n",
       " (140765, 'I Chronicles', 28, 21, 14, 'Hb/H2451', 'Rd/Ncfsa'),\n",
       " (160526, 'Ezekiel', 28, 12, 18, 'H2451', 'Ncfsa'),\n",
       " (173849, 'Psalms', 37, 30, 4, 'H2451', 'Ncfsa'),\n",
       " (175762, 'Psalms', 51, 6, 6, 'H2451', 'Ncfsa'),\n",
       " (181457, 'Psalms', 90, 12, 7, 'H2451', 'Ncfsa'),\n",
       " (183078, 'Psalms', 104, 24, 6, 'Hb/H2451', 'R/Ncfsa'),\n",
       " (184531, 'Psalms', 111, 10, 2, 'H2451', 'Ncfsa'),\n",
       " (208222, 'Jeremiah', 49, 7, 8, 'H2451', 'Ncfsa'),\n",
       " (213944, 'Zechariah', 9, 2, 8, 'H2449', 'Vqp3fs'),\n",
       " (240963, 'Proverbs', 1, 2, 2, 'H2451', 'Ncfsa'),\n",
       " (240997, 'Proverbs', 1, 7, 5, 'H2451', 'Ncfsa'),\n",
       " (241202, 'Proverbs', 2, 2, 2, 'Hl/H2451', 'Rd/Ncfsa'),\n",
       " (241229, 'Proverbs', 2, 6, 4, 'H2451', 'Ncfsa'),\n",
       " (241257, 'Proverbs', 2, 10, 3, 'H2451', 'Ncfsa'),\n",
       " (241435, 'Proverbs', 3, 13, 4, 'H2451', 'Ncfsa'),\n",
       " (241475, 'Proverbs', 3, 19, 2, 'Hb/H2451', 'R/Ncfsa'),\n",
       " (241635, 'Proverbs', 4, 5, 2, 'H2451', 'Ncfsa'),\n",
       " (241650, 'Proverbs', 4, 7, 2, 'H2451', 'Ncfsa'),\n",
       " (241652, 'Proverbs', 4, 7, 4, 'H2451', 'Ncfsa'),\n",
       " (241678, 'Proverbs', 4, 11, 2, 'H2451', 'Ncfsa'),\n",
       " (242256, 'Proverbs', 7, 4, 2, 'Hl/H2451', 'Rd/Ncfsa'),\n",
       " (242430, 'Proverbs', 8, 1, 2, 'H2451', 'Ncfsa'),\n",
       " (242499, 'Proverbs', 8, 11, 3, 'H2451', 'Ncfsa'),\n",
       " (242507, 'Proverbs', 8, 12, 2, 'H2451', 'Ncfsa'),\n",
       " (242754, 'Proverbs', 9, 10, 2, 'H2451', 'Ncfsa'),\n",
       " (242909, 'Proverbs', 10, 13, 4, 'H2451', 'Ncfsa'),\n",
       " (242984, 'Proverbs', 10, 23, 5, 'Hc/H2451', 'C/Ncfsa'),\n",
       " (243039, 'Proverbs', 10, 31, 4, 'H2451', 'Ncfsa'),\n",
       " (243063, 'Proverbs', 11, 2, 7, 'H2451', 'Ncfsa'),\n",
       " (243549, 'Proverbs', 13, 10, 7, 'H2451', 'Ncfsa'),\n",
       " (243701, 'Proverbs', 14, 6, 3, 'H2451', 'Ncfsa'),\n",
       " (243894, 'Proverbs', 14, 33, 4, 'H2451', 'Ncfsa'),\n",
       " (244160, 'Proverbs', 15, 33, 4, 'H2451', 'Ncfsa'),\n",
       " (244277, 'Proverbs', 16, 16, 2, 'H2451', 'Ncfsa'),\n",
       " (244548, 'Proverbs', 17, 16, 7, 'H2451', 'Ncfsa'),\n",
       " (244610, 'Proverbs', 17, 24, 4, 'H2451', 'Ncfsa'),\n",
       " (244677, 'Proverbs', 18, 4, 9, 'H2451', 'Ncfsa'),\n",
       " (245511, 'Proverbs', 21, 30, 2, 'H2451', 'Ncfsa'),\n",
       " (245935, 'Proverbs', 23, 23, 5, 'H2451', 'Ncfsa'),\n",
       " (246055, 'Proverbs', 24, 3, 1, 'Hb/H2451', 'R/Ncfsa'),\n",
       " (246142, 'Proverbs', 24, 14, 3, 'H2451', 'Ncfsa'),\n",
       " (247193, 'Proverbs', 28, 26, 6, 'Hb/H2451', 'R/Ncfsa'),\n",
       " (247229, 'Proverbs', 29, 3, 3, 'H2451', 'Ncfsa'),\n",
       " (247323, 'Proverbs', 29, 15, 4, 'H2451', 'Ncfsa'),\n",
       " (247435, 'Proverbs', 30, 3, 3, 'H2451', 'Ncfsa'),\n",
       " (247899, 'Proverbs', 31, 26, 3, 'Hb/H2451', 'R/Ncfsa'),\n",
       " (277737, 'Exodus', 1, 10, 2, 'H2449', 'Vth1cp'),\n",
       " (288306, 'Exodus', 28, 3, 10, 'H2451', 'Ncfsa'),\n",
       " (290001, 'Exodus', 31, 3, 5, 'Hb/H2451', 'R/Ncfsa'),\n",
       " (290035, 'Exodus', 31, 6, 16, 'H2451', 'Ncfsa'),\n",
       " (291974, 'Exodus', 35, 26, 7, 'Hb/H2451', 'R/Ncfsa'),\n",
       " (292038, 'Exodus', 35, 31, 5, 'Hb/H2451', 'R/Ncfsa'),\n",
       " (292098, 'Exodus', 36, 1, 11, 'H2451', 'Ncfsa'),\n",
       " (292126, 'Exodus', 36, 2, 15, 'H2451', 'Ncfsa')]"
      ]
     },
     "execution_count": 9,
     "metadata": {},
     "output_type": "execute_result"
    }
   ],
   "source": [
    "encontrar_palavra_hb_at(palavra_hb)"
   ]
  },
  {
   "cell_type": "code",
   "execution_count": 10,
   "id": "1cc2614b",
   "metadata": {},
   "outputs": [],
   "source": [
    "lxx = 'lxx.db'"
   ]
  },
  {
   "cell_type": "code",
   "execution_count": 15,
   "id": "1a6a68e3",
   "metadata": {},
   "outputs": [],
   "source": [
    "palavra_gg = 'γένεσις'"
   ]
  },
  {
   "cell_type": "code",
   "execution_count": 12,
   "id": "0fa9af22",
   "metadata": {},
   "outputs": [],
   "source": [
    "def encontrar_palavra_gg_at(palavra_gg):\n",
    "    with open('gk_word.sql') as f:\n",
    "        sql = f.read()\n",
    "\n",
    "    with sqlite3.connect(lxx) as cnx:\n",
    "        cursor = cnx.cursor()\n",
    "        rs = cursor.execute(sql.format(palavra_gg)).fetchall()\n",
    "    return rs"
   ]
  },
  {
   "cell_type": "code",
   "execution_count": 17,
   "id": "d0e2e858",
   "metadata": {},
   "outputs": [
    {
     "data": {
      "text/plain": [
       "[('05.Num.mlxx', 'Num', 1, 18, 16, 'γένεσις', 'N3I APF'),\n",
       " ('05.Num.mlxx', 'Num', 3, 1, 4, 'γένεσις', 'N3I NPF'),\n",
       " ('25.2Macc.mlxx', '2Mac', 7, 23, 9, 'γένεσις', 'N3I ASF'),\n",
       " ('25.2Macc.mlxx', '2Mac', 7, 23, 13, 'γένεσις', 'N3I ASF'),\n",
       " ('63.SusOG.mlxx', 'Sus', 1, '35a', 11, 'γένεσις', 'N3I GSF'),\n",
       " ('38.Hosea.mlxx', 'Hos', 2, 5, 11, 'γένεσις', 'N3I GSF'),\n",
       " ('21.Judith.mlxx', 'Jdt', 12, 18, 20, 'γένεσις', 'N3I GSF'),\n",
       " ('27.4Macc.mlxx', '4Mac', 15, 25, 13, 'γένεσις', 'N3I ASF'),\n",
       " ('37.PsSol.mlxx', 'PsSol', 3, 9, 9, 'γένεσις', 'N3I GSF'),\n",
       " ('11.Ruth.mlxx', 'Ruth', 2, 11, 35, 'γένεσις', 'N3I GSF'),\n",
       " ('11.Ruth.mlxx', 'Ruth', 4, 18, 4, 'γένεσις', 'N3I NPF'),\n",
       " ('01.Gen.1.mlxx', 'Gen', 2, 4, 4, 'γένεσις', 'N3I GSF'),\n",
       " ('01.Gen.1.mlxx', 'Gen', 5, 1, 4, 'γένεσις', 'N3I GSF'),\n",
       " ('01.Gen.1.mlxx', 'Gen', 6, 9, 4, 'γένεσις', 'N3I NPF'),\n",
       " ('01.Gen.1.mlxx', 'Gen', 10, 1, 4, 'γένεσις', 'N3I NPF'),\n",
       " ('01.Gen.1.mlxx', 'Gen', 10, 32, 7, 'γένεσις', 'N3I NPF'),\n",
       " ('01.Gen.1.mlxx', 'Gen', 11, 10, 4, 'γένεσις', 'N3I NPF'),\n",
       " ('01.Gen.1.mlxx', 'Gen', 11, 27, 4, 'γένεσις', 'N3I NPF'),\n",
       " ('01.Gen.1.mlxx', 'Gen', 25, 12, 4, 'γένεσις', 'N3I NPF'),\n",
       " ('01.Gen.1.mlxx', 'Gen', 25, 19, 4, 'γένεσις', 'N3I NPF'),\n",
       " ('64.SusTh.mlxx', 'SusTh', 1, 42, 21, 'γένεσις', 'N3I GSF'),\n",
       " ('36.Sirach.mlxx', 'Sir', 44, 1, 10, 'γένεσις', 'N3I DSF'),\n",
       " ('03.Exod.mlxx', 'Exod', 6, 24, 11, 'γένεσις', 'N3I NPF'),\n",
       " ('03.Exod.mlxx', 'Exod', 6, 25, 23, 'γένεσις', 'N3I APF'),\n",
       " ('03.Exod.mlxx', 'Exod', 28, 10, 21, 'γένεσις', 'N3I APF'),\n",
       " ('61.DanielOG.mlxx', 'Dan', 2, 43, 14, 'γένεσις', 'N3I ASF'),\n",
       " ('35.Wisdom.mlxx', 'Wis', 1, 14, 11, 'γένεσις', 'N3I NPF'),\n",
       " ('35.Wisdom.mlxx', 'Wis', 3, 12, 12, 'γένεσις', 'N3I NSF'),\n",
       " ('35.Wisdom.mlxx', 'Wis', 6, 22, 17, 'γένεσις', 'N3I GSF'),\n",
       " ('35.Wisdom.mlxx', 'Wis', 7, 5, 6, 'γένεσις', 'N3I GSF'),\n",
       " ('35.Wisdom.mlxx', 'Wis', 12, 10, 13, 'γένεσις', 'N3I NSF'),\n",
       " ('35.Wisdom.mlxx', 'Wis', 14, 6, 17, 'γένεσις', 'N3I GSF'),\n",
       " ('35.Wisdom.mlxx', 'Wis', 14, 26, 7, 'γένεσις', 'N3I GSF'),\n",
       " ('35.Wisdom.mlxx', 'Wis', 16, 26, 12, 'γένεσις', 'N3I NPF'),\n",
       " ('35.Wisdom.mlxx', 'Wis', 18, 12, 26, 'γένεσις', 'N3I NSF'),\n",
       " ('35.Wisdom.mlxx', 'Wis', 19, 10, 12, 'γένεσις', 'N3I GSF'),\n",
       " ('57.Ezek1.mlxx', 'Ezek', 4, 14, 23, 'γένεσις', 'N3I GSF'),\n",
       " ('57.Ezek1.mlxx', 'Ezek', 16, 3, 13, 'γένεσις', 'N3I NSF'),\n",
       " ('57.Ezek1.mlxx', 'Ezek', 16, 4, 3, 'γένεσις', 'N3I NSF'),\n",
       " ('32.Qoheleth.mlxx', 'Qoh', 7, 1, 12, 'γένεσις', 'N3I GSF'),\n",
       " ('16.1Chron.mlxx', '1Chr', 1, 29, 4, 'γένεσις', 'N3I NPF'),\n",
       " ('16.1Chron.mlxx', '1Chr', 4, 2, 20, 'γένεσις', 'N3I NPF'),\n",
       " ('16.1Chron.mlxx', '1Chr', 4, 21, 13, 'γένεσις', 'N3I NPF'),\n",
       " ('16.1Chron.mlxx', '1Chr', 4, 38, 9, 'γένεσις', 'N3I DPF'),\n",
       " ('16.1Chron.mlxx', '1Chr', 5, 7, 12, 'γένεσις', 'N3I NPF'),\n",
       " ('16.1Chron.mlxx', '1Chr', 7, 2, 24, 'γένεσις', 'N3I NPF'),\n",
       " ('16.1Chron.mlxx', '1Chr', 7, 4, 5, 'γένεσις', 'N3I NPF'),\n",
       " ('16.1Chron.mlxx', '1Chr', 7, 9, 6, 'γένεσις', 'N3I NPF'),\n",
       " ('16.1Chron.mlxx', '1Chr', 8, 28, 5, 'γένεσις', 'N3I NPF'),\n",
       " ('16.1Chron.mlxx', '1Chr', 9, 9, 5, 'γένεσις', 'N3I APF'),\n",
       " ('16.1Chron.mlxx', '1Chr', 9, 34, 8, 'γένεσις', 'N3I APF'),\n",
       " ('16.1Chron.mlxx', '1Chr', 26, 31, 9, 'γένεσις', 'N3I NPF'),\n",
       " ('02.Gen.2.mlxx', 'Gen', 31, 13, 36, 'γένεσις', 'N3I GSF'),\n",
       " ('02.Gen.2.mlxx', 'Gen', 32, 10, 26, 'γένεσις', 'N3I GSF'),\n",
       " ('02.Gen.2.mlxx', 'Gen', 36, 1, 4, 'γένεσις', 'N3I NPF'),\n",
       " ('02.Gen.2.mlxx', 'Gen', 36, 9, 4, 'γένεσις', 'N3I NPF'),\n",
       " ('02.Gen.2.mlxx', 'Gen', 37, 2, 4, 'γένεσις', 'N3I NPF'),\n",
       " ('02.Gen.2.mlxx', 'Gen', 40, 20, 9, 'γένεσις', 'N3I GSF')]"
      ]
     },
     "execution_count": 17,
     "metadata": {},
     "output_type": "execute_result"
    }
   ],
   "source": [
    "encontrar_palavra_gg_at(palavra_gg)"
   ]
  },
  {
   "cell_type": "code",
   "execution_count": 119,
   "id": "59d40585",
   "metadata": {},
   "outputs": [],
   "source": [
    "def retornar_texto_vs_hb(livro, cap, verso):\n",
    "    sql ='SELECT Verse, Form FROM Words WHERE BookName like \"{}\" and Chapter = {} and Verse = {}'.format(livro, cap, verso)\n",
    "    with sqlite3.connect(hb_at) as cnx:\n",
    "        cursor = cnx.cursor()\n",
    "        rs = cursor.execute(sql).fetchall()\n",
    "        nr_versiculo = rs[0][0]\n",
    "        palavras_vs_hb = ''.join([p[1].replace('/', '') + ' ' for p in rs])\n",
    "    return (nr_versiculo, palavras_vs_hb)"
   ]
  },
  {
   "cell_type": "code",
   "execution_count": 123,
   "id": "9ef2e604",
   "metadata": {},
   "outputs": [],
   "source": [
    "def retornar_txt_cap_hb(livro, cap):\n",
    "    sql = 'select max(Verse) from Words where BookName like \"{}\" and Chapter = {}'.format(livro, cap)\n",
    "    with sqlite3.connect(hb_at) as cnx:\n",
    "        cursor = cnx.cursor()\n",
    "        rs = cursor.execute(sql).fetchone()\n",
    "        txt_cap_hb = []\n",
    "        for vs in range(1, rs[0]+1):\n",
    "            txt_cap_hb.append(retornar_texto_vs_hb(livro, cap, vs))\n",
    "    return (cap, txt_cap_hb)"
   ]
  },
  {
   "cell_type": "code",
   "execution_count": 124,
   "id": "e2b1c396",
   "metadata": {},
   "outputs": [],
   "source": [
    "def retornar_txt_livro_hb(livro):\n",
    "    sql = 'select max(Chapter) from Words where BookName like \"{}\"'.format(livro)\n",
    "    with sqlite3.connect(hb_at) as cnx:\n",
    "        cursor = cnx.cursor()\n",
    "        rs = cursor.execute(sql).fetchone()\n",
    "        txt_livro_hb = []\n",
    "        for cap in range(1, rs[0]+1):\n",
    "            txt_livro_hb.append(retornar_txt_cap_hb(livro, cap))\n",
    "    return txt_livro_hb\n",
    "        \n"
   ]
  },
  {
   "cell_type": "code",
   "execution_count": 67,
   "id": "3857ebac",
   "metadata": {},
   "outputs": [
    {
     "data": {
      "text/plain": [
       "'QUERY LENGTH LIMIT EXCEEDED. MAX ALLOWED QUERY : 500 CHARS QUERY LENGTH LIMIT EXCEEDED. MAX ALLOWED QUERY : 500 CHARS E a todos os animais da terra, a todas as aves do céu e a todo ser vivente que se arrasta sobre a terra, tenho dado todas as ervas verdes como mantimento. E assim foi.'"
      ]
     },
     "execution_count": 67,
     "metadata": {},
     "output_type": "execute_result"
    }
   ],
   "source": [
    "from translate import Translator"
   ]
  },
  {
   "cell_type": "code",
   "execution_count": null,
   "id": "c3391c39",
   "metadata": {},
   "outputs": [],
   "source": [
    "def traduzir(fonte, livro, cap):\n"
   ]
  },
  {
   "cell_type": "code",
   "execution_count": 68,
   "id": "0bd42491",
   "metadata": {},
   "outputs": [],
   "source": [
    "transl=Translator(from_lang='he', to_lang='pt')"
   ]
  },
  {
   "cell_type": "code",
   "execution_count": 125,
   "id": "f5fc6788",
   "metadata": {},
   "outputs": [],
   "source": [
    "texto_hb = retornar_txt_livro_hb('Genesis')"
   ]
  },
  {
   "cell_type": "code",
   "execution_count": 100,
   "id": "891b384b",
   "metadata": {},
   "outputs": [
    {
     "data": {
      "text/plain": [
       "'E Deus chamou � luz dia, e �s trevas noite. E foi a tarde e a manhã, o dia primeiro.'"
      ]
     },
     "execution_count": 100,
     "metadata": {},
     "output_type": "execute_result"
    }
   ],
   "source": [
    "transl.translate(texto_hb)"
   ]
  },
  {
   "cell_type": "code",
   "execution_count": 129,
   "id": "752700ce",
   "metadata": {},
   "outputs": [],
   "source": [
    "with open('texto_hb', 'w') as saida:\n",
    "    for l in texto_hb: \n",
    "        saida.writelines(str(l))"
   ]
  }
 ],
 "metadata": {
  "kernelspec": {
   "display_name": "Python 3 (ipykernel)",
   "language": "python",
   "name": "python3"
  },
  "language_info": {
   "codemirror_mode": {
    "name": "ipython",
    "version": 3
   },
   "file_extension": ".py",
   "mimetype": "text/x-python",
   "name": "python",
   "nbconvert_exporter": "python",
   "pygments_lexer": "ipython3",
   "version": "3.11.6"
  }
 },
 "nbformat": 4,
 "nbformat_minor": 5
}
