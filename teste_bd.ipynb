{
 "cells": [
  {
   "cell_type": "code",
   "execution_count": 18,
   "id": "0dbd6d33-9d05-40f0-b7f5-553bd6435adb",
   "metadata": {
    "tags": []
   },
   "outputs": [],
   "source": [
    "import sqlite3"
   ]
  },
  {
   "cell_type": "code",
   "execution_count": 19,
   "id": "5155f316-c91f-4a53-b8f7-7320c65f3735",
   "metadata": {
    "tags": []
   },
   "outputs": [],
   "source": [
    "arq_bd = 'ARA.sqlite'"
   ]
  },
  {
   "cell_type": "code",
   "execution_count": 20,
   "id": "6113d9f5-5f9a-40e4-9068-fdce12be304d",
   "metadata": {
    "tags": []
   },
   "outputs": [],
   "source": [
    "def ultimo_vs(nm_livro, cap):\n",
    "    with open('nr_vs_por_livro_cap.sql') as f:\n",
    "        sql = f.read()\n",
    "    with sqlite3.connect(arq_bd) as cnx:\n",
    "        cursor = cnx.cursor()\n",
    "        rs = cursor.execute(sql.format(nm_livro, cap)).fetchall()\n",
    "    return rs[0][0]"
   ]
  },
  {
   "cell_type": "code",
   "execution_count": 21,
   "id": "7332712f-8c6c-435c-9849-1f6777048bca",
   "metadata": {
    "tags": []
   },
   "outputs": [],
   "source": [
    "def txt_intervalo(nm_livro, cap_ini, cap_fim, vs_ini, vs_fim):\n",
    "    with open('intervalo_vs.sql') as f:\n",
    "        sql = f.read()\n",
    "    with sqlite3.connect(arq_bd) as cnx:\n",
    "        cursor = cnx.cursor()\n",
    "        rs = cursor.execute(sql.format(nm_livro, cap_ini, cap_fim, vs_ini, vs_fim)).fetchall()\n",
    "    return rs"
   ]
  },
  {
   "cell_type": "code",
   "execution_count": 22,
   "id": "054ed6ff-53a8-40bb-9fce-45e16e073d9d",
   "metadata": {
    "tags": []
   },
   "outputs": [],
   "source": [
    "livro = 'Mateus'"
   ]
  },
  {
   "cell_type": "code",
   "execution_count": 23,
   "id": "8a3cd2ff-9c3b-4a9f-a366-b5634b2e248b",
   "metadata": {
    "tags": []
   },
   "outputs": [],
   "source": [
    "cap_ini = 6"
   ]
  },
  {
   "cell_type": "code",
   "execution_count": 24,
   "id": "82e038a0",
   "metadata": {},
   "outputs": [],
   "source": [
    "cap_fim = 6"
   ]
  },
  {
   "cell_type": "code",
   "execution_count": 25,
   "id": "6571b789-2ac7-470e-ba24-102c9f6a2e90",
   "metadata": {
    "tags": []
   },
   "outputs": [],
   "source": [
    "lista_rs = txt_intervalo(livro, cap_ini, cap_fim, 1, ultimo_vs(livro, cap_fim))"
   ]
  },
  {
   "cell_type": "code",
   "execution_count": 26,
   "id": "dc1ad7e0",
   "metadata": {},
   "outputs": [],
   "source": [
    "lista_rs = txt_intervalo(livro, cap_ini, cap_fim, 9, 13)"
   ]
  },
  {
   "cell_type": "code",
   "execution_count": 27,
   "id": "5608a12f-86a9-404d-af26-38e881924008",
   "metadata": {
    "tags": []
   },
   "outputs": [
    {
     "data": {
      "text/plain": [
       "[(9,\n",
       "  'Portanto, vós orareis assim: Pai nosso, que estás nos céus, santificado seja o teu nome;'),\n",
       " (10, 'venha o teu reino; faça-se a tua vontade, assim na terra como no céu;'),\n",
       " (11, 'o pão nosso de cada dia dá-nos hoje;'),\n",
       " (12,\n",
       "  'e perdoa-nos as nossas dívidas, assim como nós temos perdoado aos nossos devedores;'),\n",
       " (13,\n",
       "  'e não nos deixes cair em tentação; mas livra-nos do mal [pois teu é o reino, o poder e a glória para sempre. Amém]!')]"
      ]
     },
     "execution_count": 27,
     "metadata": {},
     "output_type": "execute_result"
    }
   ],
   "source": [
    "lista_rs"
   ]
  },
  {
   "cell_type": "code",
   "execution_count": 28,
   "id": "bb8e94ec-8fea-462e-be12-18a5f2814d6b",
   "metadata": {
    "tags": []
   },
   "outputs": [],
   "source": [
    "txt = ''"
   ]
  },
  {
   "cell_type": "code",
   "execution_count": 29,
   "id": "a1c99c35-ac5f-4a15-8a00-bc25ed70ab3e",
   "metadata": {
    "tags": []
   },
   "outputs": [],
   "source": [
    "for i in lista_rs:\n",
    "    txt += str(i[0]) + ' ' + i[1].strip() + ' '"
   ]
  },
  {
   "cell_type": "code",
   "execution_count": 30,
   "id": "7dcbe635-df5a-4c1a-9fb2-f37e54191981",
   "metadata": {
    "tags": []
   },
   "outputs": [
    {
     "data": {
      "text/plain": [
       "'9 Portanto, vós orareis assim: Pai nosso, que estás nos céus, santificado seja o teu nome; 10 venha o teu reino; faça-se a tua vontade, assim na terra como no céu; 11 o pão nosso de cada dia dá-nos hoje; 12 e perdoa-nos as nossas dívidas, assim como nós temos perdoado aos nossos devedores; 13 e não nos deixes cair em tentação; mas livra-nos do mal [pois teu é o reino, o poder e a glória para sempre. Amém]! '"
      ]
     },
     "execution_count": 30,
     "metadata": {},
     "output_type": "execute_result"
    }
   ],
   "source": [
    "txt"
   ]
  },
  {
   "cell_type": "code",
   "execution_count": null,
   "id": "ed881d54-4cf2-4331-a700-eab74d69ab83",
   "metadata": {},
   "outputs": [],
   "source": []
  }
 ],
 "metadata": {
  "kernelspec": {
   "display_name": "Python 3 (ipykernel)",
   "language": "python",
   "name": "python3"
  },
  "language_info": {
   "codemirror_mode": {
    "name": "ipython",
    "version": 3
   },
   "file_extension": ".py",
   "mimetype": "text/x-python",
   "name": "python",
   "nbconvert_exporter": "python",
   "pygments_lexer": "ipython3",
   "version": "3.10.6"
  }
 },
 "nbformat": 4,
 "nbformat_minor": 5
}
