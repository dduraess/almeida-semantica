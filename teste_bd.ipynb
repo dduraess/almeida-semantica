{
 "cells": [
  {
   "cell_type": "code",
   "execution_count": 1,
   "id": "0dbd6d33-9d05-40f0-b7f5-553bd6435adb",
   "metadata": {
    "tags": []
   },
   "outputs": [],
   "source": [
    "import sqlite3"
   ]
  },
  {
   "cell_type": "code",
   "execution_count": 2,
   "id": "5155f316-c91f-4a53-b8f7-7320c65f3735",
   "metadata": {
    "tags": []
   },
   "outputs": [],
   "source": [
    "pt_ara = 'ARA.sqlite'"
   ]
  },
  {
   "cell_type": "code",
   "execution_count": 3,
   "id": "6113d9f5-5f9a-40e4-9068-fdce12be304d",
   "metadata": {
    "tags": []
   },
   "outputs": [],
   "source": [
    "def ultimo_vs(nm_livro, cap):\n",
    "    with open('nr_vs_por_livro_cap.sql') as f:\n",
    "        sql = f.read()\n",
    "    with sqlite3.connect(pt_ara) as cnx:\n",
    "        cursor = cnx.cursor()\n",
    "        rs = cursor.execute(sql.format(nm_livro, cap)).fetchall()\n",
    "    return rs[0][0]"
   ]
  },
  {
   "cell_type": "code",
   "execution_count": 10,
   "id": "7332712f-8c6c-435c-9849-1f6777048bca",
   "metadata": {
    "tags": []
   },
   "outputs": [],
   "source": [
    "def txt_intervalo(nm_livro, cap_ini, cap_fim, vs_ini, vs_fim):\n",
    "    with open('intervalo_vs.sql') as f:\n",
    "        sql = f.read()\n",
    "    with sqlite3.connect(pt_ara) as cnx:\n",
    "        cursor = cnx.cursor()\n",
    "        rs = cursor.execute(sql.format(nm_livro, cap_ini, cap_fim, vs_ini, vs_fim)).fetchall()\n",
    "    return rs"
   ]
  },
  {
   "cell_type": "code",
   "execution_count": 4,
   "id": "054ed6ff-53a8-40bb-9fce-45e16e073d9d",
   "metadata": {
    "tags": []
   },
   "outputs": [],
   "source": [
    "livro = 'Eclesiastes'"
   ]
  },
  {
   "cell_type": "code",
   "execution_count": 6,
   "id": "8a3cd2ff-9c3b-4a9f-a366-b5634b2e248b",
   "metadata": {
    "tags": []
   },
   "outputs": [],
   "source": [
    "cap_ini = 1"
   ]
  },
  {
   "cell_type": "code",
   "execution_count": 8,
   "id": "82e038a0",
   "metadata": {},
   "outputs": [],
   "source": [
    "cap_fim = 1"
   ]
  },
  {
   "cell_type": "code",
   "execution_count": 11,
   "id": "6571b789-2ac7-470e-ba24-102c9f6a2e90",
   "metadata": {
    "tags": []
   },
   "outputs": [],
   "source": [
    "lista_rs = txt_intervalo(livro, cap_ini, cap_fim, 1, ultimo_vs(livro, cap_fim))"
   ]
  },
  {
   "cell_type": "code",
   "execution_count": 5,
   "id": "dc1ad7e0",
   "metadata": {},
   "outputs": [
    {
     "ename": "NameError",
     "evalue": "name 'txt_intervalo' is not defined",
     "output_type": "error",
     "traceback": [
      "\u001b[0;31m---------------------------------------------------------------------------\u001b[0m",
      "\u001b[0;31mNameError\u001b[0m                                 Traceback (most recent call last)",
      "Cell \u001b[0;32mIn[5], line 1\u001b[0m\n\u001b[0;32m----> 1\u001b[0m lista_rs \u001b[39m=\u001b[39m txt_intervalo(livro, cap_ini, cap_fim, \u001b[39m9\u001b[39m, \u001b[39m13\u001b[39m)\n",
      "\u001b[0;31mNameError\u001b[0m: name 'txt_intervalo' is not defined"
     ]
    }
   ],
   "source": [
    "lista_rs = txt_intervalo(livro, cap_ini, cap_fim, 9, 13)"
   ]
  },
  {
   "cell_type": "code",
   "execution_count": 12,
   "id": "5608a12f-86a9-404d-af26-38e881924008",
   "metadata": {
    "tags": []
   },
   "outputs": [
    {
     "data": {
      "text/plain": [
       "[(1, 'Palavra do Pregador, filho de Davi, rei de Jerusalém:'),\n",
       " (2,\n",
       "  'Vaidade de vaidades, diz o Pregador; vaidade de vaidades, tudo é vaidade.'),\n",
       " (3,\n",
       "  'Que proveito tem o homem de todo o seu trabalho, com que se afadiga debaixo do sol?'),\n",
       " (4, 'Geração vai e geração vem; mas a terra permanece para sempre.'),\n",
       " (5,\n",
       "  'Levanta-se o sol, e põe-se o sol, e volta ao seu lugar, onde nasce de novo.'),\n",
       " (6,\n",
       "  'O vento vai para o sul e faz o seu giro para o norte; volve-se, e revolve-se, na sua carreira, e retorna aos seus circuitos.'),\n",
       " (7,\n",
       "  'Todos os rios correm para o mar, e o mar não se enche; ao lugar para onde correm os rios, para lá tornam eles a correr.'),\n",
       " (8,\n",
       "  'Todas as coisas são canseiras tais, que ninguém as pode exprimir; os olhos não se fartam de ver, nem se enchem os ouvidos de ouvir.'),\n",
       " (9,\n",
       "  'O que foi é o que há de ser; e o que se fez, isso se tornará a fazer; nada há, pois, novo debaixo do sol.'),\n",
       " (10,\n",
       "  'Há alguma coisa de que se possa dizer: Vê, isto é novo? Não! Já foi nos séculos que foram antes de nós.'),\n",
       " (11,\n",
       "  'Já não há lembrança das coisas que precederam; e das coisas posteriores também não haverá memória entre os que hão de vir depois delas.'),\n",
       " (12, 'Eu, o Pregador, venho sendo rei de Israel, em Jerusalém.'),\n",
       " (13,\n",
       "  'Apliquei o coração a esquadrinhar e a informar-me com sabedoria de tudo quanto sucede debaixo do céu; este enfadonho trabalho impôs Deus aos filhos dos homens, para nele os afligir.'),\n",
       " (14,\n",
       "  'Atentei para todas as obras que se fazem debaixo do sol, e eis que tudo era vaidade e correr atrás do vento.'),\n",
       " (15,\n",
       "  'Aquilo que é torto não se pode endireitar; e o que falta não se pode calcular.'),\n",
       " (16,\n",
       "  'Disse comigo: eis que me engrandeci e sobrepujei em sabedoria a todos os que antes de mim existiram em Jerusalém; com efeito, o meu coração tem tido larga experiência da sabedoria e do conhecimento.'),\n",
       " (17,\n",
       "  'Apliquei o coração a conhecer a sabedoria e a saber o que é loucura e o que é estultícia; e vim a saber que também isto é correr atrás do vento.'),\n",
       " (18,\n",
       "  'Porque na muita sabedoria há muito enfado; e quem aumenta ciência aumenta tristeza.')]"
      ]
     },
     "execution_count": 12,
     "metadata": {},
     "output_type": "execute_result"
    }
   ],
   "source": [
    "lista_rs"
   ]
  },
  {
   "cell_type": "code",
   "execution_count": 13,
   "id": "bb8e94ec-8fea-462e-be12-18a5f2814d6b",
   "metadata": {
    "tags": []
   },
   "outputs": [],
   "source": [
    "txt = ''"
   ]
  },
  {
   "cell_type": "code",
   "execution_count": 14,
   "id": "a1c99c35-ac5f-4a15-8a00-bc25ed70ab3e",
   "metadata": {
    "tags": []
   },
   "outputs": [],
   "source": [
    "for i in lista_rs:\n",
    "    txt += str(i[0]) + ' ' + i[1].strip() + ' '"
   ]
  },
  {
   "cell_type": "code",
   "execution_count": 15,
   "id": "7dcbe635-df5a-4c1a-9fb2-f37e54191981",
   "metadata": {
    "tags": []
   },
   "outputs": [
    {
     "data": {
      "text/plain": [
       "'1 Palavra do Pregador, filho de Davi, rei de Jerusalém: 2 Vaidade de vaidades, diz o Pregador; vaidade de vaidades, tudo é vaidade. 3 Que proveito tem o homem de todo o seu trabalho, com que se afadiga debaixo do sol? 4 Geração vai e geração vem; mas a terra permanece para sempre. 5 Levanta-se o sol, e põe-se o sol, e volta ao seu lugar, onde nasce de novo. 6 O vento vai para o sul e faz o seu giro para o norte; volve-se, e revolve-se, na sua carreira, e retorna aos seus circuitos. 7 Todos os rios correm para o mar, e o mar não se enche; ao lugar para onde correm os rios, para lá tornam eles a correr. 8 Todas as coisas são canseiras tais, que ninguém as pode exprimir; os olhos não se fartam de ver, nem se enchem os ouvidos de ouvir. 9 O que foi é o que há de ser; e o que se fez, isso se tornará a fazer; nada há, pois, novo debaixo do sol. 10 Há alguma coisa de que se possa dizer: Vê, isto é novo? Não! Já foi nos séculos que foram antes de nós. 11 Já não há lembrança das coisas que precederam; e das coisas posteriores também não haverá memória entre os que hão de vir depois delas. 12 Eu, o Pregador, venho sendo rei de Israel, em Jerusalém. 13 Apliquei o coração a esquadrinhar e a informar-me com sabedoria de tudo quanto sucede debaixo do céu; este enfadonho trabalho impôs Deus aos filhos dos homens, para nele os afligir. 14 Atentei para todas as obras que se fazem debaixo do sol, e eis que tudo era vaidade e correr atrás do vento. 15 Aquilo que é torto não se pode endireitar; e o que falta não se pode calcular. 16 Disse comigo: eis que me engrandeci e sobrepujei em sabedoria a todos os que antes de mim existiram em Jerusalém; com efeito, o meu coração tem tido larga experiência da sabedoria e do conhecimento. 17 Apliquei o coração a conhecer a sabedoria e a saber o que é loucura e o que é estultícia; e vim a saber que também isto é correr atrás do vento. 18 Porque na muita sabedoria há muito enfado; e quem aumenta ciência aumenta tristeza. '"
      ]
     },
     "execution_count": 15,
     "metadata": {},
     "output_type": "execute_result"
    }
   ],
   "source": [
    "txt"
   ]
  },
  {
   "cell_type": "code",
   "execution_count": 2,
   "id": "ed881d54-4cf2-4331-a700-eab74d69ab83",
   "metadata": {},
   "outputs": [],
   "source": [
    "hb_at = 'OSHB.db'"
   ]
  },
  {
   "cell_type": "code",
   "execution_count": 3,
   "id": "63b481fa",
   "metadata": {},
   "outputs": [],
   "source": [
    "palavra_hb = 'בְּרֵאשִׁ֖ית'"
   ]
  },
  {
   "cell_type": "code",
   "execution_count": 4,
   "id": "15efcf40",
   "metadata": {},
   "outputs": [],
   "source": [
    "def encontrar_palavra_hb_at(palavra_hb):\n",
    "    with open('hb_word.sql') as f:\n",
    "        sql = f.read()\n",
    "\n",
    "    with sqlite3.connect(hb_at) as cnx:\n",
    "        cursor = cnx.cursor()\n",
    "        rs = cursor.execute(sql.format(palavra_hb)).fetchall()\n",
    "    return rs\n",
    "    "
   ]
  },
  {
   "cell_type": "code",
   "execution_count": 7,
   "id": "2ea40e1b",
   "metadata": {},
   "outputs": [
    {
     "ename": "OperationalError",
     "evalue": "no such column: Form",
     "output_type": "error",
     "traceback": [
      "\u001b[0;31m---------------------------------------------------------------------------\u001b[0m",
      "\u001b[0;31mOperationalError\u001b[0m                          Traceback (most recent call last)",
      "Cell \u001b[0;32mIn[7], line 1\u001b[0m\n\u001b[0;32m----> 1\u001b[0m encontrar_palavra_hb_at(palavra_hb)\n",
      "Cell \u001b[0;32mIn[4], line 7\u001b[0m, in \u001b[0;36mencontrar_palavra_hb_at\u001b[0;34m(palavra)\u001b[0m\n\u001b[1;32m      5\u001b[0m \u001b[39mwith\u001b[39;00m sqlite3\u001b[39m.\u001b[39mconnect(hb_at) \u001b[39mas\u001b[39;00m cnx:\n\u001b[1;32m      6\u001b[0m     cursor \u001b[39m=\u001b[39m cnx\u001b[39m.\u001b[39mcursor()\n\u001b[0;32m----> 7\u001b[0m     rs \u001b[39m=\u001b[39m cursor\u001b[39m.\u001b[39;49mexecute(sql\u001b[39m.\u001b[39;49mformat(palavra_hb))\u001b[39m.\u001b[39mfetchall()\n\u001b[1;32m      8\u001b[0m \u001b[39mreturn\u001b[39;00m rs\n",
      "\u001b[0;31mOperationalError\u001b[0m: no such column: Form"
     ]
    }
   ],
   "source": [
    "encontrar_palavra_hb_at(palavra_hb)"
   ]
  }
 ],
 "metadata": {
  "kernelspec": {
   "display_name": "Python 3 (ipykernel)",
   "language": "python",
   "name": "python3"
  },
  "language_info": {
   "codemirror_mode": {
    "name": "ipython",
    "version": 3
   },
   "file_extension": ".py",
   "mimetype": "text/x-python",
   "name": "python",
   "nbconvert_exporter": "python",
   "pygments_lexer": "ipython3",
   "version": "3.11.6"
  }
 },
 "nbformat": 4,
 "nbformat_minor": 5
}
