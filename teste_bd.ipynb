{
 "cells": [
  {
   "cell_type": "code",
   "execution_count": 2,
   "id": "0dbd6d33-9d05-40f0-b7f5-553bd6435adb",
   "metadata": {
    "tags": []
   },
   "outputs": [],
   "source": [
    "import sqlite3"
   ]
  },
  {
   "cell_type": "code",
   "execution_count": 3,
   "id": "5155f316-c91f-4a53-b8f7-7320c65f3735",
   "metadata": {
    "tags": []
   },
   "outputs": [],
   "source": [
    "arq_bd = 'ARA.sqlite'"
   ]
  },
  {
   "cell_type": "code",
   "execution_count": 4,
   "id": "6113d9f5-5f9a-40e4-9068-fdce12be304d",
   "metadata": {
    "tags": []
   },
   "outputs": [],
   "source": [
    "def ultimo_vs(nm_livro, cap):\n",
    "    with open('nr_vs_por_livro_cap.sql') as f:\n",
    "        sql = f.read()\n",
    "    with sqlite3.connect(arq_bd) as cnx:\n",
    "        cursor = cnx.cursor()\n",
    "        rs = cursor.execute(sql.format(nm_livro, cap)).fetchall()\n",
    "    return rs[0][0]"
   ]
  },
  {
   "cell_type": "code",
   "execution_count": 46,
   "id": "784fa380-9e24-48ab-be4e-858113e7382c",
   "metadata": {
    "tags": []
   },
   "outputs": [
    {
     "data": {
      "text/plain": [
       "26"
      ]
     },
     "execution_count": 46,
     "metadata": {},
     "output_type": "execute_result"
    }
   ],
   "source": [
    "ultimo_vs('Gênesis', 50)"
   ]
  },
  {
   "cell_type": "code",
   "execution_count": 5,
   "id": "7332712f-8c6c-435c-9849-1f6777048bca",
   "metadata": {
    "tags": []
   },
   "outputs": [],
   "source": [
    "def txt_intervalo(nm_livro, cap, vs_ini, vs_fim):\n",
    "    with open('intervalo_vs_msm_cap.sql') as f:\n",
    "        sql = f.read()\n",
    "    with sqlite3.connect(arq_bd) as cnx:\n",
    "        cursor = cnx.cursor()\n",
    "        rs = cursor.execute(sql.format(nm_livro, cap, vs_ini, vs_fim)).fetchall()\n",
    "    return rs"
   ]
  },
  {
   "cell_type": "code",
   "execution_count": 23,
   "id": "8a3cd2ff-9c3b-4a9f-a366-b5634b2e248b",
   "metadata": {
    "tags": []
   },
   "outputs": [],
   "source": [
    "cap = 5"
   ]
  },
  {
   "cell_type": "code",
   "execution_count": 24,
   "id": "054ed6ff-53a8-40bb-9fce-45e16e073d9d",
   "metadata": {
    "tags": []
   },
   "outputs": [],
   "source": [
    "livro = 'Êxodo'"
   ]
  },
  {
   "cell_type": "code",
   "execution_count": 25,
   "id": "6571b789-2ac7-470e-ba24-102c9f6a2e90",
   "metadata": {
    "tags": []
   },
   "outputs": [],
   "source": [
    "lista_rs = txt_intervalo(livro, cap, 1, ultimo_vs(livro, cap))"
   ]
  },
  {
   "cell_type": "code",
   "execution_count": 26,
   "id": "5608a12f-86a9-404d-af26-38e881924008",
   "metadata": {
    "tags": []
   },
   "outputs": [
    {
     "data": {
      "text/plain": [
       "[(1,\n",
       "  'Depois, foram Moisés e Arão e disseram a Faraó: Assim diz o SENHOR, Deus de Israel: Deixa ir o meu povo, para que me celebre uma festa no deserto.'),\n",
       " (2,\n",
       "  'Respondeu Faraó: Quem é o SENHOR para que lhe ouça eu a voz e deixe ir a Israel? Não conheço o SENHOR, nem tampouco deixarei ir a Israel.'),\n",
       " (3,\n",
       "  'Eles prosseguiram: O Deus dos hebreus nos encontrou; deixa-nos ir, pois, caminho de três dias ao deserto, para que ofereçamos sacrifícios ao SENHOR, nosso Deus, e não venha ele sobre nós com pestilência ou com espada.'),\n",
       " (4,\n",
       "  'Então, lhes disse o rei do Egito: Por que, Moisés e Arão, por que interrompeis o povo no seu trabalho? Ide às vossas tarefas.'),\n",
       " (5,\n",
       "  'Disse também Faraó: O povo da terra já é muito, e vós o distraís das suas tarefas.'),\n",
       " (6,\n",
       "  'Naquele mesmo dia, pois, deu ordem Faraó aos superintendentes do povo e aos seus capatazes, dizendo:'),\n",
       " (7,\n",
       "  'Daqui em diante não torneis a dar palha ao povo, para fazer tijolos, como antes; eles mesmos que vão e ajuntem para si a palha.'),\n",
       " (8,\n",
       "  'E exigireis deles a mesma conta de tijolos que antes faziam; nada diminuireis dela; estão ociosos e, por isso, clamam: Vamos e sacrifiquemos ao nosso Deus.'),\n",
       " (9,\n",
       "  'Agrave-se o serviço sobre esses homens, para que nele se apliquem e não deem ouvidos a palavras mentirosas.'),\n",
       " (10,\n",
       "  'Então, saíram os superintendentes do povo e seus capatazes e falaram ao povo: Assim diz Faraó: Não vos darei palha.'),\n",
       " (11,\n",
       "  'Ide vós mesmos e ajuntai palha onde a puderdes achar; porque nada se diminuirá do vosso trabalho.'),\n",
       " (12,\n",
       "  'Então, o povo se espalhou por toda a terra do Egito a ajuntar restolho em lugar de palha.'),\n",
       " (13,\n",
       "  'Os superintendentes os apertavam, dizendo: Acabai vossa obra, a tarefa do dia, como quando havia palha.'),\n",
       " (14,\n",
       "  'E foram açoitados os capatazes dos filhos de Israel, que os superintendentes de Faraó tinham posto sobre eles; e os superintendentes lhes diziam: Por que não acabastes nem ontem, nem hoje a vossa tarefa, fazendo tijolos como antes?'),\n",
       " (15,\n",
       "  'Então, foram os capatazes dos filhos de Israel e clamaram a Faraó, dizendo: Por que tratas assim a teus servos?'),\n",
       " (16,\n",
       "  'Palha não se dá a teus servos, e nos dizem: Fazei tijolos. Eis que teus servos são açoitados; porém o teu próprio povo é que tem a culpa.'),\n",
       " (17,\n",
       "  'Mas ele respondeu: Estais ociosos, estais ociosos; por isso, dizeis: Vamos, sacrifiquemos ao SENHOR.'),\n",
       " (18,\n",
       "  'Ide, pois, agora, e trabalhai; palha, porém, não se vos dará; contudo, dareis a mesma quantidade de tijolos.'),\n",
       " (19,\n",
       "  'Então, os capatazes dos filhos de Israel se viram em aperto, porquanto se lhes dizia: Nada diminuireis dos vossos tijolos, da vossa tarefa diária.'),\n",
       " (20,\n",
       "  'Quando saíram da presença de Faraó, encontraram Moisés e Arão, que estavam à espera deles;'),\n",
       " (21,\n",
       "  'e lhes disseram: Olhe o SENHOR para vós outros e vos julgue, porquanto nos fizestes odiosos aos olhos de Faraó e diante dos seus servos, dando-lhes a espada na mão para nos matar.'),\n",
       " (22,\n",
       "  'Então, Moisés, tornando-se ao SENHOR, disse: Ó Senhor, por que afligiste este povo? Por que me enviaste?'),\n",
       " (23,\n",
       "  'Pois, desde que me apresentei a Faraó, para falar-lhe em teu nome, ele tem maltratado este povo; e tu, de nenhuma sorte, livraste o teu povo.')]"
      ]
     },
     "execution_count": 26,
     "metadata": {},
     "output_type": "execute_result"
    }
   ],
   "source": [
    "lista_rs"
   ]
  },
  {
   "cell_type": "code",
   "execution_count": 27,
   "id": "bb8e94ec-8fea-462e-be12-18a5f2814d6b",
   "metadata": {
    "tags": []
   },
   "outputs": [],
   "source": [
    "txt = ''"
   ]
  },
  {
   "cell_type": "code",
   "execution_count": 28,
   "id": "a1c99c35-ac5f-4a15-8a00-bc25ed70ab3e",
   "metadata": {
    "tags": []
   },
   "outputs": [],
   "source": [
    "for i in lista_rs:\n",
    "    txt += str(i[0]) + ' ' + i[1].strip() + ' '"
   ]
  },
  {
   "cell_type": "code",
   "execution_count": 29,
   "id": "7dcbe635-df5a-4c1a-9fb2-f37e54191981",
   "metadata": {
    "tags": []
   },
   "outputs": [
    {
     "data": {
      "text/plain": [
       "'1 Depois, foram Moisés e Arão e disseram a Faraó: Assim diz o SENHOR, Deus de Israel: Deixa ir o meu povo, para que me celebre uma festa no deserto. 2 Respondeu Faraó: Quem é o SENHOR para que lhe ouça eu a voz e deixe ir a Israel? Não conheço o SENHOR, nem tampouco deixarei ir a Israel. 3 Eles prosseguiram: O Deus dos hebreus nos encontrou; deixa-nos ir, pois, caminho de três dias ao deserto, para que ofereçamos sacrifícios ao SENHOR, nosso Deus, e não venha ele sobre nós com pestilência ou com espada. 4 Então, lhes disse o rei do Egito: Por que, Moisés e Arão, por que interrompeis o povo no seu trabalho? Ide às vossas tarefas. 5 Disse também Faraó: O povo da terra já é muito, e vós o distraís das suas tarefas. 6 Naquele mesmo dia, pois, deu ordem Faraó aos superintendentes do povo e aos seus capatazes, dizendo: 7 Daqui em diante não torneis a dar palha ao povo, para fazer tijolos, como antes; eles mesmos que vão e ajuntem para si a palha. 8 E exigireis deles a mesma conta de tijolos que antes faziam; nada diminuireis dela; estão ociosos e, por isso, clamam: Vamos e sacrifiquemos ao nosso Deus. 9 Agrave-se o serviço sobre esses homens, para que nele se apliquem e não deem ouvidos a palavras mentirosas. 10 Então, saíram os superintendentes do povo e seus capatazes e falaram ao povo: Assim diz Faraó: Não vos darei palha. 11 Ide vós mesmos e ajuntai palha onde a puderdes achar; porque nada se diminuirá do vosso trabalho. 12 Então, o povo se espalhou por toda a terra do Egito a ajuntar restolho em lugar de palha. 13 Os superintendentes os apertavam, dizendo: Acabai vossa obra, a tarefa do dia, como quando havia palha. 14 E foram açoitados os capatazes dos filhos de Israel, que os superintendentes de Faraó tinham posto sobre eles; e os superintendentes lhes diziam: Por que não acabastes nem ontem, nem hoje a vossa tarefa, fazendo tijolos como antes? 15 Então, foram os capatazes dos filhos de Israel e clamaram a Faraó, dizendo: Por que tratas assim a teus servos? 16 Palha não se dá a teus servos, e nos dizem: Fazei tijolos. Eis que teus servos são açoitados; porém o teu próprio povo é que tem a culpa. 17 Mas ele respondeu: Estais ociosos, estais ociosos; por isso, dizeis: Vamos, sacrifiquemos ao SENHOR. 18 Ide, pois, agora, e trabalhai; palha, porém, não se vos dará; contudo, dareis a mesma quantidade de tijolos. 19 Então, os capatazes dos filhos de Israel se viram em aperto, porquanto se lhes dizia: Nada diminuireis dos vossos tijolos, da vossa tarefa diária. 20 Quando saíram da presença de Faraó, encontraram Moisés e Arão, que estavam à espera deles; 21 e lhes disseram: Olhe o SENHOR para vós outros e vos julgue, porquanto nos fizestes odiosos aos olhos de Faraó e diante dos seus servos, dando-lhes a espada na mão para nos matar. 22 Então, Moisés, tornando-se ao SENHOR, disse: Ó Senhor, por que afligiste este povo? Por que me enviaste? 23 Pois, desde que me apresentei a Faraó, para falar-lhe em teu nome, ele tem maltratado este povo; e tu, de nenhuma sorte, livraste o teu povo. '"
      ]
     },
     "execution_count": 29,
     "metadata": {},
     "output_type": "execute_result"
    }
   ],
   "source": [
    "txt"
   ]
  },
  {
   "cell_type": "code",
   "execution_count": null,
   "id": "ed881d54-4cf2-4331-a700-eab74d69ab83",
   "metadata": {},
   "outputs": [],
   "source": []
  }
 ],
 "metadata": {
  "kernelspec": {
   "display_name": "Python 3 (ipykernel)",
   "language": "python",
   "name": "python3"
  },
  "language_info": {
   "codemirror_mode": {
    "name": "ipython",
    "version": 3
   },
   "file_extension": ".py",
   "mimetype": "text/x-python",
   "name": "python",
   "nbconvert_exporter": "python",
   "pygments_lexer": "ipython3",
   "version": "3.10.6"
  }
 },
 "nbformat": 4,
 "nbformat_minor": 5
}
